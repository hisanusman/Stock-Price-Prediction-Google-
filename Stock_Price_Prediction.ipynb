{
  "cells": [
    {
      "cell_type": "markdown",
      "source": [
        "### Importing necessary libraries:"
      ],
      "metadata": {
        "id": "LpSi6eTOuW0V"
      }
    },
    {
      "cell_type": "code",
      "execution_count": null,
      "metadata": {
        "collapsed": true,
        "id": "o21yfyWQILon"
      },
      "outputs": [],
      "source": [
        "import json\n",
        "import requests\n",
        "import numpy as np\n",
        "import pandas as pd\n",
        "import plotly.express as px\n",
        "from keras.layers import LSTM\n",
        "from keras.layers import Dense\n",
        "import matplotlib.pyplot as plt\n",
        "from keras.layers import Dropout\n",
        "from keras.optimizers import Adam\n",
        "from hyperopt import fmin, tpe, hp\n",
        "from sklearn.metrics import mean_squared_error\n",
        "from sklearn.preprocessing import MinMaxScaler\n",
        "from keras.models import Sequential, load_model\n",
        "from sklearn.model_selection import train_test_split"
      ]
    },
    {
      "cell_type": "markdown",
      "source": [
        "### Reading the training dataset og Google stock price:"
      ],
      "metadata": {
        "id": "K2zVlSvJubJV"
      }
    },
    {
      "cell_type": "code",
      "execution_count": null,
      "metadata": {
        "collapsed": true,
        "id": "LeE2CavMILox"
      },
      "outputs": [],
      "source": [
        "train = pd.read_csv('/content/Google_Stock_Price_Train.csv')"
      ]
    },
    {
      "cell_type": "code",
      "execution_count": null,
      "metadata": {
        "colab": {
          "base_uri": "https://localhost:8080/",
          "height": 424
        },
        "id": "rPw_shCtILoy",
        "outputId": "db3748a0-fa01-4f2f-8fbc-c5c738f116e5"
      },
      "outputs": [
        {
          "output_type": "execute_result",
          "data": {
            "text/plain": [
              "            Date    Open    High     Low   Close      Volume\n",
              "0       1/3/2012  325.25  332.83  324.97  663.59   7,380,500\n",
              "1       1/4/2012  331.27  333.87  329.08  666.45   5,749,400\n",
              "2       1/5/2012  329.83  330.75  326.89  657.21   6,590,300\n",
              "3       1/6/2012  328.34  328.77  323.68  648.24   5,405,900\n",
              "4       1/9/2012  322.04  322.29  309.46  620.76  11,688,800\n",
              "...          ...     ...     ...     ...     ...         ...\n",
              "1253  12/23/2016  790.90  792.74  787.28  789.91     623,400\n",
              "1254  12/27/2016  790.68  797.86  787.66  791.55     789,100\n",
              "1255  12/28/2016  793.70  794.23  783.20  785.05   1,153,800\n",
              "1256  12/29/2016  783.33  785.93  778.92  782.79     744,300\n",
              "1257  12/30/2016  782.75  782.78  770.41  771.82   1,770,000\n",
              "\n",
              "[1258 rows x 6 columns]"
            ],
            "text/html": [
              "\n",
              "  <div id=\"df-a86c7ed4-50fa-45c0-9b82-a98dd096e95e\" class=\"colab-df-container\">\n",
              "    <div>\n",
              "<style scoped>\n",
              "    .dataframe tbody tr th:only-of-type {\n",
              "        vertical-align: middle;\n",
              "    }\n",
              "\n",
              "    .dataframe tbody tr th {\n",
              "        vertical-align: top;\n",
              "    }\n",
              "\n",
              "    .dataframe thead th {\n",
              "        text-align: right;\n",
              "    }\n",
              "</style>\n",
              "<table border=\"1\" class=\"dataframe\">\n",
              "  <thead>\n",
              "    <tr style=\"text-align: right;\">\n",
              "      <th></th>\n",
              "      <th>Date</th>\n",
              "      <th>Open</th>\n",
              "      <th>High</th>\n",
              "      <th>Low</th>\n",
              "      <th>Close</th>\n",
              "      <th>Volume</th>\n",
              "    </tr>\n",
              "  </thead>\n",
              "  <tbody>\n",
              "    <tr>\n",
              "      <th>0</th>\n",
              "      <td>1/3/2012</td>\n",
              "      <td>325.25</td>\n",
              "      <td>332.83</td>\n",
              "      <td>324.97</td>\n",
              "      <td>663.59</td>\n",
              "      <td>7,380,500</td>\n",
              "    </tr>\n",
              "    <tr>\n",
              "      <th>1</th>\n",
              "      <td>1/4/2012</td>\n",
              "      <td>331.27</td>\n",
              "      <td>333.87</td>\n",
              "      <td>329.08</td>\n",
              "      <td>666.45</td>\n",
              "      <td>5,749,400</td>\n",
              "    </tr>\n",
              "    <tr>\n",
              "      <th>2</th>\n",
              "      <td>1/5/2012</td>\n",
              "      <td>329.83</td>\n",
              "      <td>330.75</td>\n",
              "      <td>326.89</td>\n",
              "      <td>657.21</td>\n",
              "      <td>6,590,300</td>\n",
              "    </tr>\n",
              "    <tr>\n",
              "      <th>3</th>\n",
              "      <td>1/6/2012</td>\n",
              "      <td>328.34</td>\n",
              "      <td>328.77</td>\n",
              "      <td>323.68</td>\n",
              "      <td>648.24</td>\n",
              "      <td>5,405,900</td>\n",
              "    </tr>\n",
              "    <tr>\n",
              "      <th>4</th>\n",
              "      <td>1/9/2012</td>\n",
              "      <td>322.04</td>\n",
              "      <td>322.29</td>\n",
              "      <td>309.46</td>\n",
              "      <td>620.76</td>\n",
              "      <td>11,688,800</td>\n",
              "    </tr>\n",
              "    <tr>\n",
              "      <th>...</th>\n",
              "      <td>...</td>\n",
              "      <td>...</td>\n",
              "      <td>...</td>\n",
              "      <td>...</td>\n",
              "      <td>...</td>\n",
              "      <td>...</td>\n",
              "    </tr>\n",
              "    <tr>\n",
              "      <th>1253</th>\n",
              "      <td>12/23/2016</td>\n",
              "      <td>790.90</td>\n",
              "      <td>792.74</td>\n",
              "      <td>787.28</td>\n",
              "      <td>789.91</td>\n",
              "      <td>623,400</td>\n",
              "    </tr>\n",
              "    <tr>\n",
              "      <th>1254</th>\n",
              "      <td>12/27/2016</td>\n",
              "      <td>790.68</td>\n",
              "      <td>797.86</td>\n",
              "      <td>787.66</td>\n",
              "      <td>791.55</td>\n",
              "      <td>789,100</td>\n",
              "    </tr>\n",
              "    <tr>\n",
              "      <th>1255</th>\n",
              "      <td>12/28/2016</td>\n",
              "      <td>793.70</td>\n",
              "      <td>794.23</td>\n",
              "      <td>783.20</td>\n",
              "      <td>785.05</td>\n",
              "      <td>1,153,800</td>\n",
              "    </tr>\n",
              "    <tr>\n",
              "      <th>1256</th>\n",
              "      <td>12/29/2016</td>\n",
              "      <td>783.33</td>\n",
              "      <td>785.93</td>\n",
              "      <td>778.92</td>\n",
              "      <td>782.79</td>\n",
              "      <td>744,300</td>\n",
              "    </tr>\n",
              "    <tr>\n",
              "      <th>1257</th>\n",
              "      <td>12/30/2016</td>\n",
              "      <td>782.75</td>\n",
              "      <td>782.78</td>\n",
              "      <td>770.41</td>\n",
              "      <td>771.82</td>\n",
              "      <td>1,770,000</td>\n",
              "    </tr>\n",
              "  </tbody>\n",
              "</table>\n",
              "<p>1258 rows × 6 columns</p>\n",
              "</div>\n",
              "    <div class=\"colab-df-buttons\">\n",
              "\n",
              "  <div class=\"colab-df-container\">\n",
              "    <button class=\"colab-df-convert\" onclick=\"convertToInteractive('df-a86c7ed4-50fa-45c0-9b82-a98dd096e95e')\"\n",
              "            title=\"Convert this dataframe to an interactive table.\"\n",
              "            style=\"display:none;\">\n",
              "\n",
              "  <svg xmlns=\"http://www.w3.org/2000/svg\" height=\"24px\" viewBox=\"0 -960 960 960\">\n",
              "    <path d=\"M120-120v-720h720v720H120Zm60-500h600v-160H180v160Zm220 220h160v-160H400v160Zm0 220h160v-160H400v160ZM180-400h160v-160H180v160Zm440 0h160v-160H620v160ZM180-180h160v-160H180v160Zm440 0h160v-160H620v160Z\"/>\n",
              "  </svg>\n",
              "    </button>\n",
              "\n",
              "  <style>\n",
              "    .colab-df-container {\n",
              "      display:flex;\n",
              "      gap: 12px;\n",
              "    }\n",
              "\n",
              "    .colab-df-convert {\n",
              "      background-color: #E8F0FE;\n",
              "      border: none;\n",
              "      border-radius: 50%;\n",
              "      cursor: pointer;\n",
              "      display: none;\n",
              "      fill: #1967D2;\n",
              "      height: 32px;\n",
              "      padding: 0 0 0 0;\n",
              "      width: 32px;\n",
              "    }\n",
              "\n",
              "    .colab-df-convert:hover {\n",
              "      background-color: #E2EBFA;\n",
              "      box-shadow: 0px 1px 2px rgba(60, 64, 67, 0.3), 0px 1px 3px 1px rgba(60, 64, 67, 0.15);\n",
              "      fill: #174EA6;\n",
              "    }\n",
              "\n",
              "    .colab-df-buttons div {\n",
              "      margin-bottom: 4px;\n",
              "    }\n",
              "\n",
              "    [theme=dark] .colab-df-convert {\n",
              "      background-color: #3B4455;\n",
              "      fill: #D2E3FC;\n",
              "    }\n",
              "\n",
              "    [theme=dark] .colab-df-convert:hover {\n",
              "      background-color: #434B5C;\n",
              "      box-shadow: 0px 1px 3px 1px rgba(0, 0, 0, 0.15);\n",
              "      filter: drop-shadow(0px 1px 2px rgba(0, 0, 0, 0.3));\n",
              "      fill: #FFFFFF;\n",
              "    }\n",
              "  </style>\n",
              "\n",
              "    <script>\n",
              "      const buttonEl =\n",
              "        document.querySelector('#df-a86c7ed4-50fa-45c0-9b82-a98dd096e95e button.colab-df-convert');\n",
              "      buttonEl.style.display =\n",
              "        google.colab.kernel.accessAllowed ? 'block' : 'none';\n",
              "\n",
              "      async function convertToInteractive(key) {\n",
              "        const element = document.querySelector('#df-a86c7ed4-50fa-45c0-9b82-a98dd096e95e');\n",
              "        const dataTable =\n",
              "          await google.colab.kernel.invokeFunction('convertToInteractive',\n",
              "                                                    [key], {});\n",
              "        if (!dataTable) return;\n",
              "\n",
              "        const docLinkHtml = 'Like what you see? Visit the ' +\n",
              "          '<a target=\"_blank\" href=https://colab.research.google.com/notebooks/data_table.ipynb>data table notebook</a>'\n",
              "          + ' to learn more about interactive tables.';\n",
              "        element.innerHTML = '';\n",
              "        dataTable['output_type'] = 'display_data';\n",
              "        await google.colab.output.renderOutput(dataTable, element);\n",
              "        const docLink = document.createElement('div');\n",
              "        docLink.innerHTML = docLinkHtml;\n",
              "        element.appendChild(docLink);\n",
              "      }\n",
              "    </script>\n",
              "  </div>\n",
              "\n",
              "\n",
              "<div id=\"df-1d2db860-8e87-4241-be0a-bef97aa42f7f\">\n",
              "  <button class=\"colab-df-quickchart\" onclick=\"quickchart('df-1d2db860-8e87-4241-be0a-bef97aa42f7f')\"\n",
              "            title=\"Suggest charts\"\n",
              "            style=\"display:none;\">\n",
              "\n",
              "<svg xmlns=\"http://www.w3.org/2000/svg\" height=\"24px\"viewBox=\"0 0 24 24\"\n",
              "     width=\"24px\">\n",
              "    <g>\n",
              "        <path d=\"M19 3H5c-1.1 0-2 .9-2 2v14c0 1.1.9 2 2 2h14c1.1 0 2-.9 2-2V5c0-1.1-.9-2-2-2zM9 17H7v-7h2v7zm4 0h-2V7h2v10zm4 0h-2v-4h2v4z\"/>\n",
              "    </g>\n",
              "</svg>\n",
              "  </button>\n",
              "\n",
              "<style>\n",
              "  .colab-df-quickchart {\n",
              "      --bg-color: #E8F0FE;\n",
              "      --fill-color: #1967D2;\n",
              "      --hover-bg-color: #E2EBFA;\n",
              "      --hover-fill-color: #174EA6;\n",
              "      --disabled-fill-color: #AAA;\n",
              "      --disabled-bg-color: #DDD;\n",
              "  }\n",
              "\n",
              "  [theme=dark] .colab-df-quickchart {\n",
              "      --bg-color: #3B4455;\n",
              "      --fill-color: #D2E3FC;\n",
              "      --hover-bg-color: #434B5C;\n",
              "      --hover-fill-color: #FFFFFF;\n",
              "      --disabled-bg-color: #3B4455;\n",
              "      --disabled-fill-color: #666;\n",
              "  }\n",
              "\n",
              "  .colab-df-quickchart {\n",
              "    background-color: var(--bg-color);\n",
              "    border: none;\n",
              "    border-radius: 50%;\n",
              "    cursor: pointer;\n",
              "    display: none;\n",
              "    fill: var(--fill-color);\n",
              "    height: 32px;\n",
              "    padding: 0;\n",
              "    width: 32px;\n",
              "  }\n",
              "\n",
              "  .colab-df-quickchart:hover {\n",
              "    background-color: var(--hover-bg-color);\n",
              "    box-shadow: 0 1px 2px rgba(60, 64, 67, 0.3), 0 1px 3px 1px rgba(60, 64, 67, 0.15);\n",
              "    fill: var(--button-hover-fill-color);\n",
              "  }\n",
              "\n",
              "  .colab-df-quickchart-complete:disabled,\n",
              "  .colab-df-quickchart-complete:disabled:hover {\n",
              "    background-color: var(--disabled-bg-color);\n",
              "    fill: var(--disabled-fill-color);\n",
              "    box-shadow: none;\n",
              "  }\n",
              "\n",
              "  .colab-df-spinner {\n",
              "    border: 2px solid var(--fill-color);\n",
              "    border-color: transparent;\n",
              "    border-bottom-color: var(--fill-color);\n",
              "    animation:\n",
              "      spin 1s steps(1) infinite;\n",
              "  }\n",
              "\n",
              "  @keyframes spin {\n",
              "    0% {\n",
              "      border-color: transparent;\n",
              "      border-bottom-color: var(--fill-color);\n",
              "      border-left-color: var(--fill-color);\n",
              "    }\n",
              "    20% {\n",
              "      border-color: transparent;\n",
              "      border-left-color: var(--fill-color);\n",
              "      border-top-color: var(--fill-color);\n",
              "    }\n",
              "    30% {\n",
              "      border-color: transparent;\n",
              "      border-left-color: var(--fill-color);\n",
              "      border-top-color: var(--fill-color);\n",
              "      border-right-color: var(--fill-color);\n",
              "    }\n",
              "    40% {\n",
              "      border-color: transparent;\n",
              "      border-right-color: var(--fill-color);\n",
              "      border-top-color: var(--fill-color);\n",
              "    }\n",
              "    60% {\n",
              "      border-color: transparent;\n",
              "      border-right-color: var(--fill-color);\n",
              "    }\n",
              "    80% {\n",
              "      border-color: transparent;\n",
              "      border-right-color: var(--fill-color);\n",
              "      border-bottom-color: var(--fill-color);\n",
              "    }\n",
              "    90% {\n",
              "      border-color: transparent;\n",
              "      border-bottom-color: var(--fill-color);\n",
              "    }\n",
              "  }\n",
              "</style>\n",
              "\n",
              "  <script>\n",
              "    async function quickchart(key) {\n",
              "      const quickchartButtonEl =\n",
              "        document.querySelector('#' + key + ' button');\n",
              "      quickchartButtonEl.disabled = true;  // To prevent multiple clicks.\n",
              "      quickchartButtonEl.classList.add('colab-df-spinner');\n",
              "      try {\n",
              "        const charts = await google.colab.kernel.invokeFunction(\n",
              "            'suggestCharts', [key], {});\n",
              "      } catch (error) {\n",
              "        console.error('Error during call to suggestCharts:', error);\n",
              "      }\n",
              "      quickchartButtonEl.classList.remove('colab-df-spinner');\n",
              "      quickchartButtonEl.classList.add('colab-df-quickchart-complete');\n",
              "    }\n",
              "    (() => {\n",
              "      let quickchartButtonEl =\n",
              "        document.querySelector('#df-1d2db860-8e87-4241-be0a-bef97aa42f7f button');\n",
              "      quickchartButtonEl.style.display =\n",
              "        google.colab.kernel.accessAllowed ? 'block' : 'none';\n",
              "    })();\n",
              "  </script>\n",
              "</div>\n",
              "    </div>\n",
              "  </div>\n"
            ]
          },
          "metadata": {},
          "execution_count": 3
        }
      ],
      "source": [
        "train"
      ]
    },
    {
      "cell_type": "markdown",
      "source": [
        "### Performing data exploration + pre-processing:"
      ],
      "metadata": {
        "id": "d1JXdEWoKMSP"
      }
    },
    {
      "cell_type": "code",
      "source": [
        "'''Creating new features from the existing features of our dataset by performing feature crossing. 5 new features are created:\n",
        "1. Daily Change  2. Daily Return  3. High-Low Range  4. Average Price  5. Price Direction'''\n",
        "\n",
        "# converting 'Close' and 'Open' columns to numeric, handling errors by coercing to NaN\n",
        "train['Close'] = pd.to_numeric(train['Close'], errors='coerce')\n",
        "train['Open'] = pd.to_numeric(train['Open'], errors='coerce')\n",
        "\n",
        "\n",
        "train['Daily Change'] = train['Close'] - train['Open']\n",
        "train['Daily Return'] = (train['Close'] - train['Open']) / train['Open'] * 100\n",
        "train['High-Low Range'] = train['High'] - train['Low']\n",
        "train['Average Price'] = (train['High'] + train['Low']) / 2\n",
        "train['Price Direction'] = train['Close'].diff()\n",
        "\n",
        "\n",
        "train"
      ],
      "metadata": {
        "colab": {
          "base_uri": "https://localhost:8080/",
          "height": 424
        },
        "id": "PXu2gZq4R-vk",
        "outputId": "60310ff8-94fb-40b9-a27a-57b1937a53e5"
      },
      "execution_count": null,
      "outputs": [
        {
          "output_type": "execute_result",
          "data": {
            "text/plain": [
              "            Date    Open    High     Low   Close      Volume  Daily Change  \\\n",
              "0       1/3/2012  325.25  332.83  324.97  663.59   7,380,500        338.34   \n",
              "1       1/4/2012  331.27  333.87  329.08  666.45   5,749,400        335.18   \n",
              "2       1/5/2012  329.83  330.75  326.89  657.21   6,590,300        327.38   \n",
              "3       1/6/2012  328.34  328.77  323.68  648.24   5,405,900        319.90   \n",
              "4       1/9/2012  322.04  322.29  309.46  620.76  11,688,800        298.72   \n",
              "...          ...     ...     ...     ...     ...         ...           ...   \n",
              "1253  12/23/2016  790.90  792.74  787.28  789.91     623,400         -0.99   \n",
              "1254  12/27/2016  790.68  797.86  787.66  791.55     789,100          0.87   \n",
              "1255  12/28/2016  793.70  794.23  783.20  785.05   1,153,800         -8.65   \n",
              "1256  12/29/2016  783.33  785.93  778.92  782.79     744,300         -0.54   \n",
              "1257  12/30/2016  782.75  782.78  770.41  771.82   1,770,000        -10.93   \n",
              "\n",
              "      Daily Return  High-Low Range  Average Price  Price Direction  \n",
              "0       104.024596            7.86        328.900              NaN  \n",
              "1       101.180306            4.79        331.475             2.86  \n",
              "2        99.257193            3.86        328.820            -9.24  \n",
              "3        97.429494            5.09        326.225            -8.97  \n",
              "4        92.758664           12.83        315.875           -27.48  \n",
              "...            ...             ...            ...              ...  \n",
              "1253     -0.125174            5.46        790.010            -1.35  \n",
              "1254      0.110032           10.20        792.760             1.64  \n",
              "1255     -1.089832           11.03        788.715            -6.50  \n",
              "1256     -0.068936            7.01        782.425            -2.26  \n",
              "1257     -1.396359           12.37        776.595           -10.97  \n",
              "\n",
              "[1258 rows x 11 columns]"
            ],
            "text/html": [
              "\n",
              "  <div id=\"df-9504bdf3-bd92-40a6-b4f0-8b7c22f9c119\" class=\"colab-df-container\">\n",
              "    <div>\n",
              "<style scoped>\n",
              "    .dataframe tbody tr th:only-of-type {\n",
              "        vertical-align: middle;\n",
              "    }\n",
              "\n",
              "    .dataframe tbody tr th {\n",
              "        vertical-align: top;\n",
              "    }\n",
              "\n",
              "    .dataframe thead th {\n",
              "        text-align: right;\n",
              "    }\n",
              "</style>\n",
              "<table border=\"1\" class=\"dataframe\">\n",
              "  <thead>\n",
              "    <tr style=\"text-align: right;\">\n",
              "      <th></th>\n",
              "      <th>Date</th>\n",
              "      <th>Open</th>\n",
              "      <th>High</th>\n",
              "      <th>Low</th>\n",
              "      <th>Close</th>\n",
              "      <th>Volume</th>\n",
              "      <th>Daily Change</th>\n",
              "      <th>Daily Return</th>\n",
              "      <th>High-Low Range</th>\n",
              "      <th>Average Price</th>\n",
              "      <th>Price Direction</th>\n",
              "    </tr>\n",
              "  </thead>\n",
              "  <tbody>\n",
              "    <tr>\n",
              "      <th>0</th>\n",
              "      <td>1/3/2012</td>\n",
              "      <td>325.25</td>\n",
              "      <td>332.83</td>\n",
              "      <td>324.97</td>\n",
              "      <td>663.59</td>\n",
              "      <td>7,380,500</td>\n",
              "      <td>338.34</td>\n",
              "      <td>104.024596</td>\n",
              "      <td>7.86</td>\n",
              "      <td>328.900</td>\n",
              "      <td>NaN</td>\n",
              "    </tr>\n",
              "    <tr>\n",
              "      <th>1</th>\n",
              "      <td>1/4/2012</td>\n",
              "      <td>331.27</td>\n",
              "      <td>333.87</td>\n",
              "      <td>329.08</td>\n",
              "      <td>666.45</td>\n",
              "      <td>5,749,400</td>\n",
              "      <td>335.18</td>\n",
              "      <td>101.180306</td>\n",
              "      <td>4.79</td>\n",
              "      <td>331.475</td>\n",
              "      <td>2.86</td>\n",
              "    </tr>\n",
              "    <tr>\n",
              "      <th>2</th>\n",
              "      <td>1/5/2012</td>\n",
              "      <td>329.83</td>\n",
              "      <td>330.75</td>\n",
              "      <td>326.89</td>\n",
              "      <td>657.21</td>\n",
              "      <td>6,590,300</td>\n",
              "      <td>327.38</td>\n",
              "      <td>99.257193</td>\n",
              "      <td>3.86</td>\n",
              "      <td>328.820</td>\n",
              "      <td>-9.24</td>\n",
              "    </tr>\n",
              "    <tr>\n",
              "      <th>3</th>\n",
              "      <td>1/6/2012</td>\n",
              "      <td>328.34</td>\n",
              "      <td>328.77</td>\n",
              "      <td>323.68</td>\n",
              "      <td>648.24</td>\n",
              "      <td>5,405,900</td>\n",
              "      <td>319.90</td>\n",
              "      <td>97.429494</td>\n",
              "      <td>5.09</td>\n",
              "      <td>326.225</td>\n",
              "      <td>-8.97</td>\n",
              "    </tr>\n",
              "    <tr>\n",
              "      <th>4</th>\n",
              "      <td>1/9/2012</td>\n",
              "      <td>322.04</td>\n",
              "      <td>322.29</td>\n",
              "      <td>309.46</td>\n",
              "      <td>620.76</td>\n",
              "      <td>11,688,800</td>\n",
              "      <td>298.72</td>\n",
              "      <td>92.758664</td>\n",
              "      <td>12.83</td>\n",
              "      <td>315.875</td>\n",
              "      <td>-27.48</td>\n",
              "    </tr>\n",
              "    <tr>\n",
              "      <th>...</th>\n",
              "      <td>...</td>\n",
              "      <td>...</td>\n",
              "      <td>...</td>\n",
              "      <td>...</td>\n",
              "      <td>...</td>\n",
              "      <td>...</td>\n",
              "      <td>...</td>\n",
              "      <td>...</td>\n",
              "      <td>...</td>\n",
              "      <td>...</td>\n",
              "      <td>...</td>\n",
              "    </tr>\n",
              "    <tr>\n",
              "      <th>1253</th>\n",
              "      <td>12/23/2016</td>\n",
              "      <td>790.90</td>\n",
              "      <td>792.74</td>\n",
              "      <td>787.28</td>\n",
              "      <td>789.91</td>\n",
              "      <td>623,400</td>\n",
              "      <td>-0.99</td>\n",
              "      <td>-0.125174</td>\n",
              "      <td>5.46</td>\n",
              "      <td>790.010</td>\n",
              "      <td>-1.35</td>\n",
              "    </tr>\n",
              "    <tr>\n",
              "      <th>1254</th>\n",
              "      <td>12/27/2016</td>\n",
              "      <td>790.68</td>\n",
              "      <td>797.86</td>\n",
              "      <td>787.66</td>\n",
              "      <td>791.55</td>\n",
              "      <td>789,100</td>\n",
              "      <td>0.87</td>\n",
              "      <td>0.110032</td>\n",
              "      <td>10.20</td>\n",
              "      <td>792.760</td>\n",
              "      <td>1.64</td>\n",
              "    </tr>\n",
              "    <tr>\n",
              "      <th>1255</th>\n",
              "      <td>12/28/2016</td>\n",
              "      <td>793.70</td>\n",
              "      <td>794.23</td>\n",
              "      <td>783.20</td>\n",
              "      <td>785.05</td>\n",
              "      <td>1,153,800</td>\n",
              "      <td>-8.65</td>\n",
              "      <td>-1.089832</td>\n",
              "      <td>11.03</td>\n",
              "      <td>788.715</td>\n",
              "      <td>-6.50</td>\n",
              "    </tr>\n",
              "    <tr>\n",
              "      <th>1256</th>\n",
              "      <td>12/29/2016</td>\n",
              "      <td>783.33</td>\n",
              "      <td>785.93</td>\n",
              "      <td>778.92</td>\n",
              "      <td>782.79</td>\n",
              "      <td>744,300</td>\n",
              "      <td>-0.54</td>\n",
              "      <td>-0.068936</td>\n",
              "      <td>7.01</td>\n",
              "      <td>782.425</td>\n",
              "      <td>-2.26</td>\n",
              "    </tr>\n",
              "    <tr>\n",
              "      <th>1257</th>\n",
              "      <td>12/30/2016</td>\n",
              "      <td>782.75</td>\n",
              "      <td>782.78</td>\n",
              "      <td>770.41</td>\n",
              "      <td>771.82</td>\n",
              "      <td>1,770,000</td>\n",
              "      <td>-10.93</td>\n",
              "      <td>-1.396359</td>\n",
              "      <td>12.37</td>\n",
              "      <td>776.595</td>\n",
              "      <td>-10.97</td>\n",
              "    </tr>\n",
              "  </tbody>\n",
              "</table>\n",
              "<p>1258 rows × 11 columns</p>\n",
              "</div>\n",
              "    <div class=\"colab-df-buttons\">\n",
              "\n",
              "  <div class=\"colab-df-container\">\n",
              "    <button class=\"colab-df-convert\" onclick=\"convertToInteractive('df-9504bdf3-bd92-40a6-b4f0-8b7c22f9c119')\"\n",
              "            title=\"Convert this dataframe to an interactive table.\"\n",
              "            style=\"display:none;\">\n",
              "\n",
              "  <svg xmlns=\"http://www.w3.org/2000/svg\" height=\"24px\" viewBox=\"0 -960 960 960\">\n",
              "    <path d=\"M120-120v-720h720v720H120Zm60-500h600v-160H180v160Zm220 220h160v-160H400v160Zm0 220h160v-160H400v160ZM180-400h160v-160H180v160Zm440 0h160v-160H620v160ZM180-180h160v-160H180v160Zm440 0h160v-160H620v160Z\"/>\n",
              "  </svg>\n",
              "    </button>\n",
              "\n",
              "  <style>\n",
              "    .colab-df-container {\n",
              "      display:flex;\n",
              "      gap: 12px;\n",
              "    }\n",
              "\n",
              "    .colab-df-convert {\n",
              "      background-color: #E8F0FE;\n",
              "      border: none;\n",
              "      border-radius: 50%;\n",
              "      cursor: pointer;\n",
              "      display: none;\n",
              "      fill: #1967D2;\n",
              "      height: 32px;\n",
              "      padding: 0 0 0 0;\n",
              "      width: 32px;\n",
              "    }\n",
              "\n",
              "    .colab-df-convert:hover {\n",
              "      background-color: #E2EBFA;\n",
              "      box-shadow: 0px 1px 2px rgba(60, 64, 67, 0.3), 0px 1px 3px 1px rgba(60, 64, 67, 0.15);\n",
              "      fill: #174EA6;\n",
              "    }\n",
              "\n",
              "    .colab-df-buttons div {\n",
              "      margin-bottom: 4px;\n",
              "    }\n",
              "\n",
              "    [theme=dark] .colab-df-convert {\n",
              "      background-color: #3B4455;\n",
              "      fill: #D2E3FC;\n",
              "    }\n",
              "\n",
              "    [theme=dark] .colab-df-convert:hover {\n",
              "      background-color: #434B5C;\n",
              "      box-shadow: 0px 1px 3px 1px rgba(0, 0, 0, 0.15);\n",
              "      filter: drop-shadow(0px 1px 2px rgba(0, 0, 0, 0.3));\n",
              "      fill: #FFFFFF;\n",
              "    }\n",
              "  </style>\n",
              "\n",
              "    <script>\n",
              "      const buttonEl =\n",
              "        document.querySelector('#df-9504bdf3-bd92-40a6-b4f0-8b7c22f9c119 button.colab-df-convert');\n",
              "      buttonEl.style.display =\n",
              "        google.colab.kernel.accessAllowed ? 'block' : 'none';\n",
              "\n",
              "      async function convertToInteractive(key) {\n",
              "        const element = document.querySelector('#df-9504bdf3-bd92-40a6-b4f0-8b7c22f9c119');\n",
              "        const dataTable =\n",
              "          await google.colab.kernel.invokeFunction('convertToInteractive',\n",
              "                                                    [key], {});\n",
              "        if (!dataTable) return;\n",
              "\n",
              "        const docLinkHtml = 'Like what you see? Visit the ' +\n",
              "          '<a target=\"_blank\" href=https://colab.research.google.com/notebooks/data_table.ipynb>data table notebook</a>'\n",
              "          + ' to learn more about interactive tables.';\n",
              "        element.innerHTML = '';\n",
              "        dataTable['output_type'] = 'display_data';\n",
              "        await google.colab.output.renderOutput(dataTable, element);\n",
              "        const docLink = document.createElement('div');\n",
              "        docLink.innerHTML = docLinkHtml;\n",
              "        element.appendChild(docLink);\n",
              "      }\n",
              "    </script>\n",
              "  </div>\n",
              "\n",
              "\n",
              "<div id=\"df-a9948cca-13dd-4236-90f4-dc3768f7a46e\">\n",
              "  <button class=\"colab-df-quickchart\" onclick=\"quickchart('df-a9948cca-13dd-4236-90f4-dc3768f7a46e')\"\n",
              "            title=\"Suggest charts\"\n",
              "            style=\"display:none;\">\n",
              "\n",
              "<svg xmlns=\"http://www.w3.org/2000/svg\" height=\"24px\"viewBox=\"0 0 24 24\"\n",
              "     width=\"24px\">\n",
              "    <g>\n",
              "        <path d=\"M19 3H5c-1.1 0-2 .9-2 2v14c0 1.1.9 2 2 2h14c1.1 0 2-.9 2-2V5c0-1.1-.9-2-2-2zM9 17H7v-7h2v7zm4 0h-2V7h2v10zm4 0h-2v-4h2v4z\"/>\n",
              "    </g>\n",
              "</svg>\n",
              "  </button>\n",
              "\n",
              "<style>\n",
              "  .colab-df-quickchart {\n",
              "      --bg-color: #E8F0FE;\n",
              "      --fill-color: #1967D2;\n",
              "      --hover-bg-color: #E2EBFA;\n",
              "      --hover-fill-color: #174EA6;\n",
              "      --disabled-fill-color: #AAA;\n",
              "      --disabled-bg-color: #DDD;\n",
              "  }\n",
              "\n",
              "  [theme=dark] .colab-df-quickchart {\n",
              "      --bg-color: #3B4455;\n",
              "      --fill-color: #D2E3FC;\n",
              "      --hover-bg-color: #434B5C;\n",
              "      --hover-fill-color: #FFFFFF;\n",
              "      --disabled-bg-color: #3B4455;\n",
              "      --disabled-fill-color: #666;\n",
              "  }\n",
              "\n",
              "  .colab-df-quickchart {\n",
              "    background-color: var(--bg-color);\n",
              "    border: none;\n",
              "    border-radius: 50%;\n",
              "    cursor: pointer;\n",
              "    display: none;\n",
              "    fill: var(--fill-color);\n",
              "    height: 32px;\n",
              "    padding: 0;\n",
              "    width: 32px;\n",
              "  }\n",
              "\n",
              "  .colab-df-quickchart:hover {\n",
              "    background-color: var(--hover-bg-color);\n",
              "    box-shadow: 0 1px 2px rgba(60, 64, 67, 0.3), 0 1px 3px 1px rgba(60, 64, 67, 0.15);\n",
              "    fill: var(--button-hover-fill-color);\n",
              "  }\n",
              "\n",
              "  .colab-df-quickchart-complete:disabled,\n",
              "  .colab-df-quickchart-complete:disabled:hover {\n",
              "    background-color: var(--disabled-bg-color);\n",
              "    fill: var(--disabled-fill-color);\n",
              "    box-shadow: none;\n",
              "  }\n",
              "\n",
              "  .colab-df-spinner {\n",
              "    border: 2px solid var(--fill-color);\n",
              "    border-color: transparent;\n",
              "    border-bottom-color: var(--fill-color);\n",
              "    animation:\n",
              "      spin 1s steps(1) infinite;\n",
              "  }\n",
              "\n",
              "  @keyframes spin {\n",
              "    0% {\n",
              "      border-color: transparent;\n",
              "      border-bottom-color: var(--fill-color);\n",
              "      border-left-color: var(--fill-color);\n",
              "    }\n",
              "    20% {\n",
              "      border-color: transparent;\n",
              "      border-left-color: var(--fill-color);\n",
              "      border-top-color: var(--fill-color);\n",
              "    }\n",
              "    30% {\n",
              "      border-color: transparent;\n",
              "      border-left-color: var(--fill-color);\n",
              "      border-top-color: var(--fill-color);\n",
              "      border-right-color: var(--fill-color);\n",
              "    }\n",
              "    40% {\n",
              "      border-color: transparent;\n",
              "      border-right-color: var(--fill-color);\n",
              "      border-top-color: var(--fill-color);\n",
              "    }\n",
              "    60% {\n",
              "      border-color: transparent;\n",
              "      border-right-color: var(--fill-color);\n",
              "    }\n",
              "    80% {\n",
              "      border-color: transparent;\n",
              "      border-right-color: var(--fill-color);\n",
              "      border-bottom-color: var(--fill-color);\n",
              "    }\n",
              "    90% {\n",
              "      border-color: transparent;\n",
              "      border-bottom-color: var(--fill-color);\n",
              "    }\n",
              "  }\n",
              "</style>\n",
              "\n",
              "  <script>\n",
              "    async function quickchart(key) {\n",
              "      const quickchartButtonEl =\n",
              "        document.querySelector('#' + key + ' button');\n",
              "      quickchartButtonEl.disabled = true;  // To prevent multiple clicks.\n",
              "      quickchartButtonEl.classList.add('colab-df-spinner');\n",
              "      try {\n",
              "        const charts = await google.colab.kernel.invokeFunction(\n",
              "            'suggestCharts', [key], {});\n",
              "      } catch (error) {\n",
              "        console.error('Error during call to suggestCharts:', error);\n",
              "      }\n",
              "      quickchartButtonEl.classList.remove('colab-df-spinner');\n",
              "      quickchartButtonEl.classList.add('colab-df-quickchart-complete');\n",
              "    }\n",
              "    (() => {\n",
              "      let quickchartButtonEl =\n",
              "        document.querySelector('#df-a9948cca-13dd-4236-90f4-dc3768f7a46e button');\n",
              "      quickchartButtonEl.style.display =\n",
              "        google.colab.kernel.accessAllowed ? 'block' : 'none';\n",
              "    })();\n",
              "  </script>\n",
              "</div>\n",
              "    </div>\n",
              "  </div>\n"
            ]
          },
          "metadata": {},
          "execution_count": 4
        }
      ]
    },
    {
      "cell_type": "code",
      "source": [
        "fig = px.scatter_3d(train, x='Daily Change', y='Daily Return', z='High-Low Range',\n",
        "                    color='Price Direction', size='Average Price', opacity=0.7,\n",
        "                    title='3D Scatter Plot of Financial Features')\n",
        "\n",
        "fig.show()"
      ],
      "metadata": {
        "colab": {
          "base_uri": "https://localhost:8080/",
          "height": 542
        },
        "id": "1A4Ef02jW74f",
        "outputId": "c6b8f365-24e1-4136-c713-d30d514bcc78"
      },
      "execution_count": null,
      "outputs": [
        {
          "output_type": "display_data",
          "data": {
            "text/html": [
              "<html>\n",
              "<head><meta charset=\"utf-8\" /></head>\n",
              "<body>\n",
              "    <div>            <script src=\"https://cdnjs.cloudflare.com/ajax/libs/mathjax/2.7.5/MathJax.js?config=TeX-AMS-MML_SVG\"></script><script type=\"text/javascript\">if (window.MathJax && window.MathJax.Hub && window.MathJax.Hub.Config) {window.MathJax.Hub.Config({SVG: {font: \"STIX-Web\"}});}</script>                <script type=\"text/javascript\">window.PlotlyConfig = {MathJaxConfig: 'local'};</script>\n",
              "        <script charset=\"utf-8\" src=\"https://cdn.plot.ly/plotly-2.24.1.min.js\"></script>                <div id=\"845c138b-1da6-41be-aa99-d8e337cc446b\" class=\"plotly-graph-div\" style=\"height:525px; width:100%;\"></div>            <script type=\"text/javascript\">                                    window.PLOTLYENV=window.PLOTLYENV || {};                                    if (document.getElementById(\"845c138b-1da6-41be-aa99-d8e337cc446b\")) {                    Plotly.newPlot(                        \"845c138b-1da6-41be-aa99-d8e337cc446b\",                        [{\"hovertemplate\":\"Daily Change=%{x}\\u003cbr\\u003eDaily Return=%{y}\\u003cbr\\u003eHigh-Low Range=%{z}\\u003cbr\\u003eAverage Price=%{marker.size}\\u003cbr\\u003ePrice Direction=%{marker.color}\\u003cextra\\u003e\\u003c\\u002fextra\\u003e\",\"legendgroup\":\"\",\"marker\":{\"color\":[null,2.8600000000000136,-9.240000000000009,-8.970000000000027,-27.480000000000018,0.6699999999999591,2.82000000000005,3.669999999999959,-4.639999999999986,3.580000000000041,4.319999999999936,6.6400000000001,-53.430000000000064,-0.4700000000000273,-4.579999999999927,-11.410000000000082,-1.3899999999999864,11.850000000000023,-2.2799999999999727,2.409999999999968,0.7200000000000273,4.269999999999982,11.190000000000055,12.719999999999914,-2.3099999999999454,3.0699999999999363,1.6100000000000136,-5.539999999999964,6.269999999999982,-2.42999999999995,-4.190000000000055,0.9600000000000364,-1.8799999999999955,9.340000000000032,-6.040000000000077,-1.8299999999999272,3.7799999999999727,-0.5900000000000318,9.06000000000006,-0.14000000000010004,4.1400000000001,-1.150000000000091,-6.9799999999999045,-9.270000000000095,1.8400000000000318,0.34000000000003183,-6.8700000000000045,4.8799999999999955,12.600000000000023,-1.7900000000000773,5.1299999999999955,3.900000000000091,8.909999999999968,-0.4800000000000182,6.470000000000027,6.0499999999999545,-3.449999999999932,6.719999999999914,-2.2999999999999545,8.710000000000036,-7.330000000000041,-7.149999999999977,5.669999999999959,-4.289999999999964,-7.4500000000000455,-2.8199999999999363,-1.4800000000000182,-3.9700000000000273,9.080000000000041,15.009999999999991,-26.340000000000032,-18.480000000000018,3.490000000000009,-2.1100000000000136,-8.129999999999995,-3.230000000000018,1.5300000000000864,3.659999999999968,8.42999999999995,5.730000000000018,-0.4800000000000182,-10.1099999999999,-0.41000000000008185,2.82000000000005,3.75,-14.009999999999991,10.549999999999955,5.220000000000027,-3.6299999999999955,4.5,-8.409999999999968,-1.2200000000000273,7.090000000000032,17.769999999999982,-5.8700000000000045,-22.58000000000004,13.669999999999959,-13.269999999999982,8.629999999999995,-5.779999999999973,-12.100000000000023,2.800000000000068,-6.090000000000032,-7.350000000000023,-9.850000000000023,7.590000000000032,-8.159999999999968,10.129999999999995,-2.330000000000041,2.2100000000000364,-11.919999999999959,-3.3900000000001,-4.0,-2.0299999999999727,5.440000000000055,6.329999999999927,10.650000000000091,-4.010000000000105,-12.269999999999982,6.259999999999991,-10.759999999999991,3.9700000000000273,4.610000000000014,-4.980000000000018,15.720000000000027,0.39999999999997726,7.340000000000032,8.069999999999936,-9.909999999999968,0.029999999999972715,-4.2999999999999545,-10.480000000000018,-0.7100000000000364,6.0200000000000955,-1.5900000000000318,1.7999999999999545,4.019999999999982,12.270000000000095,17.709999999999923,4.670000000000073,-7.910000000000082,0.42000000000007276,5.349999999999909,21.540000000000077,-2.6499999999999773,0.6699999999999591,-0.2899999999999636,-3.9200000000000728,12.540000000000077,1.4899999999998954,-2.269999999999982,1.6800000000000637,0.12000000000000455,-0.35000000000002274,17.960000000000036,8.629999999999995,-1.1200000000000045,5.319999999999936,4.259999999999991,-1.599999999999909,-6.010000000000105,7.650000000000091,-0.37999999999999545,1.8199999999999363,-9.379999999999995,8.009999999999991,10.730000000000018,-6.32000000000005,3.400000000000091,-4.030000000000086,-0.31999999999993634,18.629999999999995,6.730000000000018,-5.3700000000000045,-8.56000000000006,-1.2999999999999545,15.120000000000005,3.6299999999999955,0.2999999999999545,8.269999999999982,9.200000000000045,0.6200000000000045,5.850000000000023,15.350000000000023,-0.22000000000002728,4.289999999999964,3.0299999999999727,-2.0,7.260000000000105,-4.7700000000000955,5.490000000000009,5.540000000000077,-0.40000000000009095,-9.779999999999973,-13.720000000000027,0.4700000000000273,6.899999999999977,-6.709999999999923,-3.759999999999991,3.7099999999999227,10.759999999999991,-60.319999999999936,-13.180000000000064,-3.1100000000000136,1.6800000000000637,-3.0399999999999636,0.4499999999999318,-2.6000000000000227,5.1400000000001,7.269999999999982,0.32999999999992724,-4.949999999999932,-1.240000000000009,-14.56000000000006,-14.789999999999964,10.710000000000036,2.8700000000000045,-6.830000000000041,-6.490000000000009,-5.269999999999982,-0.08000000000004093,20.970000000000027,1.759999999999991,-4.090000000000032,2.090000000000032,-6.7999999999999545,9.529999999999973,12.92999999999995,8.200000000000045,6.460000000000036,-3.1100000000000136,-4.210000000000036,-3.199999999999932,3.2999999999999545,-6.899999999999977,1.1999999999999318,11.430000000000064,0.67999999999995,5.1299999999999955,-0.7400000000000091,18.769999999999982,0.2900000000000773,-0.9600000000000364,2.240000000000009,-6.710000000000036,-6.110000000000014,-0.6299999999999955,-2.5699999999999363,-6.269999999999982,7.350000000000023,15.829999999999927,0.42000000000007276,14.259999999999991,-3.2100000000000364,-1.4500000000000455,4.810000000000059,3.3500000000000227,-1.490000000000009,-16.690000000000055,1.6800000000000637,-9.720000000000027,-3.8600000000000136,-6.789999999999964,-1.6299999999999955,38.51999999999998,12.67999999999995,-0.5399999999999636,-2.9400000000000546,2.9500000000000455,0.14999999999997726,1.8500000000000227,19.860000000000014,-16.539999999999964,6.699999999999932,4.419999999999959,3.7700000000000955,11.389999999999986,-2.9400000000000546,-1.7200000000000273,2.160000000000082,4.939999999999941,5.060000000000059,13.919999999999959,-14.350000000000023,3.060000000000059,4.169999999999959,-8.919999999999959,-0.6299999999999955,9.620000000000005,1.419999999999959,4.970000000000027,15.269999999999982,17.049999999999955,-7.199999999999932,1.2200000000000273,-1.080000000000041,3.2899999999999636,-7.189999999999941,-2.2900000000000773,-3.759999999999991,-7.219999999999914,-6.490000000000009,3.519999999999982,3.3799999999999955,-3.4400000000000546,-0.9499999999999318,-0.6700000000000728,2.7800000000000864,-9.740000000000009,-8.440000000000055,6.980000000000018,11.809999999999945,-6.819999999999936,-11.100000000000023,-11.980000000000018,-8.17999999999995,2.7899999999999636,12.5,0.21000000000003638,-0.34000000000003183,-8.100000000000023,11.410000000000082,-10.780000000000086,-16.610000000000014,33.870000000000005,0.2400000000000091,7.7700000000000955,5.529999999999973,-4.340000000000032,-7.649999999999977,17.590000000000032,5.489999999999895,-4.1299999999999955,9.160000000000082,16.059999999999945,15.790000000000077,-4.310000000000059,16.360000000000014,-2.1499999999999773,8.730000000000018,-2.6900000000000546,9.539999999999964,28.710000000000036,-11.980000000000018,5.290000000000077,-0.650000000000091,-1.5499999999999545,-17.50999999999999,-6.610000000000014,-9.440000000000055,7.930000000000064,-12.930000000000064,2.4500000000000455,0.4500000000000455,-3.580000000000041,-8.5,0.6000000000000227,4.919999999999959,15.050000000000068,10.459999999999923,-10.379999999999995,-7.809999999999945,5.009999999999991,-1.9600000000000364,11.180000000000064,14.329999999999927,0.06000000000005912,-15.889999999999986,-3.800000000000068,-11.110000000000014,-3.5799999999999272,7.42999999999995,3.409999999999968,3.2900000000000773,7.490000000000009,-5.560000000000059,4.110000000000014,7.039999999999964,11.57000000000005,0.14999999999997726,0.75,14.210000000000036,2.75,1.6899999999999409,-5.069999999999936,-1.0500000000000682,-7.849999999999909,-14.040000000000077,14.06000000000006,-6.8799999999999955,-0.900000000000091,-15.159999999999968,-2.340000000000032,-3.0799999999999272,8.629999999999995,-3.159999999999968,16.41999999999996,2.3500000000000227,-1.57000000000005,-8.399999999999977,-5.909999999999968,2.009999999999991,-2.25,-4.8799999999999955,-4.25,-11.410000000000082,-10.120000000000005,-2.75,8.720000000000027,-0.2300000000000182,3.900000000000091,4.3700000000000045,-3.490000000000009,-3.810000000000059,-16.199999999999932,-1.5900000000000318,6.860000000000014,-8.509999999999991,13.43999999999994,11.220000000000027,7.909999999999968,0.01999999999998181,8.450000000000045,0.6200000000000045,7.5,-3.1299999999999955,-3.9700000000000273,-1.3099999999999454,-1.650000000000091,17.170000000000073,-4.920000000000073,4.710000000000036,-16.569999999999936,0.33999999999991815,-9.579999999999927,0.9399999999999409,-1.7799999999999727,-0.4800000000000182,11.06000000000006,0.9899999999998954,-11.86999999999989,-3.730000000000018,-6.590000000000032,-12.039999999999964,2.189999999999941,12.340000000000032,3.740000000000009,4.110000000000014,5.889999999999986,15.970000000000027,-9.210000000000036,null,null,null,null,null,null,null,null,null,null,null,null,null,null,null,null,null,null,null,null,null,null,null,null,null,null,null,null,null,null,null,null,null,null,null,null,null,null,null,null,null,null,null,null,null,null,null,null,null,null,null,null,null,null,null,null,null,null,null,null,null,null,null,null,null,null,null,null,null,null,null,null,null,null,null,null,null,null,null,null,null,null,null,null,null,null,null,null,null,null,null,null,null,null,null,null,null,null,null,null,null,null,null,null,null,null,null,null,null,null,1.5300000000000864,-3.009999999999991,10.159999999999968,-0.15999999999996817,2.7299999999999045,-26.529999999999973,-4.970000000000027,16.700000000000045,9.220000000000027,-23.129999999999995,-10.32000000000005,1.9099999999999682,3.910000000000082,20.049999999999955,-20.389999999999986,-7.460000000000036,6.180000000000064,-7.850000000000023,-1.7799999999999727,-8.950000000000045,0.9600000000000364,10.529999999999973,-1.0399999999999636,4.67999999999995,-3.419999999999959,-0.12000000000000455,-12.629999999999995,-5.170000000000016,1.0400000000000205,7.709999999999923,11.160000000000082,3.159999999999968,-6.419999999999959,-6.650000000000091,0.6400000000001,8.209999999999923,0.9100000000000819,9.139999999999986,6.110000000000014,7.6200000000000045,13.209999999999923,-4.259999999999991,-1.5900000000000318,-0.18999999999994088,-5.9500000000000455,-8.959999999999923,-0.2800000000000864,9.210000000000036,2.42999999999995,5.7700000000000955,-1.5600000000000591,-1.7100000000000364,-7.469999999999914,0.40999999999996817,-7.460000000000036,-1.2699999999999818,10.330000000000041,1.5299999999999727,1.4600000000000364,8.559999999999945,-0.32999999999992724,14.0,-2.650000000000091,1.240000000000009,-1.9599999999999227,7.3700000000000045,-0.3300000000000409,2.3899999999999864,-2.4700000000000273,-11.129999999999995,4.970000000000027,-4.960000000000036,8.050000000000068,5.67999999999995,-0.09000000000003183,-2.1200000000000045,-8.899999999999977,21.290000000000077,-5.590000000000032,5.25,1.240000000000009,-2.6200000000000045,-4.32000000000005,1.57000000000005,-4.970000000000027,1.7999999999999545,-15.779999999999973,-5.509999999999991,7.060000000000059,-8.06000000000006,1.3000000000000682,-3.0,5.389999999999986,-0.8799999999999955,-5.139999999999986,12.019999999999982,-0.12999999999999545,-1.1700000000000728,8.660000000000082,4.67999999999995,-2.3600000000000136,-1.1200000000000045,-0.8099999999999454,-2.3500000000000227,-2.330000000000041,-6.839999999999918,-1.8000000000000682,2.3899999999999864,5.720000000000027,0.6100000000000136,4.029999999999973,4.090000000000032,3.6299999999999955,-8.690000000000055,2.080000000000041,-1.740000000000009,-5.720000000000027,-2.509999999999991,6.830000000000041,4.809999999999945,4.490000000000009,6.790000000000077,-8.690000000000055,-6.220000000000027,6.840000000000032,-12.889999999999986,2.0299999999999727,-0.7400000000000091,1.0,-9.069999999999936,1.8099999999999454,5.180000000000064,2.0699999999999363,-13.569999999999936,8.729999999999905,-11.589999999999918,-16.340000000000032,-11.25,4.720000000000027,-7.889999999999986,-5.509999999999991,-13.300000000000068,9.639999999999986,5.690000000000055,6.149999999999977,11.240000000000009,-4.190000000000055,0.9900000000000091,8.110000000000014,0.43000000000006366,0.9699999999999136,8.75,-3.849999999999909,-1.1100000000000136,-8.160000000000082,-3.8700000000000045,-1.0299999999999727,6.460000000000036,2.7899999999999636,-2.9700000000000273,-1.919999999999959,-0.9800000000000182,-7.8700000000000045,-1.4699999999999136,1.9499999999999318,-2.1499999999999773,2.659999999999968,1.759999999999991,1.8100000000000591,-0.7100000000000364,1.4600000000000364,-8.009999999999991,-0.05000000000006821,-2.419999999999959,5.970000000000027,-12.019999999999982,1.7199999999999136,6.3700000000000045,-7.289999999999964,2.269999999999982,-9.649999999999977,-4.850000000000023,-18.360000000000014,9.480000000000018,6.189999999999998,5.240000000000066,8.489999999999895,5.710000000000036,-1.8199999999999363,5.25,-3.6900000000000546,0.09000000000003183,-4.009999999999991,-1.5900000000000318,-10.909999999999968,-11.870000000000061,-0.8599999999999568,1.5699999999999932,-6.490000000000009,-3.6100000000000136,3.6200000000000045,4.680000000000007,0.9200000000000159,6.269999999999982,-1.1800000000000068,11.110000000000014,16.309999999999945,5.540000000000077,-4.730000000000018,-16.529999999999973,-8.610000000000014,0.6599999999999682,23.799999999999955,-6.029999999999973,0.7599999999999909,-6.459999999999923,4.809999999999945,3.409999999999968,-3.169999999999959,9.090000000000032,-0.9700000000000273,6.940000000000055,6.069999999999936,-6.159999999999968,-3.1299999999999955,3.159999999999968,-3.909999999999968,-7.019999999999982,4.169999999999959,7.759999999999991,11.580000000000041,2.909999999999968,12.909999999999968,2.2900000000000773,-0.2700000000000955,1.9500000000000455,-7.6200000000000045,1.1599999999999682,-13.799999999999955,-3.82000000000005,4.32000000000005,-8.169999999999959,7.169999999999959,-3.659999999999968,8.639999999999986,-1.509999999999991,2.3700000000000045,-1.5500000000000682,11.350000000000023,-11.370000000000005,-3.6100000000000136,-6.809999999999945,3.67999999999995,-4.019999999999982,-5.42999999999995,-7.010000000000105,1.240000000000009,0.25,4.580000000000041,-0.8300000000000409,-0.7699999999999818,-0.8399999999999181,-8.75,2.1299999999999955,1.2699999999999818,-9.720000000000027,11.289999999999964,-1.3999999999999773,5.3799999999999955,7.610000000000014,18.00999999999999,-8.139999999999986,-1.6900000000000546,-4.599999999999909,-11.740000000000009,0.5599999999999454,2.8799999999999955,-9.980000000000018,-6.579999999999927,6.480000000000018,7.519999999999982,-2.519999999999982,-6.660000000000082,0.5800000000000409,8.779999999999973,-4.5499999999999545,-1.5500000000000682,5.060000000000059,1.9099999999999682,3.240000000000009,-2.3999999999999773,-7.789999999999964,7.469999999999914,-0.009999999999990905,-7.669999999999959,1.8799999999999955,5.189999999999941,1.1299999999999955,-3.6099999999999,-3.3700000000000045,-6.5,-0.13999999999998636,10.0,-2.080000000000041,-2.2799999999999727,-5.1299999999999955,0.9499999999999318,1.1100000000000136,7.470000000000027,-0.03999999999996362,1.5,2.2899999999999636,-2.6399999999999864,-2.6100000000000136,-3.5399999999999636,-10.170000000000073,-1.009999999999991,1.330000000000041,1.5599999999999454,-0.5399999999999636,2.159999999999968,-8.18999999999994,3.849999999999909,9.450000000000045,16.41999999999996,14.550000000000068,-0.8799999999999955,19.629999999999995,93.07999999999993,-9.909999999999968,-0.7200000000000273,-0.1999999999999318,-17.82000000000005,-20.720000000000027,3.7000000000000455,0.7400000000000091,3.92999999999995,0.6600000000000819,-6.980000000000018,5.600000000000023,-1.9600000000000364,14.529999999999973,-1.1000000000000227,-7.3799999999999955,-1.5699999999999363,27.049999999999955,-1.2200000000000273,-3.1099999999999,0.6699999999999591,3.75,-4.740000000000009,4.769999999999982,-14.069999999999936,-34.35000000000002,-22.870000000000005,-7.550000000000068,46.56000000000006,8.990000000000009,-7.230000000000018,-12.129999999999995,-20.460000000000036,16.550000000000068,-8.090000000000032,-5.5499999999999545,13.959999999999923,-1.9399999999999409,8.629999999999995,4.419999999999959,-2.5299999999999727,11.899999999999977,0.8400000000000318,6.919999999999959,-13.649999999999977,6.190000000000055,-12.75,-0.3300000000000409,3.439999999999941,-13.829999999999927,-17.08000000000004,0.08000000000004093,13.449999999999932,2.8700000000000045,15.620000000000005,14.56000000000006,3.9700000000000273,-3.080000000000041,-3.2000000000000455,4.4500000000000455,3.0599999999999454,5.6299999999999955,-1.1399999999999864,10.580000000000041,0.4600000000000364,3.8999999999999773,-15.82000000000005,-7.669999999999959,9.17999999999995,50.210000000000036,10.779999999999973,-4.289999999999964,4.460000000000036,3.9699999999999136,-6.110000000000014,10.300000000000068,1.0499999999999545,5.9500000000000455,3.1399999999999864,2.509999999999991,-8.870000000000005,3.4300000000000637,7.079999999999927,-4.169999999999959,-14.230000000000018,11.960000000000036,-3.660000000000082,14.700000000000045,-1.5900000000000318,18.190000000000055,-0.6200000000000045,-7.7000000000000455,-0.12999999999999545,2.1100000000000136,-7.659999999999968,24.43999999999994,-4.659999999999968,-9.840000000000032,14.269999999999982,-3.5599999999999454,-0.8799999999999955,-10.759999999999991,-2.1499999999999773,-10.590000000000032,8.899999999999977,-4.3700000000000045,14.690000000000055,-8.660000000000082,-10.120000000000005,8.460000000000036,2.230000000000018,0.30999999999994543,-1.9099999999999682,14.110000000000014,14.090000000000032,-5.600000000000023,-12.120000000000005,-17.039999999999964,0.7400000000000091,1.0399999999999636,-17.230000000000018,-11.919999999999959,1.5599999999999454,10.040000000000077,-25.510000000000105,14.160000000000082,-20.269999999999982,7.339999999999918,-3.339999999999918,8.139999999999986,18.659999999999968,-13.580000000000041,1.3700000000000045,-13.049999999999955,30.970000000000027,11.990000000000009,9.049999999999955,12.649999999999977,-37.69999999999993,-18.940000000000055,-24.43999999999994,-0.8300000000000409,-4.6299999999999955,6.009999999999991,-1.009999999999991,-0.7100000000000364,8.600000000000023,17.399999999999977,-11.049999999999955,3.5599999999999454,5.550000000000068,-10.610000000000014,3.7099999999999227,6.190000000000055,-0.67999999999995,-7.300000000000068,21.039999999999964,0.04000000000007731,-6.430000000000064,-1.5299999999999727,-15.730000000000018,-1.1899999999999409,11.269999999999982,7.580000000000041,14.0,3.669999999999959,-2.159999999999968,7.759999999999991,1.6899999999999409,-0.17999999999994998,4.490000000000009,-1.3400000000000318,-2.6900000000000546,-2.759999999999991,-1.7699999999999818,11.240000000000009,5.759999999999991,-5.579999999999927,4.959999999999923,-4.6200000000000045,-7.490000000000009,7.8900000000001,-5.410000000000082,-1.1299999999999955,-3.0499999999999545,6.990000000000009,8.629999999999995,1.4800000000000182,5.7999999999999545,7.610000000000014,-12.680000000000064,-1.259999999999991,6.470000000000027,-40.370000000000005,4.3799999999999955,-15.009999999999991,-2.2999999999999545,-14.82000000000005,1.990000000000009,5.2000000000000455,-5.850000000000023,3.340000000000032,5.7299999999999045,9.690000000000055,1.7799999999999727,10.279999999999973,-7.889999999999986,-1.9800000000000182,-2.4799999999999045,5.659999999999968,-10.259999999999991,0.39999999999997726,-6.309999999999945,9.419999999999959,-5.5,15.850000000000023,5.17999999999995,-1.1499999999999773,8.539999999999964,3.060000000000059,-1.57000000000005,-3.75,-8.059999999999945,-5.790000000000077,0.10000000000002274,11.629999999999995,0.3000000000000682,-9.170000000000073,-1.0499999999999545,-0.09000000000003183,0.6499999999999773,-8.559999999999945,-18.639999999999986,1.990000000000009,2.230000000000018,1.5199999999999818,4.409999999999968,-26.649999999999977,-6.960000000000036,11.779999999999973,4.07000000000005,7.990000000000009,7.110000000000014,-4.259999999999991,2.8199999999999363,-2.409999999999968,10.269999999999982,9.460000000000036,5.5499999999999545,-3.659999999999968,3.9700000000000273,-1.1000000000000227,13.92999999999995,3.1800000000000637,4.230000000000018,-2.560000000000059,4.110000000000014,-2.9700000000000273,-1.3500000000000227,3.3500000000000227,4.139999999999986,22.879999999999995,4.090000000000032,-1.8099999999999454,2.1099999999999,-1.5699999999999363,10.610000000000014,-0.4600000000000364,2.5,0.4199999999999591,0.17000000000007276,-1.6299999999999955,-0.7799999999999727,-5.300000000000068,2.769999999999982,-2.409999999999968,-2.080000000000041,-3.269999999999982,-0.06999999999993634,-2.4400000000000546,-0.2300000000000182,0.12999999999999545,2.6100000000000136,-3.0599999999999454,-2.0400000000000773,1.7300000000000182,2.6800000000000637,8.620000000000005,0.2699999999999818,-5.029999999999973,-15.660000000000082,9.360000000000014,-9.329999999999927,2.7999999999999545,9.269999999999982,-2.8799999999999955,-3.17999999999995,5.709999999999923,4.810000000000059,10.990000000000009,-0.3100000000000591,-12.68999999999994,8.799999999999955,-1.4500000000000455,-6.5499999999999545,2.2799999999999727,-4.730000000000018,3.8700000000000045,0.04000000000007731,0.38999999999998636,-1.7799999999999727,10.860000000000014,-2.8700000000000045,3.0699999999999363,-7.949999999999932,0.33999999999991815,1.4300000000000637,15.299999999999955,6.240000000000009,-4.529999999999973,2.3999999999999773,13.740000000000009,-5.440000000000055,-8.599999999999909,-3.7200000000000273,0.01999999999998181,-10.830000000000041,-0.92999999999995,-14.909999999999968,-6.57000000000005,-0.11000000000001364,20.5,7.990000000000009,-5.2000000000000455,-22.75,-8.539999999999964,-17.93999999999994,22.409999999999968,5.990000000000009,6.75,-10.690000000000055,8.660000000000082,-0.9300000000000637,-7.279999999999973,0.6899999999999409,6.560000000000059,2.6000000000000227,-12.800000000000068,-10.120000000000005,2.580000000000041,12.019999999999982,-3.409999999999968,12.080000000000041,5.2299999999999045,12.870000000000005,-0.01999999999998181,6.830000000000041,0.9700000000000273,0.7799999999999727,-7.050000000000068,3.400000000000091,2.2199999999999136,-1.8600000000000136,-3.2999999999999545,-1.3500000000000227,1.6399999999999864,-6.5,-2.259999999999991,-10.969999999999914],\"coloraxis\":\"coloraxis\",\"opacity\":0.7,\"size\":[328.9,331.475,328.82,326.225,315.875,311.51,311.46,313.66999999999996,310.83500000000004,313.24,312.86,316.925,292.08,291.86,290.33000000000004,285.2,283.69500000000005,286.34000000000003,287.275,288.70500000000004,290.07500000000005,291.03,295.175,300.085,302.155,302.885,304.73,301.9,304.82,303.055,302.735,300.51,301.38,304.05,304.73,300.94,303.15,303.22,305.72,309.115,309.8,309.91499999999996,307.315,299.53999999999996,303.125,303.32500000000005,301.845,300.44,304.705,307.905,308.42999999999995,310.33000000000004,313.455,314.65,318.78,318.755,321.145,321.05499999999995,323.365,326.195,324.01,322.40999999999997,319.385,320.45,316.34000000000003,315.07,313.98,313.59000000000003,315.64,322.14,316.945,305.225,305.03,302.77,302.68,300.045,296.055,299.86,302.41999999999996,305.78,305.69000000000005,303.03499999999997,301.81500000000005,301.05,304.80499999999995,300.05,300.265,303.265,303.40999999999997,305.46000000000004,303.695,301.14,303.55,310.345,313.595,306.135,302.78999999999996,301.325,300.555,301.57,296.39,295.755,292.76,291.15999999999997,284.185,286.55,285.08500000000004,287.815,290.20000000000005,287.82000000000005,286.93,281.16999999999996,280.37,279.35,279.355,282.30499999999995,288.27,287.3,284.825,283.26,280.305,280.47,283.935,279.81,287.005,288.79,290.515,296.04,292.985,291.37,291.70000000000005,284.635,282.45,285.85,286.66499999999996,286.195,288.875,295.015,301.65,303.015,304.425,303.545,305.58,311.95500000000004,316.83500000000004,315.0,316.53499999999997,314.18,318.77,320.95000000000005,318.99,319.895,320.77,318.4,325.485,331.72,333.34000000000003,334.175,335.98,336.62,333.79,335.57,336.61,337.365,331.57,334.33500000000004,340.01,340.615,340.875,338.355,340.135,344.865,351.16499999999996,351.48,346.615,342.665,348.58000000000004,353.675,353.145,355.03,359.895,361.78999999999996,364.895,368.69,376.725,374.15999999999997,377.21000000000004,376.20000000000005,378.88,377.645,377.615,380.895,383.40999999999997,378.015,374.56,370.07,375.78499999999997,373.345,367.26,369.475,372.755,357.515,343.39,337.32000000000005,338.565,339.295,337.615,337.295,337.735,341.125,344.44,339.335,339.74,334.925,329.445,328.43,331.42499999999995,330.22,326.94500000000005,324.76,321.05,329.875,334.385,331.31,332.78,330.265,332.005,335.945,342.69,344.93,348.695,344.015,342.91999999999996,343.745,343.53999999999996,342.575,346.115,347.945,352.685,350.25,355.155,359.69,358.575,359.06,356.0,354.33000000000004,352.5,350.55,350.41999999999996,350.33,359.53999999999996,361.805,365.915,366.12,363.82,365.37,368.245,368.30499999999995,364.77,360.425,358.15999999999997,356.33000000000004,352.20500000000004,348.905,369.81,372.935,375.77,374.47,374.47,377.05,375.56,382.24,380.76,381.22,381.435,384.635,390.095,387.735,390.355,389.87,390.16499999999996,393.61,399.07500000000005,398.69500000000005,397.675,397.275,398.235,393.615,397.475,400.505,399.325,405.44,415.705,416.64,414.995,413.44,416.24,412.345,411.70500000000004,409.56,406.885,402.05,404.91,405.71500000000003,405.17,404.70500000000004,404.995,403.935,400.58000000000004,398.175,397.385,403.195,402.21,397.77,389.39,385.54499999999996,387.76,390.625,392.82,392.28499999999997,392.03499999999997,393.505,390.77,385.32,390.96000000000004,393.265,402.46000000000004,404.98,404.51,399.58000000000004,404.905,409.78999999999996,408.74,411.86,419.13,425.935,427.03499999999997,430.08500000000004,435.34000000000003,436.53999999999996,437.325,439.81,450.90999999999997,453.79499999999996,451.81,454.695,450.63,447.37,439.345,435.825,441.48,433.945,434.7,434.5,430.63,429.555,430.03,426.78999999999996,434.70000000000005,441.12,439.98,437.275,434.65999999999997,438.065,440.275,445.66999999999996,450.395,444.41499999999996,439.09,433.265,434.41999999999996,435.51,438.69,437.365,442.61,440.41999999999996,440.265,444.02,449.155,451.03999999999996,451.19,455.625,457.845,459.37,458.745,459.07,454.095,442.98,450.73,451.45500000000004,451.06,444.07,441.34000000000003,442.27,442.46000000000004,444.01,448.21,450.27,449.495,449.675,445.21500000000003,443.62,444.715,440.51,439.525,435.21500000000003,429.125,428.14,430.745,432.295,434.225,434.62,435.305,433.615,426.31,424.20500000000004,425.645,424.31,428.43,430.555,436.24,437.74,441.385,442.34000000000003,444.1,445.30499999999995,443.47,443.80499999999995,440.70000000000005,445.095,448.66499999999996,448.26,445.03,441.22,438.895,437.8,435.575,435.655,440.28,440.145,439.9,435.25,432.9,427.795,424.815,430.645,433.07,433.78499999999997,438.265,443.92,443.995,495.505,502.755,500.32500000000005,506.94500000000005,514.415,507.985,507.20000000000005,510.695,513.95,514.445,513.355,511.685,510.355,508.685,505.995,504.86,504.095,503.75,507.935,515.5899999999999,515.145,517.5550000000001,512.5250000000001,511.51,514.15,514.4200000000001,520.105,524.145,530.015,529.5350000000001,527.3,526.14,526.52,525.715,530.53,535.575,539.97,539.6,535.975,531.5550000000001,532.1800000000001,535.28,533.995,540.745,545.25,553.1600000000001,553.76,554.8399999999999,556.22,555.3,554.7349999999999,554.425,553.39,554.245,563.105,568.025,565.325,563.22,563.905,567.645,572.55,574.3299999999999,574.0550000000001,576.665,579.515,577.05,567.01,550.13,556.835,553.22,567.8050000000001,582.2349999999999,576.27,570.86,567.5699999999999,574.77,582.4300000000001,585.6600000000001,588.815,590.63,592.6700000000001,597.06,600.9649999999999,599.4300000000001,599.53,600.925,604.05,606.455,608.38,608.03,605.335,597.75,604.11,606.35,608.905,607.33,603.175,600.49,595.775,596.5799999999999,588.645,591.5799999999999,598.9,599.35,599.0,595.79,580.54,577.05,573.62,558.925,561.01,560.4300000000001,562.035,581.91,574.13,558.85,536.345,546.8050000000001,557.6300000000001,550.935,531.8050000000001,535.36,527.01,546.995,538.85,529.6949999999999,530.915,528.6099999999999,525.44,518.635,509.29999999999995,521.46,523.8199999999999,526.96,528.355,523.6700000000001,519.51,508.595,510.43499999999995,510.65,523.165,531.3299999999999,527.6949999999999,520.2149999999999,517.2,522.25,529.81,534.08,542.7,547.165,558.6400000000001,562.875,559.8199999999999,557.0999999999999,551.8,545.9449999999999,542.19,548.1949999999999,551.98,557.94,559.2149999999999,555.925,551.71,547.4300000000001,544.0799999999999,540.84,547.275,550.245,552.47,558.09,565.2750000000001,571.02,575.5699999999999,575.255,575.5799999999999,578.935,581.3199999999999,581.37,581.4100000000001,571.26,571.48,569.235,574.56,580.03,579.59,583.7,573.2249999999999,587.79,588.2,593.495,593.5450000000001,594.005,587.8299999999999,587.015,585.005,585.145,575.245,567.845,568.165,565.74,563.8050000000001,563.9449999999999,563.7550000000001,566.69,561.845,568.815,572.82,573.375,578.665,584.065,583.03,581.2249999999999,581.3399999999999,580.405,577.605,572.7249999999999,568.615,567.995,572.94,577.41,581.015,582.6500000000001,587.4200000000001,582.9,578.63,577.45,576.47,570.015,575.5,581.55,585.665,591.37,587.09,582.325,583.4749999999999,579.49,575.375,573.11,574.77,570.73,566.06,573.285,576.14,567.945,564.135,563.73,553.0699999999999,539.8199999999999,538.7,524.11,520.7850000000001,518.335,513.52,521.52,532.835,540.05,538.855,539.24,543.81,549.075,546.655,555.635,554.0450000000001,550.89,548.92,542.44,540.955,543.815,547.615,546.315,545.14,542.925,537.45,536.585,532.7,531.635,537.875,537.6800000000001,539.81,537.82,537.825,535.165,531.19,531.17,531.505,527.135,525.9549999999999,525.9000000000001,529.49,529.06,522.145,516.765,499.655,500.53,507.89,510.90999999999997,519.845,528.975,527.94,529.3299999999999,531.285,527.695,527.75,526.245,517.275,507.22,502.07,495.88,498.49,490.425,496.32000000000005,496.75,500.35,502.71500000000003,507.865,511.33500000000004,526.5699999999999,536.115,532.87,523.01,515.0799999999999,504.76,526.25,524.335,526.885,525.5250000000001,523.855,530.35,527.56,530.855,534.45,538.27,545.02,544.05,540.02,539.0799999999999,538.2950000000001,531.465,531.06,539.35,547.3199999999999,557.275,563.9000000000001,569.39,570.99,574.085,570.155,565.35,558.255,552.89,551.9000000000001,549.8,549.9200000000001,549.39,551.875,556.94,558.8499999999999,557.565,566.345,563.95,553.255,550.1949999999999,549.31,549.205,543.825,535.88,532.53,537.865,539.635,537.245,538.325,539.205,531.375,527.53,531.14,523.985,528.8399999999999,535.06,534.9449999999999,544.1,562.6500000000001,559.575,553.1949999999999,550.295,541.8199999999999,535.8199999999999,539.565,535.065,526.735,527.605,533.075,538.69,529.235,531.49,535.7049999999999,534.825,531.835,536.8499999999999,537.9449999999999,539.9100000000001,541.85,534.44,536.13,538.4300000000001,535.04,533.275,537.165,540.3050000000001,537.455,534.86,530.1800000000001,526.105,533.855,536.0,531.64,526.15,527.5999999999999,528.04,534.47,535.63,540.635,538.375,537.8299999999999,538.065,534.5550000000001,524.575,523.375,521.96,522.865,522.125,520.68,519.4200000000001,522.06,529.055,539.755,556.28,561.645,572.8399999999999,659.735,660.9449999999999,663.65,668.8199999999999,652.315,635.345,627.4,628.0699999999999,628.005,628.635,629.2049999999999,629.2,630.9849999999999,640.51,638.815,636.1949999999999,637.345,664.585,658.645,658.0799999999999,656.255,656.31,658.73,660.595,652.9449999999999,626.19,582.19,599.28,615.38,632.7950000000001,630.72,626.74,603.48,607.0250000000001,611.2650000000001,599.36,610.2149999999999,618.06,617.795,621.5999999999999,622.645,631.24,635.135,642.96,633.51,631.215,621.49,624.4649999999999,619.86,620.385,601.99,597.61,604.745,605.97,615.235,635.005,642.89,641.38,635.005,640.655,643.755,650.48,654.12,658.7950000000001,661.085,663.2,654.46,648.8,650.905,715.75,710.2049999999999,709.085,708.03,714.135,714.025,713.735,719.685,727.5,734.475,731.21,727.0699999999999,724.5450000000001,735.615,733.2249999999999,723.94,720.4100000000001,727.435,734.2049999999999,739.7149999999999,750.46,757.2650000000001,746.4549999999999,749.03,750.45,748.0999999999999,757.825,767.46,757.31,759.245,761.9100000000001,759.5,750.615,749.84,741.23,736.45,750.5450000000001,750.01,755.8399999999999,746.14,745.0,750.19,749.105,748.985,756.255,773.2049999999999,772.25,763.9200000000001,737.66,745.3199999999999,738.05,728.78,723.115,711.1949999999999,723.0350000000001,716.675,705.51,696.0550000000001,701.6949999999999,690.0550000000001,706.825,724.125,719.845,712.38,706.31,723.02,735.895,750.565,777.26,747.5,714.4300000000001,692.0699999999999,673.545,684.335,691.72,679.11,686.175,691.525,700.565,704.19,698.565,707.875,700.99,690.39,698.2850000000001,707.145,704.285,709.29,716.0,712.735,711.255,697.495,694.565,699.8399999999999,709.9000000000001,722.025,730.325,728.53,730.99,739.5350000000001,736.915,738.01,741.23,740.935,734.375,735.745,738.005,753.31,745.895,743.6700000000001,747.615,739.085,740.9,741.64,740.5,740.525,737.4200000000001,749.3199999999999,755.01,756.845,762.675,759.615,754.0699999999999,755.0,724.865,719.76,714.4,700.6700000000001,701.8599999999999,693.31,695.8199999999999,694.9200000000001,694.38,699.02,704.985,714.355,719.61,718.64,714.125,712.96,712.065,712.815,706.115,701.4,707.55,707.8299999999999,713.915,723.61,724.3050000000001,728.97,735.495,733.935,728.595,725.025,719.76,719.265,724.575,725.94,721.16,720.975,717.7950000000001,720.145,709.9549999999999,698.635,697.9449999999999,697.39,696.97,694.475,681.425,667.79,676.665,684.42,687.985,696.39,692.9100000000001,695.385,693.21,701.0699999999999,711.875,719.425,720.425,720.12,722.395,728.6600000000001,732.995,739.615,738.76,739.9,740.0550000000001,737.98,740.73,743.9749999999999,772.66,770.76,771.845,770.0150000000001,771.4300000000001,777.69,780.36,784.7550000000001,784.795,786.36,781.9,783.8,777.21,777.17,779.9300000000001,775.115,772.295,774.11,770.7850000000001,767.535,770.965,770.8,770.655,767.235,767.66,771.165,776.5,779.465,776.965,766.45,762.145,761.01,763.395,766.88,767.2049999999999,769.22,770.9300000000001,772.73,784.145,786.54,777.905,780.15,778.39,780.015,777.5150000000001,772.7850000000001,775.8,778.86,778.01,775.2049999999999,782.625,786.4300000000001,785.095,777.11,779.975,781.675,793.59,801.315,800.0,796.75,810.0,810.91,801.6500000000001,797.495,804.54,790.4300000000001,782.515,772.55,764.49,760.46,778.87,787.9100000000001,781.45,771.675,755.5799999999999,742.6949999999999,755.6949999999999,758.435,768.465,767.5,765.1500000000001,771.98,761.765,762.76,769.665,773.37,763.9100000000001,748.44,748.55,758.4,763.085,763.5799999999999,772.7049999999999,784.2249999999999,787.8,798.86,799.005,797.96,795.575,791.9649999999999,795.96,791.89,790.95,790.01,792.76,788.715,782.425,776.595],\"sizemode\":\"area\",\"sizeref\":2.027275,\"symbol\":\"circle\"},\"mode\":\"markers\",\"name\":\"\",\"scene\":\"scene\",\"showlegend\":false,\"x\":[338.34000000000003,335.18000000000006,327.38000000000005,319.90000000000003,298.71999999999997,307.72999999999996,313.66,313.48999999999995,311.32,312.05,319.03999999999996,318.52000000000004,290.22999999999996,292.00999999999993,287.27000000000004,280.24999999999994,281.61999999999995,294.07,288.16,288.10999999999996,287.86,292.17,300.47,311.03,302.67,304.99999999999994,304.91999999999996,301.44,306.40999999999997,303.46000000000004,298.58,304.58000000000004,301.62,311.51000000000005,301.44,302.08000000000004,305.69,305.47999999999996,312.84000000000003,308.41999999999996,310.73,309.71,303.51000000000005,300.40999999999997,301.75,301.6,295.77000000000004,304.61,312.85,307.94999999999993,312.28,314.04,321.84000000000003,317.48,322.11,326.21999999999997,318.74000000000007,326.24999999999994,322.94,329.16,321.13,314.82,325.96,319.36,315.38,315.65000000000003,316.04,309.56,318.42,329.25,300.32,294.07,304.76,302.9,295.95,293.42999999999995,300.62000000000006,301.62,307.17999999999995,309.46999999999997,306.93999999999994,297.84000000000003,302.01,306.12,305.68,293.51000000000005,309.5,309.48,305.20000000000005,306.64000000000004,299.53000000000003,303.08000000000004,307.90000000000003,319.38000000000005,305.61,287.38,313.29999999999995,293.59,308.09,298.57,290.53,295.92,293.64,286.01,284.59,292.96,282.20000000000005,291.82,283.95,292.01,275.93000000000006,279.72999999999996,279.73999999999995,277.91999999999996,283.84000000000003,289.03,294.22,287.10999999999996,274.82,286.97999999999996,276.54999999999995,282.8,284.95,280.87,292.07,289.06,297.3,301.01,289.26,293.03,286.12,282.56,286.41999999999996,289.93000000000006,286.24,287.01,291.75999999999993,299.46000000000004,305.90999999999997,314.70000000000005,299.55999999999995,303.31000000000006,305.3299999999999,324.93,313.7300000000001,318.28000000000003,313.49000000000007,315.44,320.76000000000005,322.44999999999993,319.09,322.14000000000004,319.54,322.14,335.70000000000005,338.44000000000005,331.82000000000005,338.52,339.48999999999995,337.20000000000005,332.37999999999994,342.89000000000004,339.07000000000005,340.22999999999996,337.13,344.14,348.71,338.96999999999997,342.49,338.17999999999995,340.13,355.79,355.53000000000003,345.3,342.60999999999996,345.57,358.86,354.26,355.30999999999995,363.73999999999995,368.09999999999997,365.25,367.24,383.19000000000005,371.99,377.88,375.86999999999995,376.75999999999993,381.58000000000004,373.74999999999994,383.96,386.00000000000006,381.62999999999994,376.69,363.62999999999994,372.97999999999996,374.37999999999994,368.19000000000005,369.37000000000006,373.97999999999996,382.83,316.74,328.44999999999993,337.5799999999999,343.74,333.33000000000004,337.16999999999996,336.30999999999995,339.78000000000003,347.23,339.93999999999994,340.12,338.39000000000004,329.04999999999995,316.65,335.11,333.44000000000005,326.99,321.65999999999997,321.7,323.61999999999995,339.75,334.64,330.79999999999995,332.40999999999997,327.36,340.02,349.03999999999996,347.39,352.1,343.54,342.94,341.1600000000001,346.73,336.14000000000004,342.11999999999995,351.26000000000005,347.34,344.15999999999997,351.76,367.37999999999994,362.14000000000004,359.13,360.1,358.02,351.63999999999993,354.21999999999997,352.11,348.56000000000006,356.75000000000006,362.9,360.58000000000004,372.64000000000004,366.39,364.89,371.33000000000004,369.4200000000001,368.35,354.15,364.63000000000005,353.38,351.86,348.73,349.94000000000005,372.85,382.90999999999997,377.63,374.18999999999994,379.64,376.31,379.77,395.8,374.53000000000003,384.5,389.93999999999994,388.42,394.61,392.53,389.13999999999993,392.11,397.24999999999994,398.49,408.13,389.14,395.84000000000003,399.38,388.95000000000005,391.95000000000005,401.67,399.96,406.57,418.1,423.37999999999994,410.16,414.85,413.55,418.23999999999995,411.54,410.65,407.34,404.35,404.58000000000004,404.99,405.59000000000003,404.90999999999997,402.24,402.72999999999996,404.97,398.63000000000005,391.53,402.98,410.03999999999996,398.78000000000003,392.27,389.34999999999997,384.81,389.21999999999997,398.02,393.27000000000004,393.37,388.28,399.37000000000006,388.50999999999993,372.59999999999997,414.53999999999996,399.10999999999996,406.69000000000005,408.67,400.28,396.94,416.69000000000005,414.3399999999999,408.09,418.82000000000005,426.47999999999996,436.64000000000004,424.99,444.34000000000003,435.3,441.80000000000007,437.33,447.55999999999995,467.3,443.62,453.38000000000005,455.22999999999996,452.18,437.39000000000004,443.51,434.92999999999995,438.76,429.7099999999999,435.04,436.39000000000004,430.38,424.45,427.71000000000004,431.72999999999996,443.74000000000007,448.38,437.07,428.51000000000005,441.73,434.22999999999996,445.85,455.47999999999996,449.21000000000004,436.99000000000007,436.01,433.09999999999997,426.84000000000003,436.02,436.90999999999997,442.14000000000004,443.88000000000005,436.45,445.69,447.7,454.68,448.96,453.46999999999997,462.92,462.19000000000005,461.73999999999995,455.26000000000005,457.26,450.4100000000001,452.5,458.89000000000004,447.68000000000006,448.48999999999995,440.0,441.09,439.05,447.40000000000003,440.49000000000007,455.91,454.06000000000006,451.52,443.46,442.36,444.15000000000003,444.35,441.3,437.08000000000004,429.88999999999993,426.69999999999993,425.53,436.03,430.49999999999994,433.25000000000006,436.6,430.55000000000007,430.64,419.62000000000006,422.69,430.14000000000004,418.30000000000007,432.44,440.67,442.03,437.59999999999997,445.41,442.89,451.13,443.59000000000003,441.06,438.90000000000003,441.62999999999994,459.33000000000004,444.62999999999994,453.12,437.6700000000001,442.82,433.21000000000004,438.26,438.21000000000004,440.59,446.09000000000003,445.8399999999999,431.3500000000001,434.09000000000003,431.26,420.29,426.97999999999996,435.55,438.20000000000005,442.00000000000006,443.36,454.2900000000001,441.53000000000003,null,null,null,null,null,null,null,null,null,null,null,null,null,null,null,null,null,null,null,null,null,null,null,null,null,null,null,null,null,null,null,null,null,null,null,null,null,null,null,null,null,null,null,null,null,null,null,null,null,null,null,null,null,null,null,null,null,null,null,null,null,null,null,null,null,null,null,null,null,null,null,null,null,null,null,null,null,null,null,null,null,null,null,null,null,null,null,null,null,null,null,null,null,null,null,null,null,null,null,null,null,null,null,null,null,null,null,null,null,-9.510000000000105,-1.1999999999999318,-9.889999999999986,8.430000000000064,-32.89999999999998,-0.11000000000001364,-31.430000000000064,-2.580000000000041,12.269999999999982,4.509999999999991,-23.980000000000018,-1.9400000000000546,-5.720000000000027,-0.37999999999999545,13.509999999999991,-12.67999999999995,-7.460000000000036,6.159999999999968,-6.830000000000041,-4.899999999999977,-6.310000000000059,-0.029999999999972715,10.779999999999973,-0.9399999999999409,4.230000000000018,-5.819999999999936,2.980000000000018,-10.059999999999945,-5.819999999999993,2.5300000000000296,7.959999999999923,6.389999999999986,2.189999999999941,-6.329999999999927,-5.7000000000000455,-0.7599999999999909,9.129999999999995,0.030000000000086402,6.019999999999982,3.9200000000000728,5.430000000000064,9.919999999999959,-2.8799999999999955,-3.259999999999991,-0.8999999999999773,-6.75,-6.029999999999973,3.1499999999999773,7.480000000000018,-1.7200000000000273,4.960000000000036,0.03999999999996362,0.8399999999999181,-5.92999999999995,-0.5,-4.970000000000027,-1.1900000000000546,8.480000000000018,0.6599999999999682,-0.4900000000000091,9.769999999999982,-0.5699999999999363,13.360000000000014,-4.990000000000009,0.05999999999994543,-3.3799999999999955,4.330000000000041,-1.009999999999991,1.3799999999999955,-1.5,-6.550000000000068,4.480000000000018,5.17999999999995,7.25,2.269999999999982,-0.9600000000000364,-5.330000000000041,-5.780000000000086,2.07000000000005,-2.269999999999982,4.009999999999991,2.740000000000009,-3.090000000000032,-1.3700000000000045,2.519999999999982,-3.1299999999999955,0.8699999999998909,-8.980000000000018,-4.32000000000005,4.100000000000023,-4.970000000000027,4.580000000000041,-4.6200000000000045,5.190000000000055,-2.099999999999909,-1.7799999999999727,7.4500000000000455,-1.5199999999999818,-4.3700000000000045,6.040000000000077,1.8500000000000227,-1.3899999999999864,-0.4500000000000455,-1.0299999999999727,-4.509999999999991,-3.3899999999999864,-6.25,-0.36000000000001364,0.2599999999999909,5.470000000000027,-2.0499999999999545,1.9800000000000182,2.1000000000000227,3.1200000000000045,-7.8700000000000045,1.5900000000000318,0.9900000000000091,-5.3700000000000045,0.15999999999996817,7.169999999999959,4.75,2.269999999999982,4.57000000000005,-6.430000000000064,-5.7000000000000455,6.509999999999991,-12.450000000000045,1.0399999999999636,4.600000000000023,0.42999999999995,-7.719999999999914,2.759999999999991,2.2200000000000273,-1.4500000000000455,-10.629999999999995,6.909999999999968,-10.279999999999973,-13.190000000000055,-11.75,-0.9499999999999318,-0.9799999999999045,5.490000000000009,-16.039999999999964,11.349999999999966,1.3500000000000227,2.8099999999999454,4.649999999999977,-4.57000000000005,3.730000000000018,5.889999999999986,-0.6599999999999682,1.349999999999909,-0.2700000000000955,-0.2799999999999727,1.1000000000000227,-10.850000000000023,-3.4500000000000455,-5.180000000000064,6.009999999999991,1.7899999999999636,-3.07000000000005,-4.399999999999977,-2.269999999999982,-7.050000000000068,-2.4599999999999227,1.9800000000000182,3.57000000000005,-4.100000000000023,1.6100000000000136,2.080000000000041,-0.5099999999999909,1.2100000000000364,-5.079999999999927,0.2400000000000091,-0.11000000000001364,6.1299999999999955,-5.7299999999999045,-0.15000000000009095,11.199999999999932,-7.0,0.5399999999999636,-4.840000000000032,-8.919999999999959,-16.130000000000052,7.8700000000000045,-1.8500000000000227,4.830000000000041,8.759999999999991,3.580000000000041,-1.7399999999998954,5.25,-1.8500000000000227,2.330000000000041,-4.839999999999918,-4.189999999999941,-9.370000000000005,-13.000000000000057,-5.8799999999999955,4.670000000000016,-8.569999999999993,-2.3799999999999955,-2.650000000000034,6.199999999999989,-3.769999999999982,8.050000000000011,-4.090000000000032,10.759999999999991,12.879999999999995,4.350000000000023,-3.3199999999999363,-11.309999999999945,-12.75,-0.34000000000003183,18.6099999999999,-3.240000000000009,1.240000000000009,-6.459999999999923,3.7799999999999727,3.349999999999909,-0.16999999999995907,7.6200000000000045,0.6699999999999591,5.660000000000082,5.649999999999977,-3.980000000000018,-1.6999999999999318,4.809999999999945,-4.169999999999959,-4.1299999999999955,6.07000000000005,7.9500000000000455,12.240000000000009,4.149999999999977,10.779999999999973,3.1800000000000637,1.5,0.2999999999999545,-7.17999999999995,1.9800000000000182,-9.220000000000027,-3.9500000000000455,2.0,-6.159999999999968,3.5499999999999545,-0.8700000000000045,6.980000000000018,-1.3999999999999773,-1.2799999999999727,-1.6200000000000045,7.610000000000014,-11.680000000000064,-2.409999999999968,-4.649999999999977,0.40999999999996817,-1.990000000000009,-6.029999999999973,-5.310000000000059,4.539999999999964,-1.0600000000000591,3.2200000000000273,-0.25,-2.2799999999999727,0.75,-5.839999999999918,3.82000000000005,3.8899999999999864,-4.590000000000032,9.75,-3.5299999999999727,4.949999999999932,5.980000000000018,-1.0399999999999636,-8.019999999999982,-0.9600000000000364,-1.3899999999999864,-10.529999999999973,-0.5299999999999727,2.25,-7.410000000000082,-7.019999999999982,6.710000000000036,1.57000000000005,-2.669999999999959,-2.560000000000059,-0.9399999999999409,4.6299999999999955,-5.329999999999927,0.2899999999999636,3.3799999999999955,0.7799999999999727,4.559999999999945,-0.03999999999996362,-5.7999999999999545,6.990000000000009,1.7699999999999818,-5.259999999999991,-2.7999999999999545,6.25,0.39999999999997726,-1.0599999999999454,-3.019999999999982,-6.4799999999999045,-0.8699999999998909,7.330000000000041,-3.8099999999999454,0.7300000000000182,-0.7999999999999545,-0.25,-0.11000000000001364,5.730000000000018,-0.5199999999999818,-1.3999999999999773,0.8400000000000318,-2.159999999999968,-3.6399999999999864,-5.569999999999936,-3.490000000000009,-5.509999999999991,-2.8899999999999864,2.3199999999999363,3.3600000000000136,1.8899999999999864,-4.219999999999914,-2.4400000000000546,3.840000000000032,13.669999999999959,14.340000000000032,0.09000000000003183,14.730000000000018,23.92999999999995,3.7799999999999727,7.089999999999918,1.2100000000000364,-16.99000000000001,-23.440000000000055,6.259999999999991,-4.830000000000041,3.1299999999999955,2.590000000000032,-5.769999999999982,5.8700000000000045,0.8300000000000409,9.449999999999932,-2.32000000000005,-4.930000000000064,-5.75,-8.420000000000073,-3.5200000000000955,-2.8700000000000045,2.1100000000000136,4.07000000000005,-5.769999999999982,4.2999999999999545,-8.629999999999995,-27.299999999999955,16.610000000000014,-32.85000000000002,18.269999999999982,-1.7899999999999636,-2.4400000000000546,-9.289999999999964,-4.57000000000005,8.75,-10.75,0.7000000000000455,2.169999999999959,-8.5,8.25,6.019999999999982,-2.4600000000000364,8.43999999999994,0.5099999999999909,5.110000000000014,-7.539999999999964,1.0400000000000773,-4.309999999999945,0.3100000000000591,9.159999999999968,-17.799999999999955,-15.450000000000045,-2.3099999999999454,5.139999999999986,2.919999999999959,19.709999999999923,9.470000000000027,6.600000000000023,-6.8799999999999955,-2.2000000000000455,3.6100000000000136,4.579999999999927,9.149999999999977,-2.050000000000068,7.080000000000041,-1.9099999999999682,4.920000000000073,-13.759999999999991,-11.539999999999964,5.089999999999918,-25.5,11.230000000000018,1.1100000000000136,5.6200000000000045,6.419999999999959,-4.920000000000073,10.050000000000068,3.2999999999999545,6.110000000000014,1.7799999999999727,2.259999999999991,-5.310000000000059,3.9200000000000728,2.939999999999941,0.2300000000000182,-12.169999999999959,13.360000000000014,-3.990000000000009,12.419999999999959,-0.3300000000000409,10.07000000000005,-1.4700000000000273,-3.7200000000000273,0.009999999999990905,1.7999999999999545,-6.209999999999923,19.92999999999995,-6.519999999999982,-13.470000000000027,13.709999999999923,-4.519999999999982,4.480000000000018,-7.559999999999945,-3.3899999999999864,-2.2899999999999636,5.980000000000018,-9.600000000000023,8.090000000000032,-12.990000000000009,-7.2000000000000455,1.6399999999999864,-1.6499999999999773,-3.160000000000082,-1.1499999999999773,9.590000000000032,9.909999999999968,-5.600000000000023,-10.620000000000005,-1.1599999999999682,-3.8700000000000045,13.620000000000005,-3.919999999999959,-16.980000000000018,-0.5800000000000409,4.3900000000001,-30.290000000000077,9.340000000000032,2.160000000000082,-1.509999999999991,9.840000000000032,4.410000000000082,1.6499999999999773,-11.910000000000082,-0.8100000000000591,-13.67999999999995,8.740000000000009,11.420000000000073,1.5399999999999636,-19.850000000000023,-43.26999999999998,-14.799999999999955,-20.299999999999955,14.889999999999986,5.789999999999964,-2.740000000000009,8.110000000000014,-7.860000000000014,-1.9800000000000182,10.309999999999945,-12.649999999999977,5.8799999999999955,-0.9900000000000091,-5.600000000000023,10.639999999999986,5.740000000000009,-3.509999999999991,-2.550000000000068,15.18999999999994,-0.14999999999997726,-6.259999999999991,-4.100000000000023,-11.740000000000009,5.3799999999999955,6.769999999999982,4.7000000000000455,6.82000000000005,3.6800000000000637,1.4100000000000819,9.720000000000027,1.3299999999999272,-4.259999999999991,5.590000000000032,3.2899999999999636,-4.300000000000068,3.2899999999999636,-3.259999999999991,10.17999999999995,0.42999999999995,-4.2999999999999545,11.309999999999945,-4.769999999999982,-0.20000000000004547,9.920000000000073,-5.090000000000032,-4.82000000000005,-6.919999999999959,5.090000000000032,2.560000000000059,-0.8099999999999454,5.019999999999982,6.149999999999977,-15.580000000000041,-5.330000000000041,3.759999999999991,-7.529999999999973,7.0499999999999545,-17.279999999999973,-1.4499999999999318,-17.24000000000001,2.3099999999999454,0.5800000000000409,-4.509999999999991,5.210000000000036,3.7299999999999045,12.740000000000009,0.8999999999999773,6.42999999999995,-8.120000000000005,-3.75,-1.099999999999909,7.360000000000014,-9.759999999999991,2.9600000000000364,-2.0399999999999636,8.120000000000005,-2.2899999999999636,13.230000000000018,4.509999999999991,1.25,8.649999999999977,3.980000000000018,-0.37999999999999545,-2.1000000000000227,-6.92999999999995,-8.360000000000014,-3.1900000000000546,4.319999999999936,5.710000000000036,-0.06000000000005912,1.8500000000000227,1.7899999999999636,-0.08000000000004093,-4.5499999999999545,-16.92999999999995,-5.059999999999945,-2.4599999999999227,-1.599999999999909,4.419999999999959,0.05000000000006821,-2.740000000000009,1.0699999999999363,1.1100000000000136,6.6299999999999955,7.009999999999991,-1.1099999999999,7.789999999999964,-2.7200000000000273,6.1299999999999955,7.040000000000077,1.5199999999999818,-6.639999999999986,-0.6299999999999955,-5.8799999999999955,11.069999999999936,7.07000000000005,3.8600000000000136,-1.7300000000000182,0.8799999999999955,-0.8999999999999773,-0.6200000000000045,3.490000000000009,-1.1299999999999955,-3.9200000000000728,11.789999999999964,2.3799999999999955,6.0,-0.6100000000000136,8.440000000000055,-0.2400000000000091,3.159999999999968,0.92999999999995,-0.14999999999997726,1.7200000000000273,-1.3099999999999454,-3.159999999999968,2.589999999999918,-2.509999999999991,0.4199999999999591,-1.1200000000000045,-3.3999999999999773,-0.9400000000000546,2.409999999999968,0.5399999999999636,3.409999999999968,-0.2400000000000091,0.03999999999996362,-0.4700000000000273,-1.5499999999999545,6.6299999999999955,0.35000000000002274,-3.269999999999982,-10.440000000000055,13.889999999999986,-4.789999999999964,2.8799999999999955,8.870000000000005,-0.8700000000000045,-6.719999999999914,2.409999999999968,3.560000000000059,7.210000000000036,0.30999999999994543,-8.529999999999973,7.509999999999991,3.7099999999999227,-6.430000000000064,0.9599999999999227,-1.6900000000000546,0.39999999999997726,-2.839999999999918,-2.1399999999999864,-4.579999999999927,8.230000000000018,-3.589999999999918,2.3799999999999955,-3.0299999999999727,-3.1200000000000045,0.16000000000008185,7.409999999999968,3.259999999999991,-6.329999999999927,4.3700000000000045,8.210000000000036,-9.009999999999991,-7.269999999999982,-5.649999999999977,-12.980000000000018,-10.930000000000064,0.7200000000000273,-9.5,-5.1200000000000045,11.360000000000014,8.019999999999982,7.110000000000014,5.369999999999891,-28.610000000000014,-2.519999999999982,-19.519999999999982,11.519999999999982,9.279999999999973,4.310000000000059,-10.830000000000041,6.590000000000032,-4.360000000000014,-6.740000000000009,-2.580000000000041,8.240000000000009,-0.6899999999999409,-12.030000000000086,-9.520000000000095,5.909999999999968,4.809999999999945,-5.6200000000000045,10.190000000000055,3.939999999999941,9.289999999999964,4.230000000000018,2.2000000000000455,-0.32999999999992724,0.5099999999999909,-9.600000000000023,3.980000000000018,-0.34000000000003183,-1.2800000000000864,-1.1000000000000227,-0.9900000000000091,0.8700000000000045,-8.650000000000091,-0.5400000000000773,-10.92999999999995],\"y\":[104.02459646425828,101.18030609472639,99.2571930994755,97.42949381738444,92.7586635200596,98.09690787376474,100.98844135355294,99.70104633781762,99.79484549301193,99.12328070899909,102.21054654962516,99.75571562793611,98.66399238509652,100.03425713404815,98.35655835929744,97.41726918798663,98.84178014881367,103.429234665166,100.07292932800836,99.20801625288384,98.79195552199877,100.2848905059381,102.12078985827415,104.93943790276326,100.07604814178019,100.60030345009562,100.01640043297142,99.5475710841782,100.75630528427213,99.61592751862916,97.79248002096162,101.43199680298392,100.0862755508362,103.55706259765303,98.88466080566856,99.90409101432022,101.04118463674223,101.09875562615831,102.95530836569473,100.09086778736938,100.24518501790496,99.9580428608314,98.20423218792469,99.18122090527913,99.45944164277005,99.2497038304594,97.6654338924845,101.91715738758032,103.16910697797125,100.52227843969312,101.6701937164252,101.53577548579003,103.68556701030928,101.01820033091514,101.89485005694041,102.56555366911901,98.95991803533177,101.54061624649857,100.1954639942912,101.3423645320197,98.6574500768049,96.9691369432637,102.12099376546884,99.3343701399689,99.16674527560293,100.22543976630472,100.94866962660109,98.0924012928576,100.82963901203293,102.89705606600413,93.10227237498837,94.75736289231166,100.53440654483077,100.00330152860775,98.0908819727553,97.48504983388703,101.78777002776465,101.21476510067113,102.09725130455011,101.69563931517203,100.18931975453714,97.54052726379565,100.41227516042159,102.21717643916122,100.661902723351,97.24348142994404,104.42322615472857,102.60252627391175,100.96599179568615,100.42575489618133,98.51664254703329,101.27309787148731,102.1091729123831,103.75207094825068,96.79472967408861,92.29237587513649,104.73707083876573,96.07945806198252,102.79946613279947,98.39506986554179,97.04389070746208,99.7068634387951,100.22527134958017,97.52779103866875,99.91573921286381,103.1367716951241,98.4475841618699,101.62278868923246,97.01059104885549,101.79884957294752,94.81804748977702,98.55894581072509,99.97498302419497,99.39914163090127,101.69102894812268,103.12923713694427,102.97494050118998,99.40793573852224,95.14610164797121,101.42786456492541,97.85570220445135,100.88110441265653,100.76381767389229,99.63815672780163,101.97618798226318,99.73776826996067,102.90045687387513,102.63570649208948,98.01436703713743,100.56627084906307,97.32303819857819,98.42895461037378,101.38761061946902,101.72625521911513,99.69698025147156,99.60782952731311,101.513517274973,102.56181930269197,100.88049070043527,105.2086119283231,97.78358087155212,100.09570325391066,99.66704749469558,105.39751532647831,99.01843201615961,101.69989775051127,98.74944874944877,101.23559806155527,100.61164957184532,101.20523524057623,99.80919612136377,101.19687117142591,99.52966827596947,101.27004086765167,104.09302325581397,103.06038551722041,99.38003534098058,101.80746443715978,101.09886837403215,100.21100181283249,99.12913808529673,103.14342437733126,100.94974395617484,101.09645213050453,102.08017925270998,103.8881845076375,103.34597830596881,99.45135547470953,100.5194881427565,99.17302052785922,100.41330853482124,104.1235001463272,101.96162780693454,97.66652524395418,98.5417625402669,100.62605555879098,103.94207096307025,100.22066312096865,100.73143764352335,103.16816518705505,102.99096275985562,101.21092884061184,100.68541975105553,105.23150436645248,99.16560034122415,101.16727350610411,99.28941251056635,100.29014826842706,100.91772235592818,98.0533620169478,101.99495284898393,101.59231477826032,99.4035215669931,99.36952622137808,96.09164420485173,100.93088704876332,99.82401877133104,98.30983659083628,99.94317874343852,101.43756102853423,103.30284141504089,84.15878414284195,93.45036560730642,99.51360433923884,102.68558625840178,97.43072606103122,99.53945620405631,99.79821359684263,100.3307151715585,102.58508626802174,98.22016758162378,99.75071120626447,99.10091958062439,97.86164644301688,94.84798562228545,102.76295614842073,100.84684248729738,99.00987101071883,97.73928896991794,99.35451990487661,100.56869386867209,104.01677739338089,100.34182908545726,99.264816204051,99.60447067989091,98.60834990059641,103.39668541888398,104.89241495372039,101.39517235340475,102.24764781043095,98.20759841056574,99.05834777585211,98.95005510760488,101.23208081515868,97.0941652224148,100.2050260676,102.19661924296648,99.72151244580975,96.50608490830575,100.99919604915586,104.53859943658763,101.45114298520845,100.03342525277847,99.9500388586655,100.66638549135388,98.79748258035511,100.42811374783815,99.96025550035486,99.72248447915774,102.31150879004274,101.26405670117475,99.85323031763176,102.56805482920923,100.01091852054044,99.58788209606986,101.79839350823809,99.83514850147289,99.65910013257218,96.46709522771845,101.7609957579817,98.20202862303738,98.4196246258846,98.55305920587818,99.69516537990373,101.69930718455076,103.70219911168886,100.97598802074977,99.92255928220463,102.05925049733855,100.22638896287222,101.58352280326332,104.79771234907858,97.93938443032347,101.41372580049585,103.1259917486512,101.30669518270258,101.54396438588817,101.2327530625403,99.92809819731907,100.90064589176811,102.275945521485,101.59600234556254,102.93056921641322,97.00610744110682,99.57988478277278,100.31144823428946,97.32265732515954,98.97227412756932,101.45231359870681,100.22804159879715,102.30492438539542,104.22535211267608,102.53317833962994,97.90423449658662,99.85077141550533,99.48519329307898,100.95343841270605,99.4538424359594,99.57565470417072,98.8809321519602,99.17345236927304,100.8927680798005,100.21776249041103,99.68050333013838,100.19300720065326,99.11050880867315,99.51567866762213,99.93583890630012,99.20364333175723,97.76274064271266,101.7574869956063,102.31304738378621,98.41316848054097,97.9157306175428,99.4355909694555,99.19828830686738,100.75588920528087,102.05641025641026,99.57210856795626,99.70850653959242,99.17498914459401,101.92430390730675,99.13245387971726,95.24296413690855,108.19543769901341,100.07522379077756,101.92731829573935,101.52030803626879,98.44564682734872,98.67011359964204,104.13865493714545,101.56138931784197,99.51230217757077,102.52129638695781,102.2930058524417,103.33451662525147,98.86017353276421,104.08526587022723,100.34809470020056,101.32562726480438,99.89264504339882,102.39070256914732,104.75699426111909,96.90681113198481,100.01544197127794,100.98045739890418,99.97125865004091,97.28641651282281,101.52222680034792,99.75458715596329,99.69552374460349,98.50763376278022,100.39230165689759,100.9134215151235,98.96750753098627,98.18413139023826,99.55078670514851,100.2763970827333,102.34328151667513,102.04369594902141,99.25964617446007,97.15017683866873,102.04680389031348,99.04655459501377,101.79920999155195,102.89380351051571,100.0467706013363,98.1272314912537,98.53110664165781,99.72139715871151,97.67729238655348,100.17921146953404,99.80582967836257,101.45013996604104,100.5231333650384,98.42368753382644,101.68373981884966,100.9834438579871,101.50693188667871,98.93345085940942,100.76215447515776,101.7854001759015,100.85319018940389,100.28669475696101,98.5773986098781,99.66868651641309,98.39005635894974,102.45669647911242,102.12988515979704,98.6840074947647,99.23662433066335,98.81644844700969,99.83025529603476,99.6029945553539,101.43284664913395,99.02434637951579,102.26095148374942,100.89549585583187,100.11529933481154,98.40234322992943,99.21722552427946,99.56957428206337,100.16455524998872,99.88908757554495,98.9406012314379,98.25158842620101,99.0919857876036,99.18420623266438,102.05500292568752,99.52606635071089,99.89624164168782,100.43246227456754,98.46094035858034,99.36776039503438,97.99626342830456,99.79931057279123,101.699964534815,98.12799099183638,101.61191785328259,102.82334274447582,101.58806765949622,99.55183474759424,101.18125440130848,99.89624450208639,101.92494521135988,99.23269652364549,98.98559181291799,98.31328539748674,99.90498812351542,104.03379235368729,98.52204741856856,101.25134072220237,98.04435483870971,100.27853891618923,98.09564784203614,100.17142465315078,100.55762081784387,101.77168991961562,101.7355409596789,101.39179477849538,97.51548582538321,99.59162135499118,99.80329082872417,97.5060319227914,100.10315562432596,101.21772675513003,101.5762633286973,102.38354450904544,101.63212910324593,102.94824147933288,99.2581435604613,null,null,null,null,null,null,null,null,null,null,null,null,null,null,null,null,null,null,null,null,null,null,null,null,null,null,null,null,null,null,null,null,null,null,null,null,null,null,null,null,null,null,null,null,null,null,null,null,null,null,null,null,null,null,null,null,null,null,null,null,null,null,null,null,null,null,null,null,null,null,null,null,null,null,null,null,null,null,null,null,null,null,null,null,null,null,null,null,null,null,null,null,null,null,null,null,null,null,null,null,null,null,null,null,null,null,null,null,null,-1.6789068568604095,-0.21441589536503092,-1.749389747762406,1.512976058006401,-5.498454082058991,-0.019356314557710613,-5.48440008375795,-0.47843340874532525,2.267561124355488,0.8081133867297372,-4.255923329487979,-0.3652864862829378,-1.0656134729311875,-0.07098160082189137,2.4948754408967497,-2.3167857338619706,-1.3953575369882043,1.1684591892865888,-1.283038716585584,-0.9269418485868822,-1.210946495739629,-0.005816658911116162,2.0912547528517056,-0.17865288125283962,0.8046873513801469,-1.0933684012774634,0.5693759792120483,-1.9206170411806156,-1.1314592324740451,0.4989449188475022,1.5627760871699072,1.2239503524364055,0.41364460562102234,-1.1908793317530058,-1.0872467859459134,-0.1461650896222769,1.7615960484680087,0.005678699199319769,1.1327713382507867,0.7263967386269012,0.9949428320140837,1.7890636271822173,-0.5115271215942587,-0.5802673501717647,-0.16092693916961293,-1.2071678946991917,-1.0974011792967846,0.5833117291952108,1.3727289410901118,-0.3090579124216174,0.8926964472121299,0.0071558910873311425,0.15095153377539097,-1.0669881425769563,-0.09078529278256922,-0.9073316781072052,-0.2192699600154879,1.5606308776708353,0.11940946591401942,-0.08823582374444187,1.7647165074146962,-0.10112837981689311,2.370012949921061,-0.8612208971194851,0.010423905489914077,-0.5857073542663054,0.7507715781808165,-0.17361409540180334,0.23721529866781182,-0.25766112408959735,-1.1369948618247583,0.7859373355320899,0.9178538521511003,1.2711715818634497,0.3907056798623032,-0.16434416407026337,-0.9089513804805746,-1.0001038170052403,0.3500287463221702,-0.3846610068967824,0.6806993719232712,0.4631429489021499,-0.519484886184061,-0.23268453412140436,0.42969682501790096,-0.5330926184555635,0.1487332034054588,-1.5509231274071291,-0.7594402643977304,0.7224924226404494,-0.8742458090731635,0.8175067828073754,-0.8156203657933769,0.9234546813280764,-0.3694386292067465,-0.3161802582730825,1.316812782805438,-0.26453184824225234,-0.758311931699869,1.0512941012653956,0.31710661638670257,-0.23789963716026333,-0.07729037133730299,-0.17697898589322372,-0.7734257099739318,-0.584815498473267,-1.085653737254425,-0.06338028169014324,0.045632448180843305,0.9591779476748312,-0.354419875175041,0.342317733095904,0.36058930595144456,0.5333424502982965,-1.3400534659197338,0.2741804762808077,0.17105240423657225,-0.9268048532127516,0.028002870294199584,1.2552740769271098,0.8212025863559352,0.3877756709202381,0.7747338441717044,-1.0858001654874387,-0.9739594012712811,1.1226654250090522,-2.124790934225355,0.18103328227265764,0.8067627766670215,0.07473711653775092,-1.3439409501592734,0.48783936651583554,0.3884650381465716,-0.25120404698382687,-1.8556988984515466,1.225133860501395,-1.80471191320529,-2.3714917564141844,-2.1619135234590616,-0.17677049607382156,-0.18505929450863068,1.0607055914061612,-3.050531560829951,2.233988111640351,0.25775656324582774,0.5317538414957129,0.8645693886657699,-0.8418221673697294,0.6964672492344497,1.0876992114642363,-0.12033036153803499,0.24659786281850563,-0.04840271055180802,-0.050543340914829545,0.1994596456871426,-1.953969168707683,-0.6341795187588547,-0.9509647335279439,1.113004185340196,0.32724547066673315,-0.5593207987173973,-0.8024950300023669,-0.4163762427088268,-1.3005220535335587,-0.45892953752587035,0.3711061963489182,0.673839184597971,-0.759076518615893,0.3002722966168104,0.38696234558714854,-0.09454949944382479,0.22443150202174508,-0.945256968479016,0.04510854243022444,-0.020755500207557575,1.1572369787242065,-1.082050797847211,-0.028533926839028886,2.150909335330593,-1.3167299951092886,0.10259333143344991,-0.927060986821949,-1.7110740250522642,-3.161753175474371,1.5878460172706006,-0.36164597791027714,0.9468545999882458,1.7020615151456258,0.6811781718547913,-0.32888519260573384,0.9956003944473943,-0.3485764889868714,0.4424274646817638,-0.9135522838806944,-0.7942224581090191,-1.7956039323151225,-2.531201931501793,-1.1629516821265393,0.9403378772929577,-1.702491159760021,-0.4821913367640495,-0.5326954389209467,1.2568416784917875,-0.7477339891707455,1.6143911439114416,-0.8025902668759873,2.1270707310323,2.4766849341409474,0.814423725005621,-0.6181804640077341,-2.1399379399076564,-2.445573990601323,-0.0667189952904301,3.617455535037399,-0.6110094857336845,0.23549520463393964,-1.223971655393229,0.7236388697449982,0.6366400608133616,-0.032285632893354684,1.4435919295254342,0.1255081205627183,1.056403747806951,1.042704757686483,-0.7298333119395628,-0.3148614609571662,0.8964347615408884,-0.7698840558304334,-0.7725691196827407,1.1484249361460694,1.4875661920176724,2.259469836816069,0.75083224779273,1.928443649373877,0.5589832832357862,0.26301946344029464,0.05231493591419557,-1.25237655020843,0.35025030514231453,-1.638499404666707,-0.7134857844731125,0.3623254044457327,-1.1159824631327164,0.6461124053581745,-0.15812431842966276,1.2668106499210545,-0.25095902197683595,-0.22852653942975,-0.28985507246376896,1.3564578802894751,-2.052940556121922,-0.43340646692802365,-0.8431703204047175,0.0745305484357616,-0.36281427191015503,-1.1021751050996111,-0.9844818955448132,0.8553771949657026,-0.19753638582957067,0.5997280736063824,-0.04633490872022982,-0.42158983746601825,0.1396804112191306,-1.0920378473390775,0.7245139876718919,0.7361150534582243,-0.8706208152349219,1.8601190476190477,-0.6585329453025843,0.9288099973730497,1.1083926453143569,-0.18421751837746234,-1.4235254441860845,-0.1730852444829144,-0.25251149018111546,-1.921988792961829,-0.09843433686829724,0.4178040220600524,-1.3767860128946101,-1.3214366388073153,1.2805587892898789,0.292555669430737,-0.49594145290412894,-0.4815650865312376,-0.17717129071168972,0.8674148041291185,-0.9885381505248578,0.05451025356665544,0.6329825087081904,0.14484948652713564,0.847662422158183,-0.00740535036563244,-1.07782650709878,1.311936936936939,0.3289901674690028,-0.9788413941976647,-0.5216192552022121,1.1727619011877732,0.07408642181103837,-0.19711395418029334,-0.5630651626736238,-1.2150531585756699,-0.16491015239970636,1.3846909475593245,-0.707626016864148,0.13732129420617348,-0.15151515151514292,-0.047312641937925816,-0.020779417042902627,1.0790960451977436,-0.09679641108690862,-0.2594562538223424,0.15565932844118893,-0.39999999999999414,-0.6754875944105232,-1.0367419871198185,-0.6647492428715661,-1.0474886886430157,-0.5507594381872556,0.4452291394795302,0.646775745909531,0.3612868694206003,-0.809903080318571,-0.4664321761737373,0.7296357521518615,2.565305509683223,2.622722949740294,0.01606769856998051,2.606526047565122,3.687211093990747,0.5733875371640029,1.0820958166084031,0.1830864440375912,-2.569298471123748,-3.6228748068006267,1.008051529790659,-0.7632381524264085,0.4977735368956736,0.41111111111111615,-0.9138712027622006,0.938689352991973,0.1320772731612681,1.4897608500307302,-0.3596899224806279,-0.7700357683957427,-0.8991680740601738,-1.2582187686790305,-0.5308560053085745,-0.43529697263847666,0.3221324865269254,0.6196711327649285,-0.8717328901646747,0.6548888212001148,-1.3166325939035173,-4.267091812810646,2.898778359511346,-5.3422452066156065,2.9933644630130223,-0.2799499530810078,-0.38557567712778584,-1.48038372055964,-0.7586825154392806,1.444871943063789,-1.7423014586709886,0.11666666666667425,0.3542914986367057,-1.3682753291909469,1.3456206165389006,0.9713594191206102,-0.39315966117948475,1.3467368756980915,0.08025555887767966,0.8012041581084706,-1.1840638200976719,0.16393442622952037,-0.6874003189792577,0.04983522224902486,1.4854696419304567,-2.826428696190666,-2.531375954386087,-0.3867532815429858,0.8520090173716991,0.4799710702368557,3.2460474308300262,1.4984177215189916,1.033122534593955,-1.0597005729776348,-0.34302108020457234,0.5640625000000021,0.7132956439128357,1.4226852211770158,-0.3138347545199963,1.081477408120252,-0.28760295734139946,0.7441241416860874,-2.072164327450152,-1.7641213788886285,0.7870728312973431,-3.5051546391752577,1.6007412158791274,0.15691707427408375,0.7945372032855956,0.903589021815617,-0.6874100568650291,1.4133828368914112,0.4590601786161359,0.8462603878116361,0.24401277639929986,0.30895420369104454,-0.7271980279375594,0.5411374930977461,0.4013871064631435,0.03146374829001617,-1.6690209416185473,1.8669647847959774,-0.5471074606809375,1.7070287803403004,-0.044670655440349906,1.3489076125540904,-0.1940722159878576,-0.4946808510638334,0.0013366482209200023,0.24049381396466807,-0.8293158478118512,2.6676125336295793,-0.8479646247886568,-1.7584626832547916,1.8204753684769517,-0.5887179754353494,0.5911148055786484,-0.995824387159654,-0.45028890217174555,-0.30897512008202865,0.8061580770838134,-1.2749003984063776,1.0786666666666709,-1.7037853151806104,-0.9644880845534615,0.2198008389958836,-0.21951706246257932,-0.41939294198841115,-0.1534253885664702,1.2737076980290114,1.2925693565847953,-0.7210919392222537,-1.380116959064328,-0.15612382234185307,-0.5184540156741918,1.8657534246575351,-0.5367583628869876,-2.321416364754941,-0.08093663219883074,0.6083028489081173,-4.144489293288647,1.3241089908985273,0.31200797353711335,-0.21470211858381785,1.428965597362808,0.6280440912586633,0.22802653399668008,-1.6459824760220128,-0.11346921622190362,-1.9168523267056135,1.2101575697156002,1.5611116427214295,0.20520747275004175,-2.530274059910774,-5.617875412219883,-2.047564366846053,-2.884055294301498,2.229542561952532,0.8611970490242686,-0.39891680983024325,1.2014814814814836,-1.1387013589082395,-0.28572253167479844,1.4768869343494313,-1.7816901408450672,0.8460066471950846,-0.13993921831931713,-0.7983462827001244,1.5444463798409085,0.8199882858816315,-0.4953569110051075,-0.36411925976697335,2.1588357351979677,-0.020862308762166517,-0.8710413535926964,-0.5734345934908213,-1.660772386476165,0.7813067282417686,0.9692613855999516,0.6637293114161505,0.9472222222222292,0.5063221474663342,0.19396907500138694,1.3381609923317357,0.18059610292619013,-0.5742323349419015,0.7589952477936227,0.4461258915737753,-0.5792337949243047,0.44944741192059723,-0.4424598596615034,1.3858070488299528,0.05732568990800559,-0.5739072405739012,1.531275385865143,-0.635949124070072,-0.02710027100271619,1.3482474142734922,-0.682882326898055,-0.647875586381178,-0.9313342844068746,0.6897018970189744,0.34171605531529436,-0.10742563095979436,0.6658001538502324,0.8087210372669142,-2.024665046588094,-0.7031662269129342,0.4977627154544721,-1.0367616687319252,0.9844993715961394,-2.382068319042758,-0.20500784685205956,-2.4341343574393597,0.33444331837265745,0.08313862649255922,-0.6471795313329589,0.7545366334052682,0.5346137308298559,1.8242217703828876,0.12640449438201928,0.8971049877921102,-1.1224616745690557,-0.5229687892226592,-0.15450957257032422,1.03789150085316,-1.3631475299934344,0.42065172595109024,-0.290449342217661,1.1573216270915887,-0.3241192872206366,1.8716577540106978,0.6257283978023185,0.17292182550112745,1.194734879352492,0.5439090387296058,-0.051733761725184194,-0.28668941979522494,-0.9502653338269709,-1.1532466099239924,-0.44315403422983646,0.5967180507210255,0.7899068988891552,-0.008339472111423564,0.2581959777253664,0.2498325145154036,-0.011126564673162856,-0.6364437481640982,-2.3890496013546816,-0.7241295419093473,-0.35223367697593394,-0.2288787800760892,0.6337371854613175,0.007405542307873308,-0.40834575260804906,0.1575916461699245,0.16251830161054373,0.9672195719725145,1.0127130887026856,-0.15946901129211563,1.1290182324125284,-0.38964015585606626,0.8763402430307355,0.9942800649671744,0.21136945155189424,-0.9176086896437338,-0.0873084065522874,-0.8102186763672433,1.531734720704008,0.968639110002884,0.5235105041162049,-0.2336701064347099,0.11862076402555677,-0.12151160435821315,-0.08389261744966504,0.47272037709270326,-0.15126365388734145,-0.5073054574161163,1.5490940624630416,0.3096176612158341,0.7820850387132094,-0.07899303307347823,1.0907493085890116,-0.03069053708440014,0.40455767507361007,0.11866028708133333,-0.019108280254774176,0.22008957133717558,-0.16714513556618124,-0.4049724464949338,0.3331961097102761,-0.32179074627248255,0.05419354838709149,-0.14483944805824675,-0.4384381286429021,-0.12198603649200013,0.31421121251629314,0.07022106631989124,0.4435830059577969,-0.03119597571913341,0.005215055866281224,-0.06109847253819009,-0.20051487044151495,0.8571982675027469,0.044871794871797786,-0.4199899818903379,-1.3556680950525974,1.8394183782924776,-0.6265696944328123,0.37914192809467956,1.1626840042470088,-0.113023708996428,-0.8699930089847381,0.3133940182054575,0.46074599435716346,0.9243589743589791,0.0394106205265698,-1.0897616066637674,0.9684074790457757,0.47695571125537345,-0.8228398853398935,0.12365875336518267,-0.21827575072651656,0.051544399056734566,-0.36442494001102493,-0.27471116816431146,-0.5874355488289674,1.0582350747708036,-0.45635979965930873,0.30366438705726184,-0.3878548936279118,-0.39915563231625467,0.0205180815593847,0.9405343656787419,0.4083984766486259,-0.7879995020540181,0.5496855345911955,1.0200024847807225,-1.1032472939217308,-0.9016047821018405,-0.7053682896379497,-1.6057400878332426,-1.3740304474084581,0.09196694299327202,-1.2207658699563093,-0.6673183447377001,1.5133349319265732,1.0355067785668148,0.9075823334184342,0.6885145011154564,-3.616163403566871,-0.3330954080418725,-2.5833774483853866,1.542230611671149,1.2288135593220302,0.56198821259063,-1.403995488546358,0.8641376326038253,-0.56430633032629,-0.877912807888191,-0.33758145133855505,1.0842105263157906,-0.08943268570242775,-1.562195644551805,-1.256865230249273,0.7937254059280905,0.6348075121088471,-0.7348998993108684,1.3390275952693895,0.5100455675227761,1.1910256410256364,0.5388260470804058,0.27711298652223776,-0.04138449962376815,0.06396267589735757,-1.199400299850078,0.5036572093847306,-0.04267282494101509,-0.16083634901488822,-0.13882578625877415,-0.12517385257301922,0.1100318713006532,-1.0898324303893272,-0.06893646355942926,-1.3963589907377771],\"z\":[7.859999999999957,4.7900000000000205,3.8600000000000136,5.089999999999975,12.830000000000041,8.420000000000016,4.1200000000000045,3.180000000000007,2.930000000000007,3.1399999999999864,5.920000000000016,4.75,4.639999999999986,2.740000000000009,4.819999999999993,6.139999999999986,4.949999999999989,5.479999999999961,3.2900000000000205,4.410000000000025,3.170000000000016,2.160000000000025,4.490000000000009,8.370000000000005,2.8100000000000023,3.2899999999999636,2.740000000000009,2.0600000000000023,1.8999999999999773,3.6100000000000136,5.170000000000016,5.519999999999982,2.6000000000000227,7.480000000000018,5.019999999999982,3.7799999999999727,3.0600000000000023,3.640000000000043,6.020000000000039,5.029999999999973,3.759999999999991,1.829999999999984,5.529999999999973,7.4599999999999795,2.6499999999999773,2.569999999999993,5.930000000000007,3.8600000000000136,6.1299999999999955,4.650000000000034,4.319999999999993,2.920000000000016,7.990000000000009,4.3799999999999955,7.420000000000016,8.870000000000005,3.7900000000000205,4.949999999999989,4.329999999999984,3.75,6.1200000000000045,6.21999999999997,6.310000000000002,4.639999999999986,3.9399999999999977,3.919999999999959,5.0,4.9599999999999795,2.339999999999975,6.420000000000016,12.669999999999959,11.03000000000003,5.319999999999993,4.980000000000018,8.600000000000023,6.490000000000009,4.110000000000014,4.639999999999986,4.21999999999997,4.140000000000043,3.0600000000000023,7.7099999999999795,5.689999999999998,3.740000000000009,2.930000000000007,5.519999999999982,7.75,8.069999999999993,7.260000000000048,2.9599999999999795,4.8700000000000045,3.9399999999999977,5.600000000000023,7.050000000000011,8.270000000000039,17.789999999999964,7.819999999999993,8.870000000000005,6.210000000000036,6.5,6.699999999999989,5.389999999999986,4.159999999999968,5.479999999999961,2.1499999999999773,5.220000000000027,5.810000000000002,4.169999999999959,5.300000000000011,3.1999999999999886,9.279999999999973,5.839999999999975,4.139999999999986,4.259999999999991,3.7099999999999795,7.449999999999989,5.560000000000002,3.240000000000009,8.029999999999973,2.819999999999993,5.350000000000023,3.5400000000000205,3.9700000000000273,4.5,3.9500000000000455,3.240000000000009,5.189999999999998,5.740000000000009,5.329999999999984,3.659999999999968,6.819999999999993,6.430000000000007,4.899999999999977,5.28000000000003,3.6899999999999977,6.110000000000014,3.769999999999982,6.2099999999999795,7.359999999999957,10.009999999999991,6.769999999999982,3.990000000000009,3.3999999999999773,8.70999999999998,6.53000000000003,4.1200000000000045,4.050000000000011,7.279999999999973,3.7800000000000296,5.060000000000002,3.8799999999999955,3.670000000000016,2.420000000000016,3.0400000000000205,6.7099999999999795,6.900000000000034,5.060000000000002,3.769999999999982,2.759999999999991,3.1000000000000227,7.8799999999999955,6.919999999999959,4.720000000000027,3.170000000000016,6.360000000000014,6.410000000000025,6.399999999999977,3.590000000000032,4.25,5.730000000000018,3.670000000000016,7.550000000000011,7.270000000000039,7.180000000000007,4.810000000000002,6.990000000000009,9.199999999999989,2.990000000000009,3.930000000000007,5.920000000000016,6.050000000000011,5.060000000000002,2.3899999999999864,9.860000000000014,8.589999999999975,10.079999999999984,5.579999999999984,4.060000000000002,4.3799999999999955,7.829999999999984,5.829999999999984,5.230000000000018,4.660000000000025,4.689999999999998,9.360000000000014,4.600000000000023,4.089999999999975,5.369999999999948,6.539999999999964,5.25,8.009999999999991,41.55000000000001,17.279999999999973,7.439999999999998,7.6299999999999955,5.850000000000023,4.230000000000018,5.889999999999986,2.990000000000009,6.07000000000005,4.080000000000041,5.6299999999999955,4.460000000000036,5.850000000000023,10.090000000000032,8.980000000000018,4.449999999999989,4.660000000000025,5.810000000000002,8.019999999999982,8.480000000000018,6.669999999999959,6.689999999999998,4.67999999999995,1.9399999999999977,3.9700000000000273,8.470000000000027,10.470000000000027,5.919999999999959,6.740000000000009,5.8700000000000045,4.889999999999986,6.060000000000002,5.529999999999973,7.199999999999989,3.909999999999968,7.069999999999993,4.990000000000009,8.42999999999995,4.67999999999995,8.910000000000025,7.0,3.1499999999999773,3.82000000000005,4.139999999999986,3.839999999999975,5.220000000000027,5.100000000000023,3.4399999999999977,7.259999999999991,5.199999999999989,5.590000000000032,6.8700000000000045,4.3799999999999955,5.919999999999959,4.860000000000014,5.730000000000018,3.0500000000000114,9.879999999999995,11.409999999999968,5.319999999999993,4.300000000000011,5.689999999999998,4.890000000000043,6.580000000000041,8.129999999999995,4.099999999999966,3.839999999999975,5.180000000000007,4.0,3.67999999999995,9.220000000000027,6.079999999999984,5.800000000000011,7.210000000000036,6.6299999999999955,3.5500000000000114,4.610000000000014,4.25,2.680000000000007,5.46999999999997,3.079999999999984,5.829999999999984,8.550000000000011,7.090000000000032,3.7099999999999795,8.930000000000007,5.75,6.7900000000000205,2.9700000000000273,5.470000000000027,8.879999999999995,5.610000000000014,7.560000000000002,3.509999999999991,4.919999999999959,4.079999999999984,4.089999999999975,4.170000000000016,4.779999999999973,3.4700000000000273,5.6200000000000045,6.3799999999999955,3.0300000000000296,3.519999999999982,2.7900000000000205,6.189999999999998,3.090000000000032,2.819999999999993,6.009999999999991,4.490000000000009,5.389999999999986,6.740000000000009,7.199999999999989,5.279999999999973,5.550000000000011,5.300000000000011,8.149999999999977,4.5,4.569999999999993,9.949999999999989,6.009999999999991,6.339999999999975,12.220000000000027,18.52000000000004,14.430000000000007,7.5400000000000205,4.980000000000018,4.399999999999977,5.560000000000002,9.810000000000002,4.9599999999999795,4.159999999999968,7.720000000000027,5.3799999999999955,6.769999999999982,6.569999999999993,10.449999999999989,5.699999999999989,4.180000000000007,4.529999999999973,5.759999999999991,11.140000000000043,8.949999999999989,6.460000000000036,7.769999999999982,7.0,11.180000000000007,7.949999999999989,3.8899999999999864,5.839999999999975,6.830000000000041,6.220000000000027,4.720000000000027,9.439999999999998,8.230000000000018,6.140000000000043,9.520000000000039,7.319999999999993,5.439999999999998,3.7199999999999704,8.150000000000034,7.060000000000002,5.269999999999982,5.550000000000011,6.300000000000011,6.650000000000034,8.810000000000002,8.379999999999995,6.509999999999991,7.560000000000002,3.6999999999999886,4.0,3.8100000000000023,3.519999999999982,6.839999999999975,5.310000000000002,4.019999999999982,4.569999999999993,7.4599999999999795,5.360000000000014,6.1299999999999955,3.8699999999999477,5.7999999999999545,7.009999999999991,5.259999999999991,8.369999999999948,13.620000000000005,7.800000000000011,6.689999999999998,4.779999999999973,5.360000000000014,3.9799999999999613,6.939999999999998,7.339999999999975,5.139999999999986,4.759999999999991,3.079999999999984,3.1499999999999773,6.970000000000027,4.670000000000016,5.259999999999991,2.75,2.659999999999968,6.1299999999999955,6.510000000000048,3.4500000000000455,2.9399999999999977,7.25,4.269999999999982,5.189999999999998,2.240000000000009,4.110000000000014,4.409999999999968,7.8799999999999955,3.8100000000000023,5.8700000000000045,6.220000000000027,6.100000000000023,9.129999999999995,4.1200000000000045,5.0,3.6499999999999773,3.9799999999999613,5.420000000000016,3.930000000000007,5.400000000000034,6.050000000000011,3.680000000000007,10.410000000000025,5.270000000000039,4.240000000000009,8.160000000000025,4.339999999999975,5.449999999999989,3.8600000000000136,3.090000000000032,6.25,3.8000000000000114,5.75,10.95999999999998,3.740000000000009,4.920000000000016,7.149999999999977,9.789999999999964,4.2900000000000205,4.080000000000041,5.410000000000025,5.7900000000000205,7.139999999999986,5.569999999999993,20.649999999999977,9.689999999999998,8.569999999999993,16.990000000000066,7.850000000000023,9.009999999999991,5.199999999999989,11.669999999999959,5.740000000000066,8.750000000000057,5.430000000000064,5.149999999999977,7.089999999999975,5.789999999999964,8.110000000000014,4.980000000000018,3.9499999999999886,6.259999999999991,13.129999999999995,4.67999999999995,3.8299999999999272,9.709999999999923,5.830000000000041,6.480000000000018,6.140000000000043,3.4599999999999227,9.049999999999955,9.25,3.990000000000009,3.57000000000005,7.759999999999991,7.180000000000064,6.960000000000036,4.269999999999982,4.940000000000055,7.110000000000014,8.299999999999955,8.039999999999964,6.9500000000000455,9.169999999999959,6.32000000000005,6.159999999999968,12.910000000000082,6.430000000000064,6.559999999999945,5.32000000000005,3.5599999999999454,5.139999999999986,3.659999999999968,5.719999999999914,7.350000000000023,4.730000000000018,5.980000000000018,6.190000000000055,9.230000000000018,6.990000000000009,9.290000000000077,8.379999999999995,14.809999999999945,11.409999999999968,5.580000000000041,4.939999999999941,8.18999999999994,6.330000000000041,4.490000000000009,4.040000000000077,15.220000000000027,22.039999999999964,7.8700000000000045,11.120000000000005,12.57000000000005,17.629999999999995,24.75999999999999,8.960000000000036,11.340000000000032,6.279999999999973,8.639999999999986,6.659999999999968,9.790000000000077,4.2999999999999545,10.080000000000041,5.780000000000086,6.409999999999968,5.840000000000032,3.32000000000005,3.509999999999991,7.5,7.009999999999991,7.539999999999964,3.6000000000000227,8.949999999999932,7.819999999999936,3.240000000000009,5.819999999999936,3.769999999999982,7.740000000000009,6.75,8.799999999999955,11.789999999999964,12.82000000000005,9.129999999999995,9.43999999999994,9.200000000000045,8.759999999999991,7.099999999999909,13.539999999999964,19.399999999999977,11.379999999999995,19.960000000000036,15.030000000000086,7.740000000000009,10.040000000000077,9.710000000000036,42.51999999999998,23.079999999999927,34.680000000000064,21.269999999999982,13.350000000000023,12.379999999999995,25.030000000000086,13.42999999999995,14.5,19.940000000000055,16.950000000000045,18.299999999999955,11.07000000000005,9.68999999999994,7.600000000000023,9.5,9.25,15.759999999999934,13.100000000000023,5.459999999999923,9.019999999999982,8.370000000000005,7.560000000000059,11.720000000000027,13.349999999999966,10.749999999999943,15.660000000000025,11.149999999999977,6.540000000000077,7.689999999999941,8.42999999999995,6.340000000000032,12.160000000000082,9.899999999999977,7.259999999999991,6.800000000000068,9.909999999999968,11.620000000000005,6.829999999999927,5.280000000000086,5.419999999999959,15.120000000000005,9.770000000000095,9.840000000000032,10.469999999999914,9.100000000000023,6.840000000000032,5.689999999999941,4.850000000000023,9.5,6.719999999999914,8.080000000000041,5.980000000000018,9.529999999999973,6.470000000000027,7.159999999999968,10.720000000000027,11.610000000000014,14.700000000000045,10.580000000000041,6.0499999999999545,4.800000000000068,7.7299999999999045,5.040000000000077,4.079999999999927,6.82000000000005,13.360000000000014,7.319999999999936,11.549999999999955,9.399999999999977,7.159999999999968,9.220000000000027,6.17999999999995,12.350000000000023,14.759999999999991,9.139999999999986,9.029999999999973,5.330000000000041,7.710000000000036,4.82000000000005,7.730000000000018,6.170000000000073,5.490000000000009,13.6099999999999,13.07000000000005,11.210000000000036,9.339999999999918,10.669999999999959,8.770000000000095,9.870000000000005,4.4799999999999045,5.009999999999991,9.229999999999905,7.0,8.829999999999927,8.490000000000009,3.330000000000041,4.1200000000000045,3.3500000000000227,4.580000000000041,5.990000000000009,5.210000000000036,8.370000000000005,6.1299999999999955,4.9500000000000455,6.6200000000000045,7.960000000000036,6.769999999999982,4.580000000000041,5.459999999999923,8.980000000000018,6.539999999999964,5.540000000000077,7.159999999999968,6.730000000000018,8.819999999999936,8.719999999999914,4.529999999999973,6.960000000000036,10.460000000000036,5.830000000000041,9.090000000000032,13.759999999999991,4.569999999999936,7.0,6.980000000000018,10.539999999999964,8.56000000000006,4.710000000000036,6.539999999999964,11.490000000000009,16.34999999999991,12.399999999999977,21.020000000000095,16.360000000000014,13.980000000000018,14.460000000000036,14.389999999999986,22.389999999999986,13.620000000000061,7.659999999999968,10.970000000000027,11.340000000000032,9.069999999999936,7.360000000000014,7.340000000000032,7.189999999999941,9.269999999999982,4.809999999999945,4.649999999999977,6.180000000000064,12.720000000000027,5.899999999999977,7.509999999999991,8.550000000000068,5.6299999999999955,5.2700000000000955,6.2999999999999545,4.509999999999991,9.699999999999932,7.75,8.139999999999986,4.009999999999991,5.569999999999936,7.060000000000059,5.360000000000014,4.5,5.389999999999986,9.529999999999973,5.67999999999995,6.720000000000027,8.730000000000018,8.589999999999918,7.189999999999941,13.659999999999968,10.740000000000009,6.800000000000068,9.809999999999945,9.809999999999945,23.989999999999952,10.160000000000025,9.140000000000043,10.779999999999973,10.350000000000023,8.25,4.719999999999914,6.919999999999959,5.4500000000000455,4.009999999999991,6.779999999999973,7.150000000000091,11.229999999999961,15.079999999999984,7.580000000000041,12.439999999999998,10.100000000000023,8.389999999999986,10.560000000000002,10.200000000000045,7.900000000000034,8.170000000000016,6.470000000000027,13.050000000000011,16.58000000000004,9.150000000000091,9.299999999999955,12.480000000000018,12.959999999999923,9.860000000000014,24.279999999999973,14.409999999999968,10.110000000000014,11.370000000000005,6.389999999999986,10.759999999999991,5.959999999999923,10.75,5.060000000000059,10.120000000000005,6.759999999999991,8.879999999999995,7.960000000000036,5.080000000000041,7.92999999999995,7.009999999999991,8.520000000000095,10.740000000000009,14.600000000000023,11.769999999999982,13.360000000000014,8.839999999999918,9.079999999999927,4.490000000000009,9.889999999999986,6.720000000000027,10.089999999999918,7.440000000000055,5.899999999999977,14.139999999999986,10.82000000000005,5.779999999999973,12.75,4.639999999999986,2.659999999999968,6.510000000000105,13.350000000000023,13.480000000000018,8.230000000000018,7.1299999999999955,5.280000000000086,7.970000000000027,11.610000000000014,6.980000000000018,8.82000000000005,6.670000000000073,5.4500000000000455,6.4500000000000455,4.969999999999914,6.730000000000018,9.450000000000045,11.480000000000018,5.960000000000036,8.809999999999945,11.56000000000006,5.699999999999932,9.31000000000006,10.700000000000045,13.860000000000014,12.75,5.649999999999977,6.769999999999982,13.540000000000077,7.439999999999941,9.010000000000105,9.350000000000023,11.289999999999964,11.710000000000036,16.149999999999977,6.580000000000041,7.9500000000000455,5.660000000000082,6.590000000000032,8.889999999999986,5.970000000000027,7.6200000000000045,9.949999999999932,7.860000000000014,4.680000000000064,9.120000000000005,8.839999999999918,4.360000000000014,7.17999999999995,7.029999999999973,11.669999999999959,6.389999999999986,6.269999999999982,4.680000000000064,7.8799999999999955,6.190000000000055,9.009999999999991,5.960000000000036,2.9600000000000364,4.2999999999999545,4.080000000000041,5.8799999999999955,7.360000000000014,5.240000000000009,6.210000000000036,6.25,4.340000000000032,5.669999999999959,6.409999999999968,8.07000000000005,5.75,7.460000000000036,3.5699999999999363,6.25,11.0,6.6200000000000045,3.419999999999959,7.009999999999991,14.710000000000036,19.139999999999986,9.710000000000036,15.67999999999995,29.470000000000027,15.870000000000005,18.700000000000045,19.639999999999986,22.629999999999995,25.649999999999977,13.799999999999955,9.520000000000095,10.710000000000036,13.170000000000073,7.409999999999968,7.719999999999914,7.649999999999977,14.700000000000045,13.129999999999995,12.969999999999914,12.190000000000055,20.629999999999995,12.710000000000036,12.840000000000032,7.190000000000055,10.139999999999986,10.539999999999964,12.809999999999945,20.090000000000032,27.719999999999914,34.280000000000086,36.34000000000003,32.66000000000008,21.590000000000032,12.32000000000005,18.120000000000005,18.75999999999999,14.629999999999995,16.889999999999986,8.220000000000027,12.18999999999994,16.91999999999996,12.730000000000018,8.360000000000014,6.430000000000064,14.920000000000073,5.6299999999999955,15.879999999999995,12.980000000000018,10.549999999999955,12.120000000000005,8.92999999999995,14.920000000000073,18.769999999999982,25.220000000000027,14.779999999999973,8.029999999999973,12.240000000000009,24.210000000000036,16.00999999999999,12.720000000000027,18.460000000000036,18.8900000000001,10.669999999999959,9.490000000000009,14.659999999999968,10.539999999999964,8.669999999999959,7.769999999999982,7.240000000000009,20.519999999999982,14.139999999999986,13.789999999999964,28.5,17.889999999999986,9.07000000000005,9.899999999999977,8.25,7.9500000000000455,15.769999999999982,9.92999999999995,11.200000000000045,10.009999999999991,8.399999999999977,15.280000000000086,12.090000000000032,10.769999999999982,9.149999999999977,14.419999999999959,18.159999999999968,8.81000000000006,14.409999999999968,4.57000000000005,14.919999999999959,10.889999999999986,17.649999999999977,5.940000000000055,5.919999999999959,13.659999999999968,22.25,17.0,23.360000000000014,18.49000000000001,13.639999999999986,10.599999999999909,27.230000000000018,12.019999999999982,8.960000000000036,24.56000000000006,15.07000000000005,21.160000000000082,13.67999999999995,15.980000000000018,10.0,9.32000000000005,10.210000000000036,4.730000000000018,13.470000000000027,13.550000000000068,10.700000000000045,11.159999999999968,12.799999999999955,13.360000000000014,18.25999999999999,19.440000000000055,20.230000000000018,15.31000000000006,11.42999999999995,36.129999999999995,32.819999999999936,21.370000000000005,16.57000000000005,33.59000000000003,24.730000000000018,8.009999999999991,19.66999999999996,11.799999999999955,23.840000000000032,21.340000000000032,18.190000000000055,14.590000000000032,25.220000000000027,54.0,25.139999999999986,23.840000000000032,20.970000000000027,31.129999999999995,19.17999999999995,20.480000000000018,15.149999999999977,12.950000000000045,18.370000000000005,16.32000000000005,9.030000000000086,10.730000000000018,14.819999999999936,19.220000000000027,15.389999999999986,12.569999999999936,13.210000000000036,19.039999999999964,8.0,13.430000000000064,10.470000000000027,21.190000000000055,18.449999999999932,11.67999999999995,13.080000000000041,9.789999999999964,10.350000000000023,7.519999999999982,12.960000000000036,7.07000000000005,10.169999999999959,8.980000000000018,7.539999999999964,9.57000000000005,6.75,6.490000000000009,18.49000000000001,9.139999999999986,9.909999999999968,13.340000000000032,10.370000000000005,7.42999999999995,10.680000000000064,10.720000000000027,9.900000000000091,8.950000000000045,12.82000000000005,10.120000000000005,4.599999999999909,8.309999999999945,10.75,20.569999999999936,8.120000000000005,10.900000000000091,22.50999999999999,8.339999999999918,22.74000000000001,16.620000000000005,24.620000000000005,8.620000000000005,9.639999999999986,5.840000000000032,10.740000000000009,6.600000000000023,13.75,8.710000000000036,7.779999999999973,11.680000000000064,10.25,7.399999999999977,12.830000000000041,17.409999999999968,10.970000000000027,9.200000000000045,14.06000000000006,7.300000000000068,14.110000000000014,7.7999999999999545,8.050000000000068,9.940000000000055,8.470000000000027,6.550000000000068,8.850000000000023,8.930000000000064,10.299999999999955,5.430000000000064,7.990000000000009,7.199999999999932,9.460000000000036,8.930000000000064,9.350000000000023,5.670000000000073,13.389999999999986,20.370000000000005,9.07000000000005,10.759999999999991,7.779999999999973,14.950000000000045,15.949999999999932,9.019999999999982,7.330000000000041,6.019999999999982,8.670000000000073,8.519999999999982,8.06000000000006,12.589999999999918,9.980000000000018,9.280000000000086,9.269999999999982,7.030000000000086,7.149999999999977,4.180000000000064,6.690000000000055,14.93999999999994,7.990000000000009,5.029999999999973,5.860000000000014,6.680000000000064,5.110000000000014,7.420000000000073,7.460000000000036,9.350000000000023,11.779999999999973,19.339999999999918,7.990000000000009,6.389999999999986,5.280000000000086,10.699999999999932,4.539999999999964,8.370000000000005,4.029999999999973,6.779999999999973,3.0,7.3799999999999955,7.539999999999964,7.279999999999973,5.860000000000014,3.9700000000000273,4.490000000000009,4.660000000000082,7.42999999999995,8.710000000000036,10.230000000000018,8.379999999999995,7.6299999999999955,3.7100000000000364,6.720000000000027,5.509999999999991,11.0,6.529999999999973,6.769999999999982,13.580000000000041,16.289999999999964,10.420000000000073,8.569999999999936,13.839999999999918,5.090000000000032,9.559999999999945,4.800000000000068,8.860000000000014,11.409999999999968,4.779999999999973,9.669999999999959,11.680000000000064,6.839999999999918,11.569999999999936,6.850000000000023,6.57000000000005,5.82000000000005,6.420000000000073,4.940000000000055,8.909999999999968,13.509999999999991,11.699999999999932,6.07000000000005,8.220000000000027,7.9500000000000455,8.350000000000023,16.039999999999964,6.57000000000005,7.940000000000055,5.5,10.3599999999999,11.539999999999964,10.659999999999968,11.990000000000009,21.899999999999977,12.860000000000014,13.950000000000045,18.199999999999932,10.920000000000073,19.800000000000068,12.6400000000001,15.43999999999994,19.56000000000006,38.99000000000001,10.399999999999977,30.31000000000006,17.449999999999932,15.850000000000023,8.470000000000027,15.0,9.100000000000023,9.960000000000036,13.029999999999973,4.480000000000018,19.730000000000018,10.259999999999991,18.159999999999968,22.82000000000005,10.899999999999977,11.0,11.490000000000009,15.56000000000006,10.949999999999932,10.409999999999968,6.899999999999977,11.039999999999964,9.990000000000009,10.080000000000041,10.57000000000005,11.389999999999986,5.3799999999999955,9.579999999999927,4.740000000000009,5.460000000000036,10.200000000000045,11.029999999999973,7.009999999999991,12.370000000000005],\"type\":\"scatter3d\"}],                        {\"template\":{\"data\":{\"histogram2dcontour\":[{\"type\":\"histogram2dcontour\",\"colorbar\":{\"outlinewidth\":0,\"ticks\":\"\"},\"colorscale\":[[0.0,\"#0d0887\"],[0.1111111111111111,\"#46039f\"],[0.2222222222222222,\"#7201a8\"],[0.3333333333333333,\"#9c179e\"],[0.4444444444444444,\"#bd3786\"],[0.5555555555555556,\"#d8576b\"],[0.6666666666666666,\"#ed7953\"],[0.7777777777777778,\"#fb9f3a\"],[0.8888888888888888,\"#fdca26\"],[1.0,\"#f0f921\"]]}],\"choropleth\":[{\"type\":\"choropleth\",\"colorbar\":{\"outlinewidth\":0,\"ticks\":\"\"}}],\"histogram2d\":[{\"type\":\"histogram2d\",\"colorbar\":{\"outlinewidth\":0,\"ticks\":\"\"},\"colorscale\":[[0.0,\"#0d0887\"],[0.1111111111111111,\"#46039f\"],[0.2222222222222222,\"#7201a8\"],[0.3333333333333333,\"#9c179e\"],[0.4444444444444444,\"#bd3786\"],[0.5555555555555556,\"#d8576b\"],[0.6666666666666666,\"#ed7953\"],[0.7777777777777778,\"#fb9f3a\"],[0.8888888888888888,\"#fdca26\"],[1.0,\"#f0f921\"]]}],\"heatmap\":[{\"type\":\"heatmap\",\"colorbar\":{\"outlinewidth\":0,\"ticks\":\"\"},\"colorscale\":[[0.0,\"#0d0887\"],[0.1111111111111111,\"#46039f\"],[0.2222222222222222,\"#7201a8\"],[0.3333333333333333,\"#9c179e\"],[0.4444444444444444,\"#bd3786\"],[0.5555555555555556,\"#d8576b\"],[0.6666666666666666,\"#ed7953\"],[0.7777777777777778,\"#fb9f3a\"],[0.8888888888888888,\"#fdca26\"],[1.0,\"#f0f921\"]]}],\"heatmapgl\":[{\"type\":\"heatmapgl\",\"colorbar\":{\"outlinewidth\":0,\"ticks\":\"\"},\"colorscale\":[[0.0,\"#0d0887\"],[0.1111111111111111,\"#46039f\"],[0.2222222222222222,\"#7201a8\"],[0.3333333333333333,\"#9c179e\"],[0.4444444444444444,\"#bd3786\"],[0.5555555555555556,\"#d8576b\"],[0.6666666666666666,\"#ed7953\"],[0.7777777777777778,\"#fb9f3a\"],[0.8888888888888888,\"#fdca26\"],[1.0,\"#f0f921\"]]}],\"contourcarpet\":[{\"type\":\"contourcarpet\",\"colorbar\":{\"outlinewidth\":0,\"ticks\":\"\"}}],\"contour\":[{\"type\":\"contour\",\"colorbar\":{\"outlinewidth\":0,\"ticks\":\"\"},\"colorscale\":[[0.0,\"#0d0887\"],[0.1111111111111111,\"#46039f\"],[0.2222222222222222,\"#7201a8\"],[0.3333333333333333,\"#9c179e\"],[0.4444444444444444,\"#bd3786\"],[0.5555555555555556,\"#d8576b\"],[0.6666666666666666,\"#ed7953\"],[0.7777777777777778,\"#fb9f3a\"],[0.8888888888888888,\"#fdca26\"],[1.0,\"#f0f921\"]]}],\"surface\":[{\"type\":\"surface\",\"colorbar\":{\"outlinewidth\":0,\"ticks\":\"\"},\"colorscale\":[[0.0,\"#0d0887\"],[0.1111111111111111,\"#46039f\"],[0.2222222222222222,\"#7201a8\"],[0.3333333333333333,\"#9c179e\"],[0.4444444444444444,\"#bd3786\"],[0.5555555555555556,\"#d8576b\"],[0.6666666666666666,\"#ed7953\"],[0.7777777777777778,\"#fb9f3a\"],[0.8888888888888888,\"#fdca26\"],[1.0,\"#f0f921\"]]}],\"mesh3d\":[{\"type\":\"mesh3d\",\"colorbar\":{\"outlinewidth\":0,\"ticks\":\"\"}}],\"scatter\":[{\"fillpattern\":{\"fillmode\":\"overlay\",\"size\":10,\"solidity\":0.2},\"type\":\"scatter\"}],\"parcoords\":[{\"type\":\"parcoords\",\"line\":{\"colorbar\":{\"outlinewidth\":0,\"ticks\":\"\"}}}],\"scatterpolargl\":[{\"type\":\"scatterpolargl\",\"marker\":{\"colorbar\":{\"outlinewidth\":0,\"ticks\":\"\"}}}],\"bar\":[{\"error_x\":{\"color\":\"#2a3f5f\"},\"error_y\":{\"color\":\"#2a3f5f\"},\"marker\":{\"line\":{\"color\":\"#E5ECF6\",\"width\":0.5},\"pattern\":{\"fillmode\":\"overlay\",\"size\":10,\"solidity\":0.2}},\"type\":\"bar\"}],\"scattergeo\":[{\"type\":\"scattergeo\",\"marker\":{\"colorbar\":{\"outlinewidth\":0,\"ticks\":\"\"}}}],\"scatterpolar\":[{\"type\":\"scatterpolar\",\"marker\":{\"colorbar\":{\"outlinewidth\":0,\"ticks\":\"\"}}}],\"histogram\":[{\"marker\":{\"pattern\":{\"fillmode\":\"overlay\",\"size\":10,\"solidity\":0.2}},\"type\":\"histogram\"}],\"scattergl\":[{\"type\":\"scattergl\",\"marker\":{\"colorbar\":{\"outlinewidth\":0,\"ticks\":\"\"}}}],\"scatter3d\":[{\"type\":\"scatter3d\",\"line\":{\"colorbar\":{\"outlinewidth\":0,\"ticks\":\"\"}},\"marker\":{\"colorbar\":{\"outlinewidth\":0,\"ticks\":\"\"}}}],\"scattermapbox\":[{\"type\":\"scattermapbox\",\"marker\":{\"colorbar\":{\"outlinewidth\":0,\"ticks\":\"\"}}}],\"scatterternary\":[{\"type\":\"scatterternary\",\"marker\":{\"colorbar\":{\"outlinewidth\":0,\"ticks\":\"\"}}}],\"scattercarpet\":[{\"type\":\"scattercarpet\",\"marker\":{\"colorbar\":{\"outlinewidth\":0,\"ticks\":\"\"}}}],\"carpet\":[{\"aaxis\":{\"endlinecolor\":\"#2a3f5f\",\"gridcolor\":\"white\",\"linecolor\":\"white\",\"minorgridcolor\":\"white\",\"startlinecolor\":\"#2a3f5f\"},\"baxis\":{\"endlinecolor\":\"#2a3f5f\",\"gridcolor\":\"white\",\"linecolor\":\"white\",\"minorgridcolor\":\"white\",\"startlinecolor\":\"#2a3f5f\"},\"type\":\"carpet\"}],\"table\":[{\"cells\":{\"fill\":{\"color\":\"#EBF0F8\"},\"line\":{\"color\":\"white\"}},\"header\":{\"fill\":{\"color\":\"#C8D4E3\"},\"line\":{\"color\":\"white\"}},\"type\":\"table\"}],\"barpolar\":[{\"marker\":{\"line\":{\"color\":\"#E5ECF6\",\"width\":0.5},\"pattern\":{\"fillmode\":\"overlay\",\"size\":10,\"solidity\":0.2}},\"type\":\"barpolar\"}],\"pie\":[{\"automargin\":true,\"type\":\"pie\"}]},\"layout\":{\"autotypenumbers\":\"strict\",\"colorway\":[\"#636efa\",\"#EF553B\",\"#00cc96\",\"#ab63fa\",\"#FFA15A\",\"#19d3f3\",\"#FF6692\",\"#B6E880\",\"#FF97FF\",\"#FECB52\"],\"font\":{\"color\":\"#2a3f5f\"},\"hovermode\":\"closest\",\"hoverlabel\":{\"align\":\"left\"},\"paper_bgcolor\":\"white\",\"plot_bgcolor\":\"#E5ECF6\",\"polar\":{\"bgcolor\":\"#E5ECF6\",\"angularaxis\":{\"gridcolor\":\"white\",\"linecolor\":\"white\",\"ticks\":\"\"},\"radialaxis\":{\"gridcolor\":\"white\",\"linecolor\":\"white\",\"ticks\":\"\"}},\"ternary\":{\"bgcolor\":\"#E5ECF6\",\"aaxis\":{\"gridcolor\":\"white\",\"linecolor\":\"white\",\"ticks\":\"\"},\"baxis\":{\"gridcolor\":\"white\",\"linecolor\":\"white\",\"ticks\":\"\"},\"caxis\":{\"gridcolor\":\"white\",\"linecolor\":\"white\",\"ticks\":\"\"}},\"coloraxis\":{\"colorbar\":{\"outlinewidth\":0,\"ticks\":\"\"}},\"colorscale\":{\"sequential\":[[0.0,\"#0d0887\"],[0.1111111111111111,\"#46039f\"],[0.2222222222222222,\"#7201a8\"],[0.3333333333333333,\"#9c179e\"],[0.4444444444444444,\"#bd3786\"],[0.5555555555555556,\"#d8576b\"],[0.6666666666666666,\"#ed7953\"],[0.7777777777777778,\"#fb9f3a\"],[0.8888888888888888,\"#fdca26\"],[1.0,\"#f0f921\"]],\"sequentialminus\":[[0.0,\"#0d0887\"],[0.1111111111111111,\"#46039f\"],[0.2222222222222222,\"#7201a8\"],[0.3333333333333333,\"#9c179e\"],[0.4444444444444444,\"#bd3786\"],[0.5555555555555556,\"#d8576b\"],[0.6666666666666666,\"#ed7953\"],[0.7777777777777778,\"#fb9f3a\"],[0.8888888888888888,\"#fdca26\"],[1.0,\"#f0f921\"]],\"diverging\":[[0,\"#8e0152\"],[0.1,\"#c51b7d\"],[0.2,\"#de77ae\"],[0.3,\"#f1b6da\"],[0.4,\"#fde0ef\"],[0.5,\"#f7f7f7\"],[0.6,\"#e6f5d0\"],[0.7,\"#b8e186\"],[0.8,\"#7fbc41\"],[0.9,\"#4d9221\"],[1,\"#276419\"]]},\"xaxis\":{\"gridcolor\":\"white\",\"linecolor\":\"white\",\"ticks\":\"\",\"title\":{\"standoff\":15},\"zerolinecolor\":\"white\",\"automargin\":true,\"zerolinewidth\":2},\"yaxis\":{\"gridcolor\":\"white\",\"linecolor\":\"white\",\"ticks\":\"\",\"title\":{\"standoff\":15},\"zerolinecolor\":\"white\",\"automargin\":true,\"zerolinewidth\":2},\"scene\":{\"xaxis\":{\"backgroundcolor\":\"#E5ECF6\",\"gridcolor\":\"white\",\"linecolor\":\"white\",\"showbackground\":true,\"ticks\":\"\",\"zerolinecolor\":\"white\",\"gridwidth\":2},\"yaxis\":{\"backgroundcolor\":\"#E5ECF6\",\"gridcolor\":\"white\",\"linecolor\":\"white\",\"showbackground\":true,\"ticks\":\"\",\"zerolinecolor\":\"white\",\"gridwidth\":2},\"zaxis\":{\"backgroundcolor\":\"#E5ECF6\",\"gridcolor\":\"white\",\"linecolor\":\"white\",\"showbackground\":true,\"ticks\":\"\",\"zerolinecolor\":\"white\",\"gridwidth\":2}},\"shapedefaults\":{\"line\":{\"color\":\"#2a3f5f\"}},\"annotationdefaults\":{\"arrowcolor\":\"#2a3f5f\",\"arrowhead\":0,\"arrowwidth\":1},\"geo\":{\"bgcolor\":\"white\",\"landcolor\":\"#E5ECF6\",\"subunitcolor\":\"white\",\"showland\":true,\"showlakes\":true,\"lakecolor\":\"white\"},\"title\":{\"x\":0.05},\"mapbox\":{\"style\":\"light\"}}},\"scene\":{\"domain\":{\"x\":[0.0,1.0],\"y\":[0.0,1.0]},\"xaxis\":{\"title\":{\"text\":\"Daily Change\"}},\"yaxis\":{\"title\":{\"text\":\"Daily Return\"}},\"zaxis\":{\"title\":{\"text\":\"High-Low Range\"}}},\"coloraxis\":{\"colorbar\":{\"title\":{\"text\":\"Price Direction\"}},\"colorscale\":[[0.0,\"#0d0887\"],[0.1111111111111111,\"#46039f\"],[0.2222222222222222,\"#7201a8\"],[0.3333333333333333,\"#9c179e\"],[0.4444444444444444,\"#bd3786\"],[0.5555555555555556,\"#d8576b\"],[0.6666666666666666,\"#ed7953\"],[0.7777777777777778,\"#fb9f3a\"],[0.8888888888888888,\"#fdca26\"],[1.0,\"#f0f921\"]]},\"legend\":{\"tracegroupgap\":0,\"itemsizing\":\"constant\"},\"title\":{\"text\":\"3D Scatter Plot of Financial Features\"}},                        {\"responsive\": true}                    ).then(function(){\n",
              "                            \n",
              "var gd = document.getElementById('845c138b-1da6-41be-aa99-d8e337cc446b');\n",
              "var x = new MutationObserver(function (mutations, observer) {{\n",
              "        var display = window.getComputedStyle(gd).display;\n",
              "        if (!display || display === 'none') {{\n",
              "            console.log([gd, 'removed!']);\n",
              "            Plotly.purge(gd);\n",
              "            observer.disconnect();\n",
              "        }}\n",
              "}});\n",
              "\n",
              "// Listen for the removal of the full notebook cells\n",
              "var notebookContainer = gd.closest('#notebook-container');\n",
              "if (notebookContainer) {{\n",
              "    x.observe(notebookContainer, {childList: true});\n",
              "}}\n",
              "\n",
              "// Listen for the clearing of the current output cell\n",
              "var outputEl = gd.closest('.output');\n",
              "if (outputEl) {{\n",
              "    x.observe(outputEl, {childList: true});\n",
              "}}\n",
              "\n",
              "                        })                };                            </script>        </div>\n",
              "</body>\n",
              "</html>"
            ]
          },
          "metadata": {}
        }
      ]
    },
    {
      "cell_type": "code",
      "source": [
        "fig = px.scatter_3d(train, x='Open', y='Close', z='Daily Return',\n",
        "                    color='Daily Change', size='Average Price', opacity=0.7,\n",
        "                    title='3D Scatter Plot of Financial Features')\n",
        "\n",
        "fig.show()"
      ],
      "metadata": {
        "colab": {
          "base_uri": "https://localhost:8080/",
          "height": 542
        },
        "id": "bt6uJA0vu39y",
        "outputId": "42eebd00-5457-4366-87a9-9fc9fc439a42"
      },
      "execution_count": null,
      "outputs": [
        {
          "output_type": "display_data",
          "data": {
            "text/html": [
              "<html>\n",
              "<head><meta charset=\"utf-8\" /></head>\n",
              "<body>\n",
              "    <div>            <script src=\"https://cdnjs.cloudflare.com/ajax/libs/mathjax/2.7.5/MathJax.js?config=TeX-AMS-MML_SVG\"></script><script type=\"text/javascript\">if (window.MathJax && window.MathJax.Hub && window.MathJax.Hub.Config) {window.MathJax.Hub.Config({SVG: {font: \"STIX-Web\"}});}</script>                <script type=\"text/javascript\">window.PlotlyConfig = {MathJaxConfig: 'local'};</script>\n",
              "        <script charset=\"utf-8\" src=\"https://cdn.plot.ly/plotly-2.24.1.min.js\"></script>                <div id=\"62f3c447-a1fb-4bdc-bb9e-7ed3a179f81a\" class=\"plotly-graph-div\" style=\"height:525px; width:100%;\"></div>            <script type=\"text/javascript\">                                    window.PLOTLYENV=window.PLOTLYENV || {};                                    if (document.getElementById(\"62f3c447-a1fb-4bdc-bb9e-7ed3a179f81a\")) {                    Plotly.newPlot(                        \"62f3c447-a1fb-4bdc-bb9e-7ed3a179f81a\",                        [{\"hovertemplate\":\"Open=%{x}\\u003cbr\\u003eClose=%{y}\\u003cbr\\u003eDaily Return=%{z}\\u003cbr\\u003eAverage Price=%{marker.size}\\u003cbr\\u003eDaily Change=%{marker.color}\\u003cextra\\u003e\\u003c\\u002fextra\\u003e\",\"legendgroup\":\"\",\"marker\":{\"color\":[338.34000000000003,335.18000000000006,327.38000000000005,319.90000000000003,298.71999999999997,307.72999999999996,313.66,313.48999999999995,311.32,312.05,319.03999999999996,318.52000000000004,290.22999999999996,292.00999999999993,287.27000000000004,280.24999999999994,281.61999999999995,294.07,288.16,288.10999999999996,287.86,292.17,300.47,311.03,302.67,304.99999999999994,304.91999999999996,301.44,306.40999999999997,303.46000000000004,298.58,304.58000000000004,301.62,311.51000000000005,301.44,302.08000000000004,305.69,305.47999999999996,312.84000000000003,308.41999999999996,310.73,309.71,303.51000000000005,300.40999999999997,301.75,301.6,295.77000000000004,304.61,312.85,307.94999999999993,312.28,314.04,321.84000000000003,317.48,322.11,326.21999999999997,318.74000000000007,326.24999999999994,322.94,329.16,321.13,314.82,325.96,319.36,315.38,315.65000000000003,316.04,309.56,318.42,329.25,300.32,294.07,304.76,302.9,295.95,293.42999999999995,300.62000000000006,301.62,307.17999999999995,309.46999999999997,306.93999999999994,297.84000000000003,302.01,306.12,305.68,293.51000000000005,309.5,309.48,305.20000000000005,306.64000000000004,299.53000000000003,303.08000000000004,307.90000000000003,319.38000000000005,305.61,287.38,313.29999999999995,293.59,308.09,298.57,290.53,295.92,293.64,286.01,284.59,292.96,282.20000000000005,291.82,283.95,292.01,275.93000000000006,279.72999999999996,279.73999999999995,277.91999999999996,283.84000000000003,289.03,294.22,287.10999999999996,274.82,286.97999999999996,276.54999999999995,282.8,284.95,280.87,292.07,289.06,297.3,301.01,289.26,293.03,286.12,282.56,286.41999999999996,289.93000000000006,286.24,287.01,291.75999999999993,299.46000000000004,305.90999999999997,314.70000000000005,299.55999999999995,303.31000000000006,305.3299999999999,324.93,313.7300000000001,318.28000000000003,313.49000000000007,315.44,320.76000000000005,322.44999999999993,319.09,322.14000000000004,319.54,322.14,335.70000000000005,338.44000000000005,331.82000000000005,338.52,339.48999999999995,337.20000000000005,332.37999999999994,342.89000000000004,339.07000000000005,340.22999999999996,337.13,344.14,348.71,338.96999999999997,342.49,338.17999999999995,340.13,355.79,355.53000000000003,345.3,342.60999999999996,345.57,358.86,354.26,355.30999999999995,363.73999999999995,368.09999999999997,365.25,367.24,383.19000000000005,371.99,377.88,375.86999999999995,376.75999999999993,381.58000000000004,373.74999999999994,383.96,386.00000000000006,381.62999999999994,376.69,363.62999999999994,372.97999999999996,374.37999999999994,368.19000000000005,369.37000000000006,373.97999999999996,382.83,316.74,328.44999999999993,337.5799999999999,343.74,333.33000000000004,337.16999999999996,336.30999999999995,339.78000000000003,347.23,339.93999999999994,340.12,338.39000000000004,329.04999999999995,316.65,335.11,333.44000000000005,326.99,321.65999999999997,321.7,323.61999999999995,339.75,334.64,330.79999999999995,332.40999999999997,327.36,340.02,349.03999999999996,347.39,352.1,343.54,342.94,341.1600000000001,346.73,336.14000000000004,342.11999999999995,351.26000000000005,347.34,344.15999999999997,351.76,367.37999999999994,362.14000000000004,359.13,360.1,358.02,351.63999999999993,354.21999999999997,352.11,348.56000000000006,356.75000000000006,362.9,360.58000000000004,372.64000000000004,366.39,364.89,371.33000000000004,369.4200000000001,368.35,354.15,364.63000000000005,353.38,351.86,348.73,349.94000000000005,372.85,382.90999999999997,377.63,374.18999999999994,379.64,376.31,379.77,395.8,374.53000000000003,384.5,389.93999999999994,388.42,394.61,392.53,389.13999999999993,392.11,397.24999999999994,398.49,408.13,389.14,395.84000000000003,399.38,388.95000000000005,391.95000000000005,401.67,399.96,406.57,418.1,423.37999999999994,410.16,414.85,413.55,418.23999999999995,411.54,410.65,407.34,404.35,404.58000000000004,404.99,405.59000000000003,404.90999999999997,402.24,402.72999999999996,404.97,398.63000000000005,391.53,402.98,410.03999999999996,398.78000000000003,392.27,389.34999999999997,384.81,389.21999999999997,398.02,393.27000000000004,393.37,388.28,399.37000000000006,388.50999999999993,372.59999999999997,414.53999999999996,399.10999999999996,406.69000000000005,408.67,400.28,396.94,416.69000000000005,414.3399999999999,408.09,418.82000000000005,426.47999999999996,436.64000000000004,424.99,444.34000000000003,435.3,441.80000000000007,437.33,447.55999999999995,467.3,443.62,453.38000000000005,455.22999999999996,452.18,437.39000000000004,443.51,434.92999999999995,438.76,429.7099999999999,435.04,436.39000000000004,430.38,424.45,427.71000000000004,431.72999999999996,443.74000000000007,448.38,437.07,428.51000000000005,441.73,434.22999999999996,445.85,455.47999999999996,449.21000000000004,436.99000000000007,436.01,433.09999999999997,426.84000000000003,436.02,436.90999999999997,442.14000000000004,443.88000000000005,436.45,445.69,447.7,454.68,448.96,453.46999999999997,462.92,462.19000000000005,461.73999999999995,455.26000000000005,457.26,450.4100000000001,452.5,458.89000000000004,447.68000000000006,448.48999999999995,440.0,441.09,439.05,447.40000000000003,440.49000000000007,455.91,454.06000000000006,451.52,443.46,442.36,444.15000000000003,444.35,441.3,437.08000000000004,429.88999999999993,426.69999999999993,425.53,436.03,430.49999999999994,433.25000000000006,436.6,430.55000000000007,430.64,419.62000000000006,422.69,430.14000000000004,418.30000000000007,432.44,440.67,442.03,437.59999999999997,445.41,442.89,451.13,443.59000000000003,441.06,438.90000000000003,441.62999999999994,459.33000000000004,444.62999999999994,453.12,437.6700000000001,442.82,433.21000000000004,438.26,438.21000000000004,440.59,446.09000000000003,445.8399999999999,431.3500000000001,434.09000000000003,431.26,420.29,426.97999999999996,435.55,438.20000000000005,442.00000000000006,443.36,454.2900000000001,441.53000000000003,null,null,null,null,null,null,null,null,null,null,null,null,null,null,null,null,null,null,null,null,null,null,null,null,null,null,null,null,null,null,null,null,null,null,null,null,null,null,null,null,null,null,null,null,null,null,null,null,null,null,null,null,null,null,null,null,null,null,null,null,null,null,null,null,null,null,null,null,null,null,null,null,null,null,null,null,null,null,null,null,null,null,null,null,null,null,null,null,null,null,null,null,null,null,null,null,null,null,null,null,null,null,null,null,null,null,null,null,null,-9.510000000000105,-1.1999999999999318,-9.889999999999986,8.430000000000064,-32.89999999999998,-0.11000000000001364,-31.430000000000064,-2.580000000000041,12.269999999999982,4.509999999999991,-23.980000000000018,-1.9400000000000546,-5.720000000000027,-0.37999999999999545,13.509999999999991,-12.67999999999995,-7.460000000000036,6.159999999999968,-6.830000000000041,-4.899999999999977,-6.310000000000059,-0.029999999999972715,10.779999999999973,-0.9399999999999409,4.230000000000018,-5.819999999999936,2.980000000000018,-10.059999999999945,-5.819999999999993,2.5300000000000296,7.959999999999923,6.389999999999986,2.189999999999941,-6.329999999999927,-5.7000000000000455,-0.7599999999999909,9.129999999999995,0.030000000000086402,6.019999999999982,3.9200000000000728,5.430000000000064,9.919999999999959,-2.8799999999999955,-3.259999999999991,-0.8999999999999773,-6.75,-6.029999999999973,3.1499999999999773,7.480000000000018,-1.7200000000000273,4.960000000000036,0.03999999999996362,0.8399999999999181,-5.92999999999995,-0.5,-4.970000000000027,-1.1900000000000546,8.480000000000018,0.6599999999999682,-0.4900000000000091,9.769999999999982,-0.5699999999999363,13.360000000000014,-4.990000000000009,0.05999999999994543,-3.3799999999999955,4.330000000000041,-1.009999999999991,1.3799999999999955,-1.5,-6.550000000000068,4.480000000000018,5.17999999999995,7.25,2.269999999999982,-0.9600000000000364,-5.330000000000041,-5.780000000000086,2.07000000000005,-2.269999999999982,4.009999999999991,2.740000000000009,-3.090000000000032,-1.3700000000000045,2.519999999999982,-3.1299999999999955,0.8699999999998909,-8.980000000000018,-4.32000000000005,4.100000000000023,-4.970000000000027,4.580000000000041,-4.6200000000000045,5.190000000000055,-2.099999999999909,-1.7799999999999727,7.4500000000000455,-1.5199999999999818,-4.3700000000000045,6.040000000000077,1.8500000000000227,-1.3899999999999864,-0.4500000000000455,-1.0299999999999727,-4.509999999999991,-3.3899999999999864,-6.25,-0.36000000000001364,0.2599999999999909,5.470000000000027,-2.0499999999999545,1.9800000000000182,2.1000000000000227,3.1200000000000045,-7.8700000000000045,1.5900000000000318,0.9900000000000091,-5.3700000000000045,0.15999999999996817,7.169999999999959,4.75,2.269999999999982,4.57000000000005,-6.430000000000064,-5.7000000000000455,6.509999999999991,-12.450000000000045,1.0399999999999636,4.600000000000023,0.42999999999995,-7.719999999999914,2.759999999999991,2.2200000000000273,-1.4500000000000455,-10.629999999999995,6.909999999999968,-10.279999999999973,-13.190000000000055,-11.75,-0.9499999999999318,-0.9799999999999045,5.490000000000009,-16.039999999999964,11.349999999999966,1.3500000000000227,2.8099999999999454,4.649999999999977,-4.57000000000005,3.730000000000018,5.889999999999986,-0.6599999999999682,1.349999999999909,-0.2700000000000955,-0.2799999999999727,1.1000000000000227,-10.850000000000023,-3.4500000000000455,-5.180000000000064,6.009999999999991,1.7899999999999636,-3.07000000000005,-4.399999999999977,-2.269999999999982,-7.050000000000068,-2.4599999999999227,1.9800000000000182,3.57000000000005,-4.100000000000023,1.6100000000000136,2.080000000000041,-0.5099999999999909,1.2100000000000364,-5.079999999999927,0.2400000000000091,-0.11000000000001364,6.1299999999999955,-5.7299999999999045,-0.15000000000009095,11.199999999999932,-7.0,0.5399999999999636,-4.840000000000032,-8.919999999999959,-16.130000000000052,7.8700000000000045,-1.8500000000000227,4.830000000000041,8.759999999999991,3.580000000000041,-1.7399999999998954,5.25,-1.8500000000000227,2.330000000000041,-4.839999999999918,-4.189999999999941,-9.370000000000005,-13.000000000000057,-5.8799999999999955,4.670000000000016,-8.569999999999993,-2.3799999999999955,-2.650000000000034,6.199999999999989,-3.769999999999982,8.050000000000011,-4.090000000000032,10.759999999999991,12.879999999999995,4.350000000000023,-3.3199999999999363,-11.309999999999945,-12.75,-0.34000000000003183,18.6099999999999,-3.240000000000009,1.240000000000009,-6.459999999999923,3.7799999999999727,3.349999999999909,-0.16999999999995907,7.6200000000000045,0.6699999999999591,5.660000000000082,5.649999999999977,-3.980000000000018,-1.6999999999999318,4.809999999999945,-4.169999999999959,-4.1299999999999955,6.07000000000005,7.9500000000000455,12.240000000000009,4.149999999999977,10.779999999999973,3.1800000000000637,1.5,0.2999999999999545,-7.17999999999995,1.9800000000000182,-9.220000000000027,-3.9500000000000455,2.0,-6.159999999999968,3.5499999999999545,-0.8700000000000045,6.980000000000018,-1.3999999999999773,-1.2799999999999727,-1.6200000000000045,7.610000000000014,-11.680000000000064,-2.409999999999968,-4.649999999999977,0.40999999999996817,-1.990000000000009,-6.029999999999973,-5.310000000000059,4.539999999999964,-1.0600000000000591,3.2200000000000273,-0.25,-2.2799999999999727,0.75,-5.839999999999918,3.82000000000005,3.8899999999999864,-4.590000000000032,9.75,-3.5299999999999727,4.949999999999932,5.980000000000018,-1.0399999999999636,-8.019999999999982,-0.9600000000000364,-1.3899999999999864,-10.529999999999973,-0.5299999999999727,2.25,-7.410000000000082,-7.019999999999982,6.710000000000036,1.57000000000005,-2.669999999999959,-2.560000000000059,-0.9399999999999409,4.6299999999999955,-5.329999999999927,0.2899999999999636,3.3799999999999955,0.7799999999999727,4.559999999999945,-0.03999999999996362,-5.7999999999999545,6.990000000000009,1.7699999999999818,-5.259999999999991,-2.7999999999999545,6.25,0.39999999999997726,-1.0599999999999454,-3.019999999999982,-6.4799999999999045,-0.8699999999998909,7.330000000000041,-3.8099999999999454,0.7300000000000182,-0.7999999999999545,-0.25,-0.11000000000001364,5.730000000000018,-0.5199999999999818,-1.3999999999999773,0.8400000000000318,-2.159999999999968,-3.6399999999999864,-5.569999999999936,-3.490000000000009,-5.509999999999991,-2.8899999999999864,2.3199999999999363,3.3600000000000136,1.8899999999999864,-4.219999999999914,-2.4400000000000546,3.840000000000032,13.669999999999959,14.340000000000032,0.09000000000003183,14.730000000000018,23.92999999999995,3.7799999999999727,7.089999999999918,1.2100000000000364,-16.99000000000001,-23.440000000000055,6.259999999999991,-4.830000000000041,3.1299999999999955,2.590000000000032,-5.769999999999982,5.8700000000000045,0.8300000000000409,9.449999999999932,-2.32000000000005,-4.930000000000064,-5.75,-8.420000000000073,-3.5200000000000955,-2.8700000000000045,2.1100000000000136,4.07000000000005,-5.769999999999982,4.2999999999999545,-8.629999999999995,-27.299999999999955,16.610000000000014,-32.85000000000002,18.269999999999982,-1.7899999999999636,-2.4400000000000546,-9.289999999999964,-4.57000000000005,8.75,-10.75,0.7000000000000455,2.169999999999959,-8.5,8.25,6.019999999999982,-2.4600000000000364,8.43999999999994,0.5099999999999909,5.110000000000014,-7.539999999999964,1.0400000000000773,-4.309999999999945,0.3100000000000591,9.159999999999968,-17.799999999999955,-15.450000000000045,-2.3099999999999454,5.139999999999986,2.919999999999959,19.709999999999923,9.470000000000027,6.600000000000023,-6.8799999999999955,-2.2000000000000455,3.6100000000000136,4.579999999999927,9.149999999999977,-2.050000000000068,7.080000000000041,-1.9099999999999682,4.920000000000073,-13.759999999999991,-11.539999999999964,5.089999999999918,-25.5,11.230000000000018,1.1100000000000136,5.6200000000000045,6.419999999999959,-4.920000000000073,10.050000000000068,3.2999999999999545,6.110000000000014,1.7799999999999727,2.259999999999991,-5.310000000000059,3.9200000000000728,2.939999999999941,0.2300000000000182,-12.169999999999959,13.360000000000014,-3.990000000000009,12.419999999999959,-0.3300000000000409,10.07000000000005,-1.4700000000000273,-3.7200000000000273,0.009999999999990905,1.7999999999999545,-6.209999999999923,19.92999999999995,-6.519999999999982,-13.470000000000027,13.709999999999923,-4.519999999999982,4.480000000000018,-7.559999999999945,-3.3899999999999864,-2.2899999999999636,5.980000000000018,-9.600000000000023,8.090000000000032,-12.990000000000009,-7.2000000000000455,1.6399999999999864,-1.6499999999999773,-3.160000000000082,-1.1499999999999773,9.590000000000032,9.909999999999968,-5.600000000000023,-10.620000000000005,-1.1599999999999682,-3.8700000000000045,13.620000000000005,-3.919999999999959,-16.980000000000018,-0.5800000000000409,4.3900000000001,-30.290000000000077,9.340000000000032,2.160000000000082,-1.509999999999991,9.840000000000032,4.410000000000082,1.6499999999999773,-11.910000000000082,-0.8100000000000591,-13.67999999999995,8.740000000000009,11.420000000000073,1.5399999999999636,-19.850000000000023,-43.26999999999998,-14.799999999999955,-20.299999999999955,14.889999999999986,5.789999999999964,-2.740000000000009,8.110000000000014,-7.860000000000014,-1.9800000000000182,10.309999999999945,-12.649999999999977,5.8799999999999955,-0.9900000000000091,-5.600000000000023,10.639999999999986,5.740000000000009,-3.509999999999991,-2.550000000000068,15.18999999999994,-0.14999999999997726,-6.259999999999991,-4.100000000000023,-11.740000000000009,5.3799999999999955,6.769999999999982,4.7000000000000455,6.82000000000005,3.6800000000000637,1.4100000000000819,9.720000000000027,1.3299999999999272,-4.259999999999991,5.590000000000032,3.2899999999999636,-4.300000000000068,3.2899999999999636,-3.259999999999991,10.17999999999995,0.42999999999995,-4.2999999999999545,11.309999999999945,-4.769999999999982,-0.20000000000004547,9.920000000000073,-5.090000000000032,-4.82000000000005,-6.919999999999959,5.090000000000032,2.560000000000059,-0.8099999999999454,5.019999999999982,6.149999999999977,-15.580000000000041,-5.330000000000041,3.759999999999991,-7.529999999999973,7.0499999999999545,-17.279999999999973,-1.4499999999999318,-17.24000000000001,2.3099999999999454,0.5800000000000409,-4.509999999999991,5.210000000000036,3.7299999999999045,12.740000000000009,0.8999999999999773,6.42999999999995,-8.120000000000005,-3.75,-1.099999999999909,7.360000000000014,-9.759999999999991,2.9600000000000364,-2.0399999999999636,8.120000000000005,-2.2899999999999636,13.230000000000018,4.509999999999991,1.25,8.649999999999977,3.980000000000018,-0.37999999999999545,-2.1000000000000227,-6.92999999999995,-8.360000000000014,-3.1900000000000546,4.319999999999936,5.710000000000036,-0.06000000000005912,1.8500000000000227,1.7899999999999636,-0.08000000000004093,-4.5499999999999545,-16.92999999999995,-5.059999999999945,-2.4599999999999227,-1.599999999999909,4.419999999999959,0.05000000000006821,-2.740000000000009,1.0699999999999363,1.1100000000000136,6.6299999999999955,7.009999999999991,-1.1099999999999,7.789999999999964,-2.7200000000000273,6.1299999999999955,7.040000000000077,1.5199999999999818,-6.639999999999986,-0.6299999999999955,-5.8799999999999955,11.069999999999936,7.07000000000005,3.8600000000000136,-1.7300000000000182,0.8799999999999955,-0.8999999999999773,-0.6200000000000045,3.490000000000009,-1.1299999999999955,-3.9200000000000728,11.789999999999964,2.3799999999999955,6.0,-0.6100000000000136,8.440000000000055,-0.2400000000000091,3.159999999999968,0.92999999999995,-0.14999999999997726,1.7200000000000273,-1.3099999999999454,-3.159999999999968,2.589999999999918,-2.509999999999991,0.4199999999999591,-1.1200000000000045,-3.3999999999999773,-0.9400000000000546,2.409999999999968,0.5399999999999636,3.409999999999968,-0.2400000000000091,0.03999999999996362,-0.4700000000000273,-1.5499999999999545,6.6299999999999955,0.35000000000002274,-3.269999999999982,-10.440000000000055,13.889999999999986,-4.789999999999964,2.8799999999999955,8.870000000000005,-0.8700000000000045,-6.719999999999914,2.409999999999968,3.560000000000059,7.210000000000036,0.30999999999994543,-8.529999999999973,7.509999999999991,3.7099999999999227,-6.430000000000064,0.9599999999999227,-1.6900000000000546,0.39999999999997726,-2.839999999999918,-2.1399999999999864,-4.579999999999927,8.230000000000018,-3.589999999999918,2.3799999999999955,-3.0299999999999727,-3.1200000000000045,0.16000000000008185,7.409999999999968,3.259999999999991,-6.329999999999927,4.3700000000000045,8.210000000000036,-9.009999999999991,-7.269999999999982,-5.649999999999977,-12.980000000000018,-10.930000000000064,0.7200000000000273,-9.5,-5.1200000000000045,11.360000000000014,8.019999999999982,7.110000000000014,5.369999999999891,-28.610000000000014,-2.519999999999982,-19.519999999999982,11.519999999999982,9.279999999999973,4.310000000000059,-10.830000000000041,6.590000000000032,-4.360000000000014,-6.740000000000009,-2.580000000000041,8.240000000000009,-0.6899999999999409,-12.030000000000086,-9.520000000000095,5.909999999999968,4.809999999999945,-5.6200000000000045,10.190000000000055,3.939999999999941,9.289999999999964,4.230000000000018,2.2000000000000455,-0.32999999999992724,0.5099999999999909,-9.600000000000023,3.980000000000018,-0.34000000000003183,-1.2800000000000864,-1.1000000000000227,-0.9900000000000091,0.8700000000000045,-8.650000000000091,-0.5400000000000773,-10.92999999999995],\"coloraxis\":\"coloraxis\",\"opacity\":0.7,\"size\":[328.9,331.475,328.82,326.225,315.875,311.51,311.46,313.66999999999996,310.83500000000004,313.24,312.86,316.925,292.08,291.86,290.33000000000004,285.2,283.69500000000005,286.34000000000003,287.275,288.70500000000004,290.07500000000005,291.03,295.175,300.085,302.155,302.885,304.73,301.9,304.82,303.055,302.735,300.51,301.38,304.05,304.73,300.94,303.15,303.22,305.72,309.115,309.8,309.91499999999996,307.315,299.53999999999996,303.125,303.32500000000005,301.845,300.44,304.705,307.905,308.42999999999995,310.33000000000004,313.455,314.65,318.78,318.755,321.145,321.05499999999995,323.365,326.195,324.01,322.40999999999997,319.385,320.45,316.34000000000003,315.07,313.98,313.59000000000003,315.64,322.14,316.945,305.225,305.03,302.77,302.68,300.045,296.055,299.86,302.41999999999996,305.78,305.69000000000005,303.03499999999997,301.81500000000005,301.05,304.80499999999995,300.05,300.265,303.265,303.40999999999997,305.46000000000004,303.695,301.14,303.55,310.345,313.595,306.135,302.78999999999996,301.325,300.555,301.57,296.39,295.755,292.76,291.15999999999997,284.185,286.55,285.08500000000004,287.815,290.20000000000005,287.82000000000005,286.93,281.16999999999996,280.37,279.35,279.355,282.30499999999995,288.27,287.3,284.825,283.26,280.305,280.47,283.935,279.81,287.005,288.79,290.515,296.04,292.985,291.37,291.70000000000005,284.635,282.45,285.85,286.66499999999996,286.195,288.875,295.015,301.65,303.015,304.425,303.545,305.58,311.95500000000004,316.83500000000004,315.0,316.53499999999997,314.18,318.77,320.95000000000005,318.99,319.895,320.77,318.4,325.485,331.72,333.34000000000003,334.175,335.98,336.62,333.79,335.57,336.61,337.365,331.57,334.33500000000004,340.01,340.615,340.875,338.355,340.135,344.865,351.16499999999996,351.48,346.615,342.665,348.58000000000004,353.675,353.145,355.03,359.895,361.78999999999996,364.895,368.69,376.725,374.15999999999997,377.21000000000004,376.20000000000005,378.88,377.645,377.615,380.895,383.40999999999997,378.015,374.56,370.07,375.78499999999997,373.345,367.26,369.475,372.755,357.515,343.39,337.32000000000005,338.565,339.295,337.615,337.295,337.735,341.125,344.44,339.335,339.74,334.925,329.445,328.43,331.42499999999995,330.22,326.94500000000005,324.76,321.05,329.875,334.385,331.31,332.78,330.265,332.005,335.945,342.69,344.93,348.695,344.015,342.91999999999996,343.745,343.53999999999996,342.575,346.115,347.945,352.685,350.25,355.155,359.69,358.575,359.06,356.0,354.33000000000004,352.5,350.55,350.41999999999996,350.33,359.53999999999996,361.805,365.915,366.12,363.82,365.37,368.245,368.30499999999995,364.77,360.425,358.15999999999997,356.33000000000004,352.20500000000004,348.905,369.81,372.935,375.77,374.47,374.47,377.05,375.56,382.24,380.76,381.22,381.435,384.635,390.095,387.735,390.355,389.87,390.16499999999996,393.61,399.07500000000005,398.69500000000005,397.675,397.275,398.235,393.615,397.475,400.505,399.325,405.44,415.705,416.64,414.995,413.44,416.24,412.345,411.70500000000004,409.56,406.885,402.05,404.91,405.71500000000003,405.17,404.70500000000004,404.995,403.935,400.58000000000004,398.175,397.385,403.195,402.21,397.77,389.39,385.54499999999996,387.76,390.625,392.82,392.28499999999997,392.03499999999997,393.505,390.77,385.32,390.96000000000004,393.265,402.46000000000004,404.98,404.51,399.58000000000004,404.905,409.78999999999996,408.74,411.86,419.13,425.935,427.03499999999997,430.08500000000004,435.34000000000003,436.53999999999996,437.325,439.81,450.90999999999997,453.79499999999996,451.81,454.695,450.63,447.37,439.345,435.825,441.48,433.945,434.7,434.5,430.63,429.555,430.03,426.78999999999996,434.70000000000005,441.12,439.98,437.275,434.65999999999997,438.065,440.275,445.66999999999996,450.395,444.41499999999996,439.09,433.265,434.41999999999996,435.51,438.69,437.365,442.61,440.41999999999996,440.265,444.02,449.155,451.03999999999996,451.19,455.625,457.845,459.37,458.745,459.07,454.095,442.98,450.73,451.45500000000004,451.06,444.07,441.34000000000003,442.27,442.46000000000004,444.01,448.21,450.27,449.495,449.675,445.21500000000003,443.62,444.715,440.51,439.525,435.21500000000003,429.125,428.14,430.745,432.295,434.225,434.62,435.305,433.615,426.31,424.20500000000004,425.645,424.31,428.43,430.555,436.24,437.74,441.385,442.34000000000003,444.1,445.30499999999995,443.47,443.80499999999995,440.70000000000005,445.095,448.66499999999996,448.26,445.03,441.22,438.895,437.8,435.575,435.655,440.28,440.145,439.9,435.25,432.9,427.795,424.815,430.645,433.07,433.78499999999997,438.265,443.92,443.995,495.505,502.755,500.32500000000005,506.94500000000005,514.415,507.985,507.20000000000005,510.695,513.95,514.445,513.355,511.685,510.355,508.685,505.995,504.86,504.095,503.75,507.935,515.5899999999999,515.145,517.5550000000001,512.5250000000001,511.51,514.15,514.4200000000001,520.105,524.145,530.015,529.5350000000001,527.3,526.14,526.52,525.715,530.53,535.575,539.97,539.6,535.975,531.5550000000001,532.1800000000001,535.28,533.995,540.745,545.25,553.1600000000001,553.76,554.8399999999999,556.22,555.3,554.7349999999999,554.425,553.39,554.245,563.105,568.025,565.325,563.22,563.905,567.645,572.55,574.3299999999999,574.0550000000001,576.665,579.515,577.05,567.01,550.13,556.835,553.22,567.8050000000001,582.2349999999999,576.27,570.86,567.5699999999999,574.77,582.4300000000001,585.6600000000001,588.815,590.63,592.6700000000001,597.06,600.9649999999999,599.4300000000001,599.53,600.925,604.05,606.455,608.38,608.03,605.335,597.75,604.11,606.35,608.905,607.33,603.175,600.49,595.775,596.5799999999999,588.645,591.5799999999999,598.9,599.35,599.0,595.79,580.54,577.05,573.62,558.925,561.01,560.4300000000001,562.035,581.91,574.13,558.85,536.345,546.8050000000001,557.6300000000001,550.935,531.8050000000001,535.36,527.01,546.995,538.85,529.6949999999999,530.915,528.6099999999999,525.44,518.635,509.29999999999995,521.46,523.8199999999999,526.96,528.355,523.6700000000001,519.51,508.595,510.43499999999995,510.65,523.165,531.3299999999999,527.6949999999999,520.2149999999999,517.2,522.25,529.81,534.08,542.7,547.165,558.6400000000001,562.875,559.8199999999999,557.0999999999999,551.8,545.9449999999999,542.19,548.1949999999999,551.98,557.94,559.2149999999999,555.925,551.71,547.4300000000001,544.0799999999999,540.84,547.275,550.245,552.47,558.09,565.2750000000001,571.02,575.5699999999999,575.255,575.5799999999999,578.935,581.3199999999999,581.37,581.4100000000001,571.26,571.48,569.235,574.56,580.03,579.59,583.7,573.2249999999999,587.79,588.2,593.495,593.5450000000001,594.005,587.8299999999999,587.015,585.005,585.145,575.245,567.845,568.165,565.74,563.8050000000001,563.9449999999999,563.7550000000001,566.69,561.845,568.815,572.82,573.375,578.665,584.065,583.03,581.2249999999999,581.3399999999999,580.405,577.605,572.7249999999999,568.615,567.995,572.94,577.41,581.015,582.6500000000001,587.4200000000001,582.9,578.63,577.45,576.47,570.015,575.5,581.55,585.665,591.37,587.09,582.325,583.4749999999999,579.49,575.375,573.11,574.77,570.73,566.06,573.285,576.14,567.945,564.135,563.73,553.0699999999999,539.8199999999999,538.7,524.11,520.7850000000001,518.335,513.52,521.52,532.835,540.05,538.855,539.24,543.81,549.075,546.655,555.635,554.0450000000001,550.89,548.92,542.44,540.955,543.815,547.615,546.315,545.14,542.925,537.45,536.585,532.7,531.635,537.875,537.6800000000001,539.81,537.82,537.825,535.165,531.19,531.17,531.505,527.135,525.9549999999999,525.9000000000001,529.49,529.06,522.145,516.765,499.655,500.53,507.89,510.90999999999997,519.845,528.975,527.94,529.3299999999999,531.285,527.695,527.75,526.245,517.275,507.22,502.07,495.88,498.49,490.425,496.32000000000005,496.75,500.35,502.71500000000003,507.865,511.33500000000004,526.5699999999999,536.115,532.87,523.01,515.0799999999999,504.76,526.25,524.335,526.885,525.5250000000001,523.855,530.35,527.56,530.855,534.45,538.27,545.02,544.05,540.02,539.0799999999999,538.2950000000001,531.465,531.06,539.35,547.3199999999999,557.275,563.9000000000001,569.39,570.99,574.085,570.155,565.35,558.255,552.89,551.9000000000001,549.8,549.9200000000001,549.39,551.875,556.94,558.8499999999999,557.565,566.345,563.95,553.255,550.1949999999999,549.31,549.205,543.825,535.88,532.53,537.865,539.635,537.245,538.325,539.205,531.375,527.53,531.14,523.985,528.8399999999999,535.06,534.9449999999999,544.1,562.6500000000001,559.575,553.1949999999999,550.295,541.8199999999999,535.8199999999999,539.565,535.065,526.735,527.605,533.075,538.69,529.235,531.49,535.7049999999999,534.825,531.835,536.8499999999999,537.9449999999999,539.9100000000001,541.85,534.44,536.13,538.4300000000001,535.04,533.275,537.165,540.3050000000001,537.455,534.86,530.1800000000001,526.105,533.855,536.0,531.64,526.15,527.5999999999999,528.04,534.47,535.63,540.635,538.375,537.8299999999999,538.065,534.5550000000001,524.575,523.375,521.96,522.865,522.125,520.68,519.4200000000001,522.06,529.055,539.755,556.28,561.645,572.8399999999999,659.735,660.9449999999999,663.65,668.8199999999999,652.315,635.345,627.4,628.0699999999999,628.005,628.635,629.2049999999999,629.2,630.9849999999999,640.51,638.815,636.1949999999999,637.345,664.585,658.645,658.0799999999999,656.255,656.31,658.73,660.595,652.9449999999999,626.19,582.19,599.28,615.38,632.7950000000001,630.72,626.74,603.48,607.0250000000001,611.2650000000001,599.36,610.2149999999999,618.06,617.795,621.5999999999999,622.645,631.24,635.135,642.96,633.51,631.215,621.49,624.4649999999999,619.86,620.385,601.99,597.61,604.745,605.97,615.235,635.005,642.89,641.38,635.005,640.655,643.755,650.48,654.12,658.7950000000001,661.085,663.2,654.46,648.8,650.905,715.75,710.2049999999999,709.085,708.03,714.135,714.025,713.735,719.685,727.5,734.475,731.21,727.0699999999999,724.5450000000001,735.615,733.2249999999999,723.94,720.4100000000001,727.435,734.2049999999999,739.7149999999999,750.46,757.2650000000001,746.4549999999999,749.03,750.45,748.0999999999999,757.825,767.46,757.31,759.245,761.9100000000001,759.5,750.615,749.84,741.23,736.45,750.5450000000001,750.01,755.8399999999999,746.14,745.0,750.19,749.105,748.985,756.255,773.2049999999999,772.25,763.9200000000001,737.66,745.3199999999999,738.05,728.78,723.115,711.1949999999999,723.0350000000001,716.675,705.51,696.0550000000001,701.6949999999999,690.0550000000001,706.825,724.125,719.845,712.38,706.31,723.02,735.895,750.565,777.26,747.5,714.4300000000001,692.0699999999999,673.545,684.335,691.72,679.11,686.175,691.525,700.565,704.19,698.565,707.875,700.99,690.39,698.2850000000001,707.145,704.285,709.29,716.0,712.735,711.255,697.495,694.565,699.8399999999999,709.9000000000001,722.025,730.325,728.53,730.99,739.5350000000001,736.915,738.01,741.23,740.935,734.375,735.745,738.005,753.31,745.895,743.6700000000001,747.615,739.085,740.9,741.64,740.5,740.525,737.4200000000001,749.3199999999999,755.01,756.845,762.675,759.615,754.0699999999999,755.0,724.865,719.76,714.4,700.6700000000001,701.8599999999999,693.31,695.8199999999999,694.9200000000001,694.38,699.02,704.985,714.355,719.61,718.64,714.125,712.96,712.065,712.815,706.115,701.4,707.55,707.8299999999999,713.915,723.61,724.3050000000001,728.97,735.495,733.935,728.595,725.025,719.76,719.265,724.575,725.94,721.16,720.975,717.7950000000001,720.145,709.9549999999999,698.635,697.9449999999999,697.39,696.97,694.475,681.425,667.79,676.665,684.42,687.985,696.39,692.9100000000001,695.385,693.21,701.0699999999999,711.875,719.425,720.425,720.12,722.395,728.6600000000001,732.995,739.615,738.76,739.9,740.0550000000001,737.98,740.73,743.9749999999999,772.66,770.76,771.845,770.0150000000001,771.4300000000001,777.69,780.36,784.7550000000001,784.795,786.36,781.9,783.8,777.21,777.17,779.9300000000001,775.115,772.295,774.11,770.7850000000001,767.535,770.965,770.8,770.655,767.235,767.66,771.165,776.5,779.465,776.965,766.45,762.145,761.01,763.395,766.88,767.2049999999999,769.22,770.9300000000001,772.73,784.145,786.54,777.905,780.15,778.39,780.015,777.5150000000001,772.7850000000001,775.8,778.86,778.01,775.2049999999999,782.625,786.4300000000001,785.095,777.11,779.975,781.675,793.59,801.315,800.0,796.75,810.0,810.91,801.6500000000001,797.495,804.54,790.4300000000001,782.515,772.55,764.49,760.46,778.87,787.9100000000001,781.45,771.675,755.5799999999999,742.6949999999999,755.6949999999999,758.435,768.465,767.5,765.1500000000001,771.98,761.765,762.76,769.665,773.37,763.9100000000001,748.44,748.55,758.4,763.085,763.5799999999999,772.7049999999999,784.2249999999999,787.8,798.86,799.005,797.96,795.575,791.9649999999999,795.96,791.89,790.95,790.01,792.76,788.715,782.425,776.595],\"sizemode\":\"area\",\"sizeref\":2.027275,\"symbol\":\"circle\"},\"mode\":\"markers\",\"name\":\"\",\"scene\":\"scene\",\"showlegend\":false,\"x\":[325.25,331.27,329.83,328.34,322.04,313.7,310.59,314.43,311.96,314.81,312.14,319.3,294.16,291.91,292.07,287.68,284.92,284.32,287.95,290.41,291.38,291.34,294.23,296.39,302.44,303.18,304.87,302.81,304.11,304.63,305.32,300.28,301.36,300.81,304.84,302.37,302.54,302.16,303.86,308.14,309.97,309.84,309.06,302.89,303.39,303.88,302.84,298.88,303.24,306.35,307.15,309.29,310.4,314.28,316.12,318.06,322.09,321.3,322.31,324.8,325.5,324.66,319.19,321.5,318.03,314.94,313.07,315.58,315.8,319.98,322.57,310.34,303.14,302.89,301.71,301.0,295.34,298.0,300.87,304.31,306.36,305.35,300.77,299.48,303.67,301.83,296.39,301.63,302.28,305.34,304.04,299.27,301.54,307.83,315.73,311.38,299.13,305.57,299.7,303.44,299.38,296.79,292.98,293.26,284.83,284.05,286.65,287.16,292.7,286.85,291.01,283.82,279.81,279.6,279.12,280.26,285.72,288.82,288.84,282.94,282.61,280.33,282.79,281.89,286.41,289.82,288.92,293.28,295.12,291.38,293.99,287.07,282.5,285.01,287.11,288.14,287.41,291.98,303.24,299.12,306.35,303.02,306.35,308.29,316.84,312.96,317.46,311.59,318.81,318.61,319.7,318.33,321.05,318.1,322.5,328.39,333.89,332.51,335.8,336.49,335.3,332.44,335.88,336.54,330.26,331.26,337.42,340.84,340.72,341.0,338.73,341.7,348.69,353.55,347.68,343.42,345.25,353.48,352.73,352.57,357.41,360.88,364.74,364.14,375.12,373.52,378.56,375.67,378.11,381.17,376.45,379.95,383.92,379.08,378.42,369.54,375.04,374.52,369.58,368.68,370.59,376.36,351.47,339.23,334.75,342.12,338.73,336.99,338.66,338.48,346.1,340.97,341.46,336.24,333.85,326.1,330.64,330.26,329.1,323.79,321.79,326.63,333.5,333.25,333.73,331.98,328.85,332.76,342.61,344.36,349.81,346.2,344.78,342.51,346.2,341.42,343.71,348.31,356.62,348.28,351.43,356.96,359.01,360.28,355.65,355.92,352.71,352.25,349.53,348.69,358.37,361.11,363.31,366.35,366.4,364.77,370.03,369.61,367.12,358.32,359.85,357.51,353.85,351.01,366.62,369.24,373.98,374.48,371.98,375.46,373.85,377.68,382.41,379.14,378.12,383.41,388.61,387.75,389.42,388.61,388.41,392.23,396.51,401.15,397.51,398.14,399.65,396.02,395.92,399.05,397.41,401.15,412.92,418.94,415.47,415.69,414.29,413.8,412.4,411.95,407.72,401.0,404.11,406.89,404.13,405.85,404.69,405.23,401.83,400.49,396.02,400.77,405.21,400.62,391.56,387.92,386.3,390.0,394.96,394.52,391.51,391.83,391.91,391.21,383.14,398.81,399.0,402.55,406.6,402.29,400.13,407.97,410.09,408.52,416.92,422.55,429.89,426.9,433.79,436.02,437.8,437.11,446.08,457.78,453.31,450.81,452.31,449.59,436.86,436.0,440.1,436.22,433.34,432.44,434.87,432.3,429.64,430.54,433.58,439.4,440.33,441.08,432.87,438.41,437.97,442.67,449.0,445.33,442.51,434.31,436.99,435.24,437.76,435.82,441.57,443.44,438.31,443.34,447.93,453.8,450.04,454.8,458.28,460.42,461.83,458.78,457.78,441.65,449.32,453.65,451.94,445.27,441.84,440.8,441.08,444.83,445.83,450.03,451.0,450.66,445.85,446.07,443.62,441.79,441.76,437.54,430.61,429.03,427.25,432.55,433.7,434.72,437.28,433.38,428.2,423.54,422.95,426.28,425.58,428.57,435.12,439.57,440.21,443.35,442.61,447.02,445.58,446.43,442.05,441.52,451.3,447.52,446.4,441.59,441.62,437.51,435.78,432.92,438.48,439.72,442.34,435.87,432.11,431.04,426.54,430.31,431.4,431.71,436.24,441.28,444.83,486.47,503.84,500.62,498.63,514.01,512.49,505.7,507.65,516.78,512.54,513.97,513.82,508.27,510.89,509.4,502.49,502.87,501.97,501.5,515.03,515.5,515.94,513.93,513.05,511.58,514.78,516.64,522.34,529.03,529.1,529.77,523.51,523.72,526.63,532.9,533.5,536.07,541.67,537.77,535.69,530.01,534.41,533.92,538.37,542.12,551.85,555.4,554.92,557.91,558.08,554.04,555.65,555.42,554.43,560.4,570.86,569.59,567.41,561.13,566.85,574.34,572.4,576.27,578.3,581.13,577.83,573.36,560.95,553.09,557.47,570.36,583.49,587.4,566.87,569.56,573.42,581.63,583.71,587.88,592.28,588.17,595.57,598.46,600.4,599.32,601.65,600.43,605.7,609.71,606.92,607.89,601.12,605.23,605.26,608.86,611.11,605.58,604.62,595.97,601.72,588.79,587.42,595.1,603.64,597.73,600.9,589.88,580.82,578.84,566.44,559.66,565.34,557.18,598.35,568.29,573.08,539.26,541.11,558.09,563.45,531.09,536.78,535.35,541.51,547.31,534.63,527.19,532.33,528.62,521.08,515.76,515.48,526.16,525.67,532.3,523.38,523.79,514.38,507.07,509.35,522.08,529.44,531.54,524.26,519.96,518.28,528.29,531.44,539.65,545.76,554.48,563.02,561.81,559.26,559.16,549.48,540.02,544.9,556.53,555.62,558.98,556.47,555.77,550.75,547.76,542.71,543.37,552.72,555.33,553.63,563.64,563.71,579.41,575.6,577.08,576.74,581.75,581.75,582.16,576.08,570.02,564.36,570.34,581.0,584.14,586.39,577.94,591.38,590.13,589.1,591.61,594.82,588.78,586.46,587.14,584.94,579.01,568.84,567.48,568.49,560.24,566.44,562.02,568.43,562.97,565.76,574.6,576.28,574.53,583.4,584.28,582.22,581.99,583.12,579.67,575.69,568.0,569.77,570.28,578.41,578.41,582.38,584.99,587.29,579.91,578.77,579.41,571.37,571.19,578.42,585.39,589.88,592.19,585.24,579.87,585.94,574.48,570.18,575.35,574.43,565.76,571.48,577.22,572.83,564.02,569.62,556.19,543.5,537.42,529.56,517.58,525.81,508.06,523.75,528.44,537.84,542.87,535.56,541.51,548.49,547.45,557.82,553.98,551.49,555.28,544.01,544.71,539.98,546.99,548.88,548.29,545.18,542.09,536.03,533.54,529.8,540.13,536.18,537.52,539.4,539.14,537.42,532.05,529.98,529.71,529.55,525.69,520.71,531.62,526.35,522.08,521.31,510.16,495.64,511.55,510.11,514.67,525.56,529.06,527.32,530.73,526.64,529.8,527.56,521.83,513.59,505.61,496.63,503.38,493.58,497.47,493.3,504.19,498.64,509.6,505.86,520.05,534.12,537.06,528.52,521.35,509.6,514.45,530.27,526.55,527.79,522.36,526.2,526.55,527.85,533.83,535.78,541.86,545.33,539.92,536.57,541.64,534.58,528.55,534.43,541.72,552.72,559.0,568.89,570.3,573.45,573.31,565.31,562.71,553.62,551.99,551.98,549.44,550.2,550.99,557.86,560.11,558.9,561.02,568.94,556.06,551.49,550.11,548.49,547.1,539.37,530.76,536.61,536.91,539.55,540.81,536.94,534.78,527.25,528.45,527.21,524.16,536.04,532.94,539.52,564.55,563.39,554.64,550.47,547.87,538.43,538.53,538.21,531.24,523.99,536.65,538.37,531.6,530.56,533.77,539.18,532.01,533.98,538.49,537.95,540.15,538.12,532.8,538.01,537.37,536.79,532.93,539.91,537.76,536.35,533.31,527.56,529.36,538.42,531.6,528.0,528.4,529.37,531.0,537.21,539.59,539.64,540.0,538.87,537.26,525.01,526.02,524.73,521.08,519.5,523.13,521.05,523.12,526.29,532.88,546.76,560.13,565.12,649.0,659.24,655.21,660.89,661.27,647.0,621.0,632.83,628.8,630.0,631.38,625.34,628.42,634.33,645.0,640.23,639.48,669.2,663.08,659.32,655.01,656.8,661.9,656.6,655.46,639.78,573.0,614.91,610.35,639.4,632.82,627.54,602.36,605.59,617.0,600.0,612.49,621.22,613.1,619.75,625.7,626.7,635.47,637.79,636.79,634.4,627.0,622.05,616.64,629.77,610.34,597.28,603.28,608.37,607.2,632.0,638.84,649.24,641.36,640.0,642.09,643.15,653.21,654.66,664.11,661.18,664.04,654.15,646.7,727.5,701.55,707.38,707.33,710.5,715.73,711.06,718.86,722.0,729.47,731.5,730.2,724.4,732.46,731.0,729.17,715.6,729.29,727.58,738.74,746.53,757.45,752.0,748.14,748.46,748.81,747.11,768.9,766.01,753.1,767.77,757.89,759.17,752.85,741.16,741.79,753.0,750.0,762.42,746.51,746.13,751.65,753.47,749.55,752.92,766.69,776.6,769.5,743.0,746.45,730.0,730.31,731.45,716.61,721.68,730.85,705.38,692.29,703.3,688.61,702.18,723.6,723.58,713.85,713.67,722.22,731.53,750.46,784.5,770.22,722.81,703.87,667.85,672.32,686.86,675.0,690.26,692.98,698.09,710.0,695.03,707.45,701.45,688.92,700.01,708.58,700.32,703.62,719.0,718.68,714.99,706.9,688.59,698.47,708.12,720.0,726.81,726.92,726.37,736.45,741.86,736.5,737.46,742.36,732.01,736.79,734.59,750.1,749.25,738.6,750.06,738.0,735.77,745.37,743.97,743.02,738.0,749.16,754.01,753.98,760.46,769.51,758.0,755.38,726.3,716.1,725.42,707.29,708.26,690.7,697.63,696.87,690.49,697.7,698.38,712.0,716.75,723.41,717.06,711.93,709.13,715.99,703.67,702.36,701.62,706.53,706.86,720.76,722.87,724.01,731.74,734.53,732.5,729.27,724.91,719.84,723.96,722.87,719.47,716.51,716.48,719.0,714.91,708.65,698.77,698.4,699.06,697.45,675.17,671.0,678.97,683.0,685.47,692.2,696.06,689.98,698.08,699.5,708.05,719.12,723.62,721.58,725.73,722.71,729.89,737.33,740.36,741.86,740.67,739.04,738.28,747.04,772.71,761.09,768.69,767.18,772.22,773.78,782.0,781.1,783.75,785.0,781.5,783.75,780.3,777.32,780.01,775.0,773.27,775.48,770.58,767.0,769.0,768.74,769.33,767.01,769.25,773.01,773.45,780.0,778.59,770.1,755.13,764.48,759.61,762.89,769.75,772.42,769.0,772.66,780.0,786.59,782.74,775.5,777.85,781.44,776.33,774.25,776.03,779.31,779.0,779.66,777.71,786.66,783.76,781.22,781.65,779.8,787.85,798.24,803.3,795.0,804.9,816.68,806.34,801.0,808.35,795.47,782.89,778.2,767.25,750.66,774.5,783.4,779.94,791.17,756.54,755.6,746.97,755.2,766.92,771.37,762.61,772.63,767.73,764.26,760.0,771.53,770.07,757.44,744.59,757.71,764.73,761.0,772.48,780.0,785.04,793.9,797.4,797.34,800.4,790.22,796.76,795.84,792.36,790.9,790.68,793.7,783.33,782.75],\"y\":[663.59,666.45,657.21,648.24,620.76,621.43,624.25,627.92,623.28,626.86,631.18,637.82,584.39,583.92,579.34,567.93,566.54,578.39,576.11,578.52,579.24,583.51,594.7,607.42,605.11,608.18,609.79,604.25,610.52,608.09,603.9,604.86,602.98,612.32,606.28,604.45,608.23,607.64,616.7,616.56,620.7,619.55,612.57,603.3,605.14,605.48,598.61,603.49,616.09,614.3,619.43,623.33,632.24,631.76,638.23,644.28,640.83,647.55,645.25,653.96,646.63,639.48,645.15,640.86,633.41,630.59,629.11,625.14,634.22,649.23,622.89,604.41,607.9,605.79,597.66,594.43,595.96,599.62,608.05,613.78,613.3,603.19,602.78,605.6,609.35,595.34,605.89,611.11,607.48,611.98,603.57,602.35,609.44,627.21,621.34,598.76,612.43,599.16,607.79,602.01,589.91,592.71,586.62,579.27,569.42,577.01,568.85,578.98,576.65,578.86,566.94,563.55,559.55,557.52,562.96,569.29,579.94,575.93,563.66,569.92,559.16,563.13,567.74,562.76,578.48,578.88,586.22,594.29,584.38,584.41,580.11,569.63,568.92,574.94,573.35,575.15,579.17,591.44,609.15,613.82,605.91,606.33,611.68,633.22,630.57,631.24,630.95,627.03,639.57,641.06,638.79,640.47,640.59,640.24,658.2,666.83,665.71,671.03,675.29,673.69,667.68,675.33,674.95,676.77,667.39,675.4,686.13,679.81,683.21,679.18,678.86,697.49,704.22,698.85,690.29,688.99,704.11,707.74,708.04,716.31,725.51,726.13,731.98,747.33,747.11,751.4,754.43,752.43,759.69,754.92,760.41,765.95,765.55,755.77,742.05,742.52,749.42,742.71,738.95,742.66,753.42,693.1,679.92,676.81,678.49,675.45,675.9,673.3,678.44,685.71,686.04,681.09,679.85,665.29,650.5,661.21,664.08,657.25,650.76,645.49,645.41,666.38,668.14,664.05,666.14,659.34,668.87,681.8,690.0,696.46,693.35,689.14,685.94,689.24,682.34,683.54,694.97,695.65,700.78,700.04,718.81,719.1,718.14,720.38,713.67,707.56,706.93,704.36,698.09,705.44,721.27,721.69,735.95,732.74,731.29,736.1,739.45,737.96,721.27,722.95,713.23,709.37,702.58,700.95,739.47,752.15,751.61,748.67,751.62,751.77,753.62,773.48,756.94,763.64,768.06,771.83,783.22,780.28,778.56,780.72,785.66,790.72,804.64,790.29,793.35,797.52,788.6,787.97,797.59,799.01,803.98,819.25,836.3,829.1,830.32,829.24,832.53,825.34,823.05,819.29,812.07,805.58,809.1,812.48,809.04,808.09,807.42,810.2,800.46,792.02,799.0,810.81,803.99,792.89,780.91,772.73,775.52,788.02,788.23,787.89,779.79,791.2,780.42,763.81,797.68,797.92,805.69,811.22,806.88,799.23,816.82,822.31,818.18,827.34,843.4,859.19,854.88,871.24,869.09,877.82,875.13,884.67,913.38,901.4,906.69,906.04,904.49,886.98,880.37,870.93,878.86,865.93,868.38,868.83,865.25,856.75,857.35,862.27,877.32,887.78,877.4,869.59,874.6,872.64,883.82,898.15,898.21,882.32,878.52,867.41,863.83,871.26,874.67,877.96,885.45,879.89,884.0,891.04,902.61,902.76,903.51,917.72,920.47,922.16,917.09,916.04,908.19,894.15,908.21,901.33,900.43,885.27,882.93,879.85,888.48,885.32,901.74,904.09,902.52,894.12,888.21,890.22,887.97,883.09,878.84,867.43,857.31,854.56,863.28,863.05,866.95,871.32,867.83,864.02,847.82,846.23,853.09,844.58,858.02,869.24,877.15,877.17,885.62,886.24,893.74,890.61,886.64,885.33,883.68,900.85,895.93,900.64,884.07,884.41,874.83,875.77,873.99,873.51,884.57,885.56,873.69,869.96,863.37,851.33,853.52,865.86,869.6,873.71,879.6,895.57,886.36,null,null,null,null,null,null,null,null,null,null,null,null,null,null,null,null,null,null,null,null,null,null,null,null,null,null,null,null,null,null,null,null,null,null,null,null,null,null,null,null,null,null,null,null,null,null,null,null,null,null,null,null,null,null,null,null,null,null,null,null,null,null,null,null,null,null,null,null,null,null,null,null,null,null,null,null,null,null,null,null,null,null,null,null,null,null,null,null,null,null,null,null,null,null,null,null,null,null,null,null,null,null,null,null,null,null,null,null,null,556.93,558.46,555.45,565.61,565.45,568.18,541.65,536.68,553.38,562.6,539.47,529.15,531.06,534.97,555.02,534.63,527.17,533.35,525.5,523.72,514.77,515.73,526.26,525.22,529.9,526.48,526.36,513.73,508.56,509.6,517.31,528.47,531.63,525.21,518.56,519.2,527.41,528.32,537.46,543.57,551.19,564.4,560.14,558.55,558.36,552.41,543.45,543.17,552.38,554.81,560.58,559.02,557.31,549.84,550.25,542.79,541.52,551.85,553.38,554.84,563.4,563.07,577.07,574.42,575.66,573.7,581.07,580.74,583.13,580.66,569.53,574.5,569.54,577.59,583.27,583.18,581.06,572.16,593.45,587.86,593.11,594.35,591.73,587.41,588.98,584.01,585.81,570.03,564.52,571.58,563.52,564.82,561.82,567.21,566.33,561.19,573.21,573.08,571.91,580.57,585.25,582.89,581.77,580.96,578.61,576.28,569.44,567.64,570.03,575.75,576.36,580.39,584.48,588.11,579.42,581.5,579.76,574.04,571.53,578.36,583.17,587.66,594.45,585.76,579.54,586.38,573.49,575.52,574.78,575.78,566.71,568.52,573.7,575.77,562.2,570.93,559.34,543.0,531.75,536.47,528.58,523.07,509.77,519.41,525.1,531.25,542.49,538.3,539.29,547.4,547.83,548.8,557.55,553.7,552.59,544.43,540.56,539.53,545.99,548.78,545.81,543.89,542.91,535.04,533.57,535.52,533.37,536.03,537.79,539.6,538.89,540.35,532.34,532.29,529.87,535.84,523.82,525.54,531.91,524.62,526.89,517.24,512.39,494.03,503.51,509.7,514.94,523.43,529.14,527.32,532.57,528.88,528.97,524.96,523.37,512.46,500.59,499.73,501.3,494.81,491.2,494.82,499.5,500.42,506.69,505.51,516.62,532.93,538.47,533.74,517.21,508.6,509.26,533.06,527.03,527.79,521.33,526.14,529.55,526.38,535.47,534.5,541.44,547.51,541.35,538.22,541.38,537.47,530.45,534.62,542.38,553.96,556.87,569.78,572.07,571.8,573.75,566.13,567.29,553.49,549.67,553.99,545.82,552.99,549.33,557.97,556.46,558.83,557.28,568.63,557.26,553.65,546.84,550.52,546.5,541.07,534.06,535.3,535.55,540.13,539.3,538.53,537.69,528.94,531.07,532.34,522.62,533.91,532.51,537.89,545.5,563.51,555.37,553.68,549.08,537.34,537.9,540.78,530.8,524.22,530.7,538.22,535.7,529.04,529.62,538.4,533.85,532.3,537.36,539.27,542.51,540.11,532.32,539.79,539.78,532.11,533.99,539.18,540.31,536.7,533.33,526.83,526.69,536.69,534.61,532.33,527.2,528.15,529.26,536.73,536.69,538.19,540.48,537.84,535.23,531.69,521.52,520.51,521.84,523.4,522.86,525.02,516.83,520.68,530.13,546.55,561.1,560.22,579.85,672.93,663.02,662.3,662.1,644.28,623.56,627.26,628.0,631.93,632.59,625.61,631.21,629.25,643.78,642.68,635.3,633.73,660.78,659.56,656.45,657.12,660.87,656.13,660.9,646.83,612.48,589.61,582.06,628.62,637.61,630.38,618.25,597.79,614.34,606.25,600.7,614.66,612.72,621.35,625.77,623.24,635.14,635.98,642.9,629.25,635.44,622.69,622.36,625.8,611.97,594.89,594.97,608.42,611.29,626.91,641.47,645.44,642.36,639.16,643.61,646.67,652.3,651.16,661.74,662.2,666.1,650.28,642.61,651.79,702.0,712.78,708.49,712.95,716.92,710.81,721.11,722.16,728.11,731.25,733.76,724.89,728.32,735.4,731.23,717.0,728.96,725.3,740.0,738.41,756.6,755.98,748.28,748.15,750.26,742.6,767.04,762.38,752.54,766.81,763.25,762.37,751.61,749.46,738.87,747.77,743.4,758.09,749.43,739.31,747.77,750.0,750.31,748.4,762.51,776.6,771.0,758.88,741.84,742.58,743.62,726.39,714.47,716.03,726.07,700.56,714.72,694.45,701.79,698.45,706.59,725.25,711.67,713.04,699.99,730.96,742.95,752.0,764.65,726.95,708.01,683.57,682.74,678.11,684.12,683.11,682.4,691.0,708.4,697.35,700.91,706.46,695.85,699.56,705.75,705.07,697.77,718.81,718.85,712.42,710.89,695.16,693.97,705.24,712.82,726.82,730.49,728.33,736.09,737.78,737.6,742.09,740.75,738.06,735.3,733.53,744.77,750.53,744.95,749.91,745.29,737.8,745.69,740.28,739.15,736.1,743.09,751.72,753.2,759.0,766.61,753.93,752.67,759.14,718.77,723.15,708.14,705.84,691.02,693.01,698.21,692.36,695.7,701.43,711.12,712.9,723.18,715.29,713.31,710.83,716.49,706.23,706.63,700.32,709.74,704.24,720.09,725.27,724.12,732.66,735.72,734.15,730.4,722.34,716.55,716.65,728.28,728.58,719.41,718.36,718.27,718.92,710.36,691.72,693.71,695.94,697.46,701.87,675.22,668.26,680.04,684.11,692.1,699.21,694.95,697.77,695.36,705.63,715.09,720.64,716.98,720.95,719.85,733.78,736.96,741.19,738.63,742.74,739.77,738.42,741.77,745.91,768.79,772.88,771.07,773.18,771.61,782.22,781.76,784.26,784.68,784.85,783.22,782.44,777.14,779.91,777.5,775.42,772.15,772.08,769.64,769.41,769.54,772.15,769.09,767.05,768.78,771.46,780.08,780.35,775.32,759.66,769.02,759.69,762.49,771.76,768.88,765.7,771.41,776.22,787.21,786.9,774.21,783.01,781.56,775.01,777.29,772.56,776.43,776.47,776.86,775.08,785.94,783.07,786.14,778.19,778.53,779.96,795.26,801.5,796.97,799.37,813.11,807.67,799.07,795.35,795.37,784.54,783.61,768.7,762.13,762.02,782.52,790.51,785.31,762.56,754.02,736.08,758.49,764.48,771.23,760.54,769.2,768.27,760.99,761.68,768.24,770.84,758.04,747.92,750.5,762.52,759.11,771.19,776.42,789.29,789.27,796.1,797.07,797.85,790.8,794.2,796.42,794.56,791.26,789.91,791.55,785.05,782.79,771.82],\"z\":[104.02459646425828,101.18030609472639,99.2571930994755,97.42949381738444,92.7586635200596,98.09690787376474,100.98844135355294,99.70104633781762,99.79484549301193,99.12328070899909,102.21054654962516,99.75571562793611,98.66399238509652,100.03425713404815,98.35655835929744,97.41726918798663,98.84178014881367,103.429234665166,100.07292932800836,99.20801625288384,98.79195552199877,100.2848905059381,102.12078985827415,104.93943790276326,100.07604814178019,100.60030345009562,100.01640043297142,99.5475710841782,100.75630528427213,99.61592751862916,97.79248002096162,101.43199680298392,100.0862755508362,103.55706259765303,98.88466080566856,99.90409101432022,101.04118463674223,101.09875562615831,102.95530836569473,100.09086778736938,100.24518501790496,99.9580428608314,98.20423218792469,99.18122090527913,99.45944164277005,99.2497038304594,97.6654338924845,101.91715738758032,103.16910697797125,100.52227843969312,101.6701937164252,101.53577548579003,103.68556701030928,101.01820033091514,101.89485005694041,102.56555366911901,98.95991803533177,101.54061624649857,100.1954639942912,101.3423645320197,98.6574500768049,96.9691369432637,102.12099376546884,99.3343701399689,99.16674527560293,100.22543976630472,100.94866962660109,98.0924012928576,100.82963901203293,102.89705606600413,93.10227237498837,94.75736289231166,100.53440654483077,100.00330152860775,98.0908819727553,97.48504983388703,101.78777002776465,101.21476510067113,102.09725130455011,101.69563931517203,100.18931975453714,97.54052726379565,100.41227516042159,102.21717643916122,100.661902723351,97.24348142994404,104.42322615472857,102.60252627391175,100.96599179568615,100.42575489618133,98.51664254703329,101.27309787148731,102.1091729123831,103.75207094825068,96.79472967408861,92.29237587513649,104.73707083876573,96.07945806198252,102.79946613279947,98.39506986554179,97.04389070746208,99.7068634387951,100.22527134958017,97.52779103866875,99.91573921286381,103.1367716951241,98.4475841618699,101.62278868923246,97.01059104885549,101.79884957294752,94.81804748977702,98.55894581072509,99.97498302419497,99.39914163090127,101.69102894812268,103.12923713694427,102.97494050118998,99.40793573852224,95.14610164797121,101.42786456492541,97.85570220445135,100.88110441265653,100.76381767389229,99.63815672780163,101.97618798226318,99.73776826996067,102.90045687387513,102.63570649208948,98.01436703713743,100.56627084906307,97.32303819857819,98.42895461037378,101.38761061946902,101.72625521911513,99.69698025147156,99.60782952731311,101.513517274973,102.56181930269197,100.88049070043527,105.2086119283231,97.78358087155212,100.09570325391066,99.66704749469558,105.39751532647831,99.01843201615961,101.69989775051127,98.74944874944877,101.23559806155527,100.61164957184532,101.20523524057623,99.80919612136377,101.19687117142591,99.52966827596947,101.27004086765167,104.09302325581397,103.06038551722041,99.38003534098058,101.80746443715978,101.09886837403215,100.21100181283249,99.12913808529673,103.14342437733126,100.94974395617484,101.09645213050453,102.08017925270998,103.8881845076375,103.34597830596881,99.45135547470953,100.5194881427565,99.17302052785922,100.41330853482124,104.1235001463272,101.96162780693454,97.66652524395418,98.5417625402669,100.62605555879098,103.94207096307025,100.22066312096865,100.73143764352335,103.16816518705505,102.99096275985562,101.21092884061184,100.68541975105553,105.23150436645248,99.16560034122415,101.16727350610411,99.28941251056635,100.29014826842706,100.91772235592818,98.0533620169478,101.99495284898393,101.59231477826032,99.4035215669931,99.36952622137808,96.09164420485173,100.93088704876332,99.82401877133104,98.30983659083628,99.94317874343852,101.43756102853423,103.30284141504089,84.15878414284195,93.45036560730642,99.51360433923884,102.68558625840178,97.43072606103122,99.53945620405631,99.79821359684263,100.3307151715585,102.58508626802174,98.22016758162378,99.75071120626447,99.10091958062439,97.86164644301688,94.84798562228545,102.76295614842073,100.84684248729738,99.00987101071883,97.73928896991794,99.35451990487661,100.56869386867209,104.01677739338089,100.34182908545726,99.264816204051,99.60447067989091,98.60834990059641,103.39668541888398,104.89241495372039,101.39517235340475,102.24764781043095,98.20759841056574,99.05834777585211,98.95005510760488,101.23208081515868,97.0941652224148,100.2050260676,102.19661924296648,99.72151244580975,96.50608490830575,100.99919604915586,104.53859943658763,101.45114298520845,100.03342525277847,99.9500388586655,100.66638549135388,98.79748258035511,100.42811374783815,99.96025550035486,99.72248447915774,102.31150879004274,101.26405670117475,99.85323031763176,102.56805482920923,100.01091852054044,99.58788209606986,101.79839350823809,99.83514850147289,99.65910013257218,96.46709522771845,101.7609957579817,98.20202862303738,98.4196246258846,98.55305920587818,99.69516537990373,101.69930718455076,103.70219911168886,100.97598802074977,99.92255928220463,102.05925049733855,100.22638896287222,101.58352280326332,104.79771234907858,97.93938443032347,101.41372580049585,103.1259917486512,101.30669518270258,101.54396438588817,101.2327530625403,99.92809819731907,100.90064589176811,102.275945521485,101.59600234556254,102.93056921641322,97.00610744110682,99.57988478277278,100.31144823428946,97.32265732515954,98.97227412756932,101.45231359870681,100.22804159879715,102.30492438539542,104.22535211267608,102.53317833962994,97.90423449658662,99.85077141550533,99.48519329307898,100.95343841270605,99.4538424359594,99.57565470417072,98.8809321519602,99.17345236927304,100.8927680798005,100.21776249041103,99.68050333013838,100.19300720065326,99.11050880867315,99.51567866762213,99.93583890630012,99.20364333175723,97.76274064271266,101.7574869956063,102.31304738378621,98.41316848054097,97.9157306175428,99.4355909694555,99.19828830686738,100.75588920528087,102.05641025641026,99.57210856795626,99.70850653959242,99.17498914459401,101.92430390730675,99.13245387971726,95.24296413690855,108.19543769901341,100.07522379077756,101.92731829573935,101.52030803626879,98.44564682734872,98.67011359964204,104.13865493714545,101.56138931784197,99.51230217757077,102.52129638695781,102.2930058524417,103.33451662525147,98.86017353276421,104.08526587022723,100.34809470020056,101.32562726480438,99.89264504339882,102.39070256914732,104.75699426111909,96.90681113198481,100.01544197127794,100.98045739890418,99.97125865004091,97.28641651282281,101.52222680034792,99.75458715596329,99.69552374460349,98.50763376278022,100.39230165689759,100.9134215151235,98.96750753098627,98.18413139023826,99.55078670514851,100.2763970827333,102.34328151667513,102.04369594902141,99.25964617446007,97.15017683866873,102.04680389031348,99.04655459501377,101.79920999155195,102.89380351051571,100.0467706013363,98.1272314912537,98.53110664165781,99.72139715871151,97.67729238655348,100.17921146953404,99.80582967836257,101.45013996604104,100.5231333650384,98.42368753382644,101.68373981884966,100.9834438579871,101.50693188667871,98.93345085940942,100.76215447515776,101.7854001759015,100.85319018940389,100.28669475696101,98.5773986098781,99.66868651641309,98.39005635894974,102.45669647911242,102.12988515979704,98.6840074947647,99.23662433066335,98.81644844700969,99.83025529603476,99.6029945553539,101.43284664913395,99.02434637951579,102.26095148374942,100.89549585583187,100.11529933481154,98.40234322992943,99.21722552427946,99.56957428206337,100.16455524998872,99.88908757554495,98.9406012314379,98.25158842620101,99.0919857876036,99.18420623266438,102.05500292568752,99.52606635071089,99.89624164168782,100.43246227456754,98.46094035858034,99.36776039503438,97.99626342830456,99.79931057279123,101.699964534815,98.12799099183638,101.61191785328259,102.82334274447582,101.58806765949622,99.55183474759424,101.18125440130848,99.89624450208639,101.92494521135988,99.23269652364549,98.98559181291799,98.31328539748674,99.90498812351542,104.03379235368729,98.52204741856856,101.25134072220237,98.04435483870971,100.27853891618923,98.09564784203614,100.17142465315078,100.55762081784387,101.77168991961562,101.7355409596789,101.39179477849538,97.51548582538321,99.59162135499118,99.80329082872417,97.5060319227914,100.10315562432596,101.21772675513003,101.5762633286973,102.38354450904544,101.63212910324593,102.94824147933288,99.2581435604613,null,null,null,null,null,null,null,null,null,null,null,null,null,null,null,null,null,null,null,null,null,null,null,null,null,null,null,null,null,null,null,null,null,null,null,null,null,null,null,null,null,null,null,null,null,null,null,null,null,null,null,null,null,null,null,null,null,null,null,null,null,null,null,null,null,null,null,null,null,null,null,null,null,null,null,null,null,null,null,null,null,null,null,null,null,null,null,null,null,null,null,null,null,null,null,null,null,null,null,null,null,null,null,null,null,null,null,null,null,-1.6789068568604095,-0.21441589536503092,-1.749389747762406,1.512976058006401,-5.498454082058991,-0.019356314557710613,-5.48440008375795,-0.47843340874532525,2.267561124355488,0.8081133867297372,-4.255923329487979,-0.3652864862829378,-1.0656134729311875,-0.07098160082189137,2.4948754408967497,-2.3167857338619706,-1.3953575369882043,1.1684591892865888,-1.283038716585584,-0.9269418485868822,-1.210946495739629,-0.005816658911116162,2.0912547528517056,-0.17865288125283962,0.8046873513801469,-1.0933684012774634,0.5693759792120483,-1.9206170411806156,-1.1314592324740451,0.4989449188475022,1.5627760871699072,1.2239503524364055,0.41364460562102234,-1.1908793317530058,-1.0872467859459134,-0.1461650896222769,1.7615960484680087,0.005678699199319769,1.1327713382507867,0.7263967386269012,0.9949428320140837,1.7890636271822173,-0.5115271215942587,-0.5802673501717647,-0.16092693916961293,-1.2071678946991917,-1.0974011792967846,0.5833117291952108,1.3727289410901118,-0.3090579124216174,0.8926964472121299,0.0071558910873311425,0.15095153377539097,-1.0669881425769563,-0.09078529278256922,-0.9073316781072052,-0.2192699600154879,1.5606308776708353,0.11940946591401942,-0.08823582374444187,1.7647165074146962,-0.10112837981689311,2.370012949921061,-0.8612208971194851,0.010423905489914077,-0.5857073542663054,0.7507715781808165,-0.17361409540180334,0.23721529866781182,-0.25766112408959735,-1.1369948618247583,0.7859373355320899,0.9178538521511003,1.2711715818634497,0.3907056798623032,-0.16434416407026337,-0.9089513804805746,-1.0001038170052403,0.3500287463221702,-0.3846610068967824,0.6806993719232712,0.4631429489021499,-0.519484886184061,-0.23268453412140436,0.42969682501790096,-0.5330926184555635,0.1487332034054588,-1.5509231274071291,-0.7594402643977304,0.7224924226404494,-0.8742458090731635,0.8175067828073754,-0.8156203657933769,0.9234546813280764,-0.3694386292067465,-0.3161802582730825,1.316812782805438,-0.26453184824225234,-0.758311931699869,1.0512941012653956,0.31710661638670257,-0.23789963716026333,-0.07729037133730299,-0.17697898589322372,-0.7734257099739318,-0.584815498473267,-1.085653737254425,-0.06338028169014324,0.045632448180843305,0.9591779476748312,-0.354419875175041,0.342317733095904,0.36058930595144456,0.5333424502982965,-1.3400534659197338,0.2741804762808077,0.17105240423657225,-0.9268048532127516,0.028002870294199584,1.2552740769271098,0.8212025863559352,0.3877756709202381,0.7747338441717044,-1.0858001654874387,-0.9739594012712811,1.1226654250090522,-2.124790934225355,0.18103328227265764,0.8067627766670215,0.07473711653775092,-1.3439409501592734,0.48783936651583554,0.3884650381465716,-0.25120404698382687,-1.8556988984515466,1.225133860501395,-1.80471191320529,-2.3714917564141844,-2.1619135234590616,-0.17677049607382156,-0.18505929450863068,1.0607055914061612,-3.050531560829951,2.233988111640351,0.25775656324582774,0.5317538414957129,0.8645693886657699,-0.8418221673697294,0.6964672492344497,1.0876992114642363,-0.12033036153803499,0.24659786281850563,-0.04840271055180802,-0.050543340914829545,0.1994596456871426,-1.953969168707683,-0.6341795187588547,-0.9509647335279439,1.113004185340196,0.32724547066673315,-0.5593207987173973,-0.8024950300023669,-0.4163762427088268,-1.3005220535335587,-0.45892953752587035,0.3711061963489182,0.673839184597971,-0.759076518615893,0.3002722966168104,0.38696234558714854,-0.09454949944382479,0.22443150202174508,-0.945256968479016,0.04510854243022444,-0.020755500207557575,1.1572369787242065,-1.082050797847211,-0.028533926839028886,2.150909335330593,-1.3167299951092886,0.10259333143344991,-0.927060986821949,-1.7110740250522642,-3.161753175474371,1.5878460172706006,-0.36164597791027714,0.9468545999882458,1.7020615151456258,0.6811781718547913,-0.32888519260573384,0.9956003944473943,-0.3485764889868714,0.4424274646817638,-0.9135522838806944,-0.7942224581090191,-1.7956039323151225,-2.531201931501793,-1.1629516821265393,0.9403378772929577,-1.702491159760021,-0.4821913367640495,-0.5326954389209467,1.2568416784917875,-0.7477339891707455,1.6143911439114416,-0.8025902668759873,2.1270707310323,2.4766849341409474,0.814423725005621,-0.6181804640077341,-2.1399379399076564,-2.445573990601323,-0.0667189952904301,3.617455535037399,-0.6110094857336845,0.23549520463393964,-1.223971655393229,0.7236388697449982,0.6366400608133616,-0.032285632893354684,1.4435919295254342,0.1255081205627183,1.056403747806951,1.042704757686483,-0.7298333119395628,-0.3148614609571662,0.8964347615408884,-0.7698840558304334,-0.7725691196827407,1.1484249361460694,1.4875661920176724,2.259469836816069,0.75083224779273,1.928443649373877,0.5589832832357862,0.26301946344029464,0.05231493591419557,-1.25237655020843,0.35025030514231453,-1.638499404666707,-0.7134857844731125,0.3623254044457327,-1.1159824631327164,0.6461124053581745,-0.15812431842966276,1.2668106499210545,-0.25095902197683595,-0.22852653942975,-0.28985507246376896,1.3564578802894751,-2.052940556121922,-0.43340646692802365,-0.8431703204047175,0.0745305484357616,-0.36281427191015503,-1.1021751050996111,-0.9844818955448132,0.8553771949657026,-0.19753638582957067,0.5997280736063824,-0.04633490872022982,-0.42158983746601825,0.1396804112191306,-1.0920378473390775,0.7245139876718919,0.7361150534582243,-0.8706208152349219,1.8601190476190477,-0.6585329453025843,0.9288099973730497,1.1083926453143569,-0.18421751837746234,-1.4235254441860845,-0.1730852444829144,-0.25251149018111546,-1.921988792961829,-0.09843433686829724,0.4178040220600524,-1.3767860128946101,-1.3214366388073153,1.2805587892898789,0.292555669430737,-0.49594145290412894,-0.4815650865312376,-0.17717129071168972,0.8674148041291185,-0.9885381505248578,0.05451025356665544,0.6329825087081904,0.14484948652713564,0.847662422158183,-0.00740535036563244,-1.07782650709878,1.311936936936939,0.3289901674690028,-0.9788413941976647,-0.5216192552022121,1.1727619011877732,0.07408642181103837,-0.19711395418029334,-0.5630651626736238,-1.2150531585756699,-0.16491015239970636,1.3846909475593245,-0.707626016864148,0.13732129420617348,-0.15151515151514292,-0.047312641937925816,-0.020779417042902627,1.0790960451977436,-0.09679641108690862,-0.2594562538223424,0.15565932844118893,-0.39999999999999414,-0.6754875944105232,-1.0367419871198185,-0.6647492428715661,-1.0474886886430157,-0.5507594381872556,0.4452291394795302,0.646775745909531,0.3612868694206003,-0.809903080318571,-0.4664321761737373,0.7296357521518615,2.565305509683223,2.622722949740294,0.01606769856998051,2.606526047565122,3.687211093990747,0.5733875371640029,1.0820958166084031,0.1830864440375912,-2.569298471123748,-3.6228748068006267,1.008051529790659,-0.7632381524264085,0.4977735368956736,0.41111111111111615,-0.9138712027622006,0.938689352991973,0.1320772731612681,1.4897608500307302,-0.3596899224806279,-0.7700357683957427,-0.8991680740601738,-1.2582187686790305,-0.5308560053085745,-0.43529697263847666,0.3221324865269254,0.6196711327649285,-0.8717328901646747,0.6548888212001148,-1.3166325939035173,-4.267091812810646,2.898778359511346,-5.3422452066156065,2.9933644630130223,-0.2799499530810078,-0.38557567712778584,-1.48038372055964,-0.7586825154392806,1.444871943063789,-1.7423014586709886,0.11666666666667425,0.3542914986367057,-1.3682753291909469,1.3456206165389006,0.9713594191206102,-0.39315966117948475,1.3467368756980915,0.08025555887767966,0.8012041581084706,-1.1840638200976719,0.16393442622952037,-0.6874003189792577,0.04983522224902486,1.4854696419304567,-2.826428696190666,-2.531375954386087,-0.3867532815429858,0.8520090173716991,0.4799710702368557,3.2460474308300262,1.4984177215189916,1.033122534593955,-1.0597005729776348,-0.34302108020457234,0.5640625000000021,0.7132956439128357,1.4226852211770158,-0.3138347545199963,1.081477408120252,-0.28760295734139946,0.7441241416860874,-2.072164327450152,-1.7641213788886285,0.7870728312973431,-3.5051546391752577,1.6007412158791274,0.15691707427408375,0.7945372032855956,0.903589021815617,-0.6874100568650291,1.4133828368914112,0.4590601786161359,0.8462603878116361,0.24401277639929986,0.30895420369104454,-0.7271980279375594,0.5411374930977461,0.4013871064631435,0.03146374829001617,-1.6690209416185473,1.8669647847959774,-0.5471074606809375,1.7070287803403004,-0.044670655440349906,1.3489076125540904,-0.1940722159878576,-0.4946808510638334,0.0013366482209200023,0.24049381396466807,-0.8293158478118512,2.6676125336295793,-0.8479646247886568,-1.7584626832547916,1.8204753684769517,-0.5887179754353494,0.5911148055786484,-0.995824387159654,-0.45028890217174555,-0.30897512008202865,0.8061580770838134,-1.2749003984063776,1.0786666666666709,-1.7037853151806104,-0.9644880845534615,0.2198008389958836,-0.21951706246257932,-0.41939294198841115,-0.1534253885664702,1.2737076980290114,1.2925693565847953,-0.7210919392222537,-1.380116959064328,-0.15612382234185307,-0.5184540156741918,1.8657534246575351,-0.5367583628869876,-2.321416364754941,-0.08093663219883074,0.6083028489081173,-4.144489293288647,1.3241089908985273,0.31200797353711335,-0.21470211858381785,1.428965597362808,0.6280440912586633,0.22802653399668008,-1.6459824760220128,-0.11346921622190362,-1.9168523267056135,1.2101575697156002,1.5611116427214295,0.20520747275004175,-2.530274059910774,-5.617875412219883,-2.047564366846053,-2.884055294301498,2.229542561952532,0.8611970490242686,-0.39891680983024325,1.2014814814814836,-1.1387013589082395,-0.28572253167479844,1.4768869343494313,-1.7816901408450672,0.8460066471950846,-0.13993921831931713,-0.7983462827001244,1.5444463798409085,0.8199882858816315,-0.4953569110051075,-0.36411925976697335,2.1588357351979677,-0.020862308762166517,-0.8710413535926964,-0.5734345934908213,-1.660772386476165,0.7813067282417686,0.9692613855999516,0.6637293114161505,0.9472222222222292,0.5063221474663342,0.19396907500138694,1.3381609923317357,0.18059610292619013,-0.5742323349419015,0.7589952477936227,0.4461258915737753,-0.5792337949243047,0.44944741192059723,-0.4424598596615034,1.3858070488299528,0.05732568990800559,-0.5739072405739012,1.531275385865143,-0.635949124070072,-0.02710027100271619,1.3482474142734922,-0.682882326898055,-0.647875586381178,-0.9313342844068746,0.6897018970189744,0.34171605531529436,-0.10742563095979436,0.6658001538502324,0.8087210372669142,-2.024665046588094,-0.7031662269129342,0.4977627154544721,-1.0367616687319252,0.9844993715961394,-2.382068319042758,-0.20500784685205956,-2.4341343574393597,0.33444331837265745,0.08313862649255922,-0.6471795313329589,0.7545366334052682,0.5346137308298559,1.8242217703828876,0.12640449438201928,0.8971049877921102,-1.1224616745690557,-0.5229687892226592,-0.15450957257032422,1.03789150085316,-1.3631475299934344,0.42065172595109024,-0.290449342217661,1.1573216270915887,-0.3241192872206366,1.8716577540106978,0.6257283978023185,0.17292182550112745,1.194734879352492,0.5439090387296058,-0.051733761725184194,-0.28668941979522494,-0.9502653338269709,-1.1532466099239924,-0.44315403422983646,0.5967180507210255,0.7899068988891552,-0.008339472111423564,0.2581959777253664,0.2498325145154036,-0.011126564673162856,-0.6364437481640982,-2.3890496013546816,-0.7241295419093473,-0.35223367697593394,-0.2288787800760892,0.6337371854613175,0.007405542307873308,-0.40834575260804906,0.1575916461699245,0.16251830161054373,0.9672195719725145,1.0127130887026856,-0.15946901129211563,1.1290182324125284,-0.38964015585606626,0.8763402430307355,0.9942800649671744,0.21136945155189424,-0.9176086896437338,-0.0873084065522874,-0.8102186763672433,1.531734720704008,0.968639110002884,0.5235105041162049,-0.2336701064347099,0.11862076402555677,-0.12151160435821315,-0.08389261744966504,0.47272037709270326,-0.15126365388734145,-0.5073054574161163,1.5490940624630416,0.3096176612158341,0.7820850387132094,-0.07899303307347823,1.0907493085890116,-0.03069053708440014,0.40455767507361007,0.11866028708133333,-0.019108280254774176,0.22008957133717558,-0.16714513556618124,-0.4049724464949338,0.3331961097102761,-0.32179074627248255,0.05419354838709149,-0.14483944805824675,-0.4384381286429021,-0.12198603649200013,0.31421121251629314,0.07022106631989124,0.4435830059577969,-0.03119597571913341,0.005215055866281224,-0.06109847253819009,-0.20051487044151495,0.8571982675027469,0.044871794871797786,-0.4199899818903379,-1.3556680950525974,1.8394183782924776,-0.6265696944328123,0.37914192809467956,1.1626840042470088,-0.113023708996428,-0.8699930089847381,0.3133940182054575,0.46074599435716346,0.9243589743589791,0.0394106205265698,-1.0897616066637674,0.9684074790457757,0.47695571125537345,-0.8228398853398935,0.12365875336518267,-0.21827575072651656,0.051544399056734566,-0.36442494001102493,-0.27471116816431146,-0.5874355488289674,1.0582350747708036,-0.45635979965930873,0.30366438705726184,-0.3878548936279118,-0.39915563231625467,0.0205180815593847,0.9405343656787419,0.4083984766486259,-0.7879995020540181,0.5496855345911955,1.0200024847807225,-1.1032472939217308,-0.9016047821018405,-0.7053682896379497,-1.6057400878332426,-1.3740304474084581,0.09196694299327202,-1.2207658699563093,-0.6673183447377001,1.5133349319265732,1.0355067785668148,0.9075823334184342,0.6885145011154564,-3.616163403566871,-0.3330954080418725,-2.5833774483853866,1.542230611671149,1.2288135593220302,0.56198821259063,-1.403995488546358,0.8641376326038253,-0.56430633032629,-0.877912807888191,-0.33758145133855505,1.0842105263157906,-0.08943268570242775,-1.562195644551805,-1.256865230249273,0.7937254059280905,0.6348075121088471,-0.7348998993108684,1.3390275952693895,0.5100455675227761,1.1910256410256364,0.5388260470804058,0.27711298652223776,-0.04138449962376815,0.06396267589735757,-1.199400299850078,0.5036572093847306,-0.04267282494101509,-0.16083634901488822,-0.13882578625877415,-0.12517385257301922,0.1100318713006532,-1.0898324303893272,-0.06893646355942926,-1.3963589907377771],\"type\":\"scatter3d\"}],                        {\"template\":{\"data\":{\"histogram2dcontour\":[{\"type\":\"histogram2dcontour\",\"colorbar\":{\"outlinewidth\":0,\"ticks\":\"\"},\"colorscale\":[[0.0,\"#0d0887\"],[0.1111111111111111,\"#46039f\"],[0.2222222222222222,\"#7201a8\"],[0.3333333333333333,\"#9c179e\"],[0.4444444444444444,\"#bd3786\"],[0.5555555555555556,\"#d8576b\"],[0.6666666666666666,\"#ed7953\"],[0.7777777777777778,\"#fb9f3a\"],[0.8888888888888888,\"#fdca26\"],[1.0,\"#f0f921\"]]}],\"choropleth\":[{\"type\":\"choropleth\",\"colorbar\":{\"outlinewidth\":0,\"ticks\":\"\"}}],\"histogram2d\":[{\"type\":\"histogram2d\",\"colorbar\":{\"outlinewidth\":0,\"ticks\":\"\"},\"colorscale\":[[0.0,\"#0d0887\"],[0.1111111111111111,\"#46039f\"],[0.2222222222222222,\"#7201a8\"],[0.3333333333333333,\"#9c179e\"],[0.4444444444444444,\"#bd3786\"],[0.5555555555555556,\"#d8576b\"],[0.6666666666666666,\"#ed7953\"],[0.7777777777777778,\"#fb9f3a\"],[0.8888888888888888,\"#fdca26\"],[1.0,\"#f0f921\"]]}],\"heatmap\":[{\"type\":\"heatmap\",\"colorbar\":{\"outlinewidth\":0,\"ticks\":\"\"},\"colorscale\":[[0.0,\"#0d0887\"],[0.1111111111111111,\"#46039f\"],[0.2222222222222222,\"#7201a8\"],[0.3333333333333333,\"#9c179e\"],[0.4444444444444444,\"#bd3786\"],[0.5555555555555556,\"#d8576b\"],[0.6666666666666666,\"#ed7953\"],[0.7777777777777778,\"#fb9f3a\"],[0.8888888888888888,\"#fdca26\"],[1.0,\"#f0f921\"]]}],\"heatmapgl\":[{\"type\":\"heatmapgl\",\"colorbar\":{\"outlinewidth\":0,\"ticks\":\"\"},\"colorscale\":[[0.0,\"#0d0887\"],[0.1111111111111111,\"#46039f\"],[0.2222222222222222,\"#7201a8\"],[0.3333333333333333,\"#9c179e\"],[0.4444444444444444,\"#bd3786\"],[0.5555555555555556,\"#d8576b\"],[0.6666666666666666,\"#ed7953\"],[0.7777777777777778,\"#fb9f3a\"],[0.8888888888888888,\"#fdca26\"],[1.0,\"#f0f921\"]]}],\"contourcarpet\":[{\"type\":\"contourcarpet\",\"colorbar\":{\"outlinewidth\":0,\"ticks\":\"\"}}],\"contour\":[{\"type\":\"contour\",\"colorbar\":{\"outlinewidth\":0,\"ticks\":\"\"},\"colorscale\":[[0.0,\"#0d0887\"],[0.1111111111111111,\"#46039f\"],[0.2222222222222222,\"#7201a8\"],[0.3333333333333333,\"#9c179e\"],[0.4444444444444444,\"#bd3786\"],[0.5555555555555556,\"#d8576b\"],[0.6666666666666666,\"#ed7953\"],[0.7777777777777778,\"#fb9f3a\"],[0.8888888888888888,\"#fdca26\"],[1.0,\"#f0f921\"]]}],\"surface\":[{\"type\":\"surface\",\"colorbar\":{\"outlinewidth\":0,\"ticks\":\"\"},\"colorscale\":[[0.0,\"#0d0887\"],[0.1111111111111111,\"#46039f\"],[0.2222222222222222,\"#7201a8\"],[0.3333333333333333,\"#9c179e\"],[0.4444444444444444,\"#bd3786\"],[0.5555555555555556,\"#d8576b\"],[0.6666666666666666,\"#ed7953\"],[0.7777777777777778,\"#fb9f3a\"],[0.8888888888888888,\"#fdca26\"],[1.0,\"#f0f921\"]]}],\"mesh3d\":[{\"type\":\"mesh3d\",\"colorbar\":{\"outlinewidth\":0,\"ticks\":\"\"}}],\"scatter\":[{\"fillpattern\":{\"fillmode\":\"overlay\",\"size\":10,\"solidity\":0.2},\"type\":\"scatter\"}],\"parcoords\":[{\"type\":\"parcoords\",\"line\":{\"colorbar\":{\"outlinewidth\":0,\"ticks\":\"\"}}}],\"scatterpolargl\":[{\"type\":\"scatterpolargl\",\"marker\":{\"colorbar\":{\"outlinewidth\":0,\"ticks\":\"\"}}}],\"bar\":[{\"error_x\":{\"color\":\"#2a3f5f\"},\"error_y\":{\"color\":\"#2a3f5f\"},\"marker\":{\"line\":{\"color\":\"#E5ECF6\",\"width\":0.5},\"pattern\":{\"fillmode\":\"overlay\",\"size\":10,\"solidity\":0.2}},\"type\":\"bar\"}],\"scattergeo\":[{\"type\":\"scattergeo\",\"marker\":{\"colorbar\":{\"outlinewidth\":0,\"ticks\":\"\"}}}],\"scatterpolar\":[{\"type\":\"scatterpolar\",\"marker\":{\"colorbar\":{\"outlinewidth\":0,\"ticks\":\"\"}}}],\"histogram\":[{\"marker\":{\"pattern\":{\"fillmode\":\"overlay\",\"size\":10,\"solidity\":0.2}},\"type\":\"histogram\"}],\"scattergl\":[{\"type\":\"scattergl\",\"marker\":{\"colorbar\":{\"outlinewidth\":0,\"ticks\":\"\"}}}],\"scatter3d\":[{\"type\":\"scatter3d\",\"line\":{\"colorbar\":{\"outlinewidth\":0,\"ticks\":\"\"}},\"marker\":{\"colorbar\":{\"outlinewidth\":0,\"ticks\":\"\"}}}],\"scattermapbox\":[{\"type\":\"scattermapbox\",\"marker\":{\"colorbar\":{\"outlinewidth\":0,\"ticks\":\"\"}}}],\"scatterternary\":[{\"type\":\"scatterternary\",\"marker\":{\"colorbar\":{\"outlinewidth\":0,\"ticks\":\"\"}}}],\"scattercarpet\":[{\"type\":\"scattercarpet\",\"marker\":{\"colorbar\":{\"outlinewidth\":0,\"ticks\":\"\"}}}],\"carpet\":[{\"aaxis\":{\"endlinecolor\":\"#2a3f5f\",\"gridcolor\":\"white\",\"linecolor\":\"white\",\"minorgridcolor\":\"white\",\"startlinecolor\":\"#2a3f5f\"},\"baxis\":{\"endlinecolor\":\"#2a3f5f\",\"gridcolor\":\"white\",\"linecolor\":\"white\",\"minorgridcolor\":\"white\",\"startlinecolor\":\"#2a3f5f\"},\"type\":\"carpet\"}],\"table\":[{\"cells\":{\"fill\":{\"color\":\"#EBF0F8\"},\"line\":{\"color\":\"white\"}},\"header\":{\"fill\":{\"color\":\"#C8D4E3\"},\"line\":{\"color\":\"white\"}},\"type\":\"table\"}],\"barpolar\":[{\"marker\":{\"line\":{\"color\":\"#E5ECF6\",\"width\":0.5},\"pattern\":{\"fillmode\":\"overlay\",\"size\":10,\"solidity\":0.2}},\"type\":\"barpolar\"}],\"pie\":[{\"automargin\":true,\"type\":\"pie\"}]},\"layout\":{\"autotypenumbers\":\"strict\",\"colorway\":[\"#636efa\",\"#EF553B\",\"#00cc96\",\"#ab63fa\",\"#FFA15A\",\"#19d3f3\",\"#FF6692\",\"#B6E880\",\"#FF97FF\",\"#FECB52\"],\"font\":{\"color\":\"#2a3f5f\"},\"hovermode\":\"closest\",\"hoverlabel\":{\"align\":\"left\"},\"paper_bgcolor\":\"white\",\"plot_bgcolor\":\"#E5ECF6\",\"polar\":{\"bgcolor\":\"#E5ECF6\",\"angularaxis\":{\"gridcolor\":\"white\",\"linecolor\":\"white\",\"ticks\":\"\"},\"radialaxis\":{\"gridcolor\":\"white\",\"linecolor\":\"white\",\"ticks\":\"\"}},\"ternary\":{\"bgcolor\":\"#E5ECF6\",\"aaxis\":{\"gridcolor\":\"white\",\"linecolor\":\"white\",\"ticks\":\"\"},\"baxis\":{\"gridcolor\":\"white\",\"linecolor\":\"white\",\"ticks\":\"\"},\"caxis\":{\"gridcolor\":\"white\",\"linecolor\":\"white\",\"ticks\":\"\"}},\"coloraxis\":{\"colorbar\":{\"outlinewidth\":0,\"ticks\":\"\"}},\"colorscale\":{\"sequential\":[[0.0,\"#0d0887\"],[0.1111111111111111,\"#46039f\"],[0.2222222222222222,\"#7201a8\"],[0.3333333333333333,\"#9c179e\"],[0.4444444444444444,\"#bd3786\"],[0.5555555555555556,\"#d8576b\"],[0.6666666666666666,\"#ed7953\"],[0.7777777777777778,\"#fb9f3a\"],[0.8888888888888888,\"#fdca26\"],[1.0,\"#f0f921\"]],\"sequentialminus\":[[0.0,\"#0d0887\"],[0.1111111111111111,\"#46039f\"],[0.2222222222222222,\"#7201a8\"],[0.3333333333333333,\"#9c179e\"],[0.4444444444444444,\"#bd3786\"],[0.5555555555555556,\"#d8576b\"],[0.6666666666666666,\"#ed7953\"],[0.7777777777777778,\"#fb9f3a\"],[0.8888888888888888,\"#fdca26\"],[1.0,\"#f0f921\"]],\"diverging\":[[0,\"#8e0152\"],[0.1,\"#c51b7d\"],[0.2,\"#de77ae\"],[0.3,\"#f1b6da\"],[0.4,\"#fde0ef\"],[0.5,\"#f7f7f7\"],[0.6,\"#e6f5d0\"],[0.7,\"#b8e186\"],[0.8,\"#7fbc41\"],[0.9,\"#4d9221\"],[1,\"#276419\"]]},\"xaxis\":{\"gridcolor\":\"white\",\"linecolor\":\"white\",\"ticks\":\"\",\"title\":{\"standoff\":15},\"zerolinecolor\":\"white\",\"automargin\":true,\"zerolinewidth\":2},\"yaxis\":{\"gridcolor\":\"white\",\"linecolor\":\"white\",\"ticks\":\"\",\"title\":{\"standoff\":15},\"zerolinecolor\":\"white\",\"automargin\":true,\"zerolinewidth\":2},\"scene\":{\"xaxis\":{\"backgroundcolor\":\"#E5ECF6\",\"gridcolor\":\"white\",\"linecolor\":\"white\",\"showbackground\":true,\"ticks\":\"\",\"zerolinecolor\":\"white\",\"gridwidth\":2},\"yaxis\":{\"backgroundcolor\":\"#E5ECF6\",\"gridcolor\":\"white\",\"linecolor\":\"white\",\"showbackground\":true,\"ticks\":\"\",\"zerolinecolor\":\"white\",\"gridwidth\":2},\"zaxis\":{\"backgroundcolor\":\"#E5ECF6\",\"gridcolor\":\"white\",\"linecolor\":\"white\",\"showbackground\":true,\"ticks\":\"\",\"zerolinecolor\":\"white\",\"gridwidth\":2}},\"shapedefaults\":{\"line\":{\"color\":\"#2a3f5f\"}},\"annotationdefaults\":{\"arrowcolor\":\"#2a3f5f\",\"arrowhead\":0,\"arrowwidth\":1},\"geo\":{\"bgcolor\":\"white\",\"landcolor\":\"#E5ECF6\",\"subunitcolor\":\"white\",\"showland\":true,\"showlakes\":true,\"lakecolor\":\"white\"},\"title\":{\"x\":0.05},\"mapbox\":{\"style\":\"light\"}}},\"scene\":{\"domain\":{\"x\":[0.0,1.0],\"y\":[0.0,1.0]},\"xaxis\":{\"title\":{\"text\":\"Open\"}},\"yaxis\":{\"title\":{\"text\":\"Close\"}},\"zaxis\":{\"title\":{\"text\":\"Daily Return\"}}},\"coloraxis\":{\"colorbar\":{\"title\":{\"text\":\"Daily Change\"}},\"colorscale\":[[0.0,\"#0d0887\"],[0.1111111111111111,\"#46039f\"],[0.2222222222222222,\"#7201a8\"],[0.3333333333333333,\"#9c179e\"],[0.4444444444444444,\"#bd3786\"],[0.5555555555555556,\"#d8576b\"],[0.6666666666666666,\"#ed7953\"],[0.7777777777777778,\"#fb9f3a\"],[0.8888888888888888,\"#fdca26\"],[1.0,\"#f0f921\"]]},\"legend\":{\"tracegroupgap\":0,\"itemsizing\":\"constant\"},\"title\":{\"text\":\"3D Scatter Plot of Financial Features\"}},                        {\"responsive\": true}                    ).then(function(){\n",
              "                            \n",
              "var gd = document.getElementById('62f3c447-a1fb-4bdc-bb9e-7ed3a179f81a');\n",
              "var x = new MutationObserver(function (mutations, observer) {{\n",
              "        var display = window.getComputedStyle(gd).display;\n",
              "        if (!display || display === 'none') {{\n",
              "            console.log([gd, 'removed!']);\n",
              "            Plotly.purge(gd);\n",
              "            observer.disconnect();\n",
              "        }}\n",
              "}});\n",
              "\n",
              "// Listen for the removal of the full notebook cells\n",
              "var notebookContainer = gd.closest('#notebook-container');\n",
              "if (notebookContainer) {{\n",
              "    x.observe(notebookContainer, {childList: true});\n",
              "}}\n",
              "\n",
              "// Listen for the clearing of the current output cell\n",
              "var outputEl = gd.closest('.output');\n",
              "if (outputEl) {{\n",
              "    x.observe(outputEl, {childList: true});\n",
              "}}\n",
              "\n",
              "                        })                };                            </script>        </div>\n",
              "</body>\n",
              "</html>"
            ]
          },
          "metadata": {}
        }
      ]
    },
    {
      "cell_type": "code",
      "source": [
        "fig = px.line(train, x='Date', y='Close', title='Closing Price Over Time')\n",
        "fig.show()"
      ],
      "metadata": {
        "colab": {
          "base_uri": "https://localhost:8080/",
          "height": 542
        },
        "id": "nfdYs0WiYOMR",
        "outputId": "2db6ba30-db2a-4e1c-8111-0049c772519f"
      },
      "execution_count": null,
      "outputs": [
        {
          "output_type": "display_data",
          "data": {
            "text/html": [
              "<html>\n",
              "<head><meta charset=\"utf-8\" /></head>\n",
              "<body>\n",
              "    <div>            <script src=\"https://cdnjs.cloudflare.com/ajax/libs/mathjax/2.7.5/MathJax.js?config=TeX-AMS-MML_SVG\"></script><script type=\"text/javascript\">if (window.MathJax && window.MathJax.Hub && window.MathJax.Hub.Config) {window.MathJax.Hub.Config({SVG: {font: \"STIX-Web\"}});}</script>                <script type=\"text/javascript\">window.PlotlyConfig = {MathJaxConfig: 'local'};</script>\n",
              "        <script charset=\"utf-8\" src=\"https://cdn.plot.ly/plotly-2.24.1.min.js\"></script>                <div id=\"ab0f3618-5607-41f3-b386-4d9e83c88ca9\" class=\"plotly-graph-div\" style=\"height:525px; width:100%;\"></div>            <script type=\"text/javascript\">                                    window.PLOTLYENV=window.PLOTLYENV || {};                                    if (document.getElementById(\"ab0f3618-5607-41f3-b386-4d9e83c88ca9\")) {                    Plotly.newPlot(                        \"ab0f3618-5607-41f3-b386-4d9e83c88ca9\",                        [{\"hovertemplate\":\"Date=%{x}\\u003cbr\\u003eClose=%{y}\\u003cextra\\u003e\\u003c\\u002fextra\\u003e\",\"legendgroup\":\"\",\"line\":{\"color\":\"#636efa\",\"dash\":\"solid\"},\"marker\":{\"symbol\":\"circle\"},\"mode\":\"lines\",\"name\":\"\",\"showlegend\":false,\"x\":[\"1\\u002f3\\u002f2012\",\"1\\u002f4\\u002f2012\",\"1\\u002f5\\u002f2012\",\"1\\u002f6\\u002f2012\",\"1\\u002f9\\u002f2012\",\"1\\u002f10\\u002f2012\",\"1\\u002f11\\u002f2012\",\"1\\u002f12\\u002f2012\",\"1\\u002f13\\u002f2012\",\"1\\u002f17\\u002f2012\",\"1\\u002f18\\u002f2012\",\"1\\u002f19\\u002f2012\",\"1\\u002f20\\u002f2012\",\"1\\u002f23\\u002f2012\",\"1\\u002f24\\u002f2012\",\"1\\u002f25\\u002f2012\",\"1\\u002f26\\u002f2012\",\"1\\u002f27\\u002f2012\",\"1\\u002f30\\u002f2012\",\"1\\u002f31\\u002f2012\",\"2\\u002f1\\u002f2012\",\"2\\u002f2\\u002f2012\",\"2\\u002f3\\u002f2012\",\"2\\u002f6\\u002f2012\",\"2\\u002f7\\u002f2012\",\"2\\u002f8\\u002f2012\",\"2\\u002f9\\u002f2012\",\"2\\u002f10\\u002f2012\",\"2\\u002f13\\u002f2012\",\"2\\u002f14\\u002f2012\",\"2\\u002f15\\u002f2012\",\"2\\u002f16\\u002f2012\",\"2\\u002f17\\u002f2012\",\"2\\u002f21\\u002f2012\",\"2\\u002f22\\u002f2012\",\"2\\u002f23\\u002f2012\",\"2\\u002f24\\u002f2012\",\"2\\u002f27\\u002f2012\",\"2\\u002f28\\u002f2012\",\"2\\u002f29\\u002f2012\",\"3\\u002f1\\u002f2012\",\"3\\u002f2\\u002f2012\",\"3\\u002f5\\u002f2012\",\"3\\u002f6\\u002f2012\",\"3\\u002f7\\u002f2012\",\"3\\u002f8\\u002f2012\",\"3\\u002f9\\u002f2012\",\"3\\u002f12\\u002f2012\",\"3\\u002f13\\u002f2012\",\"3\\u002f14\\u002f2012\",\"3\\u002f15\\u002f2012\",\"3\\u002f16\\u002f2012\",\"3\\u002f19\\u002f2012\",\"3\\u002f20\\u002f2012\",\"3\\u002f21\\u002f2012\",\"3\\u002f22\\u002f2012\",\"3\\u002f23\\u002f2012\",\"3\\u002f26\\u002f2012\",\"3\\u002f27\\u002f2012\",\"3\\u002f28\\u002f2012\",\"3\\u002f29\\u002f2012\",\"3\\u002f30\\u002f2012\",\"4\\u002f2\\u002f2012\",\"4\\u002f3\\u002f2012\",\"4\\u002f4\\u002f2012\",\"4\\u002f5\\u002f2012\",\"4\\u002f9\\u002f2012\",\"4\\u002f10\\u002f2012\",\"4\\u002f11\\u002f2012\",\"4\\u002f12\\u002f2012\",\"4\\u002f13\\u002f2012\",\"4\\u002f16\\u002f2012\",\"4\\u002f17\\u002f2012\",\"4\\u002f18\\u002f2012\",\"4\\u002f19\\u002f2012\",\"4\\u002f20\\u002f2012\",\"4\\u002f23\\u002f2012\",\"4\\u002f24\\u002f2012\",\"4\\u002f25\\u002f2012\",\"4\\u002f26\\u002f2012\",\"4\\u002f27\\u002f2012\",\"4\\u002f30\\u002f2012\",\"5\\u002f1\\u002f2012\",\"5\\u002f2\\u002f2012\",\"5\\u002f3\\u002f2012\",\"5\\u002f4\\u002f2012\",\"5\\u002f7\\u002f2012\",\"5\\u002f8\\u002f2012\",\"5\\u002f9\\u002f2012\",\"5\\u002f10\\u002f2012\",\"5\\u002f11\\u002f2012\",\"5\\u002f14\\u002f2012\",\"5\\u002f15\\u002f2012\",\"5\\u002f16\\u002f2012\",\"5\\u002f17\\u002f2012\",\"5\\u002f18\\u002f2012\",\"5\\u002f21\\u002f2012\",\"5\\u002f22\\u002f2012\",\"5\\u002f23\\u002f2012\",\"5\\u002f24\\u002f2012\",\"5\\u002f25\\u002f2012\",\"5\\u002f29\\u002f2012\",\"5\\u002f30\\u002f2012\",\"5\\u002f31\\u002f2012\",\"6\\u002f1\\u002f2012\",\"6\\u002f4\\u002f2012\",\"6\\u002f5\\u002f2012\",\"6\\u002f6\\u002f2012\",\"6\\u002f7\\u002f2012\",\"6\\u002f8\\u002f2012\",\"6\\u002f11\\u002f2012\",\"6\\u002f12\\u002f2012\",\"6\\u002f13\\u002f2012\",\"6\\u002f14\\u002f2012\",\"6\\u002f15\\u002f2012\",\"6\\u002f18\\u002f2012\",\"6\\u002f19\\u002f2012\",\"6\\u002f20\\u002f2012\",\"6\\u002f21\\u002f2012\",\"6\\u002f22\\u002f2012\",\"6\\u002f25\\u002f2012\",\"6\\u002f26\\u002f2012\",\"6\\u002f27\\u002f2012\",\"6\\u002f28\\u002f2012\",\"6\\u002f29\\u002f2012\",\"7\\u002f2\\u002f2012\",\"7\\u002f3\\u002f2012\",\"7\\u002f5\\u002f2012\",\"7\\u002f6\\u002f2012\",\"7\\u002f9\\u002f2012\",\"7\\u002f10\\u002f2012\",\"7\\u002f11\\u002f2012\",\"7\\u002f12\\u002f2012\",\"7\\u002f13\\u002f2012\",\"7\\u002f16\\u002f2012\",\"7\\u002f17\\u002f2012\",\"7\\u002f18\\u002f2012\",\"7\\u002f19\\u002f2012\",\"7\\u002f20\\u002f2012\",\"7\\u002f23\\u002f2012\",\"7\\u002f24\\u002f2012\",\"7\\u002f25\\u002f2012\",\"7\\u002f26\\u002f2012\",\"7\\u002f27\\u002f2012\",\"7\\u002f30\\u002f2012\",\"7\\u002f31\\u002f2012\",\"8\\u002f1\\u002f2012\",\"8\\u002f2\\u002f2012\",\"8\\u002f3\\u002f2012\",\"8\\u002f6\\u002f2012\",\"8\\u002f7\\u002f2012\",\"8\\u002f8\\u002f2012\",\"8\\u002f9\\u002f2012\",\"8\\u002f10\\u002f2012\",\"8\\u002f13\\u002f2012\",\"8\\u002f14\\u002f2012\",\"8\\u002f15\\u002f2012\",\"8\\u002f16\\u002f2012\",\"8\\u002f17\\u002f2012\",\"8\\u002f20\\u002f2012\",\"8\\u002f21\\u002f2012\",\"8\\u002f22\\u002f2012\",\"8\\u002f23\\u002f2012\",\"8\\u002f24\\u002f2012\",\"8\\u002f27\\u002f2012\",\"8\\u002f28\\u002f2012\",\"8\\u002f29\\u002f2012\",\"8\\u002f30\\u002f2012\",\"8\\u002f31\\u002f2012\",\"9\\u002f4\\u002f2012\",\"9\\u002f5\\u002f2012\",\"9\\u002f6\\u002f2012\",\"9\\u002f7\\u002f2012\",\"9\\u002f10\\u002f2012\",\"9\\u002f11\\u002f2012\",\"9\\u002f12\\u002f2012\",\"9\\u002f13\\u002f2012\",\"9\\u002f14\\u002f2012\",\"9\\u002f17\\u002f2012\",\"9\\u002f18\\u002f2012\",\"9\\u002f19\\u002f2012\",\"9\\u002f20\\u002f2012\",\"9\\u002f21\\u002f2012\",\"9\\u002f24\\u002f2012\",\"9\\u002f25\\u002f2012\",\"9\\u002f26\\u002f2012\",\"9\\u002f27\\u002f2012\",\"9\\u002f28\\u002f2012\",\"10\\u002f1\\u002f2012\",\"10\\u002f2\\u002f2012\",\"10\\u002f3\\u002f2012\",\"10\\u002f4\\u002f2012\",\"10\\u002f5\\u002f2012\",\"10\\u002f8\\u002f2012\",\"10\\u002f9\\u002f2012\",\"10\\u002f10\\u002f2012\",\"10\\u002f11\\u002f2012\",\"10\\u002f12\\u002f2012\",\"10\\u002f15\\u002f2012\",\"10\\u002f16\\u002f2012\",\"10\\u002f17\\u002f2012\",\"10\\u002f18\\u002f2012\",\"10\\u002f19\\u002f2012\",\"10\\u002f22\\u002f2012\",\"10\\u002f23\\u002f2012\",\"10\\u002f24\\u002f2012\",\"10\\u002f25\\u002f2012\",\"10\\u002f26\\u002f2012\",\"10\\u002f31\\u002f2012\",\"11\\u002f1\\u002f2012\",\"11\\u002f2\\u002f2012\",\"11\\u002f5\\u002f2012\",\"11\\u002f6\\u002f2012\",\"11\\u002f7\\u002f2012\",\"11\\u002f8\\u002f2012\",\"11\\u002f9\\u002f2012\",\"11\\u002f12\\u002f2012\",\"11\\u002f13\\u002f2012\",\"11\\u002f14\\u002f2012\",\"11\\u002f15\\u002f2012\",\"11\\u002f16\\u002f2012\",\"11\\u002f19\\u002f2012\",\"11\\u002f20\\u002f2012\",\"11\\u002f21\\u002f2012\",\"11\\u002f23\\u002f2012\",\"11\\u002f26\\u002f2012\",\"11\\u002f27\\u002f2012\",\"11\\u002f28\\u002f2012\",\"11\\u002f29\\u002f2012\",\"11\\u002f30\\u002f2012\",\"12\\u002f3\\u002f2012\",\"12\\u002f4\\u002f2012\",\"12\\u002f5\\u002f2012\",\"12\\u002f6\\u002f2012\",\"12\\u002f7\\u002f2012\",\"12\\u002f10\\u002f2012\",\"12\\u002f11\\u002f2012\",\"12\\u002f12\\u002f2012\",\"12\\u002f13\\u002f2012\",\"12\\u002f14\\u002f2012\",\"12\\u002f17\\u002f2012\",\"12\\u002f18\\u002f2012\",\"12\\u002f19\\u002f2012\",\"12\\u002f20\\u002f2012\",\"12\\u002f21\\u002f2012\",\"12\\u002f24\\u002f2012\",\"12\\u002f26\\u002f2012\",\"12\\u002f27\\u002f2012\",\"12\\u002f28\\u002f2012\",\"12\\u002f31\\u002f2012\",\"1\\u002f2\\u002f2013\",\"1\\u002f3\\u002f2013\",\"1\\u002f4\\u002f2013\",\"1\\u002f7\\u002f2013\",\"1\\u002f8\\u002f2013\",\"1\\u002f9\\u002f2013\",\"1\\u002f10\\u002f2013\",\"1\\u002f11\\u002f2013\",\"1\\u002f14\\u002f2013\",\"1\\u002f15\\u002f2013\",\"1\\u002f16\\u002f2013\",\"1\\u002f17\\u002f2013\",\"1\\u002f18\\u002f2013\",\"1\\u002f22\\u002f2013\",\"1\\u002f23\\u002f2013\",\"1\\u002f24\\u002f2013\",\"1\\u002f25\\u002f2013\",\"1\\u002f28\\u002f2013\",\"1\\u002f29\\u002f2013\",\"1\\u002f30\\u002f2013\",\"1\\u002f31\\u002f2013\",\"2\\u002f1\\u002f2013\",\"2\\u002f4\\u002f2013\",\"2\\u002f5\\u002f2013\",\"2\\u002f6\\u002f2013\",\"2\\u002f7\\u002f2013\",\"2\\u002f8\\u002f2013\",\"2\\u002f11\\u002f2013\",\"2\\u002f12\\u002f2013\",\"2\\u002f13\\u002f2013\",\"2\\u002f14\\u002f2013\",\"2\\u002f15\\u002f2013\",\"2\\u002f19\\u002f2013\",\"2\\u002f20\\u002f2013\",\"2\\u002f21\\u002f2013\",\"2\\u002f22\\u002f2013\",\"2\\u002f25\\u002f2013\",\"2\\u002f26\\u002f2013\",\"2\\u002f27\\u002f2013\",\"2\\u002f28\\u002f2013\",\"3\\u002f1\\u002f2013\",\"3\\u002f4\\u002f2013\",\"3\\u002f5\\u002f2013\",\"3\\u002f6\\u002f2013\",\"3\\u002f7\\u002f2013\",\"3\\u002f8\\u002f2013\",\"3\\u002f11\\u002f2013\",\"3\\u002f12\\u002f2013\",\"3\\u002f13\\u002f2013\",\"3\\u002f14\\u002f2013\",\"3\\u002f15\\u002f2013\",\"3\\u002f18\\u002f2013\",\"3\\u002f19\\u002f2013\",\"3\\u002f20\\u002f2013\",\"3\\u002f21\\u002f2013\",\"3\\u002f22\\u002f2013\",\"3\\u002f25\\u002f2013\",\"3\\u002f26\\u002f2013\",\"3\\u002f27\\u002f2013\",\"3\\u002f28\\u002f2013\",\"4\\u002f1\\u002f2013\",\"4\\u002f2\\u002f2013\",\"4\\u002f3\\u002f2013\",\"4\\u002f4\\u002f2013\",\"4\\u002f5\\u002f2013\",\"4\\u002f8\\u002f2013\",\"4\\u002f9\\u002f2013\",\"4\\u002f10\\u002f2013\",\"4\\u002f11\\u002f2013\",\"4\\u002f12\\u002f2013\",\"4\\u002f15\\u002f2013\",\"4\\u002f16\\u002f2013\",\"4\\u002f17\\u002f2013\",\"4\\u002f18\\u002f2013\",\"4\\u002f19\\u002f2013\",\"4\\u002f22\\u002f2013\",\"4\\u002f23\\u002f2013\",\"4\\u002f24\\u002f2013\",\"4\\u002f25\\u002f2013\",\"4\\u002f26\\u002f2013\",\"4\\u002f29\\u002f2013\",\"4\\u002f30\\u002f2013\",\"5\\u002f1\\u002f2013\",\"5\\u002f2\\u002f2013\",\"5\\u002f3\\u002f2013\",\"5\\u002f6\\u002f2013\",\"5\\u002f7\\u002f2013\",\"5\\u002f8\\u002f2013\",\"5\\u002f9\\u002f2013\",\"5\\u002f10\\u002f2013\",\"5\\u002f13\\u002f2013\",\"5\\u002f14\\u002f2013\",\"5\\u002f15\\u002f2013\",\"5\\u002f16\\u002f2013\",\"5\\u002f17\\u002f2013\",\"5\\u002f20\\u002f2013\",\"5\\u002f21\\u002f2013\",\"5\\u002f22\\u002f2013\",\"5\\u002f23\\u002f2013\",\"5\\u002f24\\u002f2013\",\"5\\u002f28\\u002f2013\",\"5\\u002f29\\u002f2013\",\"5\\u002f30\\u002f2013\",\"5\\u002f31\\u002f2013\",\"6\\u002f3\\u002f2013\",\"6\\u002f4\\u002f2013\",\"6\\u002f5\\u002f2013\",\"6\\u002f6\\u002f2013\",\"6\\u002f7\\u002f2013\",\"6\\u002f10\\u002f2013\",\"6\\u002f11\\u002f2013\",\"6\\u002f12\\u002f2013\",\"6\\u002f13\\u002f2013\",\"6\\u002f14\\u002f2013\",\"6\\u002f17\\u002f2013\",\"6\\u002f18\\u002f2013\",\"6\\u002f19\\u002f2013\",\"6\\u002f20\\u002f2013\",\"6\\u002f21\\u002f2013\",\"6\\u002f24\\u002f2013\",\"6\\u002f25\\u002f2013\",\"6\\u002f26\\u002f2013\",\"6\\u002f27\\u002f2013\",\"6\\u002f28\\u002f2013\",\"7\\u002f1\\u002f2013\",\"7\\u002f2\\u002f2013\",\"7\\u002f3\\u002f2013\",\"7\\u002f5\\u002f2013\",\"7\\u002f8\\u002f2013\",\"7\\u002f9\\u002f2013\",\"7\\u002f10\\u002f2013\",\"7\\u002f11\\u002f2013\",\"7\\u002f12\\u002f2013\",\"7\\u002f15\\u002f2013\",\"7\\u002f16\\u002f2013\",\"7\\u002f17\\u002f2013\",\"7\\u002f18\\u002f2013\",\"7\\u002f19\\u002f2013\",\"7\\u002f22\\u002f2013\",\"7\\u002f23\\u002f2013\",\"7\\u002f24\\u002f2013\",\"7\\u002f25\\u002f2013\",\"7\\u002f26\\u002f2013\",\"7\\u002f29\\u002f2013\",\"7\\u002f30\\u002f2013\",\"7\\u002f31\\u002f2013\",\"8\\u002f1\\u002f2013\",\"8\\u002f2\\u002f2013\",\"8\\u002f5\\u002f2013\",\"8\\u002f6\\u002f2013\",\"8\\u002f7\\u002f2013\",\"8\\u002f8\\u002f2013\",\"8\\u002f9\\u002f2013\",\"8\\u002f12\\u002f2013\",\"8\\u002f13\\u002f2013\",\"8\\u002f14\\u002f2013\",\"8\\u002f15\\u002f2013\",\"8\\u002f16\\u002f2013\",\"8\\u002f19\\u002f2013\",\"8\\u002f20\\u002f2013\",\"8\\u002f21\\u002f2013\",\"8\\u002f22\\u002f2013\",\"8\\u002f23\\u002f2013\",\"8\\u002f26\\u002f2013\",\"8\\u002f27\\u002f2013\",\"8\\u002f28\\u002f2013\",\"8\\u002f29\\u002f2013\",\"8\\u002f30\\u002f2013\",\"9\\u002f3\\u002f2013\",\"9\\u002f4\\u002f2013\",\"9\\u002f5\\u002f2013\",\"9\\u002f6\\u002f2013\",\"9\\u002f9\\u002f2013\",\"9\\u002f10\\u002f2013\",\"9\\u002f11\\u002f2013\",\"9\\u002f12\\u002f2013\",\"9\\u002f13\\u002f2013\",\"9\\u002f16\\u002f2013\",\"9\\u002f17\\u002f2013\",\"9\\u002f18\\u002f2013\",\"9\\u002f19\\u002f2013\",\"9\\u002f20\\u002f2013\",\"9\\u002f23\\u002f2013\",\"9\\u002f24\\u002f2013\",\"9\\u002f25\\u002f2013\",\"9\\u002f26\\u002f2013\",\"9\\u002f27\\u002f2013\",\"9\\u002f30\\u002f2013\",\"10\\u002f1\\u002f2013\",\"10\\u002f2\\u002f2013\",\"10\\u002f3\\u002f2013\",\"10\\u002f4\\u002f2013\",\"10\\u002f7\\u002f2013\",\"10\\u002f8\\u002f2013\",\"10\\u002f9\\u002f2013\",\"10\\u002f10\\u002f2013\",\"10\\u002f11\\u002f2013\",\"10\\u002f14\\u002f2013\",\"10\\u002f15\\u002f2013\",\"10\\u002f16\\u002f2013\",\"10\\u002f17\\u002f2013\",\"10\\u002f18\\u002f2013\",\"10\\u002f21\\u002f2013\",\"10\\u002f22\\u002f2013\",\"10\\u002f23\\u002f2013\",\"10\\u002f24\\u002f2013\",\"10\\u002f25\\u002f2013\",\"10\\u002f28\\u002f2013\",\"10\\u002f29\\u002f2013\",\"10\\u002f30\\u002f2013\",\"10\\u002f31\\u002f2013\",\"11\\u002f1\\u002f2013\",\"11\\u002f4\\u002f2013\",\"11\\u002f5\\u002f2013\",\"11\\u002f6\\u002f2013\",\"11\\u002f7\\u002f2013\",\"11\\u002f8\\u002f2013\",\"11\\u002f11\\u002f2013\",\"11\\u002f12\\u002f2013\",\"11\\u002f13\\u002f2013\",\"11\\u002f14\\u002f2013\",\"11\\u002f15\\u002f2013\",\"11\\u002f18\\u002f2013\",\"11\\u002f19\\u002f2013\",\"11\\u002f20\\u002f2013\",\"11\\u002f21\\u002f2013\",\"11\\u002f22\\u002f2013\",\"11\\u002f25\\u002f2013\",\"11\\u002f26\\u002f2013\",\"11\\u002f27\\u002f2013\",\"11\\u002f29\\u002f2013\",\"12\\u002f2\\u002f2013\",\"12\\u002f3\\u002f2013\",\"12\\u002f4\\u002f2013\",\"12\\u002f5\\u002f2013\",\"12\\u002f6\\u002f2013\",\"12\\u002f9\\u002f2013\",\"12\\u002f10\\u002f2013\",\"12\\u002f11\\u002f2013\",\"12\\u002f12\\u002f2013\",\"12\\u002f13\\u002f2013\",\"12\\u002f16\\u002f2013\",\"12\\u002f17\\u002f2013\",\"12\\u002f18\\u002f2013\",\"12\\u002f19\\u002f2013\",\"12\\u002f20\\u002f2013\",\"12\\u002f23\\u002f2013\",\"12\\u002f24\\u002f2013\",\"12\\u002f26\\u002f2013\",\"12\\u002f27\\u002f2013\",\"12\\u002f30\\u002f2013\",\"12\\u002f31\\u002f2013\",\"1\\u002f2\\u002f2014\",\"1\\u002f3\\u002f2014\",\"1\\u002f6\\u002f2014\",\"1\\u002f7\\u002f2014\",\"1\\u002f8\\u002f2014\",\"1\\u002f9\\u002f2014\",\"1\\u002f10\\u002f2014\",\"1\\u002f13\\u002f2014\",\"1\\u002f14\\u002f2014\",\"1\\u002f15\\u002f2014\",\"1\\u002f16\\u002f2014\",\"1\\u002f17\\u002f2014\",\"1\\u002f21\\u002f2014\",\"1\\u002f22\\u002f2014\",\"1\\u002f23\\u002f2014\",\"1\\u002f24\\u002f2014\",\"1\\u002f27\\u002f2014\",\"1\\u002f28\\u002f2014\",\"1\\u002f29\\u002f2014\",\"1\\u002f30\\u002f2014\",\"1\\u002f31\\u002f2014\",\"2\\u002f3\\u002f2014\",\"2\\u002f4\\u002f2014\",\"2\\u002f5\\u002f2014\",\"2\\u002f6\\u002f2014\",\"2\\u002f7\\u002f2014\",\"2\\u002f10\\u002f2014\",\"2\\u002f11\\u002f2014\",\"2\\u002f12\\u002f2014\",\"2\\u002f13\\u002f2014\",\"2\\u002f14\\u002f2014\",\"2\\u002f18\\u002f2014\",\"2\\u002f19\\u002f2014\",\"2\\u002f20\\u002f2014\",\"2\\u002f21\\u002f2014\",\"2\\u002f24\\u002f2014\",\"2\\u002f25\\u002f2014\",\"2\\u002f26\\u002f2014\",\"2\\u002f27\\u002f2014\",\"2\\u002f28\\u002f2014\",\"3\\u002f3\\u002f2014\",\"3\\u002f4\\u002f2014\",\"3\\u002f5\\u002f2014\",\"3\\u002f6\\u002f2014\",\"3\\u002f7\\u002f2014\",\"3\\u002f10\\u002f2014\",\"3\\u002f11\\u002f2014\",\"3\\u002f12\\u002f2014\",\"3\\u002f13\\u002f2014\",\"3\\u002f14\\u002f2014\",\"3\\u002f17\\u002f2014\",\"3\\u002f18\\u002f2014\",\"3\\u002f19\\u002f2014\",\"3\\u002f20\\u002f2014\",\"3\\u002f21\\u002f2014\",\"3\\u002f24\\u002f2014\",\"3\\u002f25\\u002f2014\",\"3\\u002f26\\u002f2014\",\"3\\u002f27\\u002f2014\",\"3\\u002f28\\u002f2014\",\"3\\u002f31\\u002f2014\",\"4\\u002f1\\u002f2014\",\"4\\u002f2\\u002f2014\",\"4\\u002f3\\u002f2014\",\"4\\u002f4\\u002f2014\",\"4\\u002f7\\u002f2014\",\"4\\u002f8\\u002f2014\",\"4\\u002f9\\u002f2014\",\"4\\u002f10\\u002f2014\",\"4\\u002f11\\u002f2014\",\"4\\u002f14\\u002f2014\",\"4\\u002f15\\u002f2014\",\"4\\u002f16\\u002f2014\",\"4\\u002f17\\u002f2014\",\"4\\u002f21\\u002f2014\",\"4\\u002f22\\u002f2014\",\"4\\u002f23\\u002f2014\",\"4\\u002f24\\u002f2014\",\"4\\u002f25\\u002f2014\",\"4\\u002f28\\u002f2014\",\"4\\u002f29\\u002f2014\",\"4\\u002f30\\u002f2014\",\"5\\u002f1\\u002f2014\",\"5\\u002f2\\u002f2014\",\"5\\u002f5\\u002f2014\",\"5\\u002f6\\u002f2014\",\"5\\u002f7\\u002f2014\",\"5\\u002f8\\u002f2014\",\"5\\u002f9\\u002f2014\",\"5\\u002f12\\u002f2014\",\"5\\u002f13\\u002f2014\",\"5\\u002f14\\u002f2014\",\"5\\u002f15\\u002f2014\",\"5\\u002f16\\u002f2014\",\"5\\u002f19\\u002f2014\",\"5\\u002f20\\u002f2014\",\"5\\u002f21\\u002f2014\",\"5\\u002f22\\u002f2014\",\"5\\u002f23\\u002f2014\",\"5\\u002f27\\u002f2014\",\"5\\u002f28\\u002f2014\",\"5\\u002f29\\u002f2014\",\"5\\u002f30\\u002f2014\",\"6\\u002f2\\u002f2014\",\"6\\u002f3\\u002f2014\",\"6\\u002f4\\u002f2014\",\"6\\u002f5\\u002f2014\",\"6\\u002f6\\u002f2014\",\"6\\u002f9\\u002f2014\",\"6\\u002f10\\u002f2014\",\"6\\u002f11\\u002f2014\",\"6\\u002f12\\u002f2014\",\"6\\u002f13\\u002f2014\",\"6\\u002f16\\u002f2014\",\"6\\u002f17\\u002f2014\",\"6\\u002f18\\u002f2014\",\"6\\u002f19\\u002f2014\",\"6\\u002f20\\u002f2014\",\"6\\u002f23\\u002f2014\",\"6\\u002f24\\u002f2014\",\"6\\u002f25\\u002f2014\",\"6\\u002f26\\u002f2014\",\"6\\u002f27\\u002f2014\",\"6\\u002f30\\u002f2014\",\"7\\u002f1\\u002f2014\",\"7\\u002f2\\u002f2014\",\"7\\u002f3\\u002f2014\",\"7\\u002f7\\u002f2014\",\"7\\u002f8\\u002f2014\",\"7\\u002f9\\u002f2014\",\"7\\u002f10\\u002f2014\",\"7\\u002f11\\u002f2014\",\"7\\u002f14\\u002f2014\",\"7\\u002f15\\u002f2014\",\"7\\u002f16\\u002f2014\",\"7\\u002f17\\u002f2014\",\"7\\u002f18\\u002f2014\",\"7\\u002f21\\u002f2014\",\"7\\u002f22\\u002f2014\",\"7\\u002f23\\u002f2014\",\"7\\u002f24\\u002f2014\",\"7\\u002f25\\u002f2014\",\"7\\u002f28\\u002f2014\",\"7\\u002f29\\u002f2014\",\"7\\u002f30\\u002f2014\",\"7\\u002f31\\u002f2014\",\"8\\u002f1\\u002f2014\",\"8\\u002f4\\u002f2014\",\"8\\u002f5\\u002f2014\",\"8\\u002f6\\u002f2014\",\"8\\u002f7\\u002f2014\",\"8\\u002f8\\u002f2014\",\"8\\u002f11\\u002f2014\",\"8\\u002f12\\u002f2014\",\"8\\u002f13\\u002f2014\",\"8\\u002f14\\u002f2014\",\"8\\u002f15\\u002f2014\",\"8\\u002f18\\u002f2014\",\"8\\u002f19\\u002f2014\",\"8\\u002f20\\u002f2014\",\"8\\u002f21\\u002f2014\",\"8\\u002f22\\u002f2014\",\"8\\u002f25\\u002f2014\",\"8\\u002f26\\u002f2014\",\"8\\u002f27\\u002f2014\",\"8\\u002f28\\u002f2014\",\"8\\u002f29\\u002f2014\",\"9\\u002f2\\u002f2014\",\"9\\u002f3\\u002f2014\",\"9\\u002f4\\u002f2014\",\"9\\u002f5\\u002f2014\",\"9\\u002f8\\u002f2014\",\"9\\u002f9\\u002f2014\",\"9\\u002f10\\u002f2014\",\"9\\u002f11\\u002f2014\",\"9\\u002f12\\u002f2014\",\"9\\u002f15\\u002f2014\",\"9\\u002f16\\u002f2014\",\"9\\u002f17\\u002f2014\",\"9\\u002f18\\u002f2014\",\"9\\u002f19\\u002f2014\",\"9\\u002f22\\u002f2014\",\"9\\u002f23\\u002f2014\",\"9\\u002f24\\u002f2014\",\"9\\u002f25\\u002f2014\",\"9\\u002f26\\u002f2014\",\"9\\u002f29\\u002f2014\",\"9\\u002f30\\u002f2014\",\"10\\u002f1\\u002f2014\",\"10\\u002f2\\u002f2014\",\"10\\u002f3\\u002f2014\",\"10\\u002f6\\u002f2014\",\"10\\u002f7\\u002f2014\",\"10\\u002f8\\u002f2014\",\"10\\u002f9\\u002f2014\",\"10\\u002f10\\u002f2014\",\"10\\u002f13\\u002f2014\",\"10\\u002f14\\u002f2014\",\"10\\u002f15\\u002f2014\",\"10\\u002f16\\u002f2014\",\"10\\u002f17\\u002f2014\",\"10\\u002f20\\u002f2014\",\"10\\u002f21\\u002f2014\",\"10\\u002f22\\u002f2014\",\"10\\u002f23\\u002f2014\",\"10\\u002f24\\u002f2014\",\"10\\u002f27\\u002f2014\",\"10\\u002f28\\u002f2014\",\"10\\u002f29\\u002f2014\",\"10\\u002f30\\u002f2014\",\"10\\u002f31\\u002f2014\",\"11\\u002f3\\u002f2014\",\"11\\u002f4\\u002f2014\",\"11\\u002f5\\u002f2014\",\"11\\u002f6\\u002f2014\",\"11\\u002f7\\u002f2014\",\"11\\u002f10\\u002f2014\",\"11\\u002f11\\u002f2014\",\"11\\u002f12\\u002f2014\",\"11\\u002f13\\u002f2014\",\"11\\u002f14\\u002f2014\",\"11\\u002f17\\u002f2014\",\"11\\u002f18\\u002f2014\",\"11\\u002f19\\u002f2014\",\"11\\u002f20\\u002f2014\",\"11\\u002f21\\u002f2014\",\"11\\u002f24\\u002f2014\",\"11\\u002f25\\u002f2014\",\"11\\u002f26\\u002f2014\",\"11\\u002f28\\u002f2014\",\"12\\u002f1\\u002f2014\",\"12\\u002f2\\u002f2014\",\"12\\u002f3\\u002f2014\",\"12\\u002f4\\u002f2014\",\"12\\u002f5\\u002f2014\",\"12\\u002f8\\u002f2014\",\"12\\u002f9\\u002f2014\",\"12\\u002f10\\u002f2014\",\"12\\u002f11\\u002f2014\",\"12\\u002f12\\u002f2014\",\"12\\u002f15\\u002f2014\",\"12\\u002f16\\u002f2014\",\"12\\u002f17\\u002f2014\",\"12\\u002f18\\u002f2014\",\"12\\u002f19\\u002f2014\",\"12\\u002f22\\u002f2014\",\"12\\u002f23\\u002f2014\",\"12\\u002f24\\u002f2014\",\"12\\u002f26\\u002f2014\",\"12\\u002f29\\u002f2014\",\"12\\u002f30\\u002f2014\",\"12\\u002f31\\u002f2014\",\"1\\u002f2\\u002f2015\",\"1\\u002f5\\u002f2015\",\"1\\u002f6\\u002f2015\",\"1\\u002f7\\u002f2015\",\"1\\u002f8\\u002f2015\",\"1\\u002f9\\u002f2015\",\"1\\u002f12\\u002f2015\",\"1\\u002f13\\u002f2015\",\"1\\u002f14\\u002f2015\",\"1\\u002f15\\u002f2015\",\"1\\u002f16\\u002f2015\",\"1\\u002f20\\u002f2015\",\"1\\u002f21\\u002f2015\",\"1\\u002f22\\u002f2015\",\"1\\u002f23\\u002f2015\",\"1\\u002f26\\u002f2015\",\"1\\u002f27\\u002f2015\",\"1\\u002f28\\u002f2015\",\"1\\u002f29\\u002f2015\",\"1\\u002f30\\u002f2015\",\"2\\u002f2\\u002f2015\",\"2\\u002f3\\u002f2015\",\"2\\u002f4\\u002f2015\",\"2\\u002f5\\u002f2015\",\"2\\u002f6\\u002f2015\",\"2\\u002f9\\u002f2015\",\"2\\u002f10\\u002f2015\",\"2\\u002f11\\u002f2015\",\"2\\u002f12\\u002f2015\",\"2\\u002f13\\u002f2015\",\"2\\u002f17\\u002f2015\",\"2\\u002f18\\u002f2015\",\"2\\u002f19\\u002f2015\",\"2\\u002f20\\u002f2015\",\"2\\u002f23\\u002f2015\",\"2\\u002f24\\u002f2015\",\"2\\u002f25\\u002f2015\",\"2\\u002f26\\u002f2015\",\"2\\u002f27\\u002f2015\",\"3\\u002f2\\u002f2015\",\"3\\u002f3\\u002f2015\",\"3\\u002f4\\u002f2015\",\"3\\u002f5\\u002f2015\",\"3\\u002f6\\u002f2015\",\"3\\u002f9\\u002f2015\",\"3\\u002f10\\u002f2015\",\"3\\u002f11\\u002f2015\",\"3\\u002f12\\u002f2015\",\"3\\u002f13\\u002f2015\",\"3\\u002f16\\u002f2015\",\"3\\u002f17\\u002f2015\",\"3\\u002f18\\u002f2015\",\"3\\u002f19\\u002f2015\",\"3\\u002f20\\u002f2015\",\"3\\u002f23\\u002f2015\",\"3\\u002f24\\u002f2015\",\"3\\u002f25\\u002f2015\",\"3\\u002f26\\u002f2015\",\"3\\u002f27\\u002f2015\",\"3\\u002f30\\u002f2015\",\"3\\u002f31\\u002f2015\",\"4\\u002f1\\u002f2015\",\"4\\u002f2\\u002f2015\",\"4\\u002f6\\u002f2015\",\"4\\u002f7\\u002f2015\",\"4\\u002f8\\u002f2015\",\"4\\u002f9\\u002f2015\",\"4\\u002f10\\u002f2015\",\"4\\u002f13\\u002f2015\",\"4\\u002f14\\u002f2015\",\"4\\u002f15\\u002f2015\",\"4\\u002f16\\u002f2015\",\"4\\u002f17\\u002f2015\",\"4\\u002f20\\u002f2015\",\"4\\u002f21\\u002f2015\",\"4\\u002f22\\u002f2015\",\"4\\u002f23\\u002f2015\",\"4\\u002f24\\u002f2015\",\"4\\u002f27\\u002f2015\",\"4\\u002f28\\u002f2015\",\"4\\u002f29\\u002f2015\",\"4\\u002f30\\u002f2015\",\"5\\u002f1\\u002f2015\",\"5\\u002f4\\u002f2015\",\"5\\u002f5\\u002f2015\",\"5\\u002f6\\u002f2015\",\"5\\u002f7\\u002f2015\",\"5\\u002f8\\u002f2015\",\"5\\u002f11\\u002f2015\",\"5\\u002f12\\u002f2015\",\"5\\u002f13\\u002f2015\",\"5\\u002f14\\u002f2015\",\"5\\u002f15\\u002f2015\",\"5\\u002f18\\u002f2015\",\"5\\u002f19\\u002f2015\",\"5\\u002f20\\u002f2015\",\"5\\u002f21\\u002f2015\",\"5\\u002f22\\u002f2015\",\"5\\u002f26\\u002f2015\",\"5\\u002f27\\u002f2015\",\"5\\u002f28\\u002f2015\",\"5\\u002f29\\u002f2015\",\"6\\u002f1\\u002f2015\",\"6\\u002f2\\u002f2015\",\"6\\u002f3\\u002f2015\",\"6\\u002f4\\u002f2015\",\"6\\u002f5\\u002f2015\",\"6\\u002f8\\u002f2015\",\"6\\u002f9\\u002f2015\",\"6\\u002f10\\u002f2015\",\"6\\u002f11\\u002f2015\",\"6\\u002f12\\u002f2015\",\"6\\u002f15\\u002f2015\",\"6\\u002f16\\u002f2015\",\"6\\u002f17\\u002f2015\",\"6\\u002f18\\u002f2015\",\"6\\u002f19\\u002f2015\",\"6\\u002f22\\u002f2015\",\"6\\u002f23\\u002f2015\",\"6\\u002f24\\u002f2015\",\"6\\u002f25\\u002f2015\",\"6\\u002f26\\u002f2015\",\"6\\u002f29\\u002f2015\",\"6\\u002f30\\u002f2015\",\"7\\u002f1\\u002f2015\",\"7\\u002f2\\u002f2015\",\"7\\u002f6\\u002f2015\",\"7\\u002f7\\u002f2015\",\"7\\u002f8\\u002f2015\",\"7\\u002f9\\u002f2015\",\"7\\u002f10\\u002f2015\",\"7\\u002f13\\u002f2015\",\"7\\u002f14\\u002f2015\",\"7\\u002f15\\u002f2015\",\"7\\u002f16\\u002f2015\",\"7\\u002f17\\u002f2015\",\"7\\u002f20\\u002f2015\",\"7\\u002f21\\u002f2015\",\"7\\u002f22\\u002f2015\",\"7\\u002f23\\u002f2015\",\"7\\u002f24\\u002f2015\",\"7\\u002f27\\u002f2015\",\"7\\u002f28\\u002f2015\",\"7\\u002f29\\u002f2015\",\"7\\u002f30\\u002f2015\",\"7\\u002f31\\u002f2015\",\"8\\u002f3\\u002f2015\",\"8\\u002f4\\u002f2015\",\"8\\u002f5\\u002f2015\",\"8\\u002f6\\u002f2015\",\"8\\u002f7\\u002f2015\",\"8\\u002f10\\u002f2015\",\"8\\u002f11\\u002f2015\",\"8\\u002f12\\u002f2015\",\"8\\u002f13\\u002f2015\",\"8\\u002f14\\u002f2015\",\"8\\u002f17\\u002f2015\",\"8\\u002f18\\u002f2015\",\"8\\u002f19\\u002f2015\",\"8\\u002f20\\u002f2015\",\"8\\u002f21\\u002f2015\",\"8\\u002f24\\u002f2015\",\"8\\u002f25\\u002f2015\",\"8\\u002f26\\u002f2015\",\"8\\u002f27\\u002f2015\",\"8\\u002f28\\u002f2015\",\"8\\u002f31\\u002f2015\",\"9\\u002f1\\u002f2015\",\"9\\u002f2\\u002f2015\",\"9\\u002f3\\u002f2015\",\"9\\u002f4\\u002f2015\",\"9\\u002f8\\u002f2015\",\"9\\u002f9\\u002f2015\",\"9\\u002f10\\u002f2015\",\"9\\u002f11\\u002f2015\",\"9\\u002f14\\u002f2015\",\"9\\u002f15\\u002f2015\",\"9\\u002f16\\u002f2015\",\"9\\u002f17\\u002f2015\",\"9\\u002f18\\u002f2015\",\"9\\u002f21\\u002f2015\",\"9\\u002f22\\u002f2015\",\"9\\u002f23\\u002f2015\",\"9\\u002f24\\u002f2015\",\"9\\u002f25\\u002f2015\",\"9\\u002f28\\u002f2015\",\"9\\u002f29\\u002f2015\",\"9\\u002f30\\u002f2015\",\"10\\u002f1\\u002f2015\",\"10\\u002f2\\u002f2015\",\"10\\u002f5\\u002f2015\",\"10\\u002f6\\u002f2015\",\"10\\u002f7\\u002f2015\",\"10\\u002f8\\u002f2015\",\"10\\u002f9\\u002f2015\",\"10\\u002f12\\u002f2015\",\"10\\u002f13\\u002f2015\",\"10\\u002f14\\u002f2015\",\"10\\u002f15\\u002f2015\",\"10\\u002f16\\u002f2015\",\"10\\u002f19\\u002f2015\",\"10\\u002f20\\u002f2015\",\"10\\u002f21\\u002f2015\",\"10\\u002f22\\u002f2015\",\"10\\u002f23\\u002f2015\",\"10\\u002f26\\u002f2015\",\"10\\u002f27\\u002f2015\",\"10\\u002f28\\u002f2015\",\"10\\u002f29\\u002f2015\",\"10\\u002f30\\u002f2015\",\"11\\u002f2\\u002f2015\",\"11\\u002f3\\u002f2015\",\"11\\u002f4\\u002f2015\",\"11\\u002f5\\u002f2015\",\"11\\u002f6\\u002f2015\",\"11\\u002f9\\u002f2015\",\"11\\u002f10\\u002f2015\",\"11\\u002f11\\u002f2015\",\"11\\u002f12\\u002f2015\",\"11\\u002f13\\u002f2015\",\"11\\u002f16\\u002f2015\",\"11\\u002f17\\u002f2015\",\"11\\u002f18\\u002f2015\",\"11\\u002f19\\u002f2015\",\"11\\u002f20\\u002f2015\",\"11\\u002f23\\u002f2015\",\"11\\u002f24\\u002f2015\",\"11\\u002f25\\u002f2015\",\"11\\u002f27\\u002f2015\",\"11\\u002f30\\u002f2015\",\"12\\u002f1\\u002f2015\",\"12\\u002f2\\u002f2015\",\"12\\u002f3\\u002f2015\",\"12\\u002f4\\u002f2015\",\"12\\u002f7\\u002f2015\",\"12\\u002f8\\u002f2015\",\"12\\u002f9\\u002f2015\",\"12\\u002f10\\u002f2015\",\"12\\u002f11\\u002f2015\",\"12\\u002f14\\u002f2015\",\"12\\u002f15\\u002f2015\",\"12\\u002f16\\u002f2015\",\"12\\u002f17\\u002f2015\",\"12\\u002f18\\u002f2015\",\"12\\u002f21\\u002f2015\",\"12\\u002f22\\u002f2015\",\"12\\u002f23\\u002f2015\",\"12\\u002f24\\u002f2015\",\"12\\u002f28\\u002f2015\",\"12\\u002f29\\u002f2015\",\"12\\u002f30\\u002f2015\",\"12\\u002f31\\u002f2015\",\"1\\u002f4\\u002f2016\",\"1\\u002f5\\u002f2016\",\"1\\u002f6\\u002f2016\",\"1\\u002f7\\u002f2016\",\"1\\u002f8\\u002f2016\",\"1\\u002f11\\u002f2016\",\"1\\u002f12\\u002f2016\",\"1\\u002f13\\u002f2016\",\"1\\u002f14\\u002f2016\",\"1\\u002f15\\u002f2016\",\"1\\u002f19\\u002f2016\",\"1\\u002f20\\u002f2016\",\"1\\u002f21\\u002f2016\",\"1\\u002f22\\u002f2016\",\"1\\u002f25\\u002f2016\",\"1\\u002f26\\u002f2016\",\"1\\u002f27\\u002f2016\",\"1\\u002f28\\u002f2016\",\"1\\u002f29\\u002f2016\",\"2\\u002f1\\u002f2016\",\"2\\u002f2\\u002f2016\",\"2\\u002f3\\u002f2016\",\"2\\u002f4\\u002f2016\",\"2\\u002f5\\u002f2016\",\"2\\u002f8\\u002f2016\",\"2\\u002f9\\u002f2016\",\"2\\u002f10\\u002f2016\",\"2\\u002f11\\u002f2016\",\"2\\u002f12\\u002f2016\",\"2\\u002f16\\u002f2016\",\"2\\u002f17\\u002f2016\",\"2\\u002f18\\u002f2016\",\"2\\u002f19\\u002f2016\",\"2\\u002f22\\u002f2016\",\"2\\u002f23\\u002f2016\",\"2\\u002f24\\u002f2016\",\"2\\u002f25\\u002f2016\",\"2\\u002f26\\u002f2016\",\"2\\u002f29\\u002f2016\",\"3\\u002f1\\u002f2016\",\"3\\u002f2\\u002f2016\",\"3\\u002f3\\u002f2016\",\"3\\u002f4\\u002f2016\",\"3\\u002f7\\u002f2016\",\"3\\u002f8\\u002f2016\",\"3\\u002f9\\u002f2016\",\"3\\u002f10\\u002f2016\",\"3\\u002f11\\u002f2016\",\"3\\u002f14\\u002f2016\",\"3\\u002f15\\u002f2016\",\"3\\u002f16\\u002f2016\",\"3\\u002f17\\u002f2016\",\"3\\u002f18\\u002f2016\",\"3\\u002f21\\u002f2016\",\"3\\u002f22\\u002f2016\",\"3\\u002f23\\u002f2016\",\"3\\u002f24\\u002f2016\",\"3\\u002f28\\u002f2016\",\"3\\u002f29\\u002f2016\",\"3\\u002f30\\u002f2016\",\"3\\u002f31\\u002f2016\",\"4\\u002f1\\u002f2016\",\"4\\u002f4\\u002f2016\",\"4\\u002f5\\u002f2016\",\"4\\u002f6\\u002f2016\",\"4\\u002f7\\u002f2016\",\"4\\u002f8\\u002f2016\",\"4\\u002f11\\u002f2016\",\"4\\u002f12\\u002f2016\",\"4\\u002f13\\u002f2016\",\"4\\u002f14\\u002f2016\",\"4\\u002f15\\u002f2016\",\"4\\u002f18\\u002f2016\",\"4\\u002f19\\u002f2016\",\"4\\u002f20\\u002f2016\",\"4\\u002f21\\u002f2016\",\"4\\u002f22\\u002f2016\",\"4\\u002f25\\u002f2016\",\"4\\u002f26\\u002f2016\",\"4\\u002f27\\u002f2016\",\"4\\u002f28\\u002f2016\",\"4\\u002f29\\u002f2016\",\"5\\u002f2\\u002f2016\",\"5\\u002f3\\u002f2016\",\"5\\u002f4\\u002f2016\",\"5\\u002f5\\u002f2016\",\"5\\u002f6\\u002f2016\",\"5\\u002f9\\u002f2016\",\"5\\u002f10\\u002f2016\",\"5\\u002f11\\u002f2016\",\"5\\u002f12\\u002f2016\",\"5\\u002f13\\u002f2016\",\"5\\u002f16\\u002f2016\",\"5\\u002f17\\u002f2016\",\"5\\u002f18\\u002f2016\",\"5\\u002f19\\u002f2016\",\"5\\u002f20\\u002f2016\",\"5\\u002f23\\u002f2016\",\"5\\u002f24\\u002f2016\",\"5\\u002f25\\u002f2016\",\"5\\u002f26\\u002f2016\",\"5\\u002f27\\u002f2016\",\"5\\u002f31\\u002f2016\",\"6\\u002f1\\u002f2016\",\"6\\u002f2\\u002f2016\",\"6\\u002f3\\u002f2016\",\"6\\u002f6\\u002f2016\",\"6\\u002f7\\u002f2016\",\"6\\u002f8\\u002f2016\",\"6\\u002f9\\u002f2016\",\"6\\u002f10\\u002f2016\",\"6\\u002f13\\u002f2016\",\"6\\u002f14\\u002f2016\",\"6\\u002f15\\u002f2016\",\"6\\u002f16\\u002f2016\",\"6\\u002f17\\u002f2016\",\"6\\u002f20\\u002f2016\",\"6\\u002f21\\u002f2016\",\"6\\u002f22\\u002f2016\",\"6\\u002f23\\u002f2016\",\"6\\u002f24\\u002f2016\",\"6\\u002f27\\u002f2016\",\"6\\u002f28\\u002f2016\",\"6\\u002f29\\u002f2016\",\"6\\u002f30\\u002f2016\",\"7\\u002f1\\u002f2016\",\"7\\u002f5\\u002f2016\",\"7\\u002f6\\u002f2016\",\"7\\u002f7\\u002f2016\",\"7\\u002f8\\u002f2016\",\"7\\u002f11\\u002f2016\",\"7\\u002f12\\u002f2016\",\"7\\u002f13\\u002f2016\",\"7\\u002f14\\u002f2016\",\"7\\u002f15\\u002f2016\",\"7\\u002f18\\u002f2016\",\"7\\u002f19\\u002f2016\",\"7\\u002f20\\u002f2016\",\"7\\u002f21\\u002f2016\",\"7\\u002f22\\u002f2016\",\"7\\u002f25\\u002f2016\",\"7\\u002f26\\u002f2016\",\"7\\u002f27\\u002f2016\",\"7\\u002f28\\u002f2016\",\"7\\u002f29\\u002f2016\",\"8\\u002f1\\u002f2016\",\"8\\u002f2\\u002f2016\",\"8\\u002f3\\u002f2016\",\"8\\u002f4\\u002f2016\",\"8\\u002f5\\u002f2016\",\"8\\u002f8\\u002f2016\",\"8\\u002f9\\u002f2016\",\"8\\u002f10\\u002f2016\",\"8\\u002f11\\u002f2016\",\"8\\u002f12\\u002f2016\",\"8\\u002f15\\u002f2016\",\"8\\u002f16\\u002f2016\",\"8\\u002f17\\u002f2016\",\"8\\u002f18\\u002f2016\",\"8\\u002f19\\u002f2016\",\"8\\u002f22\\u002f2016\",\"8\\u002f23\\u002f2016\",\"8\\u002f24\\u002f2016\",\"8\\u002f25\\u002f2016\",\"8\\u002f26\\u002f2016\",\"8\\u002f29\\u002f2016\",\"8\\u002f30\\u002f2016\",\"8\\u002f31\\u002f2016\",\"9\\u002f1\\u002f2016\",\"9\\u002f2\\u002f2016\",\"9\\u002f6\\u002f2016\",\"9\\u002f7\\u002f2016\",\"9\\u002f8\\u002f2016\",\"9\\u002f9\\u002f2016\",\"9\\u002f12\\u002f2016\",\"9\\u002f13\\u002f2016\",\"9\\u002f14\\u002f2016\",\"9\\u002f15\\u002f2016\",\"9\\u002f16\\u002f2016\",\"9\\u002f19\\u002f2016\",\"9\\u002f20\\u002f2016\",\"9\\u002f21\\u002f2016\",\"9\\u002f22\\u002f2016\",\"9\\u002f23\\u002f2016\",\"9\\u002f26\\u002f2016\",\"9\\u002f27\\u002f2016\",\"9\\u002f28\\u002f2016\",\"9\\u002f29\\u002f2016\",\"9\\u002f30\\u002f2016\",\"10\\u002f3\\u002f2016\",\"10\\u002f4\\u002f2016\",\"10\\u002f5\\u002f2016\",\"10\\u002f6\\u002f2016\",\"10\\u002f7\\u002f2016\",\"10\\u002f10\\u002f2016\",\"10\\u002f11\\u002f2016\",\"10\\u002f12\\u002f2016\",\"10\\u002f13\\u002f2016\",\"10\\u002f14\\u002f2016\",\"10\\u002f17\\u002f2016\",\"10\\u002f18\\u002f2016\",\"10\\u002f19\\u002f2016\",\"10\\u002f20\\u002f2016\",\"10\\u002f21\\u002f2016\",\"10\\u002f24\\u002f2016\",\"10\\u002f25\\u002f2016\",\"10\\u002f26\\u002f2016\",\"10\\u002f27\\u002f2016\",\"10\\u002f28\\u002f2016\",\"10\\u002f31\\u002f2016\",\"11\\u002f1\\u002f2016\",\"11\\u002f2\\u002f2016\",\"11\\u002f3\\u002f2016\",\"11\\u002f4\\u002f2016\",\"11\\u002f7\\u002f2016\",\"11\\u002f8\\u002f2016\",\"11\\u002f9\\u002f2016\",\"11\\u002f10\\u002f2016\",\"11\\u002f11\\u002f2016\",\"11\\u002f14\\u002f2016\",\"11\\u002f15\\u002f2016\",\"11\\u002f16\\u002f2016\",\"11\\u002f17\\u002f2016\",\"11\\u002f18\\u002f2016\",\"11\\u002f21\\u002f2016\",\"11\\u002f22\\u002f2016\",\"11\\u002f23\\u002f2016\",\"11\\u002f25\\u002f2016\",\"11\\u002f28\\u002f2016\",\"11\\u002f29\\u002f2016\",\"11\\u002f30\\u002f2016\",\"12\\u002f1\\u002f2016\",\"12\\u002f2\\u002f2016\",\"12\\u002f5\\u002f2016\",\"12\\u002f6\\u002f2016\",\"12\\u002f7\\u002f2016\",\"12\\u002f8\\u002f2016\",\"12\\u002f9\\u002f2016\",\"12\\u002f12\\u002f2016\",\"12\\u002f13\\u002f2016\",\"12\\u002f14\\u002f2016\",\"12\\u002f15\\u002f2016\",\"12\\u002f16\\u002f2016\",\"12\\u002f19\\u002f2016\",\"12\\u002f20\\u002f2016\",\"12\\u002f21\\u002f2016\",\"12\\u002f22\\u002f2016\",\"12\\u002f23\\u002f2016\",\"12\\u002f27\\u002f2016\",\"12\\u002f28\\u002f2016\",\"12\\u002f29\\u002f2016\",\"12\\u002f30\\u002f2016\"],\"xaxis\":\"x\",\"y\":[663.59,666.45,657.21,648.24,620.76,621.43,624.25,627.92,623.28,626.86,631.18,637.82,584.39,583.92,579.34,567.93,566.54,578.39,576.11,578.52,579.24,583.51,594.7,607.42,605.11,608.18,609.79,604.25,610.52,608.09,603.9,604.86,602.98,612.32,606.28,604.45,608.23,607.64,616.7,616.56,620.7,619.55,612.57,603.3,605.14,605.48,598.61,603.49,616.09,614.3,619.43,623.33,632.24,631.76,638.23,644.28,640.83,647.55,645.25,653.96,646.63,639.48,645.15,640.86,633.41,630.59,629.11,625.14,634.22,649.23,622.89,604.41,607.9,605.79,597.66,594.43,595.96,599.62,608.05,613.78,613.3,603.19,602.78,605.6,609.35,595.34,605.89,611.11,607.48,611.98,603.57,602.35,609.44,627.21,621.34,598.76,612.43,599.16,607.79,602.01,589.91,592.71,586.62,579.27,569.42,577.01,568.85,578.98,576.65,578.86,566.94,563.55,559.55,557.52,562.96,569.29,579.94,575.93,563.66,569.92,559.16,563.13,567.74,562.76,578.48,578.88,586.22,594.29,584.38,584.41,580.11,569.63,568.92,574.94,573.35,575.15,579.17,591.44,609.15,613.82,605.91,606.33,611.68,633.22,630.57,631.24,630.95,627.03,639.57,641.06,638.79,640.47,640.59,640.24,658.2,666.83,665.71,671.03,675.29,673.69,667.68,675.33,674.95,676.77,667.39,675.4,686.13,679.81,683.21,679.18,678.86,697.49,704.22,698.85,690.29,688.99,704.11,707.74,708.04,716.31,725.51,726.13,731.98,747.33,747.11,751.4,754.43,752.43,759.69,754.92,760.41,765.95,765.55,755.77,742.05,742.52,749.42,742.71,738.95,742.66,753.42,693.1,679.92,676.81,678.49,675.45,675.9,673.3,678.44,685.71,686.04,681.09,679.85,665.29,650.5,661.21,664.08,657.25,650.76,645.49,645.41,666.38,668.14,664.05,666.14,659.34,668.87,681.8,690.0,696.46,693.35,689.14,685.94,689.24,682.34,683.54,694.97,695.65,700.78,700.04,718.81,719.1,718.14,720.38,713.67,707.56,706.93,704.36,698.09,705.44,721.27,721.69,735.95,732.74,731.29,736.1,739.45,737.96,721.27,722.95,713.23,709.37,702.58,700.95,739.47,752.15,751.61,748.67,751.62,751.77,753.62,773.48,756.94,763.64,768.06,771.83,783.22,780.28,778.56,780.72,785.66,790.72,804.64,790.29,793.35,797.52,788.6,787.97,797.59,799.01,803.98,819.25,836.3,829.1,830.32,829.24,832.53,825.34,823.05,819.29,812.07,805.58,809.1,812.48,809.04,808.09,807.42,810.2,800.46,792.02,799.0,810.81,803.99,792.89,780.91,772.73,775.52,788.02,788.23,787.89,779.79,791.2,780.42,763.81,797.68,797.92,805.69,811.22,806.88,799.23,816.82,822.31,818.18,827.34,843.4,859.19,854.88,871.24,869.09,877.82,875.13,884.67,913.38,901.4,906.69,906.04,904.49,886.98,880.37,870.93,878.86,865.93,868.38,868.83,865.25,856.75,857.35,862.27,877.32,887.78,877.4,869.59,874.6,872.64,883.82,898.15,898.21,882.32,878.52,867.41,863.83,871.26,874.67,877.96,885.45,879.89,884.0,891.04,902.61,902.76,903.51,917.72,920.47,922.16,917.09,916.04,908.19,894.15,908.21,901.33,900.43,885.27,882.93,879.85,888.48,885.32,901.74,904.09,902.52,894.12,888.21,890.22,887.97,883.09,878.84,867.43,857.31,854.56,863.28,863.05,866.95,871.32,867.83,864.02,847.82,846.23,853.09,844.58,858.02,869.24,877.15,877.17,885.62,886.24,893.74,890.61,886.64,885.33,883.68,900.85,895.93,900.64,884.07,884.41,874.83,875.77,873.99,873.51,884.57,885.56,873.69,869.96,863.37,851.33,853.52,865.86,869.6,873.71,879.6,895.57,886.36,null,null,null,null,null,null,null,null,null,null,null,null,null,null,null,null,null,null,null,null,null,null,null,null,null,null,null,null,null,null,null,null,null,null,null,null,null,null,null,null,null,null,null,null,null,null,null,null,null,null,null,null,null,null,null,null,null,null,null,null,null,null,null,null,null,null,null,null,null,null,null,null,null,null,null,null,null,null,null,null,null,null,null,null,null,null,null,null,null,null,null,null,null,null,null,null,null,null,null,null,null,null,null,null,null,null,null,null,null,556.93,558.46,555.45,565.61,565.45,568.18,541.65,536.68,553.38,562.6,539.47,529.15,531.06,534.97,555.02,534.63,527.17,533.35,525.5,523.72,514.77,515.73,526.26,525.22,529.9,526.48,526.36,513.73,508.56,509.6,517.31,528.47,531.63,525.21,518.56,519.2,527.41,528.32,537.46,543.57,551.19,564.4,560.14,558.55,558.36,552.41,543.45,543.17,552.38,554.81,560.58,559.02,557.31,549.84,550.25,542.79,541.52,551.85,553.38,554.84,563.4,563.07,577.07,574.42,575.66,573.7,581.07,580.74,583.13,580.66,569.53,574.5,569.54,577.59,583.27,583.18,581.06,572.16,593.45,587.86,593.11,594.35,591.73,587.41,588.98,584.01,585.81,570.03,564.52,571.58,563.52,564.82,561.82,567.21,566.33,561.19,573.21,573.08,571.91,580.57,585.25,582.89,581.77,580.96,578.61,576.28,569.44,567.64,570.03,575.75,576.36,580.39,584.48,588.11,579.42,581.5,579.76,574.04,571.53,578.36,583.17,587.66,594.45,585.76,579.54,586.38,573.49,575.52,574.78,575.78,566.71,568.52,573.7,575.77,562.2,570.93,559.34,543.0,531.75,536.47,528.58,523.07,509.77,519.41,525.1,531.25,542.49,538.3,539.29,547.4,547.83,548.8,557.55,553.7,552.59,544.43,540.56,539.53,545.99,548.78,545.81,543.89,542.91,535.04,533.57,535.52,533.37,536.03,537.79,539.6,538.89,540.35,532.34,532.29,529.87,535.84,523.82,525.54,531.91,524.62,526.89,517.24,512.39,494.03,503.51,509.7,514.94,523.43,529.14,527.32,532.57,528.88,528.97,524.96,523.37,512.46,500.59,499.73,501.3,494.81,491.2,494.82,499.5,500.42,506.69,505.51,516.62,532.93,538.47,533.74,517.21,508.6,509.26,533.06,527.03,527.79,521.33,526.14,529.55,526.38,535.47,534.5,541.44,547.51,541.35,538.22,541.38,537.47,530.45,534.62,542.38,553.96,556.87,569.78,572.07,571.8,573.75,566.13,567.29,553.49,549.67,553.99,545.82,552.99,549.33,557.97,556.46,558.83,557.28,568.63,557.26,553.65,546.84,550.52,546.5,541.07,534.06,535.3,535.55,540.13,539.3,538.53,537.69,528.94,531.07,532.34,522.62,533.91,532.51,537.89,545.5,563.51,555.37,553.68,549.08,537.34,537.9,540.78,530.8,524.22,530.7,538.22,535.7,529.04,529.62,538.4,533.85,532.3,537.36,539.27,542.51,540.11,532.32,539.79,539.78,532.11,533.99,539.18,540.31,536.7,533.33,526.83,526.69,536.69,534.61,532.33,527.2,528.15,529.26,536.73,536.69,538.19,540.48,537.84,535.23,531.69,521.52,520.51,521.84,523.4,522.86,525.02,516.83,520.68,530.13,546.55,561.1,560.22,579.85,672.93,663.02,662.3,662.1,644.28,623.56,627.26,628.0,631.93,632.59,625.61,631.21,629.25,643.78,642.68,635.3,633.73,660.78,659.56,656.45,657.12,660.87,656.13,660.9,646.83,612.48,589.61,582.06,628.62,637.61,630.38,618.25,597.79,614.34,606.25,600.7,614.66,612.72,621.35,625.77,623.24,635.14,635.98,642.9,629.25,635.44,622.69,622.36,625.8,611.97,594.89,594.97,608.42,611.29,626.91,641.47,645.44,642.36,639.16,643.61,646.67,652.3,651.16,661.74,662.2,666.1,650.28,642.61,651.79,702.0,712.78,708.49,712.95,716.92,710.81,721.11,722.16,728.11,731.25,733.76,724.89,728.32,735.4,731.23,717.0,728.96,725.3,740.0,738.41,756.6,755.98,748.28,748.15,750.26,742.6,767.04,762.38,752.54,766.81,763.25,762.37,751.61,749.46,738.87,747.77,743.4,758.09,749.43,739.31,747.77,750.0,750.31,748.4,762.51,776.6,771.0,758.88,741.84,742.58,743.62,726.39,714.47,716.03,726.07,700.56,714.72,694.45,701.79,698.45,706.59,725.25,711.67,713.04,699.99,730.96,742.95,752.0,764.65,726.95,708.01,683.57,682.74,678.11,684.12,683.11,682.4,691.0,708.4,697.35,700.91,706.46,695.85,699.56,705.75,705.07,697.77,718.81,718.85,712.42,710.89,695.16,693.97,705.24,712.82,726.82,730.49,728.33,736.09,737.78,737.6,742.09,740.75,738.06,735.3,733.53,744.77,750.53,744.95,749.91,745.29,737.8,745.69,740.28,739.15,736.1,743.09,751.72,753.2,759.0,766.61,753.93,752.67,759.14,718.77,723.15,708.14,705.84,691.02,693.01,698.21,692.36,695.7,701.43,711.12,712.9,723.18,715.29,713.31,710.83,716.49,706.23,706.63,700.32,709.74,704.24,720.09,725.27,724.12,732.66,735.72,734.15,730.4,722.34,716.55,716.65,728.28,728.58,719.41,718.36,718.27,718.92,710.36,691.72,693.71,695.94,697.46,701.87,675.22,668.26,680.04,684.11,692.1,699.21,694.95,697.77,695.36,705.63,715.09,720.64,716.98,720.95,719.85,733.78,736.96,741.19,738.63,742.74,739.77,738.42,741.77,745.91,768.79,772.88,771.07,773.18,771.61,782.22,781.76,784.26,784.68,784.85,783.22,782.44,777.14,779.91,777.5,775.42,772.15,772.08,769.64,769.41,769.54,772.15,769.09,767.05,768.78,771.46,780.08,780.35,775.32,759.66,769.02,759.69,762.49,771.76,768.88,765.7,771.41,776.22,787.21,786.9,774.21,783.01,781.56,775.01,777.29,772.56,776.43,776.47,776.86,775.08,785.94,783.07,786.14,778.19,778.53,779.96,795.26,801.5,796.97,799.37,813.11,807.67,799.07,795.35,795.37,784.54,783.61,768.7,762.13,762.02,782.52,790.51,785.31,762.56,754.02,736.08,758.49,764.48,771.23,760.54,769.2,768.27,760.99,761.68,768.24,770.84,758.04,747.92,750.5,762.52,759.11,771.19,776.42,789.29,789.27,796.1,797.07,797.85,790.8,794.2,796.42,794.56,791.26,789.91,791.55,785.05,782.79,771.82],\"yaxis\":\"y\",\"type\":\"scattergl\"}],                        {\"template\":{\"data\":{\"histogram2dcontour\":[{\"type\":\"histogram2dcontour\",\"colorbar\":{\"outlinewidth\":0,\"ticks\":\"\"},\"colorscale\":[[0.0,\"#0d0887\"],[0.1111111111111111,\"#46039f\"],[0.2222222222222222,\"#7201a8\"],[0.3333333333333333,\"#9c179e\"],[0.4444444444444444,\"#bd3786\"],[0.5555555555555556,\"#d8576b\"],[0.6666666666666666,\"#ed7953\"],[0.7777777777777778,\"#fb9f3a\"],[0.8888888888888888,\"#fdca26\"],[1.0,\"#f0f921\"]]}],\"choropleth\":[{\"type\":\"choropleth\",\"colorbar\":{\"outlinewidth\":0,\"ticks\":\"\"}}],\"histogram2d\":[{\"type\":\"histogram2d\",\"colorbar\":{\"outlinewidth\":0,\"ticks\":\"\"},\"colorscale\":[[0.0,\"#0d0887\"],[0.1111111111111111,\"#46039f\"],[0.2222222222222222,\"#7201a8\"],[0.3333333333333333,\"#9c179e\"],[0.4444444444444444,\"#bd3786\"],[0.5555555555555556,\"#d8576b\"],[0.6666666666666666,\"#ed7953\"],[0.7777777777777778,\"#fb9f3a\"],[0.8888888888888888,\"#fdca26\"],[1.0,\"#f0f921\"]]}],\"heatmap\":[{\"type\":\"heatmap\",\"colorbar\":{\"outlinewidth\":0,\"ticks\":\"\"},\"colorscale\":[[0.0,\"#0d0887\"],[0.1111111111111111,\"#46039f\"],[0.2222222222222222,\"#7201a8\"],[0.3333333333333333,\"#9c179e\"],[0.4444444444444444,\"#bd3786\"],[0.5555555555555556,\"#d8576b\"],[0.6666666666666666,\"#ed7953\"],[0.7777777777777778,\"#fb9f3a\"],[0.8888888888888888,\"#fdca26\"],[1.0,\"#f0f921\"]]}],\"heatmapgl\":[{\"type\":\"heatmapgl\",\"colorbar\":{\"outlinewidth\":0,\"ticks\":\"\"},\"colorscale\":[[0.0,\"#0d0887\"],[0.1111111111111111,\"#46039f\"],[0.2222222222222222,\"#7201a8\"],[0.3333333333333333,\"#9c179e\"],[0.4444444444444444,\"#bd3786\"],[0.5555555555555556,\"#d8576b\"],[0.6666666666666666,\"#ed7953\"],[0.7777777777777778,\"#fb9f3a\"],[0.8888888888888888,\"#fdca26\"],[1.0,\"#f0f921\"]]}],\"contourcarpet\":[{\"type\":\"contourcarpet\",\"colorbar\":{\"outlinewidth\":0,\"ticks\":\"\"}}],\"contour\":[{\"type\":\"contour\",\"colorbar\":{\"outlinewidth\":0,\"ticks\":\"\"},\"colorscale\":[[0.0,\"#0d0887\"],[0.1111111111111111,\"#46039f\"],[0.2222222222222222,\"#7201a8\"],[0.3333333333333333,\"#9c179e\"],[0.4444444444444444,\"#bd3786\"],[0.5555555555555556,\"#d8576b\"],[0.6666666666666666,\"#ed7953\"],[0.7777777777777778,\"#fb9f3a\"],[0.8888888888888888,\"#fdca26\"],[1.0,\"#f0f921\"]]}],\"surface\":[{\"type\":\"surface\",\"colorbar\":{\"outlinewidth\":0,\"ticks\":\"\"},\"colorscale\":[[0.0,\"#0d0887\"],[0.1111111111111111,\"#46039f\"],[0.2222222222222222,\"#7201a8\"],[0.3333333333333333,\"#9c179e\"],[0.4444444444444444,\"#bd3786\"],[0.5555555555555556,\"#d8576b\"],[0.6666666666666666,\"#ed7953\"],[0.7777777777777778,\"#fb9f3a\"],[0.8888888888888888,\"#fdca26\"],[1.0,\"#f0f921\"]]}],\"mesh3d\":[{\"type\":\"mesh3d\",\"colorbar\":{\"outlinewidth\":0,\"ticks\":\"\"}}],\"scatter\":[{\"fillpattern\":{\"fillmode\":\"overlay\",\"size\":10,\"solidity\":0.2},\"type\":\"scatter\"}],\"parcoords\":[{\"type\":\"parcoords\",\"line\":{\"colorbar\":{\"outlinewidth\":0,\"ticks\":\"\"}}}],\"scatterpolargl\":[{\"type\":\"scatterpolargl\",\"marker\":{\"colorbar\":{\"outlinewidth\":0,\"ticks\":\"\"}}}],\"bar\":[{\"error_x\":{\"color\":\"#2a3f5f\"},\"error_y\":{\"color\":\"#2a3f5f\"},\"marker\":{\"line\":{\"color\":\"#E5ECF6\",\"width\":0.5},\"pattern\":{\"fillmode\":\"overlay\",\"size\":10,\"solidity\":0.2}},\"type\":\"bar\"}],\"scattergeo\":[{\"type\":\"scattergeo\",\"marker\":{\"colorbar\":{\"outlinewidth\":0,\"ticks\":\"\"}}}],\"scatterpolar\":[{\"type\":\"scatterpolar\",\"marker\":{\"colorbar\":{\"outlinewidth\":0,\"ticks\":\"\"}}}],\"histogram\":[{\"marker\":{\"pattern\":{\"fillmode\":\"overlay\",\"size\":10,\"solidity\":0.2}},\"type\":\"histogram\"}],\"scattergl\":[{\"type\":\"scattergl\",\"marker\":{\"colorbar\":{\"outlinewidth\":0,\"ticks\":\"\"}}}],\"scatter3d\":[{\"type\":\"scatter3d\",\"line\":{\"colorbar\":{\"outlinewidth\":0,\"ticks\":\"\"}},\"marker\":{\"colorbar\":{\"outlinewidth\":0,\"ticks\":\"\"}}}],\"scattermapbox\":[{\"type\":\"scattermapbox\",\"marker\":{\"colorbar\":{\"outlinewidth\":0,\"ticks\":\"\"}}}],\"scatterternary\":[{\"type\":\"scatterternary\",\"marker\":{\"colorbar\":{\"outlinewidth\":0,\"ticks\":\"\"}}}],\"scattercarpet\":[{\"type\":\"scattercarpet\",\"marker\":{\"colorbar\":{\"outlinewidth\":0,\"ticks\":\"\"}}}],\"carpet\":[{\"aaxis\":{\"endlinecolor\":\"#2a3f5f\",\"gridcolor\":\"white\",\"linecolor\":\"white\",\"minorgridcolor\":\"white\",\"startlinecolor\":\"#2a3f5f\"},\"baxis\":{\"endlinecolor\":\"#2a3f5f\",\"gridcolor\":\"white\",\"linecolor\":\"white\",\"minorgridcolor\":\"white\",\"startlinecolor\":\"#2a3f5f\"},\"type\":\"carpet\"}],\"table\":[{\"cells\":{\"fill\":{\"color\":\"#EBF0F8\"},\"line\":{\"color\":\"white\"}},\"header\":{\"fill\":{\"color\":\"#C8D4E3\"},\"line\":{\"color\":\"white\"}},\"type\":\"table\"}],\"barpolar\":[{\"marker\":{\"line\":{\"color\":\"#E5ECF6\",\"width\":0.5},\"pattern\":{\"fillmode\":\"overlay\",\"size\":10,\"solidity\":0.2}},\"type\":\"barpolar\"}],\"pie\":[{\"automargin\":true,\"type\":\"pie\"}]},\"layout\":{\"autotypenumbers\":\"strict\",\"colorway\":[\"#636efa\",\"#EF553B\",\"#00cc96\",\"#ab63fa\",\"#FFA15A\",\"#19d3f3\",\"#FF6692\",\"#B6E880\",\"#FF97FF\",\"#FECB52\"],\"font\":{\"color\":\"#2a3f5f\"},\"hovermode\":\"closest\",\"hoverlabel\":{\"align\":\"left\"},\"paper_bgcolor\":\"white\",\"plot_bgcolor\":\"#E5ECF6\",\"polar\":{\"bgcolor\":\"#E5ECF6\",\"angularaxis\":{\"gridcolor\":\"white\",\"linecolor\":\"white\",\"ticks\":\"\"},\"radialaxis\":{\"gridcolor\":\"white\",\"linecolor\":\"white\",\"ticks\":\"\"}},\"ternary\":{\"bgcolor\":\"#E5ECF6\",\"aaxis\":{\"gridcolor\":\"white\",\"linecolor\":\"white\",\"ticks\":\"\"},\"baxis\":{\"gridcolor\":\"white\",\"linecolor\":\"white\",\"ticks\":\"\"},\"caxis\":{\"gridcolor\":\"white\",\"linecolor\":\"white\",\"ticks\":\"\"}},\"coloraxis\":{\"colorbar\":{\"outlinewidth\":0,\"ticks\":\"\"}},\"colorscale\":{\"sequential\":[[0.0,\"#0d0887\"],[0.1111111111111111,\"#46039f\"],[0.2222222222222222,\"#7201a8\"],[0.3333333333333333,\"#9c179e\"],[0.4444444444444444,\"#bd3786\"],[0.5555555555555556,\"#d8576b\"],[0.6666666666666666,\"#ed7953\"],[0.7777777777777778,\"#fb9f3a\"],[0.8888888888888888,\"#fdca26\"],[1.0,\"#f0f921\"]],\"sequentialminus\":[[0.0,\"#0d0887\"],[0.1111111111111111,\"#46039f\"],[0.2222222222222222,\"#7201a8\"],[0.3333333333333333,\"#9c179e\"],[0.4444444444444444,\"#bd3786\"],[0.5555555555555556,\"#d8576b\"],[0.6666666666666666,\"#ed7953\"],[0.7777777777777778,\"#fb9f3a\"],[0.8888888888888888,\"#fdca26\"],[1.0,\"#f0f921\"]],\"diverging\":[[0,\"#8e0152\"],[0.1,\"#c51b7d\"],[0.2,\"#de77ae\"],[0.3,\"#f1b6da\"],[0.4,\"#fde0ef\"],[0.5,\"#f7f7f7\"],[0.6,\"#e6f5d0\"],[0.7,\"#b8e186\"],[0.8,\"#7fbc41\"],[0.9,\"#4d9221\"],[1,\"#276419\"]]},\"xaxis\":{\"gridcolor\":\"white\",\"linecolor\":\"white\",\"ticks\":\"\",\"title\":{\"standoff\":15},\"zerolinecolor\":\"white\",\"automargin\":true,\"zerolinewidth\":2},\"yaxis\":{\"gridcolor\":\"white\",\"linecolor\":\"white\",\"ticks\":\"\",\"title\":{\"standoff\":15},\"zerolinecolor\":\"white\",\"automargin\":true,\"zerolinewidth\":2},\"scene\":{\"xaxis\":{\"backgroundcolor\":\"#E5ECF6\",\"gridcolor\":\"white\",\"linecolor\":\"white\",\"showbackground\":true,\"ticks\":\"\",\"zerolinecolor\":\"white\",\"gridwidth\":2},\"yaxis\":{\"backgroundcolor\":\"#E5ECF6\",\"gridcolor\":\"white\",\"linecolor\":\"white\",\"showbackground\":true,\"ticks\":\"\",\"zerolinecolor\":\"white\",\"gridwidth\":2},\"zaxis\":{\"backgroundcolor\":\"#E5ECF6\",\"gridcolor\":\"white\",\"linecolor\":\"white\",\"showbackground\":true,\"ticks\":\"\",\"zerolinecolor\":\"white\",\"gridwidth\":2}},\"shapedefaults\":{\"line\":{\"color\":\"#2a3f5f\"}},\"annotationdefaults\":{\"arrowcolor\":\"#2a3f5f\",\"arrowhead\":0,\"arrowwidth\":1},\"geo\":{\"bgcolor\":\"white\",\"landcolor\":\"#E5ECF6\",\"subunitcolor\":\"white\",\"showland\":true,\"showlakes\":true,\"lakecolor\":\"white\"},\"title\":{\"x\":0.05},\"mapbox\":{\"style\":\"light\"}}},\"xaxis\":{\"anchor\":\"y\",\"domain\":[0.0,1.0],\"title\":{\"text\":\"Date\"}},\"yaxis\":{\"anchor\":\"x\",\"domain\":[0.0,1.0],\"title\":{\"text\":\"Close\"}},\"legend\":{\"tracegroupgap\":0},\"title\":{\"text\":\"Closing Price Over Time\"}},                        {\"responsive\": true}                    ).then(function(){\n",
              "                            \n",
              "var gd = document.getElementById('ab0f3618-5607-41f3-b386-4d9e83c88ca9');\n",
              "var x = new MutationObserver(function (mutations, observer) {{\n",
              "        var display = window.getComputedStyle(gd).display;\n",
              "        if (!display || display === 'none') {{\n",
              "            console.log([gd, 'removed!']);\n",
              "            Plotly.purge(gd);\n",
              "            observer.disconnect();\n",
              "        }}\n",
              "}});\n",
              "\n",
              "// Listen for the removal of the full notebook cells\n",
              "var notebookContainer = gd.closest('#notebook-container');\n",
              "if (notebookContainer) {{\n",
              "    x.observe(notebookContainer, {childList: true});\n",
              "}}\n",
              "\n",
              "// Listen for the clearing of the current output cell\n",
              "var outputEl = gd.closest('.output');\n",
              "if (outputEl) {{\n",
              "    x.observe(outputEl, {childList: true});\n",
              "}}\n",
              "\n",
              "                        })                };                            </script>        </div>\n",
              "</body>\n",
              "</html>"
            ]
          },
          "metadata": {}
        }
      ]
    },
    {
      "cell_type": "code",
      "source": [
        "fig = px.box(train, x='Price Direction', y='Daily Return', points='all', title='Box Plot of Daily Returns by Price Direction')\n",
        "fig.show()"
      ],
      "metadata": {
        "colab": {
          "base_uri": "https://localhost:8080/",
          "height": 542
        },
        "id": "Pxz5ZzezYori",
        "outputId": "eebf45ac-0adf-40bb-e3ac-8053300f5019"
      },
      "execution_count": null,
      "outputs": [
        {
          "output_type": "display_data",
          "data": {
            "text/html": [
              "<html>\n",
              "<head><meta charset=\"utf-8\" /></head>\n",
              "<body>\n",
              "    <div>            <script src=\"https://cdnjs.cloudflare.com/ajax/libs/mathjax/2.7.5/MathJax.js?config=TeX-AMS-MML_SVG\"></script><script type=\"text/javascript\">if (window.MathJax && window.MathJax.Hub && window.MathJax.Hub.Config) {window.MathJax.Hub.Config({SVG: {font: \"STIX-Web\"}});}</script>                <script type=\"text/javascript\">window.PlotlyConfig = {MathJaxConfig: 'local'};</script>\n",
              "        <script charset=\"utf-8\" src=\"https://cdn.plot.ly/plotly-2.24.1.min.js\"></script>                <div id=\"256a42cd-a3ba-4592-94e6-28896cb7071a\" class=\"plotly-graph-div\" style=\"height:525px; width:100%;\"></div>            <script type=\"text/javascript\">                                    window.PLOTLYENV=window.PLOTLYENV || {};                                    if (document.getElementById(\"256a42cd-a3ba-4592-94e6-28896cb7071a\")) {                    Plotly.newPlot(                        \"256a42cd-a3ba-4592-94e6-28896cb7071a\",                        [{\"alignmentgroup\":\"True\",\"boxpoints\":\"all\",\"hovertemplate\":\"Price Direction=%{x}\\u003cbr\\u003eDaily Return=%{y}\\u003cextra\\u003e\\u003c\\u002fextra\\u003e\",\"legendgroup\":\"\",\"marker\":{\"color\":\"#636efa\"},\"name\":\"\",\"notched\":false,\"offsetgroup\":\"\",\"orientation\":\"v\",\"showlegend\":false,\"x\":[null,2.8600000000000136,-9.240000000000009,-8.970000000000027,-27.480000000000018,0.6699999999999591,2.82000000000005,3.669999999999959,-4.639999999999986,3.580000000000041,4.319999999999936,6.6400000000001,-53.430000000000064,-0.4700000000000273,-4.579999999999927,-11.410000000000082,-1.3899999999999864,11.850000000000023,-2.2799999999999727,2.409999999999968,0.7200000000000273,4.269999999999982,11.190000000000055,12.719999999999914,-2.3099999999999454,3.0699999999999363,1.6100000000000136,-5.539999999999964,6.269999999999982,-2.42999999999995,-4.190000000000055,0.9600000000000364,-1.8799999999999955,9.340000000000032,-6.040000000000077,-1.8299999999999272,3.7799999999999727,-0.5900000000000318,9.06000000000006,-0.14000000000010004,4.1400000000001,-1.150000000000091,-6.9799999999999045,-9.270000000000095,1.8400000000000318,0.34000000000003183,-6.8700000000000045,4.8799999999999955,12.600000000000023,-1.7900000000000773,5.1299999999999955,3.900000000000091,8.909999999999968,-0.4800000000000182,6.470000000000027,6.0499999999999545,-3.449999999999932,6.719999999999914,-2.2999999999999545,8.710000000000036,-7.330000000000041,-7.149999999999977,5.669999999999959,-4.289999999999964,-7.4500000000000455,-2.8199999999999363,-1.4800000000000182,-3.9700000000000273,9.080000000000041,15.009999999999991,-26.340000000000032,-18.480000000000018,3.490000000000009,-2.1100000000000136,-8.129999999999995,-3.230000000000018,1.5300000000000864,3.659999999999968,8.42999999999995,5.730000000000018,-0.4800000000000182,-10.1099999999999,-0.41000000000008185,2.82000000000005,3.75,-14.009999999999991,10.549999999999955,5.220000000000027,-3.6299999999999955,4.5,-8.409999999999968,-1.2200000000000273,7.090000000000032,17.769999999999982,-5.8700000000000045,-22.58000000000004,13.669999999999959,-13.269999999999982,8.629999999999995,-5.779999999999973,-12.100000000000023,2.800000000000068,-6.090000000000032,-7.350000000000023,-9.850000000000023,7.590000000000032,-8.159999999999968,10.129999999999995,-2.330000000000041,2.2100000000000364,-11.919999999999959,-3.3900000000001,-4.0,-2.0299999999999727,5.440000000000055,6.329999999999927,10.650000000000091,-4.010000000000105,-12.269999999999982,6.259999999999991,-10.759999999999991,3.9700000000000273,4.610000000000014,-4.980000000000018,15.720000000000027,0.39999999999997726,7.340000000000032,8.069999999999936,-9.909999999999968,0.029999999999972715,-4.2999999999999545,-10.480000000000018,-0.7100000000000364,6.0200000000000955,-1.5900000000000318,1.7999999999999545,4.019999999999982,12.270000000000095,17.709999999999923,4.670000000000073,-7.910000000000082,0.42000000000007276,5.349999999999909,21.540000000000077,-2.6499999999999773,0.6699999999999591,-0.2899999999999636,-3.9200000000000728,12.540000000000077,1.4899999999998954,-2.269999999999982,1.6800000000000637,0.12000000000000455,-0.35000000000002274,17.960000000000036,8.629999999999995,-1.1200000000000045,5.319999999999936,4.259999999999991,-1.599999999999909,-6.010000000000105,7.650000000000091,-0.37999999999999545,1.8199999999999363,-9.379999999999995,8.009999999999991,10.730000000000018,-6.32000000000005,3.400000000000091,-4.030000000000086,-0.31999999999993634,18.629999999999995,6.730000000000018,-5.3700000000000045,-8.56000000000006,-1.2999999999999545,15.120000000000005,3.6299999999999955,0.2999999999999545,8.269999999999982,9.200000000000045,0.6200000000000045,5.850000000000023,15.350000000000023,-0.22000000000002728,4.289999999999964,3.0299999999999727,-2.0,7.260000000000105,-4.7700000000000955,5.490000000000009,5.540000000000077,-0.40000000000009095,-9.779999999999973,-13.720000000000027,0.4700000000000273,6.899999999999977,-6.709999999999923,-3.759999999999991,3.7099999999999227,10.759999999999991,-60.319999999999936,-13.180000000000064,-3.1100000000000136,1.6800000000000637,-3.0399999999999636,0.4499999999999318,-2.6000000000000227,5.1400000000001,7.269999999999982,0.32999999999992724,-4.949999999999932,-1.240000000000009,-14.56000000000006,-14.789999999999964,10.710000000000036,2.8700000000000045,-6.830000000000041,-6.490000000000009,-5.269999999999982,-0.08000000000004093,20.970000000000027,1.759999999999991,-4.090000000000032,2.090000000000032,-6.7999999999999545,9.529999999999973,12.92999999999995,8.200000000000045,6.460000000000036,-3.1100000000000136,-4.210000000000036,-3.199999999999932,3.2999999999999545,-6.899999999999977,1.1999999999999318,11.430000000000064,0.67999999999995,5.1299999999999955,-0.7400000000000091,18.769999999999982,0.2900000000000773,-0.9600000000000364,2.240000000000009,-6.710000000000036,-6.110000000000014,-0.6299999999999955,-2.5699999999999363,-6.269999999999982,7.350000000000023,15.829999999999927,0.42000000000007276,14.259999999999991,-3.2100000000000364,-1.4500000000000455,4.810000000000059,3.3500000000000227,-1.490000000000009,-16.690000000000055,1.6800000000000637,-9.720000000000027,-3.8600000000000136,-6.789999999999964,-1.6299999999999955,38.51999999999998,12.67999999999995,-0.5399999999999636,-2.9400000000000546,2.9500000000000455,0.14999999999997726,1.8500000000000227,19.860000000000014,-16.539999999999964,6.699999999999932,4.419999999999959,3.7700000000000955,11.389999999999986,-2.9400000000000546,-1.7200000000000273,2.160000000000082,4.939999999999941,5.060000000000059,13.919999999999959,-14.350000000000023,3.060000000000059,4.169999999999959,-8.919999999999959,-0.6299999999999955,9.620000000000005,1.419999999999959,4.970000000000027,15.269999999999982,17.049999999999955,-7.199999999999932,1.2200000000000273,-1.080000000000041,3.2899999999999636,-7.189999999999941,-2.2900000000000773,-3.759999999999991,-7.219999999999914,-6.490000000000009,3.519999999999982,3.3799999999999955,-3.4400000000000546,-0.9499999999999318,-0.6700000000000728,2.7800000000000864,-9.740000000000009,-8.440000000000055,6.980000000000018,11.809999999999945,-6.819999999999936,-11.100000000000023,-11.980000000000018,-8.17999999999995,2.7899999999999636,12.5,0.21000000000003638,-0.34000000000003183,-8.100000000000023,11.410000000000082,-10.780000000000086,-16.610000000000014,33.870000000000005,0.2400000000000091,7.7700000000000955,5.529999999999973,-4.340000000000032,-7.649999999999977,17.590000000000032,5.489999999999895,-4.1299999999999955,9.160000000000082,16.059999999999945,15.790000000000077,-4.310000000000059,16.360000000000014,-2.1499999999999773,8.730000000000018,-2.6900000000000546,9.539999999999964,28.710000000000036,-11.980000000000018,5.290000000000077,-0.650000000000091,-1.5499999999999545,-17.50999999999999,-6.610000000000014,-9.440000000000055,7.930000000000064,-12.930000000000064,2.4500000000000455,0.4500000000000455,-3.580000000000041,-8.5,0.6000000000000227,4.919999999999959,15.050000000000068,10.459999999999923,-10.379999999999995,-7.809999999999945,5.009999999999991,-1.9600000000000364,11.180000000000064,14.329999999999927,0.06000000000005912,-15.889999999999986,-3.800000000000068,-11.110000000000014,-3.5799999999999272,7.42999999999995,3.409999999999968,3.2900000000000773,7.490000000000009,-5.560000000000059,4.110000000000014,7.039999999999964,11.57000000000005,0.14999999999997726,0.75,14.210000000000036,2.75,1.6899999999999409,-5.069999999999936,-1.0500000000000682,-7.849999999999909,-14.040000000000077,14.06000000000006,-6.8799999999999955,-0.900000000000091,-15.159999999999968,-2.340000000000032,-3.0799999999999272,8.629999999999995,-3.159999999999968,16.41999999999996,2.3500000000000227,-1.57000000000005,-8.399999999999977,-5.909999999999968,2.009999999999991,-2.25,-4.8799999999999955,-4.25,-11.410000000000082,-10.120000000000005,-2.75,8.720000000000027,-0.2300000000000182,3.900000000000091,4.3700000000000045,-3.490000000000009,-3.810000000000059,-16.199999999999932,-1.5900000000000318,6.860000000000014,-8.509999999999991,13.43999999999994,11.220000000000027,7.909999999999968,0.01999999999998181,8.450000000000045,0.6200000000000045,7.5,-3.1299999999999955,-3.9700000000000273,-1.3099999999999454,-1.650000000000091,17.170000000000073,-4.920000000000073,4.710000000000036,-16.569999999999936,0.33999999999991815,-9.579999999999927,0.9399999999999409,-1.7799999999999727,-0.4800000000000182,11.06000000000006,0.9899999999998954,-11.86999999999989,-3.730000000000018,-6.590000000000032,-12.039999999999964,2.189999999999941,12.340000000000032,3.740000000000009,4.110000000000014,5.889999999999986,15.970000000000027,-9.210000000000036,null,null,null,null,null,null,null,null,null,null,null,null,null,null,null,null,null,null,null,null,null,null,null,null,null,null,null,null,null,null,null,null,null,null,null,null,null,null,null,null,null,null,null,null,null,null,null,null,null,null,null,null,null,null,null,null,null,null,null,null,null,null,null,null,null,null,null,null,null,null,null,null,null,null,null,null,null,null,null,null,null,null,null,null,null,null,null,null,null,null,null,null,null,null,null,null,null,null,null,null,null,null,null,null,null,null,null,null,null,null,1.5300000000000864,-3.009999999999991,10.159999999999968,-0.15999999999996817,2.7299999999999045,-26.529999999999973,-4.970000000000027,16.700000000000045,9.220000000000027,-23.129999999999995,-10.32000000000005,1.9099999999999682,3.910000000000082,20.049999999999955,-20.389999999999986,-7.460000000000036,6.180000000000064,-7.850000000000023,-1.7799999999999727,-8.950000000000045,0.9600000000000364,10.529999999999973,-1.0399999999999636,4.67999999999995,-3.419999999999959,-0.12000000000000455,-12.629999999999995,-5.170000000000016,1.0400000000000205,7.709999999999923,11.160000000000082,3.159999999999968,-6.419999999999959,-6.650000000000091,0.6400000000001,8.209999999999923,0.9100000000000819,9.139999999999986,6.110000000000014,7.6200000000000045,13.209999999999923,-4.259999999999991,-1.5900000000000318,-0.18999999999994088,-5.9500000000000455,-8.959999999999923,-0.2800000000000864,9.210000000000036,2.42999999999995,5.7700000000000955,-1.5600000000000591,-1.7100000000000364,-7.469999999999914,0.40999999999996817,-7.460000000000036,-1.2699999999999818,10.330000000000041,1.5299999999999727,1.4600000000000364,8.559999999999945,-0.32999999999992724,14.0,-2.650000000000091,1.240000000000009,-1.9599999999999227,7.3700000000000045,-0.3300000000000409,2.3899999999999864,-2.4700000000000273,-11.129999999999995,4.970000000000027,-4.960000000000036,8.050000000000068,5.67999999999995,-0.09000000000003183,-2.1200000000000045,-8.899999999999977,21.290000000000077,-5.590000000000032,5.25,1.240000000000009,-2.6200000000000045,-4.32000000000005,1.57000000000005,-4.970000000000027,1.7999999999999545,-15.779999999999973,-5.509999999999991,7.060000000000059,-8.06000000000006,1.3000000000000682,-3.0,5.389999999999986,-0.8799999999999955,-5.139999999999986,12.019999999999982,-0.12999999999999545,-1.1700000000000728,8.660000000000082,4.67999999999995,-2.3600000000000136,-1.1200000000000045,-0.8099999999999454,-2.3500000000000227,-2.330000000000041,-6.839999999999918,-1.8000000000000682,2.3899999999999864,5.720000000000027,0.6100000000000136,4.029999999999973,4.090000000000032,3.6299999999999955,-8.690000000000055,2.080000000000041,-1.740000000000009,-5.720000000000027,-2.509999999999991,6.830000000000041,4.809999999999945,4.490000000000009,6.790000000000077,-8.690000000000055,-6.220000000000027,6.840000000000032,-12.889999999999986,2.0299999999999727,-0.7400000000000091,1.0,-9.069999999999936,1.8099999999999454,5.180000000000064,2.0699999999999363,-13.569999999999936,8.729999999999905,-11.589999999999918,-16.340000000000032,-11.25,4.720000000000027,-7.889999999999986,-5.509999999999991,-13.300000000000068,9.639999999999986,5.690000000000055,6.149999999999977,11.240000000000009,-4.190000000000055,0.9900000000000091,8.110000000000014,0.43000000000006366,0.9699999999999136,8.75,-3.849999999999909,-1.1100000000000136,-8.160000000000082,-3.8700000000000045,-1.0299999999999727,6.460000000000036,2.7899999999999636,-2.9700000000000273,-1.919999999999959,-0.9800000000000182,-7.8700000000000045,-1.4699999999999136,1.9499999999999318,-2.1499999999999773,2.659999999999968,1.759999999999991,1.8100000000000591,-0.7100000000000364,1.4600000000000364,-8.009999999999991,-0.05000000000006821,-2.419999999999959,5.970000000000027,-12.019999999999982,1.7199999999999136,6.3700000000000045,-7.289999999999964,2.269999999999982,-9.649999999999977,-4.850000000000023,-18.360000000000014,9.480000000000018,6.189999999999998,5.240000000000066,8.489999999999895,5.710000000000036,-1.8199999999999363,5.25,-3.6900000000000546,0.09000000000003183,-4.009999999999991,-1.5900000000000318,-10.909999999999968,-11.870000000000061,-0.8599999999999568,1.5699999999999932,-6.490000000000009,-3.6100000000000136,3.6200000000000045,4.680000000000007,0.9200000000000159,6.269999999999982,-1.1800000000000068,11.110000000000014,16.309999999999945,5.540000000000077,-4.730000000000018,-16.529999999999973,-8.610000000000014,0.6599999999999682,23.799999999999955,-6.029999999999973,0.7599999999999909,-6.459999999999923,4.809999999999945,3.409999999999968,-3.169999999999959,9.090000000000032,-0.9700000000000273,6.940000000000055,6.069999999999936,-6.159999999999968,-3.1299999999999955,3.159999999999968,-3.909999999999968,-7.019999999999982,4.169999999999959,7.759999999999991,11.580000000000041,2.909999999999968,12.909999999999968,2.2900000000000773,-0.2700000000000955,1.9500000000000455,-7.6200000000000045,1.1599999999999682,-13.799999999999955,-3.82000000000005,4.32000000000005,-8.169999999999959,7.169999999999959,-3.659999999999968,8.639999999999986,-1.509999999999991,2.3700000000000045,-1.5500000000000682,11.350000000000023,-11.370000000000005,-3.6100000000000136,-6.809999999999945,3.67999999999995,-4.019999999999982,-5.42999999999995,-7.010000000000105,1.240000000000009,0.25,4.580000000000041,-0.8300000000000409,-0.7699999999999818,-0.8399999999999181,-8.75,2.1299999999999955,1.2699999999999818,-9.720000000000027,11.289999999999964,-1.3999999999999773,5.3799999999999955,7.610000000000014,18.00999999999999,-8.139999999999986,-1.6900000000000546,-4.599999999999909,-11.740000000000009,0.5599999999999454,2.8799999999999955,-9.980000000000018,-6.579999999999927,6.480000000000018,7.519999999999982,-2.519999999999982,-6.660000000000082,0.5800000000000409,8.779999999999973,-4.5499999999999545,-1.5500000000000682,5.060000000000059,1.9099999999999682,3.240000000000009,-2.3999999999999773,-7.789999999999964,7.469999999999914,-0.009999999999990905,-7.669999999999959,1.8799999999999955,5.189999999999941,1.1299999999999955,-3.6099999999999,-3.3700000000000045,-6.5,-0.13999999999998636,10.0,-2.080000000000041,-2.2799999999999727,-5.1299999999999955,0.9499999999999318,1.1100000000000136,7.470000000000027,-0.03999999999996362,1.5,2.2899999999999636,-2.6399999999999864,-2.6100000000000136,-3.5399999999999636,-10.170000000000073,-1.009999999999991,1.330000000000041,1.5599999999999454,-0.5399999999999636,2.159999999999968,-8.18999999999994,3.849999999999909,9.450000000000045,16.41999999999996,14.550000000000068,-0.8799999999999955,19.629999999999995,93.07999999999993,-9.909999999999968,-0.7200000000000273,-0.1999999999999318,-17.82000000000005,-20.720000000000027,3.7000000000000455,0.7400000000000091,3.92999999999995,0.6600000000000819,-6.980000000000018,5.600000000000023,-1.9600000000000364,14.529999999999973,-1.1000000000000227,-7.3799999999999955,-1.5699999999999363,27.049999999999955,-1.2200000000000273,-3.1099999999999,0.6699999999999591,3.75,-4.740000000000009,4.769999999999982,-14.069999999999936,-34.35000000000002,-22.870000000000005,-7.550000000000068,46.56000000000006,8.990000000000009,-7.230000000000018,-12.129999999999995,-20.460000000000036,16.550000000000068,-8.090000000000032,-5.5499999999999545,13.959999999999923,-1.9399999999999409,8.629999999999995,4.419999999999959,-2.5299999999999727,11.899999999999977,0.8400000000000318,6.919999999999959,-13.649999999999977,6.190000000000055,-12.75,-0.3300000000000409,3.439999999999941,-13.829999999999927,-17.08000000000004,0.08000000000004093,13.449999999999932,2.8700000000000045,15.620000000000005,14.56000000000006,3.9700000000000273,-3.080000000000041,-3.2000000000000455,4.4500000000000455,3.0599999999999454,5.6299999999999955,-1.1399999999999864,10.580000000000041,0.4600000000000364,3.8999999999999773,-15.82000000000005,-7.669999999999959,9.17999999999995,50.210000000000036,10.779999999999973,-4.289999999999964,4.460000000000036,3.9699999999999136,-6.110000000000014,10.300000000000068,1.0499999999999545,5.9500000000000455,3.1399999999999864,2.509999999999991,-8.870000000000005,3.4300000000000637,7.079999999999927,-4.169999999999959,-14.230000000000018,11.960000000000036,-3.660000000000082,14.700000000000045,-1.5900000000000318,18.190000000000055,-0.6200000000000045,-7.7000000000000455,-0.12999999999999545,2.1100000000000136,-7.659999999999968,24.43999999999994,-4.659999999999968,-9.840000000000032,14.269999999999982,-3.5599999999999454,-0.8799999999999955,-10.759999999999991,-2.1499999999999773,-10.590000000000032,8.899999999999977,-4.3700000000000045,14.690000000000055,-8.660000000000082,-10.120000000000005,8.460000000000036,2.230000000000018,0.30999999999994543,-1.9099999999999682,14.110000000000014,14.090000000000032,-5.600000000000023,-12.120000000000005,-17.039999999999964,0.7400000000000091,1.0399999999999636,-17.230000000000018,-11.919999999999959,1.5599999999999454,10.040000000000077,-25.510000000000105,14.160000000000082,-20.269999999999982,7.339999999999918,-3.339999999999918,8.139999999999986,18.659999999999968,-13.580000000000041,1.3700000000000045,-13.049999999999955,30.970000000000027,11.990000000000009,9.049999999999955,12.649999999999977,-37.69999999999993,-18.940000000000055,-24.43999999999994,-0.8300000000000409,-4.6299999999999955,6.009999999999991,-1.009999999999991,-0.7100000000000364,8.600000000000023,17.399999999999977,-11.049999999999955,3.5599999999999454,5.550000000000068,-10.610000000000014,3.7099999999999227,6.190000000000055,-0.67999999999995,-7.300000000000068,21.039999999999964,0.04000000000007731,-6.430000000000064,-1.5299999999999727,-15.730000000000018,-1.1899999999999409,11.269999999999982,7.580000000000041,14.0,3.669999999999959,-2.159999999999968,7.759999999999991,1.6899999999999409,-0.17999999999994998,4.490000000000009,-1.3400000000000318,-2.6900000000000546,-2.759999999999991,-1.7699999999999818,11.240000000000009,5.759999999999991,-5.579999999999927,4.959999999999923,-4.6200000000000045,-7.490000000000009,7.8900000000001,-5.410000000000082,-1.1299999999999955,-3.0499999999999545,6.990000000000009,8.629999999999995,1.4800000000000182,5.7999999999999545,7.610000000000014,-12.680000000000064,-1.259999999999991,6.470000000000027,-40.370000000000005,4.3799999999999955,-15.009999999999991,-2.2999999999999545,-14.82000000000005,1.990000000000009,5.2000000000000455,-5.850000000000023,3.340000000000032,5.7299999999999045,9.690000000000055,1.7799999999999727,10.279999999999973,-7.889999999999986,-1.9800000000000182,-2.4799999999999045,5.659999999999968,-10.259999999999991,0.39999999999997726,-6.309999999999945,9.419999999999959,-5.5,15.850000000000023,5.17999999999995,-1.1499999999999773,8.539999999999964,3.060000000000059,-1.57000000000005,-3.75,-8.059999999999945,-5.790000000000077,0.10000000000002274,11.629999999999995,0.3000000000000682,-9.170000000000073,-1.0499999999999545,-0.09000000000003183,0.6499999999999773,-8.559999999999945,-18.639999999999986,1.990000000000009,2.230000000000018,1.5199999999999818,4.409999999999968,-26.649999999999977,-6.960000000000036,11.779999999999973,4.07000000000005,7.990000000000009,7.110000000000014,-4.259999999999991,2.8199999999999363,-2.409999999999968,10.269999999999982,9.460000000000036,5.5499999999999545,-3.659999999999968,3.9700000000000273,-1.1000000000000227,13.92999999999995,3.1800000000000637,4.230000000000018,-2.560000000000059,4.110000000000014,-2.9700000000000273,-1.3500000000000227,3.3500000000000227,4.139999999999986,22.879999999999995,4.090000000000032,-1.8099999999999454,2.1099999999999,-1.5699999999999363,10.610000000000014,-0.4600000000000364,2.5,0.4199999999999591,0.17000000000007276,-1.6299999999999955,-0.7799999999999727,-5.300000000000068,2.769999999999982,-2.409999999999968,-2.080000000000041,-3.269999999999982,-0.06999999999993634,-2.4400000000000546,-0.2300000000000182,0.12999999999999545,2.6100000000000136,-3.0599999999999454,-2.0400000000000773,1.7300000000000182,2.6800000000000637,8.620000000000005,0.2699999999999818,-5.029999999999973,-15.660000000000082,9.360000000000014,-9.329999999999927,2.7999999999999545,9.269999999999982,-2.8799999999999955,-3.17999999999995,5.709999999999923,4.810000000000059,10.990000000000009,-0.3100000000000591,-12.68999999999994,8.799999999999955,-1.4500000000000455,-6.5499999999999545,2.2799999999999727,-4.730000000000018,3.8700000000000045,0.04000000000007731,0.38999999999998636,-1.7799999999999727,10.860000000000014,-2.8700000000000045,3.0699999999999363,-7.949999999999932,0.33999999999991815,1.4300000000000637,15.299999999999955,6.240000000000009,-4.529999999999973,2.3999999999999773,13.740000000000009,-5.440000000000055,-8.599999999999909,-3.7200000000000273,0.01999999999998181,-10.830000000000041,-0.92999999999995,-14.909999999999968,-6.57000000000005,-0.11000000000001364,20.5,7.990000000000009,-5.2000000000000455,-22.75,-8.539999999999964,-17.93999999999994,22.409999999999968,5.990000000000009,6.75,-10.690000000000055,8.660000000000082,-0.9300000000000637,-7.279999999999973,0.6899999999999409,6.560000000000059,2.6000000000000227,-12.800000000000068,-10.120000000000005,2.580000000000041,12.019999999999982,-3.409999999999968,12.080000000000041,5.2299999999999045,12.870000000000005,-0.01999999999998181,6.830000000000041,0.9700000000000273,0.7799999999999727,-7.050000000000068,3.400000000000091,2.2199999999999136,-1.8600000000000136,-3.2999999999999545,-1.3500000000000227,1.6399999999999864,-6.5,-2.259999999999991,-10.969999999999914],\"x0\":\" \",\"xaxis\":\"x\",\"y\":[104.02459646425828,101.18030609472639,99.2571930994755,97.42949381738444,92.7586635200596,98.09690787376474,100.98844135355294,99.70104633781762,99.79484549301193,99.12328070899909,102.21054654962516,99.75571562793611,98.66399238509652,100.03425713404815,98.35655835929744,97.41726918798663,98.84178014881367,103.429234665166,100.07292932800836,99.20801625288384,98.79195552199877,100.2848905059381,102.12078985827415,104.93943790276326,100.07604814178019,100.60030345009562,100.01640043297142,99.5475710841782,100.75630528427213,99.61592751862916,97.79248002096162,101.43199680298392,100.0862755508362,103.55706259765303,98.88466080566856,99.90409101432022,101.04118463674223,101.09875562615831,102.95530836569473,100.09086778736938,100.24518501790496,99.9580428608314,98.20423218792469,99.18122090527913,99.45944164277005,99.2497038304594,97.6654338924845,101.91715738758032,103.16910697797125,100.52227843969312,101.6701937164252,101.53577548579003,103.68556701030928,101.01820033091514,101.89485005694041,102.56555366911901,98.95991803533177,101.54061624649857,100.1954639942912,101.3423645320197,98.6574500768049,96.9691369432637,102.12099376546884,99.3343701399689,99.16674527560293,100.22543976630472,100.94866962660109,98.0924012928576,100.82963901203293,102.89705606600413,93.10227237498837,94.75736289231166,100.53440654483077,100.00330152860775,98.0908819727553,97.48504983388703,101.78777002776465,101.21476510067113,102.09725130455011,101.69563931517203,100.18931975453714,97.54052726379565,100.41227516042159,102.21717643916122,100.661902723351,97.24348142994404,104.42322615472857,102.60252627391175,100.96599179568615,100.42575489618133,98.51664254703329,101.27309787148731,102.1091729123831,103.75207094825068,96.79472967408861,92.29237587513649,104.73707083876573,96.07945806198252,102.79946613279947,98.39506986554179,97.04389070746208,99.7068634387951,100.22527134958017,97.52779103866875,99.91573921286381,103.1367716951241,98.4475841618699,101.62278868923246,97.01059104885549,101.79884957294752,94.81804748977702,98.55894581072509,99.97498302419497,99.39914163090127,101.69102894812268,103.12923713694427,102.97494050118998,99.40793573852224,95.14610164797121,101.42786456492541,97.85570220445135,100.88110441265653,100.76381767389229,99.63815672780163,101.97618798226318,99.73776826996067,102.90045687387513,102.63570649208948,98.01436703713743,100.56627084906307,97.32303819857819,98.42895461037378,101.38761061946902,101.72625521911513,99.69698025147156,99.60782952731311,101.513517274973,102.56181930269197,100.88049070043527,105.2086119283231,97.78358087155212,100.09570325391066,99.66704749469558,105.39751532647831,99.01843201615961,101.69989775051127,98.74944874944877,101.23559806155527,100.61164957184532,101.20523524057623,99.80919612136377,101.19687117142591,99.52966827596947,101.27004086765167,104.09302325581397,103.06038551722041,99.38003534098058,101.80746443715978,101.09886837403215,100.21100181283249,99.12913808529673,103.14342437733126,100.94974395617484,101.09645213050453,102.08017925270998,103.8881845076375,103.34597830596881,99.45135547470953,100.5194881427565,99.17302052785922,100.41330853482124,104.1235001463272,101.96162780693454,97.66652524395418,98.5417625402669,100.62605555879098,103.94207096307025,100.22066312096865,100.73143764352335,103.16816518705505,102.99096275985562,101.21092884061184,100.68541975105553,105.23150436645248,99.16560034122415,101.16727350610411,99.28941251056635,100.29014826842706,100.91772235592818,98.0533620169478,101.99495284898393,101.59231477826032,99.4035215669931,99.36952622137808,96.09164420485173,100.93088704876332,99.82401877133104,98.30983659083628,99.94317874343852,101.43756102853423,103.30284141504089,84.15878414284195,93.45036560730642,99.51360433923884,102.68558625840178,97.43072606103122,99.53945620405631,99.79821359684263,100.3307151715585,102.58508626802174,98.22016758162378,99.75071120626447,99.10091958062439,97.86164644301688,94.84798562228545,102.76295614842073,100.84684248729738,99.00987101071883,97.73928896991794,99.35451990487661,100.56869386867209,104.01677739338089,100.34182908545726,99.264816204051,99.60447067989091,98.60834990059641,103.39668541888398,104.89241495372039,101.39517235340475,102.24764781043095,98.20759841056574,99.05834777585211,98.95005510760488,101.23208081515868,97.0941652224148,100.2050260676,102.19661924296648,99.72151244580975,96.50608490830575,100.99919604915586,104.53859943658763,101.45114298520845,100.03342525277847,99.9500388586655,100.66638549135388,98.79748258035511,100.42811374783815,99.96025550035486,99.72248447915774,102.31150879004274,101.26405670117475,99.85323031763176,102.56805482920923,100.01091852054044,99.58788209606986,101.79839350823809,99.83514850147289,99.65910013257218,96.46709522771845,101.7609957579817,98.20202862303738,98.4196246258846,98.55305920587818,99.69516537990373,101.69930718455076,103.70219911168886,100.97598802074977,99.92255928220463,102.05925049733855,100.22638896287222,101.58352280326332,104.79771234907858,97.93938443032347,101.41372580049585,103.1259917486512,101.30669518270258,101.54396438588817,101.2327530625403,99.92809819731907,100.90064589176811,102.275945521485,101.59600234556254,102.93056921641322,97.00610744110682,99.57988478277278,100.31144823428946,97.32265732515954,98.97227412756932,101.45231359870681,100.22804159879715,102.30492438539542,104.22535211267608,102.53317833962994,97.90423449658662,99.85077141550533,99.48519329307898,100.95343841270605,99.4538424359594,99.57565470417072,98.8809321519602,99.17345236927304,100.8927680798005,100.21776249041103,99.68050333013838,100.19300720065326,99.11050880867315,99.51567866762213,99.93583890630012,99.20364333175723,97.76274064271266,101.7574869956063,102.31304738378621,98.41316848054097,97.9157306175428,99.4355909694555,99.19828830686738,100.75588920528087,102.05641025641026,99.57210856795626,99.70850653959242,99.17498914459401,101.92430390730675,99.13245387971726,95.24296413690855,108.19543769901341,100.07522379077756,101.92731829573935,101.52030803626879,98.44564682734872,98.67011359964204,104.13865493714545,101.56138931784197,99.51230217757077,102.52129638695781,102.2930058524417,103.33451662525147,98.86017353276421,104.08526587022723,100.34809470020056,101.32562726480438,99.89264504339882,102.39070256914732,104.75699426111909,96.90681113198481,100.01544197127794,100.98045739890418,99.97125865004091,97.28641651282281,101.52222680034792,99.75458715596329,99.69552374460349,98.50763376278022,100.39230165689759,100.9134215151235,98.96750753098627,98.18413139023826,99.55078670514851,100.2763970827333,102.34328151667513,102.04369594902141,99.25964617446007,97.15017683866873,102.04680389031348,99.04655459501377,101.79920999155195,102.89380351051571,100.0467706013363,98.1272314912537,98.53110664165781,99.72139715871151,97.67729238655348,100.17921146953404,99.80582967836257,101.45013996604104,100.5231333650384,98.42368753382644,101.68373981884966,100.9834438579871,101.50693188667871,98.93345085940942,100.76215447515776,101.7854001759015,100.85319018940389,100.28669475696101,98.5773986098781,99.66868651641309,98.39005635894974,102.45669647911242,102.12988515979704,98.6840074947647,99.23662433066335,98.81644844700969,99.83025529603476,99.6029945553539,101.43284664913395,99.02434637951579,102.26095148374942,100.89549585583187,100.11529933481154,98.40234322992943,99.21722552427946,99.56957428206337,100.16455524998872,99.88908757554495,98.9406012314379,98.25158842620101,99.0919857876036,99.18420623266438,102.05500292568752,99.52606635071089,99.89624164168782,100.43246227456754,98.46094035858034,99.36776039503438,97.99626342830456,99.79931057279123,101.699964534815,98.12799099183638,101.61191785328259,102.82334274447582,101.58806765949622,99.55183474759424,101.18125440130848,99.89624450208639,101.92494521135988,99.23269652364549,98.98559181291799,98.31328539748674,99.90498812351542,104.03379235368729,98.52204741856856,101.25134072220237,98.04435483870971,100.27853891618923,98.09564784203614,100.17142465315078,100.55762081784387,101.77168991961562,101.7355409596789,101.39179477849538,97.51548582538321,99.59162135499118,99.80329082872417,97.5060319227914,100.10315562432596,101.21772675513003,101.5762633286973,102.38354450904544,101.63212910324593,102.94824147933288,99.2581435604613,null,null,null,null,null,null,null,null,null,null,null,null,null,null,null,null,null,null,null,null,null,null,null,null,null,null,null,null,null,null,null,null,null,null,null,null,null,null,null,null,null,null,null,null,null,null,null,null,null,null,null,null,null,null,null,null,null,null,null,null,null,null,null,null,null,null,null,null,null,null,null,null,null,null,null,null,null,null,null,null,null,null,null,null,null,null,null,null,null,null,null,null,null,null,null,null,null,null,null,null,null,null,null,null,null,null,null,null,null,-1.6789068568604095,-0.21441589536503092,-1.749389747762406,1.512976058006401,-5.498454082058991,-0.019356314557710613,-5.48440008375795,-0.47843340874532525,2.267561124355488,0.8081133867297372,-4.255923329487979,-0.3652864862829378,-1.0656134729311875,-0.07098160082189137,2.4948754408967497,-2.3167857338619706,-1.3953575369882043,1.1684591892865888,-1.283038716585584,-0.9269418485868822,-1.210946495739629,-0.005816658911116162,2.0912547528517056,-0.17865288125283962,0.8046873513801469,-1.0933684012774634,0.5693759792120483,-1.9206170411806156,-1.1314592324740451,0.4989449188475022,1.5627760871699072,1.2239503524364055,0.41364460562102234,-1.1908793317530058,-1.0872467859459134,-0.1461650896222769,1.7615960484680087,0.005678699199319769,1.1327713382507867,0.7263967386269012,0.9949428320140837,1.7890636271822173,-0.5115271215942587,-0.5802673501717647,-0.16092693916961293,-1.2071678946991917,-1.0974011792967846,0.5833117291952108,1.3727289410901118,-0.3090579124216174,0.8926964472121299,0.0071558910873311425,0.15095153377539097,-1.0669881425769563,-0.09078529278256922,-0.9073316781072052,-0.2192699600154879,1.5606308776708353,0.11940946591401942,-0.08823582374444187,1.7647165074146962,-0.10112837981689311,2.370012949921061,-0.8612208971194851,0.010423905489914077,-0.5857073542663054,0.7507715781808165,-0.17361409540180334,0.23721529866781182,-0.25766112408959735,-1.1369948618247583,0.7859373355320899,0.9178538521511003,1.2711715818634497,0.3907056798623032,-0.16434416407026337,-0.9089513804805746,-1.0001038170052403,0.3500287463221702,-0.3846610068967824,0.6806993719232712,0.4631429489021499,-0.519484886184061,-0.23268453412140436,0.42969682501790096,-0.5330926184555635,0.1487332034054588,-1.5509231274071291,-0.7594402643977304,0.7224924226404494,-0.8742458090731635,0.8175067828073754,-0.8156203657933769,0.9234546813280764,-0.3694386292067465,-0.3161802582730825,1.316812782805438,-0.26453184824225234,-0.758311931699869,1.0512941012653956,0.31710661638670257,-0.23789963716026333,-0.07729037133730299,-0.17697898589322372,-0.7734257099739318,-0.584815498473267,-1.085653737254425,-0.06338028169014324,0.045632448180843305,0.9591779476748312,-0.354419875175041,0.342317733095904,0.36058930595144456,0.5333424502982965,-1.3400534659197338,0.2741804762808077,0.17105240423657225,-0.9268048532127516,0.028002870294199584,1.2552740769271098,0.8212025863559352,0.3877756709202381,0.7747338441717044,-1.0858001654874387,-0.9739594012712811,1.1226654250090522,-2.124790934225355,0.18103328227265764,0.8067627766670215,0.07473711653775092,-1.3439409501592734,0.48783936651583554,0.3884650381465716,-0.25120404698382687,-1.8556988984515466,1.225133860501395,-1.80471191320529,-2.3714917564141844,-2.1619135234590616,-0.17677049607382156,-0.18505929450863068,1.0607055914061612,-3.050531560829951,2.233988111640351,0.25775656324582774,0.5317538414957129,0.8645693886657699,-0.8418221673697294,0.6964672492344497,1.0876992114642363,-0.12033036153803499,0.24659786281850563,-0.04840271055180802,-0.050543340914829545,0.1994596456871426,-1.953969168707683,-0.6341795187588547,-0.9509647335279439,1.113004185340196,0.32724547066673315,-0.5593207987173973,-0.8024950300023669,-0.4163762427088268,-1.3005220535335587,-0.45892953752587035,0.3711061963489182,0.673839184597971,-0.759076518615893,0.3002722966168104,0.38696234558714854,-0.09454949944382479,0.22443150202174508,-0.945256968479016,0.04510854243022444,-0.020755500207557575,1.1572369787242065,-1.082050797847211,-0.028533926839028886,2.150909335330593,-1.3167299951092886,0.10259333143344991,-0.927060986821949,-1.7110740250522642,-3.161753175474371,1.5878460172706006,-0.36164597791027714,0.9468545999882458,1.7020615151456258,0.6811781718547913,-0.32888519260573384,0.9956003944473943,-0.3485764889868714,0.4424274646817638,-0.9135522838806944,-0.7942224581090191,-1.7956039323151225,-2.531201931501793,-1.1629516821265393,0.9403378772929577,-1.702491159760021,-0.4821913367640495,-0.5326954389209467,1.2568416784917875,-0.7477339891707455,1.6143911439114416,-0.8025902668759873,2.1270707310323,2.4766849341409474,0.814423725005621,-0.6181804640077341,-2.1399379399076564,-2.445573990601323,-0.0667189952904301,3.617455535037399,-0.6110094857336845,0.23549520463393964,-1.223971655393229,0.7236388697449982,0.6366400608133616,-0.032285632893354684,1.4435919295254342,0.1255081205627183,1.056403747806951,1.042704757686483,-0.7298333119395628,-0.3148614609571662,0.8964347615408884,-0.7698840558304334,-0.7725691196827407,1.1484249361460694,1.4875661920176724,2.259469836816069,0.75083224779273,1.928443649373877,0.5589832832357862,0.26301946344029464,0.05231493591419557,-1.25237655020843,0.35025030514231453,-1.638499404666707,-0.7134857844731125,0.3623254044457327,-1.1159824631327164,0.6461124053581745,-0.15812431842966276,1.2668106499210545,-0.25095902197683595,-0.22852653942975,-0.28985507246376896,1.3564578802894751,-2.052940556121922,-0.43340646692802365,-0.8431703204047175,0.0745305484357616,-0.36281427191015503,-1.1021751050996111,-0.9844818955448132,0.8553771949657026,-0.19753638582957067,0.5997280736063824,-0.04633490872022982,-0.42158983746601825,0.1396804112191306,-1.0920378473390775,0.7245139876718919,0.7361150534582243,-0.8706208152349219,1.8601190476190477,-0.6585329453025843,0.9288099973730497,1.1083926453143569,-0.18421751837746234,-1.4235254441860845,-0.1730852444829144,-0.25251149018111546,-1.921988792961829,-0.09843433686829724,0.4178040220600524,-1.3767860128946101,-1.3214366388073153,1.2805587892898789,0.292555669430737,-0.49594145290412894,-0.4815650865312376,-0.17717129071168972,0.8674148041291185,-0.9885381505248578,0.05451025356665544,0.6329825087081904,0.14484948652713564,0.847662422158183,-0.00740535036563244,-1.07782650709878,1.311936936936939,0.3289901674690028,-0.9788413941976647,-0.5216192552022121,1.1727619011877732,0.07408642181103837,-0.19711395418029334,-0.5630651626736238,-1.2150531585756699,-0.16491015239970636,1.3846909475593245,-0.707626016864148,0.13732129420617348,-0.15151515151514292,-0.047312641937925816,-0.020779417042902627,1.0790960451977436,-0.09679641108690862,-0.2594562538223424,0.15565932844118893,-0.39999999999999414,-0.6754875944105232,-1.0367419871198185,-0.6647492428715661,-1.0474886886430157,-0.5507594381872556,0.4452291394795302,0.646775745909531,0.3612868694206003,-0.809903080318571,-0.4664321761737373,0.7296357521518615,2.565305509683223,2.622722949740294,0.01606769856998051,2.606526047565122,3.687211093990747,0.5733875371640029,1.0820958166084031,0.1830864440375912,-2.569298471123748,-3.6228748068006267,1.008051529790659,-0.7632381524264085,0.4977735368956736,0.41111111111111615,-0.9138712027622006,0.938689352991973,0.1320772731612681,1.4897608500307302,-0.3596899224806279,-0.7700357683957427,-0.8991680740601738,-1.2582187686790305,-0.5308560053085745,-0.43529697263847666,0.3221324865269254,0.6196711327649285,-0.8717328901646747,0.6548888212001148,-1.3166325939035173,-4.267091812810646,2.898778359511346,-5.3422452066156065,2.9933644630130223,-0.2799499530810078,-0.38557567712778584,-1.48038372055964,-0.7586825154392806,1.444871943063789,-1.7423014586709886,0.11666666666667425,0.3542914986367057,-1.3682753291909469,1.3456206165389006,0.9713594191206102,-0.39315966117948475,1.3467368756980915,0.08025555887767966,0.8012041581084706,-1.1840638200976719,0.16393442622952037,-0.6874003189792577,0.04983522224902486,1.4854696419304567,-2.826428696190666,-2.531375954386087,-0.3867532815429858,0.8520090173716991,0.4799710702368557,3.2460474308300262,1.4984177215189916,1.033122534593955,-1.0597005729776348,-0.34302108020457234,0.5640625000000021,0.7132956439128357,1.4226852211770158,-0.3138347545199963,1.081477408120252,-0.28760295734139946,0.7441241416860874,-2.072164327450152,-1.7641213788886285,0.7870728312973431,-3.5051546391752577,1.6007412158791274,0.15691707427408375,0.7945372032855956,0.903589021815617,-0.6874100568650291,1.4133828368914112,0.4590601786161359,0.8462603878116361,0.24401277639929986,0.30895420369104454,-0.7271980279375594,0.5411374930977461,0.4013871064631435,0.03146374829001617,-1.6690209416185473,1.8669647847959774,-0.5471074606809375,1.7070287803403004,-0.044670655440349906,1.3489076125540904,-0.1940722159878576,-0.4946808510638334,0.0013366482209200023,0.24049381396466807,-0.8293158478118512,2.6676125336295793,-0.8479646247886568,-1.7584626832547916,1.8204753684769517,-0.5887179754353494,0.5911148055786484,-0.995824387159654,-0.45028890217174555,-0.30897512008202865,0.8061580770838134,-1.2749003984063776,1.0786666666666709,-1.7037853151806104,-0.9644880845534615,0.2198008389958836,-0.21951706246257932,-0.41939294198841115,-0.1534253885664702,1.2737076980290114,1.2925693565847953,-0.7210919392222537,-1.380116959064328,-0.15612382234185307,-0.5184540156741918,1.8657534246575351,-0.5367583628869876,-2.321416364754941,-0.08093663219883074,0.6083028489081173,-4.144489293288647,1.3241089908985273,0.31200797353711335,-0.21470211858381785,1.428965597362808,0.6280440912586633,0.22802653399668008,-1.6459824760220128,-0.11346921622190362,-1.9168523267056135,1.2101575697156002,1.5611116427214295,0.20520747275004175,-2.530274059910774,-5.617875412219883,-2.047564366846053,-2.884055294301498,2.229542561952532,0.8611970490242686,-0.39891680983024325,1.2014814814814836,-1.1387013589082395,-0.28572253167479844,1.4768869343494313,-1.7816901408450672,0.8460066471950846,-0.13993921831931713,-0.7983462827001244,1.5444463798409085,0.8199882858816315,-0.4953569110051075,-0.36411925976697335,2.1588357351979677,-0.020862308762166517,-0.8710413535926964,-0.5734345934908213,-1.660772386476165,0.7813067282417686,0.9692613855999516,0.6637293114161505,0.9472222222222292,0.5063221474663342,0.19396907500138694,1.3381609923317357,0.18059610292619013,-0.5742323349419015,0.7589952477936227,0.4461258915737753,-0.5792337949243047,0.44944741192059723,-0.4424598596615034,1.3858070488299528,0.05732568990800559,-0.5739072405739012,1.531275385865143,-0.635949124070072,-0.02710027100271619,1.3482474142734922,-0.682882326898055,-0.647875586381178,-0.9313342844068746,0.6897018970189744,0.34171605531529436,-0.10742563095979436,0.6658001538502324,0.8087210372669142,-2.024665046588094,-0.7031662269129342,0.4977627154544721,-1.0367616687319252,0.9844993715961394,-2.382068319042758,-0.20500784685205956,-2.4341343574393597,0.33444331837265745,0.08313862649255922,-0.6471795313329589,0.7545366334052682,0.5346137308298559,1.8242217703828876,0.12640449438201928,0.8971049877921102,-1.1224616745690557,-0.5229687892226592,-0.15450957257032422,1.03789150085316,-1.3631475299934344,0.42065172595109024,-0.290449342217661,1.1573216270915887,-0.3241192872206366,1.8716577540106978,0.6257283978023185,0.17292182550112745,1.194734879352492,0.5439090387296058,-0.051733761725184194,-0.28668941979522494,-0.9502653338269709,-1.1532466099239924,-0.44315403422983646,0.5967180507210255,0.7899068988891552,-0.008339472111423564,0.2581959777253664,0.2498325145154036,-0.011126564673162856,-0.6364437481640982,-2.3890496013546816,-0.7241295419093473,-0.35223367697593394,-0.2288787800760892,0.6337371854613175,0.007405542307873308,-0.40834575260804906,0.1575916461699245,0.16251830161054373,0.9672195719725145,1.0127130887026856,-0.15946901129211563,1.1290182324125284,-0.38964015585606626,0.8763402430307355,0.9942800649671744,0.21136945155189424,-0.9176086896437338,-0.0873084065522874,-0.8102186763672433,1.531734720704008,0.968639110002884,0.5235105041162049,-0.2336701064347099,0.11862076402555677,-0.12151160435821315,-0.08389261744966504,0.47272037709270326,-0.15126365388734145,-0.5073054574161163,1.5490940624630416,0.3096176612158341,0.7820850387132094,-0.07899303307347823,1.0907493085890116,-0.03069053708440014,0.40455767507361007,0.11866028708133333,-0.019108280254774176,0.22008957133717558,-0.16714513556618124,-0.4049724464949338,0.3331961097102761,-0.32179074627248255,0.05419354838709149,-0.14483944805824675,-0.4384381286429021,-0.12198603649200013,0.31421121251629314,0.07022106631989124,0.4435830059577969,-0.03119597571913341,0.005215055866281224,-0.06109847253819009,-0.20051487044151495,0.8571982675027469,0.044871794871797786,-0.4199899818903379,-1.3556680950525974,1.8394183782924776,-0.6265696944328123,0.37914192809467956,1.1626840042470088,-0.113023708996428,-0.8699930089847381,0.3133940182054575,0.46074599435716346,0.9243589743589791,0.0394106205265698,-1.0897616066637674,0.9684074790457757,0.47695571125537345,-0.8228398853398935,0.12365875336518267,-0.21827575072651656,0.051544399056734566,-0.36442494001102493,-0.27471116816431146,-0.5874355488289674,1.0582350747708036,-0.45635979965930873,0.30366438705726184,-0.3878548936279118,-0.39915563231625467,0.0205180815593847,0.9405343656787419,0.4083984766486259,-0.7879995020540181,0.5496855345911955,1.0200024847807225,-1.1032472939217308,-0.9016047821018405,-0.7053682896379497,-1.6057400878332426,-1.3740304474084581,0.09196694299327202,-1.2207658699563093,-0.6673183447377001,1.5133349319265732,1.0355067785668148,0.9075823334184342,0.6885145011154564,-3.616163403566871,-0.3330954080418725,-2.5833774483853866,1.542230611671149,1.2288135593220302,0.56198821259063,-1.403995488546358,0.8641376326038253,-0.56430633032629,-0.877912807888191,-0.33758145133855505,1.0842105263157906,-0.08943268570242775,-1.562195644551805,-1.256865230249273,0.7937254059280905,0.6348075121088471,-0.7348998993108684,1.3390275952693895,0.5100455675227761,1.1910256410256364,0.5388260470804058,0.27711298652223776,-0.04138449962376815,0.06396267589735757,-1.199400299850078,0.5036572093847306,-0.04267282494101509,-0.16083634901488822,-0.13882578625877415,-0.12517385257301922,0.1100318713006532,-1.0898324303893272,-0.06893646355942926,-1.3963589907377771],\"y0\":\" \",\"yaxis\":\"y\",\"type\":\"box\"}],                        {\"template\":{\"data\":{\"histogram2dcontour\":[{\"type\":\"histogram2dcontour\",\"colorbar\":{\"outlinewidth\":0,\"ticks\":\"\"},\"colorscale\":[[0.0,\"#0d0887\"],[0.1111111111111111,\"#46039f\"],[0.2222222222222222,\"#7201a8\"],[0.3333333333333333,\"#9c179e\"],[0.4444444444444444,\"#bd3786\"],[0.5555555555555556,\"#d8576b\"],[0.6666666666666666,\"#ed7953\"],[0.7777777777777778,\"#fb9f3a\"],[0.8888888888888888,\"#fdca26\"],[1.0,\"#f0f921\"]]}],\"choropleth\":[{\"type\":\"choropleth\",\"colorbar\":{\"outlinewidth\":0,\"ticks\":\"\"}}],\"histogram2d\":[{\"type\":\"histogram2d\",\"colorbar\":{\"outlinewidth\":0,\"ticks\":\"\"},\"colorscale\":[[0.0,\"#0d0887\"],[0.1111111111111111,\"#46039f\"],[0.2222222222222222,\"#7201a8\"],[0.3333333333333333,\"#9c179e\"],[0.4444444444444444,\"#bd3786\"],[0.5555555555555556,\"#d8576b\"],[0.6666666666666666,\"#ed7953\"],[0.7777777777777778,\"#fb9f3a\"],[0.8888888888888888,\"#fdca26\"],[1.0,\"#f0f921\"]]}],\"heatmap\":[{\"type\":\"heatmap\",\"colorbar\":{\"outlinewidth\":0,\"ticks\":\"\"},\"colorscale\":[[0.0,\"#0d0887\"],[0.1111111111111111,\"#46039f\"],[0.2222222222222222,\"#7201a8\"],[0.3333333333333333,\"#9c179e\"],[0.4444444444444444,\"#bd3786\"],[0.5555555555555556,\"#d8576b\"],[0.6666666666666666,\"#ed7953\"],[0.7777777777777778,\"#fb9f3a\"],[0.8888888888888888,\"#fdca26\"],[1.0,\"#f0f921\"]]}],\"heatmapgl\":[{\"type\":\"heatmapgl\",\"colorbar\":{\"outlinewidth\":0,\"ticks\":\"\"},\"colorscale\":[[0.0,\"#0d0887\"],[0.1111111111111111,\"#46039f\"],[0.2222222222222222,\"#7201a8\"],[0.3333333333333333,\"#9c179e\"],[0.4444444444444444,\"#bd3786\"],[0.5555555555555556,\"#d8576b\"],[0.6666666666666666,\"#ed7953\"],[0.7777777777777778,\"#fb9f3a\"],[0.8888888888888888,\"#fdca26\"],[1.0,\"#f0f921\"]]}],\"contourcarpet\":[{\"type\":\"contourcarpet\",\"colorbar\":{\"outlinewidth\":0,\"ticks\":\"\"}}],\"contour\":[{\"type\":\"contour\",\"colorbar\":{\"outlinewidth\":0,\"ticks\":\"\"},\"colorscale\":[[0.0,\"#0d0887\"],[0.1111111111111111,\"#46039f\"],[0.2222222222222222,\"#7201a8\"],[0.3333333333333333,\"#9c179e\"],[0.4444444444444444,\"#bd3786\"],[0.5555555555555556,\"#d8576b\"],[0.6666666666666666,\"#ed7953\"],[0.7777777777777778,\"#fb9f3a\"],[0.8888888888888888,\"#fdca26\"],[1.0,\"#f0f921\"]]}],\"surface\":[{\"type\":\"surface\",\"colorbar\":{\"outlinewidth\":0,\"ticks\":\"\"},\"colorscale\":[[0.0,\"#0d0887\"],[0.1111111111111111,\"#46039f\"],[0.2222222222222222,\"#7201a8\"],[0.3333333333333333,\"#9c179e\"],[0.4444444444444444,\"#bd3786\"],[0.5555555555555556,\"#d8576b\"],[0.6666666666666666,\"#ed7953\"],[0.7777777777777778,\"#fb9f3a\"],[0.8888888888888888,\"#fdca26\"],[1.0,\"#f0f921\"]]}],\"mesh3d\":[{\"type\":\"mesh3d\",\"colorbar\":{\"outlinewidth\":0,\"ticks\":\"\"}}],\"scatter\":[{\"fillpattern\":{\"fillmode\":\"overlay\",\"size\":10,\"solidity\":0.2},\"type\":\"scatter\"}],\"parcoords\":[{\"type\":\"parcoords\",\"line\":{\"colorbar\":{\"outlinewidth\":0,\"ticks\":\"\"}}}],\"scatterpolargl\":[{\"type\":\"scatterpolargl\",\"marker\":{\"colorbar\":{\"outlinewidth\":0,\"ticks\":\"\"}}}],\"bar\":[{\"error_x\":{\"color\":\"#2a3f5f\"},\"error_y\":{\"color\":\"#2a3f5f\"},\"marker\":{\"line\":{\"color\":\"#E5ECF6\",\"width\":0.5},\"pattern\":{\"fillmode\":\"overlay\",\"size\":10,\"solidity\":0.2}},\"type\":\"bar\"}],\"scattergeo\":[{\"type\":\"scattergeo\",\"marker\":{\"colorbar\":{\"outlinewidth\":0,\"ticks\":\"\"}}}],\"scatterpolar\":[{\"type\":\"scatterpolar\",\"marker\":{\"colorbar\":{\"outlinewidth\":0,\"ticks\":\"\"}}}],\"histogram\":[{\"marker\":{\"pattern\":{\"fillmode\":\"overlay\",\"size\":10,\"solidity\":0.2}},\"type\":\"histogram\"}],\"scattergl\":[{\"type\":\"scattergl\",\"marker\":{\"colorbar\":{\"outlinewidth\":0,\"ticks\":\"\"}}}],\"scatter3d\":[{\"type\":\"scatter3d\",\"line\":{\"colorbar\":{\"outlinewidth\":0,\"ticks\":\"\"}},\"marker\":{\"colorbar\":{\"outlinewidth\":0,\"ticks\":\"\"}}}],\"scattermapbox\":[{\"type\":\"scattermapbox\",\"marker\":{\"colorbar\":{\"outlinewidth\":0,\"ticks\":\"\"}}}],\"scatterternary\":[{\"type\":\"scatterternary\",\"marker\":{\"colorbar\":{\"outlinewidth\":0,\"ticks\":\"\"}}}],\"scattercarpet\":[{\"type\":\"scattercarpet\",\"marker\":{\"colorbar\":{\"outlinewidth\":0,\"ticks\":\"\"}}}],\"carpet\":[{\"aaxis\":{\"endlinecolor\":\"#2a3f5f\",\"gridcolor\":\"white\",\"linecolor\":\"white\",\"minorgridcolor\":\"white\",\"startlinecolor\":\"#2a3f5f\"},\"baxis\":{\"endlinecolor\":\"#2a3f5f\",\"gridcolor\":\"white\",\"linecolor\":\"white\",\"minorgridcolor\":\"white\",\"startlinecolor\":\"#2a3f5f\"},\"type\":\"carpet\"}],\"table\":[{\"cells\":{\"fill\":{\"color\":\"#EBF0F8\"},\"line\":{\"color\":\"white\"}},\"header\":{\"fill\":{\"color\":\"#C8D4E3\"},\"line\":{\"color\":\"white\"}},\"type\":\"table\"}],\"barpolar\":[{\"marker\":{\"line\":{\"color\":\"#E5ECF6\",\"width\":0.5},\"pattern\":{\"fillmode\":\"overlay\",\"size\":10,\"solidity\":0.2}},\"type\":\"barpolar\"}],\"pie\":[{\"automargin\":true,\"type\":\"pie\"}]},\"layout\":{\"autotypenumbers\":\"strict\",\"colorway\":[\"#636efa\",\"#EF553B\",\"#00cc96\",\"#ab63fa\",\"#FFA15A\",\"#19d3f3\",\"#FF6692\",\"#B6E880\",\"#FF97FF\",\"#FECB52\"],\"font\":{\"color\":\"#2a3f5f\"},\"hovermode\":\"closest\",\"hoverlabel\":{\"align\":\"left\"},\"paper_bgcolor\":\"white\",\"plot_bgcolor\":\"#E5ECF6\",\"polar\":{\"bgcolor\":\"#E5ECF6\",\"angularaxis\":{\"gridcolor\":\"white\",\"linecolor\":\"white\",\"ticks\":\"\"},\"radialaxis\":{\"gridcolor\":\"white\",\"linecolor\":\"white\",\"ticks\":\"\"}},\"ternary\":{\"bgcolor\":\"#E5ECF6\",\"aaxis\":{\"gridcolor\":\"white\",\"linecolor\":\"white\",\"ticks\":\"\"},\"baxis\":{\"gridcolor\":\"white\",\"linecolor\":\"white\",\"ticks\":\"\"},\"caxis\":{\"gridcolor\":\"white\",\"linecolor\":\"white\",\"ticks\":\"\"}},\"coloraxis\":{\"colorbar\":{\"outlinewidth\":0,\"ticks\":\"\"}},\"colorscale\":{\"sequential\":[[0.0,\"#0d0887\"],[0.1111111111111111,\"#46039f\"],[0.2222222222222222,\"#7201a8\"],[0.3333333333333333,\"#9c179e\"],[0.4444444444444444,\"#bd3786\"],[0.5555555555555556,\"#d8576b\"],[0.6666666666666666,\"#ed7953\"],[0.7777777777777778,\"#fb9f3a\"],[0.8888888888888888,\"#fdca26\"],[1.0,\"#f0f921\"]],\"sequentialminus\":[[0.0,\"#0d0887\"],[0.1111111111111111,\"#46039f\"],[0.2222222222222222,\"#7201a8\"],[0.3333333333333333,\"#9c179e\"],[0.4444444444444444,\"#bd3786\"],[0.5555555555555556,\"#d8576b\"],[0.6666666666666666,\"#ed7953\"],[0.7777777777777778,\"#fb9f3a\"],[0.8888888888888888,\"#fdca26\"],[1.0,\"#f0f921\"]],\"diverging\":[[0,\"#8e0152\"],[0.1,\"#c51b7d\"],[0.2,\"#de77ae\"],[0.3,\"#f1b6da\"],[0.4,\"#fde0ef\"],[0.5,\"#f7f7f7\"],[0.6,\"#e6f5d0\"],[0.7,\"#b8e186\"],[0.8,\"#7fbc41\"],[0.9,\"#4d9221\"],[1,\"#276419\"]]},\"xaxis\":{\"gridcolor\":\"white\",\"linecolor\":\"white\",\"ticks\":\"\",\"title\":{\"standoff\":15},\"zerolinecolor\":\"white\",\"automargin\":true,\"zerolinewidth\":2},\"yaxis\":{\"gridcolor\":\"white\",\"linecolor\":\"white\",\"ticks\":\"\",\"title\":{\"standoff\":15},\"zerolinecolor\":\"white\",\"automargin\":true,\"zerolinewidth\":2},\"scene\":{\"xaxis\":{\"backgroundcolor\":\"#E5ECF6\",\"gridcolor\":\"white\",\"linecolor\":\"white\",\"showbackground\":true,\"ticks\":\"\",\"zerolinecolor\":\"white\",\"gridwidth\":2},\"yaxis\":{\"backgroundcolor\":\"#E5ECF6\",\"gridcolor\":\"white\",\"linecolor\":\"white\",\"showbackground\":true,\"ticks\":\"\",\"zerolinecolor\":\"white\",\"gridwidth\":2},\"zaxis\":{\"backgroundcolor\":\"#E5ECF6\",\"gridcolor\":\"white\",\"linecolor\":\"white\",\"showbackground\":true,\"ticks\":\"\",\"zerolinecolor\":\"white\",\"gridwidth\":2}},\"shapedefaults\":{\"line\":{\"color\":\"#2a3f5f\"}},\"annotationdefaults\":{\"arrowcolor\":\"#2a3f5f\",\"arrowhead\":0,\"arrowwidth\":1},\"geo\":{\"bgcolor\":\"white\",\"landcolor\":\"#E5ECF6\",\"subunitcolor\":\"white\",\"showland\":true,\"showlakes\":true,\"lakecolor\":\"white\"},\"title\":{\"x\":0.05},\"mapbox\":{\"style\":\"light\"}}},\"xaxis\":{\"anchor\":\"y\",\"domain\":[0.0,1.0],\"title\":{\"text\":\"Price Direction\"}},\"yaxis\":{\"anchor\":\"x\",\"domain\":[0.0,1.0],\"title\":{\"text\":\"Daily Return\"}},\"legend\":{\"tracegroupgap\":0},\"title\":{\"text\":\"Box Plot of Daily Returns by Price Direction\"},\"boxmode\":\"group\"},                        {\"responsive\": true}                    ).then(function(){\n",
              "                            \n",
              "var gd = document.getElementById('256a42cd-a3ba-4592-94e6-28896cb7071a');\n",
              "var x = new MutationObserver(function (mutations, observer) {{\n",
              "        var display = window.getComputedStyle(gd).display;\n",
              "        if (!display || display === 'none') {{\n",
              "            console.log([gd, 'removed!']);\n",
              "            Plotly.purge(gd);\n",
              "            observer.disconnect();\n",
              "        }}\n",
              "}});\n",
              "\n",
              "// Listen for the removal of the full notebook cells\n",
              "var notebookContainer = gd.closest('#notebook-container');\n",
              "if (notebookContainer) {{\n",
              "    x.observe(notebookContainer, {childList: true});\n",
              "}}\n",
              "\n",
              "// Listen for the clearing of the current output cell\n",
              "var outputEl = gd.closest('.output');\n",
              "if (outputEl) {{\n",
              "    x.observe(outputEl, {childList: true});\n",
              "}}\n",
              "\n",
              "                        })                };                            </script>        </div>\n",
              "</body>\n",
              "</html>"
            ]
          },
          "metadata": {}
        }
      ]
    },
    {
      "cell_type": "code",
      "source": [
        "fig = px.area(train, x='Date', y='Daily Return', title='Area Chart of Daily Return Over Time')\n",
        "fig.show()"
      ],
      "metadata": {
        "colab": {
          "base_uri": "https://localhost:8080/",
          "height": 542
        },
        "id": "kLypQ1-hZbko",
        "outputId": "d9769e9b-5df0-4ad1-978e-5169c1a83954"
      },
      "execution_count": null,
      "outputs": [
        {
          "output_type": "display_data",
          "data": {
            "text/html": [
              "<html>\n",
              "<head><meta charset=\"utf-8\" /></head>\n",
              "<body>\n",
              "    <div>            <script src=\"https://cdnjs.cloudflare.com/ajax/libs/mathjax/2.7.5/MathJax.js?config=TeX-AMS-MML_SVG\"></script><script type=\"text/javascript\">if (window.MathJax && window.MathJax.Hub && window.MathJax.Hub.Config) {window.MathJax.Hub.Config({SVG: {font: \"STIX-Web\"}});}</script>                <script type=\"text/javascript\">window.PlotlyConfig = {MathJaxConfig: 'local'};</script>\n",
              "        <script charset=\"utf-8\" src=\"https://cdn.plot.ly/plotly-2.24.1.min.js\"></script>                <div id=\"27a6d8d3-ca9c-406e-92d3-56e41f92825f\" class=\"plotly-graph-div\" style=\"height:525px; width:100%;\"></div>            <script type=\"text/javascript\">                                    window.PLOTLYENV=window.PLOTLYENV || {};                                    if (document.getElementById(\"27a6d8d3-ca9c-406e-92d3-56e41f92825f\")) {                    Plotly.newPlot(                        \"27a6d8d3-ca9c-406e-92d3-56e41f92825f\",                        [{\"fillpattern\":{\"shape\":\"\"},\"hovertemplate\":\"Date=%{x}\\u003cbr\\u003eDaily Return=%{y}\\u003cextra\\u003e\\u003c\\u002fextra\\u003e\",\"legendgroup\":\"\",\"line\":{\"color\":\"#636efa\"},\"marker\":{\"symbol\":\"circle\"},\"mode\":\"lines\",\"name\":\"\",\"orientation\":\"v\",\"showlegend\":false,\"stackgroup\":\"1\",\"x\":[\"1\\u002f3\\u002f2012\",\"1\\u002f4\\u002f2012\",\"1\\u002f5\\u002f2012\",\"1\\u002f6\\u002f2012\",\"1\\u002f9\\u002f2012\",\"1\\u002f10\\u002f2012\",\"1\\u002f11\\u002f2012\",\"1\\u002f12\\u002f2012\",\"1\\u002f13\\u002f2012\",\"1\\u002f17\\u002f2012\",\"1\\u002f18\\u002f2012\",\"1\\u002f19\\u002f2012\",\"1\\u002f20\\u002f2012\",\"1\\u002f23\\u002f2012\",\"1\\u002f24\\u002f2012\",\"1\\u002f25\\u002f2012\",\"1\\u002f26\\u002f2012\",\"1\\u002f27\\u002f2012\",\"1\\u002f30\\u002f2012\",\"1\\u002f31\\u002f2012\",\"2\\u002f1\\u002f2012\",\"2\\u002f2\\u002f2012\",\"2\\u002f3\\u002f2012\",\"2\\u002f6\\u002f2012\",\"2\\u002f7\\u002f2012\",\"2\\u002f8\\u002f2012\",\"2\\u002f9\\u002f2012\",\"2\\u002f10\\u002f2012\",\"2\\u002f13\\u002f2012\",\"2\\u002f14\\u002f2012\",\"2\\u002f15\\u002f2012\",\"2\\u002f16\\u002f2012\",\"2\\u002f17\\u002f2012\",\"2\\u002f21\\u002f2012\",\"2\\u002f22\\u002f2012\",\"2\\u002f23\\u002f2012\",\"2\\u002f24\\u002f2012\",\"2\\u002f27\\u002f2012\",\"2\\u002f28\\u002f2012\",\"2\\u002f29\\u002f2012\",\"3\\u002f1\\u002f2012\",\"3\\u002f2\\u002f2012\",\"3\\u002f5\\u002f2012\",\"3\\u002f6\\u002f2012\",\"3\\u002f7\\u002f2012\",\"3\\u002f8\\u002f2012\",\"3\\u002f9\\u002f2012\",\"3\\u002f12\\u002f2012\",\"3\\u002f13\\u002f2012\",\"3\\u002f14\\u002f2012\",\"3\\u002f15\\u002f2012\",\"3\\u002f16\\u002f2012\",\"3\\u002f19\\u002f2012\",\"3\\u002f20\\u002f2012\",\"3\\u002f21\\u002f2012\",\"3\\u002f22\\u002f2012\",\"3\\u002f23\\u002f2012\",\"3\\u002f26\\u002f2012\",\"3\\u002f27\\u002f2012\",\"3\\u002f28\\u002f2012\",\"3\\u002f29\\u002f2012\",\"3\\u002f30\\u002f2012\",\"4\\u002f2\\u002f2012\",\"4\\u002f3\\u002f2012\",\"4\\u002f4\\u002f2012\",\"4\\u002f5\\u002f2012\",\"4\\u002f9\\u002f2012\",\"4\\u002f10\\u002f2012\",\"4\\u002f11\\u002f2012\",\"4\\u002f12\\u002f2012\",\"4\\u002f13\\u002f2012\",\"4\\u002f16\\u002f2012\",\"4\\u002f17\\u002f2012\",\"4\\u002f18\\u002f2012\",\"4\\u002f19\\u002f2012\",\"4\\u002f20\\u002f2012\",\"4\\u002f23\\u002f2012\",\"4\\u002f24\\u002f2012\",\"4\\u002f25\\u002f2012\",\"4\\u002f26\\u002f2012\",\"4\\u002f27\\u002f2012\",\"4\\u002f30\\u002f2012\",\"5\\u002f1\\u002f2012\",\"5\\u002f2\\u002f2012\",\"5\\u002f3\\u002f2012\",\"5\\u002f4\\u002f2012\",\"5\\u002f7\\u002f2012\",\"5\\u002f8\\u002f2012\",\"5\\u002f9\\u002f2012\",\"5\\u002f10\\u002f2012\",\"5\\u002f11\\u002f2012\",\"5\\u002f14\\u002f2012\",\"5\\u002f15\\u002f2012\",\"5\\u002f16\\u002f2012\",\"5\\u002f17\\u002f2012\",\"5\\u002f18\\u002f2012\",\"5\\u002f21\\u002f2012\",\"5\\u002f22\\u002f2012\",\"5\\u002f23\\u002f2012\",\"5\\u002f24\\u002f2012\",\"5\\u002f25\\u002f2012\",\"5\\u002f29\\u002f2012\",\"5\\u002f30\\u002f2012\",\"5\\u002f31\\u002f2012\",\"6\\u002f1\\u002f2012\",\"6\\u002f4\\u002f2012\",\"6\\u002f5\\u002f2012\",\"6\\u002f6\\u002f2012\",\"6\\u002f7\\u002f2012\",\"6\\u002f8\\u002f2012\",\"6\\u002f11\\u002f2012\",\"6\\u002f12\\u002f2012\",\"6\\u002f13\\u002f2012\",\"6\\u002f14\\u002f2012\",\"6\\u002f15\\u002f2012\",\"6\\u002f18\\u002f2012\",\"6\\u002f19\\u002f2012\",\"6\\u002f20\\u002f2012\",\"6\\u002f21\\u002f2012\",\"6\\u002f22\\u002f2012\",\"6\\u002f25\\u002f2012\",\"6\\u002f26\\u002f2012\",\"6\\u002f27\\u002f2012\",\"6\\u002f28\\u002f2012\",\"6\\u002f29\\u002f2012\",\"7\\u002f2\\u002f2012\",\"7\\u002f3\\u002f2012\",\"7\\u002f5\\u002f2012\",\"7\\u002f6\\u002f2012\",\"7\\u002f9\\u002f2012\",\"7\\u002f10\\u002f2012\",\"7\\u002f11\\u002f2012\",\"7\\u002f12\\u002f2012\",\"7\\u002f13\\u002f2012\",\"7\\u002f16\\u002f2012\",\"7\\u002f17\\u002f2012\",\"7\\u002f18\\u002f2012\",\"7\\u002f19\\u002f2012\",\"7\\u002f20\\u002f2012\",\"7\\u002f23\\u002f2012\",\"7\\u002f24\\u002f2012\",\"7\\u002f25\\u002f2012\",\"7\\u002f26\\u002f2012\",\"7\\u002f27\\u002f2012\",\"7\\u002f30\\u002f2012\",\"7\\u002f31\\u002f2012\",\"8\\u002f1\\u002f2012\",\"8\\u002f2\\u002f2012\",\"8\\u002f3\\u002f2012\",\"8\\u002f6\\u002f2012\",\"8\\u002f7\\u002f2012\",\"8\\u002f8\\u002f2012\",\"8\\u002f9\\u002f2012\",\"8\\u002f10\\u002f2012\",\"8\\u002f13\\u002f2012\",\"8\\u002f14\\u002f2012\",\"8\\u002f15\\u002f2012\",\"8\\u002f16\\u002f2012\",\"8\\u002f17\\u002f2012\",\"8\\u002f20\\u002f2012\",\"8\\u002f21\\u002f2012\",\"8\\u002f22\\u002f2012\",\"8\\u002f23\\u002f2012\",\"8\\u002f24\\u002f2012\",\"8\\u002f27\\u002f2012\",\"8\\u002f28\\u002f2012\",\"8\\u002f29\\u002f2012\",\"8\\u002f30\\u002f2012\",\"8\\u002f31\\u002f2012\",\"9\\u002f4\\u002f2012\",\"9\\u002f5\\u002f2012\",\"9\\u002f6\\u002f2012\",\"9\\u002f7\\u002f2012\",\"9\\u002f10\\u002f2012\",\"9\\u002f11\\u002f2012\",\"9\\u002f12\\u002f2012\",\"9\\u002f13\\u002f2012\",\"9\\u002f14\\u002f2012\",\"9\\u002f17\\u002f2012\",\"9\\u002f18\\u002f2012\",\"9\\u002f19\\u002f2012\",\"9\\u002f20\\u002f2012\",\"9\\u002f21\\u002f2012\",\"9\\u002f24\\u002f2012\",\"9\\u002f25\\u002f2012\",\"9\\u002f26\\u002f2012\",\"9\\u002f27\\u002f2012\",\"9\\u002f28\\u002f2012\",\"10\\u002f1\\u002f2012\",\"10\\u002f2\\u002f2012\",\"10\\u002f3\\u002f2012\",\"10\\u002f4\\u002f2012\",\"10\\u002f5\\u002f2012\",\"10\\u002f8\\u002f2012\",\"10\\u002f9\\u002f2012\",\"10\\u002f10\\u002f2012\",\"10\\u002f11\\u002f2012\",\"10\\u002f12\\u002f2012\",\"10\\u002f15\\u002f2012\",\"10\\u002f16\\u002f2012\",\"10\\u002f17\\u002f2012\",\"10\\u002f18\\u002f2012\",\"10\\u002f19\\u002f2012\",\"10\\u002f22\\u002f2012\",\"10\\u002f23\\u002f2012\",\"10\\u002f24\\u002f2012\",\"10\\u002f25\\u002f2012\",\"10\\u002f26\\u002f2012\",\"10\\u002f31\\u002f2012\",\"11\\u002f1\\u002f2012\",\"11\\u002f2\\u002f2012\",\"11\\u002f5\\u002f2012\",\"11\\u002f6\\u002f2012\",\"11\\u002f7\\u002f2012\",\"11\\u002f8\\u002f2012\",\"11\\u002f9\\u002f2012\",\"11\\u002f12\\u002f2012\",\"11\\u002f13\\u002f2012\",\"11\\u002f14\\u002f2012\",\"11\\u002f15\\u002f2012\",\"11\\u002f16\\u002f2012\",\"11\\u002f19\\u002f2012\",\"11\\u002f20\\u002f2012\",\"11\\u002f21\\u002f2012\",\"11\\u002f23\\u002f2012\",\"11\\u002f26\\u002f2012\",\"11\\u002f27\\u002f2012\",\"11\\u002f28\\u002f2012\",\"11\\u002f29\\u002f2012\",\"11\\u002f30\\u002f2012\",\"12\\u002f3\\u002f2012\",\"12\\u002f4\\u002f2012\",\"12\\u002f5\\u002f2012\",\"12\\u002f6\\u002f2012\",\"12\\u002f7\\u002f2012\",\"12\\u002f10\\u002f2012\",\"12\\u002f11\\u002f2012\",\"12\\u002f12\\u002f2012\",\"12\\u002f13\\u002f2012\",\"12\\u002f14\\u002f2012\",\"12\\u002f17\\u002f2012\",\"12\\u002f18\\u002f2012\",\"12\\u002f19\\u002f2012\",\"12\\u002f20\\u002f2012\",\"12\\u002f21\\u002f2012\",\"12\\u002f24\\u002f2012\",\"12\\u002f26\\u002f2012\",\"12\\u002f27\\u002f2012\",\"12\\u002f28\\u002f2012\",\"12\\u002f31\\u002f2012\",\"1\\u002f2\\u002f2013\",\"1\\u002f3\\u002f2013\",\"1\\u002f4\\u002f2013\",\"1\\u002f7\\u002f2013\",\"1\\u002f8\\u002f2013\",\"1\\u002f9\\u002f2013\",\"1\\u002f10\\u002f2013\",\"1\\u002f11\\u002f2013\",\"1\\u002f14\\u002f2013\",\"1\\u002f15\\u002f2013\",\"1\\u002f16\\u002f2013\",\"1\\u002f17\\u002f2013\",\"1\\u002f18\\u002f2013\",\"1\\u002f22\\u002f2013\",\"1\\u002f23\\u002f2013\",\"1\\u002f24\\u002f2013\",\"1\\u002f25\\u002f2013\",\"1\\u002f28\\u002f2013\",\"1\\u002f29\\u002f2013\",\"1\\u002f30\\u002f2013\",\"1\\u002f31\\u002f2013\",\"2\\u002f1\\u002f2013\",\"2\\u002f4\\u002f2013\",\"2\\u002f5\\u002f2013\",\"2\\u002f6\\u002f2013\",\"2\\u002f7\\u002f2013\",\"2\\u002f8\\u002f2013\",\"2\\u002f11\\u002f2013\",\"2\\u002f12\\u002f2013\",\"2\\u002f13\\u002f2013\",\"2\\u002f14\\u002f2013\",\"2\\u002f15\\u002f2013\",\"2\\u002f19\\u002f2013\",\"2\\u002f20\\u002f2013\",\"2\\u002f21\\u002f2013\",\"2\\u002f22\\u002f2013\",\"2\\u002f25\\u002f2013\",\"2\\u002f26\\u002f2013\",\"2\\u002f27\\u002f2013\",\"2\\u002f28\\u002f2013\",\"3\\u002f1\\u002f2013\",\"3\\u002f4\\u002f2013\",\"3\\u002f5\\u002f2013\",\"3\\u002f6\\u002f2013\",\"3\\u002f7\\u002f2013\",\"3\\u002f8\\u002f2013\",\"3\\u002f11\\u002f2013\",\"3\\u002f12\\u002f2013\",\"3\\u002f13\\u002f2013\",\"3\\u002f14\\u002f2013\",\"3\\u002f15\\u002f2013\",\"3\\u002f18\\u002f2013\",\"3\\u002f19\\u002f2013\",\"3\\u002f20\\u002f2013\",\"3\\u002f21\\u002f2013\",\"3\\u002f22\\u002f2013\",\"3\\u002f25\\u002f2013\",\"3\\u002f26\\u002f2013\",\"3\\u002f27\\u002f2013\",\"3\\u002f28\\u002f2013\",\"4\\u002f1\\u002f2013\",\"4\\u002f2\\u002f2013\",\"4\\u002f3\\u002f2013\",\"4\\u002f4\\u002f2013\",\"4\\u002f5\\u002f2013\",\"4\\u002f8\\u002f2013\",\"4\\u002f9\\u002f2013\",\"4\\u002f10\\u002f2013\",\"4\\u002f11\\u002f2013\",\"4\\u002f12\\u002f2013\",\"4\\u002f15\\u002f2013\",\"4\\u002f16\\u002f2013\",\"4\\u002f17\\u002f2013\",\"4\\u002f18\\u002f2013\",\"4\\u002f19\\u002f2013\",\"4\\u002f22\\u002f2013\",\"4\\u002f23\\u002f2013\",\"4\\u002f24\\u002f2013\",\"4\\u002f25\\u002f2013\",\"4\\u002f26\\u002f2013\",\"4\\u002f29\\u002f2013\",\"4\\u002f30\\u002f2013\",\"5\\u002f1\\u002f2013\",\"5\\u002f2\\u002f2013\",\"5\\u002f3\\u002f2013\",\"5\\u002f6\\u002f2013\",\"5\\u002f7\\u002f2013\",\"5\\u002f8\\u002f2013\",\"5\\u002f9\\u002f2013\",\"5\\u002f10\\u002f2013\",\"5\\u002f13\\u002f2013\",\"5\\u002f14\\u002f2013\",\"5\\u002f15\\u002f2013\",\"5\\u002f16\\u002f2013\",\"5\\u002f17\\u002f2013\",\"5\\u002f20\\u002f2013\",\"5\\u002f21\\u002f2013\",\"5\\u002f22\\u002f2013\",\"5\\u002f23\\u002f2013\",\"5\\u002f24\\u002f2013\",\"5\\u002f28\\u002f2013\",\"5\\u002f29\\u002f2013\",\"5\\u002f30\\u002f2013\",\"5\\u002f31\\u002f2013\",\"6\\u002f3\\u002f2013\",\"6\\u002f4\\u002f2013\",\"6\\u002f5\\u002f2013\",\"6\\u002f6\\u002f2013\",\"6\\u002f7\\u002f2013\",\"6\\u002f10\\u002f2013\",\"6\\u002f11\\u002f2013\",\"6\\u002f12\\u002f2013\",\"6\\u002f13\\u002f2013\",\"6\\u002f14\\u002f2013\",\"6\\u002f17\\u002f2013\",\"6\\u002f18\\u002f2013\",\"6\\u002f19\\u002f2013\",\"6\\u002f20\\u002f2013\",\"6\\u002f21\\u002f2013\",\"6\\u002f24\\u002f2013\",\"6\\u002f25\\u002f2013\",\"6\\u002f26\\u002f2013\",\"6\\u002f27\\u002f2013\",\"6\\u002f28\\u002f2013\",\"7\\u002f1\\u002f2013\",\"7\\u002f2\\u002f2013\",\"7\\u002f3\\u002f2013\",\"7\\u002f5\\u002f2013\",\"7\\u002f8\\u002f2013\",\"7\\u002f9\\u002f2013\",\"7\\u002f10\\u002f2013\",\"7\\u002f11\\u002f2013\",\"7\\u002f12\\u002f2013\",\"7\\u002f15\\u002f2013\",\"7\\u002f16\\u002f2013\",\"7\\u002f17\\u002f2013\",\"7\\u002f18\\u002f2013\",\"7\\u002f19\\u002f2013\",\"7\\u002f22\\u002f2013\",\"7\\u002f23\\u002f2013\",\"7\\u002f24\\u002f2013\",\"7\\u002f25\\u002f2013\",\"7\\u002f26\\u002f2013\",\"7\\u002f29\\u002f2013\",\"7\\u002f30\\u002f2013\",\"7\\u002f31\\u002f2013\",\"8\\u002f1\\u002f2013\",\"8\\u002f2\\u002f2013\",\"8\\u002f5\\u002f2013\",\"8\\u002f6\\u002f2013\",\"8\\u002f7\\u002f2013\",\"8\\u002f8\\u002f2013\",\"8\\u002f9\\u002f2013\",\"8\\u002f12\\u002f2013\",\"8\\u002f13\\u002f2013\",\"8\\u002f14\\u002f2013\",\"8\\u002f15\\u002f2013\",\"8\\u002f16\\u002f2013\",\"8\\u002f19\\u002f2013\",\"8\\u002f20\\u002f2013\",\"8\\u002f21\\u002f2013\",\"8\\u002f22\\u002f2013\",\"8\\u002f23\\u002f2013\",\"8\\u002f26\\u002f2013\",\"8\\u002f27\\u002f2013\",\"8\\u002f28\\u002f2013\",\"8\\u002f29\\u002f2013\",\"8\\u002f30\\u002f2013\",\"9\\u002f3\\u002f2013\",\"9\\u002f4\\u002f2013\",\"9\\u002f5\\u002f2013\",\"9\\u002f6\\u002f2013\",\"9\\u002f9\\u002f2013\",\"9\\u002f10\\u002f2013\",\"9\\u002f11\\u002f2013\",\"9\\u002f12\\u002f2013\",\"9\\u002f13\\u002f2013\",\"9\\u002f16\\u002f2013\",\"9\\u002f17\\u002f2013\",\"9\\u002f18\\u002f2013\",\"9\\u002f19\\u002f2013\",\"9\\u002f20\\u002f2013\",\"9\\u002f23\\u002f2013\",\"9\\u002f24\\u002f2013\",\"9\\u002f25\\u002f2013\",\"9\\u002f26\\u002f2013\",\"9\\u002f27\\u002f2013\",\"9\\u002f30\\u002f2013\",\"10\\u002f1\\u002f2013\",\"10\\u002f2\\u002f2013\",\"10\\u002f3\\u002f2013\",\"10\\u002f4\\u002f2013\",\"10\\u002f7\\u002f2013\",\"10\\u002f8\\u002f2013\",\"10\\u002f9\\u002f2013\",\"10\\u002f10\\u002f2013\",\"10\\u002f11\\u002f2013\",\"10\\u002f14\\u002f2013\",\"10\\u002f15\\u002f2013\",\"10\\u002f16\\u002f2013\",\"10\\u002f17\\u002f2013\",\"10\\u002f18\\u002f2013\",\"10\\u002f21\\u002f2013\",\"10\\u002f22\\u002f2013\",\"10\\u002f23\\u002f2013\",\"10\\u002f24\\u002f2013\",\"10\\u002f25\\u002f2013\",\"10\\u002f28\\u002f2013\",\"10\\u002f29\\u002f2013\",\"10\\u002f30\\u002f2013\",\"10\\u002f31\\u002f2013\",\"11\\u002f1\\u002f2013\",\"11\\u002f4\\u002f2013\",\"11\\u002f5\\u002f2013\",\"11\\u002f6\\u002f2013\",\"11\\u002f7\\u002f2013\",\"11\\u002f8\\u002f2013\",\"11\\u002f11\\u002f2013\",\"11\\u002f12\\u002f2013\",\"11\\u002f13\\u002f2013\",\"11\\u002f14\\u002f2013\",\"11\\u002f15\\u002f2013\",\"11\\u002f18\\u002f2013\",\"11\\u002f19\\u002f2013\",\"11\\u002f20\\u002f2013\",\"11\\u002f21\\u002f2013\",\"11\\u002f22\\u002f2013\",\"11\\u002f25\\u002f2013\",\"11\\u002f26\\u002f2013\",\"11\\u002f27\\u002f2013\",\"11\\u002f29\\u002f2013\",\"12\\u002f2\\u002f2013\",\"12\\u002f3\\u002f2013\",\"12\\u002f4\\u002f2013\",\"12\\u002f5\\u002f2013\",\"12\\u002f6\\u002f2013\",\"12\\u002f9\\u002f2013\",\"12\\u002f10\\u002f2013\",\"12\\u002f11\\u002f2013\",\"12\\u002f12\\u002f2013\",\"12\\u002f13\\u002f2013\",\"12\\u002f16\\u002f2013\",\"12\\u002f17\\u002f2013\",\"12\\u002f18\\u002f2013\",\"12\\u002f19\\u002f2013\",\"12\\u002f20\\u002f2013\",\"12\\u002f23\\u002f2013\",\"12\\u002f24\\u002f2013\",\"12\\u002f26\\u002f2013\",\"12\\u002f27\\u002f2013\",\"12\\u002f30\\u002f2013\",\"12\\u002f31\\u002f2013\",\"1\\u002f2\\u002f2014\",\"1\\u002f3\\u002f2014\",\"1\\u002f6\\u002f2014\",\"1\\u002f7\\u002f2014\",\"1\\u002f8\\u002f2014\",\"1\\u002f9\\u002f2014\",\"1\\u002f10\\u002f2014\",\"1\\u002f13\\u002f2014\",\"1\\u002f14\\u002f2014\",\"1\\u002f15\\u002f2014\",\"1\\u002f16\\u002f2014\",\"1\\u002f17\\u002f2014\",\"1\\u002f21\\u002f2014\",\"1\\u002f22\\u002f2014\",\"1\\u002f23\\u002f2014\",\"1\\u002f24\\u002f2014\",\"1\\u002f27\\u002f2014\",\"1\\u002f28\\u002f2014\",\"1\\u002f29\\u002f2014\",\"1\\u002f30\\u002f2014\",\"1\\u002f31\\u002f2014\",\"2\\u002f3\\u002f2014\",\"2\\u002f4\\u002f2014\",\"2\\u002f5\\u002f2014\",\"2\\u002f6\\u002f2014\",\"2\\u002f7\\u002f2014\",\"2\\u002f10\\u002f2014\",\"2\\u002f11\\u002f2014\",\"2\\u002f12\\u002f2014\",\"2\\u002f13\\u002f2014\",\"2\\u002f14\\u002f2014\",\"2\\u002f18\\u002f2014\",\"2\\u002f19\\u002f2014\",\"2\\u002f20\\u002f2014\",\"2\\u002f21\\u002f2014\",\"2\\u002f24\\u002f2014\",\"2\\u002f25\\u002f2014\",\"2\\u002f26\\u002f2014\",\"2\\u002f27\\u002f2014\",\"2\\u002f28\\u002f2014\",\"3\\u002f3\\u002f2014\",\"3\\u002f4\\u002f2014\",\"3\\u002f5\\u002f2014\",\"3\\u002f6\\u002f2014\",\"3\\u002f7\\u002f2014\",\"3\\u002f10\\u002f2014\",\"3\\u002f11\\u002f2014\",\"3\\u002f12\\u002f2014\",\"3\\u002f13\\u002f2014\",\"3\\u002f14\\u002f2014\",\"3\\u002f17\\u002f2014\",\"3\\u002f18\\u002f2014\",\"3\\u002f19\\u002f2014\",\"3\\u002f20\\u002f2014\",\"3\\u002f21\\u002f2014\",\"3\\u002f24\\u002f2014\",\"3\\u002f25\\u002f2014\",\"3\\u002f26\\u002f2014\",\"3\\u002f27\\u002f2014\",\"3\\u002f28\\u002f2014\",\"3\\u002f31\\u002f2014\",\"4\\u002f1\\u002f2014\",\"4\\u002f2\\u002f2014\",\"4\\u002f3\\u002f2014\",\"4\\u002f4\\u002f2014\",\"4\\u002f7\\u002f2014\",\"4\\u002f8\\u002f2014\",\"4\\u002f9\\u002f2014\",\"4\\u002f10\\u002f2014\",\"4\\u002f11\\u002f2014\",\"4\\u002f14\\u002f2014\",\"4\\u002f15\\u002f2014\",\"4\\u002f16\\u002f2014\",\"4\\u002f17\\u002f2014\",\"4\\u002f21\\u002f2014\",\"4\\u002f22\\u002f2014\",\"4\\u002f23\\u002f2014\",\"4\\u002f24\\u002f2014\",\"4\\u002f25\\u002f2014\",\"4\\u002f28\\u002f2014\",\"4\\u002f29\\u002f2014\",\"4\\u002f30\\u002f2014\",\"5\\u002f1\\u002f2014\",\"5\\u002f2\\u002f2014\",\"5\\u002f5\\u002f2014\",\"5\\u002f6\\u002f2014\",\"5\\u002f7\\u002f2014\",\"5\\u002f8\\u002f2014\",\"5\\u002f9\\u002f2014\",\"5\\u002f12\\u002f2014\",\"5\\u002f13\\u002f2014\",\"5\\u002f14\\u002f2014\",\"5\\u002f15\\u002f2014\",\"5\\u002f16\\u002f2014\",\"5\\u002f19\\u002f2014\",\"5\\u002f20\\u002f2014\",\"5\\u002f21\\u002f2014\",\"5\\u002f22\\u002f2014\",\"5\\u002f23\\u002f2014\",\"5\\u002f27\\u002f2014\",\"5\\u002f28\\u002f2014\",\"5\\u002f29\\u002f2014\",\"5\\u002f30\\u002f2014\",\"6\\u002f2\\u002f2014\",\"6\\u002f3\\u002f2014\",\"6\\u002f4\\u002f2014\",\"6\\u002f5\\u002f2014\",\"6\\u002f6\\u002f2014\",\"6\\u002f9\\u002f2014\",\"6\\u002f10\\u002f2014\",\"6\\u002f11\\u002f2014\",\"6\\u002f12\\u002f2014\",\"6\\u002f13\\u002f2014\",\"6\\u002f16\\u002f2014\",\"6\\u002f17\\u002f2014\",\"6\\u002f18\\u002f2014\",\"6\\u002f19\\u002f2014\",\"6\\u002f20\\u002f2014\",\"6\\u002f23\\u002f2014\",\"6\\u002f24\\u002f2014\",\"6\\u002f25\\u002f2014\",\"6\\u002f26\\u002f2014\",\"6\\u002f27\\u002f2014\",\"6\\u002f30\\u002f2014\",\"7\\u002f1\\u002f2014\",\"7\\u002f2\\u002f2014\",\"7\\u002f3\\u002f2014\",\"7\\u002f7\\u002f2014\",\"7\\u002f8\\u002f2014\",\"7\\u002f9\\u002f2014\",\"7\\u002f10\\u002f2014\",\"7\\u002f11\\u002f2014\",\"7\\u002f14\\u002f2014\",\"7\\u002f15\\u002f2014\",\"7\\u002f16\\u002f2014\",\"7\\u002f17\\u002f2014\",\"7\\u002f18\\u002f2014\",\"7\\u002f21\\u002f2014\",\"7\\u002f22\\u002f2014\",\"7\\u002f23\\u002f2014\",\"7\\u002f24\\u002f2014\",\"7\\u002f25\\u002f2014\",\"7\\u002f28\\u002f2014\",\"7\\u002f29\\u002f2014\",\"7\\u002f30\\u002f2014\",\"7\\u002f31\\u002f2014\",\"8\\u002f1\\u002f2014\",\"8\\u002f4\\u002f2014\",\"8\\u002f5\\u002f2014\",\"8\\u002f6\\u002f2014\",\"8\\u002f7\\u002f2014\",\"8\\u002f8\\u002f2014\",\"8\\u002f11\\u002f2014\",\"8\\u002f12\\u002f2014\",\"8\\u002f13\\u002f2014\",\"8\\u002f14\\u002f2014\",\"8\\u002f15\\u002f2014\",\"8\\u002f18\\u002f2014\",\"8\\u002f19\\u002f2014\",\"8\\u002f20\\u002f2014\",\"8\\u002f21\\u002f2014\",\"8\\u002f22\\u002f2014\",\"8\\u002f25\\u002f2014\",\"8\\u002f26\\u002f2014\",\"8\\u002f27\\u002f2014\",\"8\\u002f28\\u002f2014\",\"8\\u002f29\\u002f2014\",\"9\\u002f2\\u002f2014\",\"9\\u002f3\\u002f2014\",\"9\\u002f4\\u002f2014\",\"9\\u002f5\\u002f2014\",\"9\\u002f8\\u002f2014\",\"9\\u002f9\\u002f2014\",\"9\\u002f10\\u002f2014\",\"9\\u002f11\\u002f2014\",\"9\\u002f12\\u002f2014\",\"9\\u002f15\\u002f2014\",\"9\\u002f16\\u002f2014\",\"9\\u002f17\\u002f2014\",\"9\\u002f18\\u002f2014\",\"9\\u002f19\\u002f2014\",\"9\\u002f22\\u002f2014\",\"9\\u002f23\\u002f2014\",\"9\\u002f24\\u002f2014\",\"9\\u002f25\\u002f2014\",\"9\\u002f26\\u002f2014\",\"9\\u002f29\\u002f2014\",\"9\\u002f30\\u002f2014\",\"10\\u002f1\\u002f2014\",\"10\\u002f2\\u002f2014\",\"10\\u002f3\\u002f2014\",\"10\\u002f6\\u002f2014\",\"10\\u002f7\\u002f2014\",\"10\\u002f8\\u002f2014\",\"10\\u002f9\\u002f2014\",\"10\\u002f10\\u002f2014\",\"10\\u002f13\\u002f2014\",\"10\\u002f14\\u002f2014\",\"10\\u002f15\\u002f2014\",\"10\\u002f16\\u002f2014\",\"10\\u002f17\\u002f2014\",\"10\\u002f20\\u002f2014\",\"10\\u002f21\\u002f2014\",\"10\\u002f22\\u002f2014\",\"10\\u002f23\\u002f2014\",\"10\\u002f24\\u002f2014\",\"10\\u002f27\\u002f2014\",\"10\\u002f28\\u002f2014\",\"10\\u002f29\\u002f2014\",\"10\\u002f30\\u002f2014\",\"10\\u002f31\\u002f2014\",\"11\\u002f3\\u002f2014\",\"11\\u002f4\\u002f2014\",\"11\\u002f5\\u002f2014\",\"11\\u002f6\\u002f2014\",\"11\\u002f7\\u002f2014\",\"11\\u002f10\\u002f2014\",\"11\\u002f11\\u002f2014\",\"11\\u002f12\\u002f2014\",\"11\\u002f13\\u002f2014\",\"11\\u002f14\\u002f2014\",\"11\\u002f17\\u002f2014\",\"11\\u002f18\\u002f2014\",\"11\\u002f19\\u002f2014\",\"11\\u002f20\\u002f2014\",\"11\\u002f21\\u002f2014\",\"11\\u002f24\\u002f2014\",\"11\\u002f25\\u002f2014\",\"11\\u002f26\\u002f2014\",\"11\\u002f28\\u002f2014\",\"12\\u002f1\\u002f2014\",\"12\\u002f2\\u002f2014\",\"12\\u002f3\\u002f2014\",\"12\\u002f4\\u002f2014\",\"12\\u002f5\\u002f2014\",\"12\\u002f8\\u002f2014\",\"12\\u002f9\\u002f2014\",\"12\\u002f10\\u002f2014\",\"12\\u002f11\\u002f2014\",\"12\\u002f12\\u002f2014\",\"12\\u002f15\\u002f2014\",\"12\\u002f16\\u002f2014\",\"12\\u002f17\\u002f2014\",\"12\\u002f18\\u002f2014\",\"12\\u002f19\\u002f2014\",\"12\\u002f22\\u002f2014\",\"12\\u002f23\\u002f2014\",\"12\\u002f24\\u002f2014\",\"12\\u002f26\\u002f2014\",\"12\\u002f29\\u002f2014\",\"12\\u002f30\\u002f2014\",\"12\\u002f31\\u002f2014\",\"1\\u002f2\\u002f2015\",\"1\\u002f5\\u002f2015\",\"1\\u002f6\\u002f2015\",\"1\\u002f7\\u002f2015\",\"1\\u002f8\\u002f2015\",\"1\\u002f9\\u002f2015\",\"1\\u002f12\\u002f2015\",\"1\\u002f13\\u002f2015\",\"1\\u002f14\\u002f2015\",\"1\\u002f15\\u002f2015\",\"1\\u002f16\\u002f2015\",\"1\\u002f20\\u002f2015\",\"1\\u002f21\\u002f2015\",\"1\\u002f22\\u002f2015\",\"1\\u002f23\\u002f2015\",\"1\\u002f26\\u002f2015\",\"1\\u002f27\\u002f2015\",\"1\\u002f28\\u002f2015\",\"1\\u002f29\\u002f2015\",\"1\\u002f30\\u002f2015\",\"2\\u002f2\\u002f2015\",\"2\\u002f3\\u002f2015\",\"2\\u002f4\\u002f2015\",\"2\\u002f5\\u002f2015\",\"2\\u002f6\\u002f2015\",\"2\\u002f9\\u002f2015\",\"2\\u002f10\\u002f2015\",\"2\\u002f11\\u002f2015\",\"2\\u002f12\\u002f2015\",\"2\\u002f13\\u002f2015\",\"2\\u002f17\\u002f2015\",\"2\\u002f18\\u002f2015\",\"2\\u002f19\\u002f2015\",\"2\\u002f20\\u002f2015\",\"2\\u002f23\\u002f2015\",\"2\\u002f24\\u002f2015\",\"2\\u002f25\\u002f2015\",\"2\\u002f26\\u002f2015\",\"2\\u002f27\\u002f2015\",\"3\\u002f2\\u002f2015\",\"3\\u002f3\\u002f2015\",\"3\\u002f4\\u002f2015\",\"3\\u002f5\\u002f2015\",\"3\\u002f6\\u002f2015\",\"3\\u002f9\\u002f2015\",\"3\\u002f10\\u002f2015\",\"3\\u002f11\\u002f2015\",\"3\\u002f12\\u002f2015\",\"3\\u002f13\\u002f2015\",\"3\\u002f16\\u002f2015\",\"3\\u002f17\\u002f2015\",\"3\\u002f18\\u002f2015\",\"3\\u002f19\\u002f2015\",\"3\\u002f20\\u002f2015\",\"3\\u002f23\\u002f2015\",\"3\\u002f24\\u002f2015\",\"3\\u002f25\\u002f2015\",\"3\\u002f26\\u002f2015\",\"3\\u002f27\\u002f2015\",\"3\\u002f30\\u002f2015\",\"3\\u002f31\\u002f2015\",\"4\\u002f1\\u002f2015\",\"4\\u002f2\\u002f2015\",\"4\\u002f6\\u002f2015\",\"4\\u002f7\\u002f2015\",\"4\\u002f8\\u002f2015\",\"4\\u002f9\\u002f2015\",\"4\\u002f10\\u002f2015\",\"4\\u002f13\\u002f2015\",\"4\\u002f14\\u002f2015\",\"4\\u002f15\\u002f2015\",\"4\\u002f16\\u002f2015\",\"4\\u002f17\\u002f2015\",\"4\\u002f20\\u002f2015\",\"4\\u002f21\\u002f2015\",\"4\\u002f22\\u002f2015\",\"4\\u002f23\\u002f2015\",\"4\\u002f24\\u002f2015\",\"4\\u002f27\\u002f2015\",\"4\\u002f28\\u002f2015\",\"4\\u002f29\\u002f2015\",\"4\\u002f30\\u002f2015\",\"5\\u002f1\\u002f2015\",\"5\\u002f4\\u002f2015\",\"5\\u002f5\\u002f2015\",\"5\\u002f6\\u002f2015\",\"5\\u002f7\\u002f2015\",\"5\\u002f8\\u002f2015\",\"5\\u002f11\\u002f2015\",\"5\\u002f12\\u002f2015\",\"5\\u002f13\\u002f2015\",\"5\\u002f14\\u002f2015\",\"5\\u002f15\\u002f2015\",\"5\\u002f18\\u002f2015\",\"5\\u002f19\\u002f2015\",\"5\\u002f20\\u002f2015\",\"5\\u002f21\\u002f2015\",\"5\\u002f22\\u002f2015\",\"5\\u002f26\\u002f2015\",\"5\\u002f27\\u002f2015\",\"5\\u002f28\\u002f2015\",\"5\\u002f29\\u002f2015\",\"6\\u002f1\\u002f2015\",\"6\\u002f2\\u002f2015\",\"6\\u002f3\\u002f2015\",\"6\\u002f4\\u002f2015\",\"6\\u002f5\\u002f2015\",\"6\\u002f8\\u002f2015\",\"6\\u002f9\\u002f2015\",\"6\\u002f10\\u002f2015\",\"6\\u002f11\\u002f2015\",\"6\\u002f12\\u002f2015\",\"6\\u002f15\\u002f2015\",\"6\\u002f16\\u002f2015\",\"6\\u002f17\\u002f2015\",\"6\\u002f18\\u002f2015\",\"6\\u002f19\\u002f2015\",\"6\\u002f22\\u002f2015\",\"6\\u002f23\\u002f2015\",\"6\\u002f24\\u002f2015\",\"6\\u002f25\\u002f2015\",\"6\\u002f26\\u002f2015\",\"6\\u002f29\\u002f2015\",\"6\\u002f30\\u002f2015\",\"7\\u002f1\\u002f2015\",\"7\\u002f2\\u002f2015\",\"7\\u002f6\\u002f2015\",\"7\\u002f7\\u002f2015\",\"7\\u002f8\\u002f2015\",\"7\\u002f9\\u002f2015\",\"7\\u002f10\\u002f2015\",\"7\\u002f13\\u002f2015\",\"7\\u002f14\\u002f2015\",\"7\\u002f15\\u002f2015\",\"7\\u002f16\\u002f2015\",\"7\\u002f17\\u002f2015\",\"7\\u002f20\\u002f2015\",\"7\\u002f21\\u002f2015\",\"7\\u002f22\\u002f2015\",\"7\\u002f23\\u002f2015\",\"7\\u002f24\\u002f2015\",\"7\\u002f27\\u002f2015\",\"7\\u002f28\\u002f2015\",\"7\\u002f29\\u002f2015\",\"7\\u002f30\\u002f2015\",\"7\\u002f31\\u002f2015\",\"8\\u002f3\\u002f2015\",\"8\\u002f4\\u002f2015\",\"8\\u002f5\\u002f2015\",\"8\\u002f6\\u002f2015\",\"8\\u002f7\\u002f2015\",\"8\\u002f10\\u002f2015\",\"8\\u002f11\\u002f2015\",\"8\\u002f12\\u002f2015\",\"8\\u002f13\\u002f2015\",\"8\\u002f14\\u002f2015\",\"8\\u002f17\\u002f2015\",\"8\\u002f18\\u002f2015\",\"8\\u002f19\\u002f2015\",\"8\\u002f20\\u002f2015\",\"8\\u002f21\\u002f2015\",\"8\\u002f24\\u002f2015\",\"8\\u002f25\\u002f2015\",\"8\\u002f26\\u002f2015\",\"8\\u002f27\\u002f2015\",\"8\\u002f28\\u002f2015\",\"8\\u002f31\\u002f2015\",\"9\\u002f1\\u002f2015\",\"9\\u002f2\\u002f2015\",\"9\\u002f3\\u002f2015\",\"9\\u002f4\\u002f2015\",\"9\\u002f8\\u002f2015\",\"9\\u002f9\\u002f2015\",\"9\\u002f10\\u002f2015\",\"9\\u002f11\\u002f2015\",\"9\\u002f14\\u002f2015\",\"9\\u002f15\\u002f2015\",\"9\\u002f16\\u002f2015\",\"9\\u002f17\\u002f2015\",\"9\\u002f18\\u002f2015\",\"9\\u002f21\\u002f2015\",\"9\\u002f22\\u002f2015\",\"9\\u002f23\\u002f2015\",\"9\\u002f24\\u002f2015\",\"9\\u002f25\\u002f2015\",\"9\\u002f28\\u002f2015\",\"9\\u002f29\\u002f2015\",\"9\\u002f30\\u002f2015\",\"10\\u002f1\\u002f2015\",\"10\\u002f2\\u002f2015\",\"10\\u002f5\\u002f2015\",\"10\\u002f6\\u002f2015\",\"10\\u002f7\\u002f2015\",\"10\\u002f8\\u002f2015\",\"10\\u002f9\\u002f2015\",\"10\\u002f12\\u002f2015\",\"10\\u002f13\\u002f2015\",\"10\\u002f14\\u002f2015\",\"10\\u002f15\\u002f2015\",\"10\\u002f16\\u002f2015\",\"10\\u002f19\\u002f2015\",\"10\\u002f20\\u002f2015\",\"10\\u002f21\\u002f2015\",\"10\\u002f22\\u002f2015\",\"10\\u002f23\\u002f2015\",\"10\\u002f26\\u002f2015\",\"10\\u002f27\\u002f2015\",\"10\\u002f28\\u002f2015\",\"10\\u002f29\\u002f2015\",\"10\\u002f30\\u002f2015\",\"11\\u002f2\\u002f2015\",\"11\\u002f3\\u002f2015\",\"11\\u002f4\\u002f2015\",\"11\\u002f5\\u002f2015\",\"11\\u002f6\\u002f2015\",\"11\\u002f9\\u002f2015\",\"11\\u002f10\\u002f2015\",\"11\\u002f11\\u002f2015\",\"11\\u002f12\\u002f2015\",\"11\\u002f13\\u002f2015\",\"11\\u002f16\\u002f2015\",\"11\\u002f17\\u002f2015\",\"11\\u002f18\\u002f2015\",\"11\\u002f19\\u002f2015\",\"11\\u002f20\\u002f2015\",\"11\\u002f23\\u002f2015\",\"11\\u002f24\\u002f2015\",\"11\\u002f25\\u002f2015\",\"11\\u002f27\\u002f2015\",\"11\\u002f30\\u002f2015\",\"12\\u002f1\\u002f2015\",\"12\\u002f2\\u002f2015\",\"12\\u002f3\\u002f2015\",\"12\\u002f4\\u002f2015\",\"12\\u002f7\\u002f2015\",\"12\\u002f8\\u002f2015\",\"12\\u002f9\\u002f2015\",\"12\\u002f10\\u002f2015\",\"12\\u002f11\\u002f2015\",\"12\\u002f14\\u002f2015\",\"12\\u002f15\\u002f2015\",\"12\\u002f16\\u002f2015\",\"12\\u002f17\\u002f2015\",\"12\\u002f18\\u002f2015\",\"12\\u002f21\\u002f2015\",\"12\\u002f22\\u002f2015\",\"12\\u002f23\\u002f2015\",\"12\\u002f24\\u002f2015\",\"12\\u002f28\\u002f2015\",\"12\\u002f29\\u002f2015\",\"12\\u002f30\\u002f2015\",\"12\\u002f31\\u002f2015\",\"1\\u002f4\\u002f2016\",\"1\\u002f5\\u002f2016\",\"1\\u002f6\\u002f2016\",\"1\\u002f7\\u002f2016\",\"1\\u002f8\\u002f2016\",\"1\\u002f11\\u002f2016\",\"1\\u002f12\\u002f2016\",\"1\\u002f13\\u002f2016\",\"1\\u002f14\\u002f2016\",\"1\\u002f15\\u002f2016\",\"1\\u002f19\\u002f2016\",\"1\\u002f20\\u002f2016\",\"1\\u002f21\\u002f2016\",\"1\\u002f22\\u002f2016\",\"1\\u002f25\\u002f2016\",\"1\\u002f26\\u002f2016\",\"1\\u002f27\\u002f2016\",\"1\\u002f28\\u002f2016\",\"1\\u002f29\\u002f2016\",\"2\\u002f1\\u002f2016\",\"2\\u002f2\\u002f2016\",\"2\\u002f3\\u002f2016\",\"2\\u002f4\\u002f2016\",\"2\\u002f5\\u002f2016\",\"2\\u002f8\\u002f2016\",\"2\\u002f9\\u002f2016\",\"2\\u002f10\\u002f2016\",\"2\\u002f11\\u002f2016\",\"2\\u002f12\\u002f2016\",\"2\\u002f16\\u002f2016\",\"2\\u002f17\\u002f2016\",\"2\\u002f18\\u002f2016\",\"2\\u002f19\\u002f2016\",\"2\\u002f22\\u002f2016\",\"2\\u002f23\\u002f2016\",\"2\\u002f24\\u002f2016\",\"2\\u002f25\\u002f2016\",\"2\\u002f26\\u002f2016\",\"2\\u002f29\\u002f2016\",\"3\\u002f1\\u002f2016\",\"3\\u002f2\\u002f2016\",\"3\\u002f3\\u002f2016\",\"3\\u002f4\\u002f2016\",\"3\\u002f7\\u002f2016\",\"3\\u002f8\\u002f2016\",\"3\\u002f9\\u002f2016\",\"3\\u002f10\\u002f2016\",\"3\\u002f11\\u002f2016\",\"3\\u002f14\\u002f2016\",\"3\\u002f15\\u002f2016\",\"3\\u002f16\\u002f2016\",\"3\\u002f17\\u002f2016\",\"3\\u002f18\\u002f2016\",\"3\\u002f21\\u002f2016\",\"3\\u002f22\\u002f2016\",\"3\\u002f23\\u002f2016\",\"3\\u002f24\\u002f2016\",\"3\\u002f28\\u002f2016\",\"3\\u002f29\\u002f2016\",\"3\\u002f30\\u002f2016\",\"3\\u002f31\\u002f2016\",\"4\\u002f1\\u002f2016\",\"4\\u002f4\\u002f2016\",\"4\\u002f5\\u002f2016\",\"4\\u002f6\\u002f2016\",\"4\\u002f7\\u002f2016\",\"4\\u002f8\\u002f2016\",\"4\\u002f11\\u002f2016\",\"4\\u002f12\\u002f2016\",\"4\\u002f13\\u002f2016\",\"4\\u002f14\\u002f2016\",\"4\\u002f15\\u002f2016\",\"4\\u002f18\\u002f2016\",\"4\\u002f19\\u002f2016\",\"4\\u002f20\\u002f2016\",\"4\\u002f21\\u002f2016\",\"4\\u002f22\\u002f2016\",\"4\\u002f25\\u002f2016\",\"4\\u002f26\\u002f2016\",\"4\\u002f27\\u002f2016\",\"4\\u002f28\\u002f2016\",\"4\\u002f29\\u002f2016\",\"5\\u002f2\\u002f2016\",\"5\\u002f3\\u002f2016\",\"5\\u002f4\\u002f2016\",\"5\\u002f5\\u002f2016\",\"5\\u002f6\\u002f2016\",\"5\\u002f9\\u002f2016\",\"5\\u002f10\\u002f2016\",\"5\\u002f11\\u002f2016\",\"5\\u002f12\\u002f2016\",\"5\\u002f13\\u002f2016\",\"5\\u002f16\\u002f2016\",\"5\\u002f17\\u002f2016\",\"5\\u002f18\\u002f2016\",\"5\\u002f19\\u002f2016\",\"5\\u002f20\\u002f2016\",\"5\\u002f23\\u002f2016\",\"5\\u002f24\\u002f2016\",\"5\\u002f25\\u002f2016\",\"5\\u002f26\\u002f2016\",\"5\\u002f27\\u002f2016\",\"5\\u002f31\\u002f2016\",\"6\\u002f1\\u002f2016\",\"6\\u002f2\\u002f2016\",\"6\\u002f3\\u002f2016\",\"6\\u002f6\\u002f2016\",\"6\\u002f7\\u002f2016\",\"6\\u002f8\\u002f2016\",\"6\\u002f9\\u002f2016\",\"6\\u002f10\\u002f2016\",\"6\\u002f13\\u002f2016\",\"6\\u002f14\\u002f2016\",\"6\\u002f15\\u002f2016\",\"6\\u002f16\\u002f2016\",\"6\\u002f17\\u002f2016\",\"6\\u002f20\\u002f2016\",\"6\\u002f21\\u002f2016\",\"6\\u002f22\\u002f2016\",\"6\\u002f23\\u002f2016\",\"6\\u002f24\\u002f2016\",\"6\\u002f27\\u002f2016\",\"6\\u002f28\\u002f2016\",\"6\\u002f29\\u002f2016\",\"6\\u002f30\\u002f2016\",\"7\\u002f1\\u002f2016\",\"7\\u002f5\\u002f2016\",\"7\\u002f6\\u002f2016\",\"7\\u002f7\\u002f2016\",\"7\\u002f8\\u002f2016\",\"7\\u002f11\\u002f2016\",\"7\\u002f12\\u002f2016\",\"7\\u002f13\\u002f2016\",\"7\\u002f14\\u002f2016\",\"7\\u002f15\\u002f2016\",\"7\\u002f18\\u002f2016\",\"7\\u002f19\\u002f2016\",\"7\\u002f20\\u002f2016\",\"7\\u002f21\\u002f2016\",\"7\\u002f22\\u002f2016\",\"7\\u002f25\\u002f2016\",\"7\\u002f26\\u002f2016\",\"7\\u002f27\\u002f2016\",\"7\\u002f28\\u002f2016\",\"7\\u002f29\\u002f2016\",\"8\\u002f1\\u002f2016\",\"8\\u002f2\\u002f2016\",\"8\\u002f3\\u002f2016\",\"8\\u002f4\\u002f2016\",\"8\\u002f5\\u002f2016\",\"8\\u002f8\\u002f2016\",\"8\\u002f9\\u002f2016\",\"8\\u002f10\\u002f2016\",\"8\\u002f11\\u002f2016\",\"8\\u002f12\\u002f2016\",\"8\\u002f15\\u002f2016\",\"8\\u002f16\\u002f2016\",\"8\\u002f17\\u002f2016\",\"8\\u002f18\\u002f2016\",\"8\\u002f19\\u002f2016\",\"8\\u002f22\\u002f2016\",\"8\\u002f23\\u002f2016\",\"8\\u002f24\\u002f2016\",\"8\\u002f25\\u002f2016\",\"8\\u002f26\\u002f2016\",\"8\\u002f29\\u002f2016\",\"8\\u002f30\\u002f2016\",\"8\\u002f31\\u002f2016\",\"9\\u002f1\\u002f2016\",\"9\\u002f2\\u002f2016\",\"9\\u002f6\\u002f2016\",\"9\\u002f7\\u002f2016\",\"9\\u002f8\\u002f2016\",\"9\\u002f9\\u002f2016\",\"9\\u002f12\\u002f2016\",\"9\\u002f13\\u002f2016\",\"9\\u002f14\\u002f2016\",\"9\\u002f15\\u002f2016\",\"9\\u002f16\\u002f2016\",\"9\\u002f19\\u002f2016\",\"9\\u002f20\\u002f2016\",\"9\\u002f21\\u002f2016\",\"9\\u002f22\\u002f2016\",\"9\\u002f23\\u002f2016\",\"9\\u002f26\\u002f2016\",\"9\\u002f27\\u002f2016\",\"9\\u002f28\\u002f2016\",\"9\\u002f29\\u002f2016\",\"9\\u002f30\\u002f2016\",\"10\\u002f3\\u002f2016\",\"10\\u002f4\\u002f2016\",\"10\\u002f5\\u002f2016\",\"10\\u002f6\\u002f2016\",\"10\\u002f7\\u002f2016\",\"10\\u002f10\\u002f2016\",\"10\\u002f11\\u002f2016\",\"10\\u002f12\\u002f2016\",\"10\\u002f13\\u002f2016\",\"10\\u002f14\\u002f2016\",\"10\\u002f17\\u002f2016\",\"10\\u002f18\\u002f2016\",\"10\\u002f19\\u002f2016\",\"10\\u002f20\\u002f2016\",\"10\\u002f21\\u002f2016\",\"10\\u002f24\\u002f2016\",\"10\\u002f25\\u002f2016\",\"10\\u002f26\\u002f2016\",\"10\\u002f27\\u002f2016\",\"10\\u002f28\\u002f2016\",\"10\\u002f31\\u002f2016\",\"11\\u002f1\\u002f2016\",\"11\\u002f2\\u002f2016\",\"11\\u002f3\\u002f2016\",\"11\\u002f4\\u002f2016\",\"11\\u002f7\\u002f2016\",\"11\\u002f8\\u002f2016\",\"11\\u002f9\\u002f2016\",\"11\\u002f10\\u002f2016\",\"11\\u002f11\\u002f2016\",\"11\\u002f14\\u002f2016\",\"11\\u002f15\\u002f2016\",\"11\\u002f16\\u002f2016\",\"11\\u002f17\\u002f2016\",\"11\\u002f18\\u002f2016\",\"11\\u002f21\\u002f2016\",\"11\\u002f22\\u002f2016\",\"11\\u002f23\\u002f2016\",\"11\\u002f25\\u002f2016\",\"11\\u002f28\\u002f2016\",\"11\\u002f29\\u002f2016\",\"11\\u002f30\\u002f2016\",\"12\\u002f1\\u002f2016\",\"12\\u002f2\\u002f2016\",\"12\\u002f5\\u002f2016\",\"12\\u002f6\\u002f2016\",\"12\\u002f7\\u002f2016\",\"12\\u002f8\\u002f2016\",\"12\\u002f9\\u002f2016\",\"12\\u002f12\\u002f2016\",\"12\\u002f13\\u002f2016\",\"12\\u002f14\\u002f2016\",\"12\\u002f15\\u002f2016\",\"12\\u002f16\\u002f2016\",\"12\\u002f19\\u002f2016\",\"12\\u002f20\\u002f2016\",\"12\\u002f21\\u002f2016\",\"12\\u002f22\\u002f2016\",\"12\\u002f23\\u002f2016\",\"12\\u002f27\\u002f2016\",\"12\\u002f28\\u002f2016\",\"12\\u002f29\\u002f2016\",\"12\\u002f30\\u002f2016\"],\"xaxis\":\"x\",\"y\":[104.02459646425828,101.18030609472639,99.2571930994755,97.42949381738444,92.7586635200596,98.09690787376474,100.98844135355294,99.70104633781762,99.79484549301193,99.12328070899909,102.21054654962516,99.75571562793611,98.66399238509652,100.03425713404815,98.35655835929744,97.41726918798663,98.84178014881367,103.429234665166,100.07292932800836,99.20801625288384,98.79195552199877,100.2848905059381,102.12078985827415,104.93943790276326,100.07604814178019,100.60030345009562,100.01640043297142,99.5475710841782,100.75630528427213,99.61592751862916,97.79248002096162,101.43199680298392,100.0862755508362,103.55706259765303,98.88466080566856,99.90409101432022,101.04118463674223,101.09875562615831,102.95530836569473,100.09086778736938,100.24518501790496,99.9580428608314,98.20423218792469,99.18122090527913,99.45944164277005,99.2497038304594,97.6654338924845,101.91715738758032,103.16910697797125,100.52227843969312,101.6701937164252,101.53577548579003,103.68556701030928,101.01820033091514,101.89485005694041,102.56555366911901,98.95991803533177,101.54061624649857,100.1954639942912,101.3423645320197,98.6574500768049,96.9691369432637,102.12099376546884,99.3343701399689,99.16674527560293,100.22543976630472,100.94866962660109,98.0924012928576,100.82963901203293,102.89705606600413,93.10227237498837,94.75736289231166,100.53440654483077,100.00330152860775,98.0908819727553,97.48504983388703,101.78777002776465,101.21476510067113,102.09725130455011,101.69563931517203,100.18931975453714,97.54052726379565,100.41227516042159,102.21717643916122,100.661902723351,97.24348142994404,104.42322615472857,102.60252627391175,100.96599179568615,100.42575489618133,98.51664254703329,101.27309787148731,102.1091729123831,103.75207094825068,96.79472967408861,92.29237587513649,104.73707083876573,96.07945806198252,102.79946613279947,98.39506986554179,97.04389070746208,99.7068634387951,100.22527134958017,97.52779103866875,99.91573921286381,103.1367716951241,98.4475841618699,101.62278868923246,97.01059104885549,101.79884957294752,94.81804748977702,98.55894581072509,99.97498302419497,99.39914163090127,101.69102894812268,103.12923713694427,102.97494050118998,99.40793573852224,95.14610164797121,101.42786456492541,97.85570220445135,100.88110441265653,100.76381767389229,99.63815672780163,101.97618798226318,99.73776826996067,102.90045687387513,102.63570649208948,98.01436703713743,100.56627084906307,97.32303819857819,98.42895461037378,101.38761061946902,101.72625521911513,99.69698025147156,99.60782952731311,101.513517274973,102.56181930269197,100.88049070043527,105.2086119283231,97.78358087155212,100.09570325391066,99.66704749469558,105.39751532647831,99.01843201615961,101.69989775051127,98.74944874944877,101.23559806155527,100.61164957184532,101.20523524057623,99.80919612136377,101.19687117142591,99.52966827596947,101.27004086765167,104.09302325581397,103.06038551722041,99.38003534098058,101.80746443715978,101.09886837403215,100.21100181283249,99.12913808529673,103.14342437733126,100.94974395617484,101.09645213050453,102.08017925270998,103.8881845076375,103.34597830596881,99.45135547470953,100.5194881427565,99.17302052785922,100.41330853482124,104.1235001463272,101.96162780693454,97.66652524395418,98.5417625402669,100.62605555879098,103.94207096307025,100.22066312096865,100.73143764352335,103.16816518705505,102.99096275985562,101.21092884061184,100.68541975105553,105.23150436645248,99.16560034122415,101.16727350610411,99.28941251056635,100.29014826842706,100.91772235592818,98.0533620169478,101.99495284898393,101.59231477826032,99.4035215669931,99.36952622137808,96.09164420485173,100.93088704876332,99.82401877133104,98.30983659083628,99.94317874343852,101.43756102853423,103.30284141504089,84.15878414284195,93.45036560730642,99.51360433923884,102.68558625840178,97.43072606103122,99.53945620405631,99.79821359684263,100.3307151715585,102.58508626802174,98.22016758162378,99.75071120626447,99.10091958062439,97.86164644301688,94.84798562228545,102.76295614842073,100.84684248729738,99.00987101071883,97.73928896991794,99.35451990487661,100.56869386867209,104.01677739338089,100.34182908545726,99.264816204051,99.60447067989091,98.60834990059641,103.39668541888398,104.89241495372039,101.39517235340475,102.24764781043095,98.20759841056574,99.05834777585211,98.95005510760488,101.23208081515868,97.0941652224148,100.2050260676,102.19661924296648,99.72151244580975,96.50608490830575,100.99919604915586,104.53859943658763,101.45114298520845,100.03342525277847,99.9500388586655,100.66638549135388,98.79748258035511,100.42811374783815,99.96025550035486,99.72248447915774,102.31150879004274,101.26405670117475,99.85323031763176,102.56805482920923,100.01091852054044,99.58788209606986,101.79839350823809,99.83514850147289,99.65910013257218,96.46709522771845,101.7609957579817,98.20202862303738,98.4196246258846,98.55305920587818,99.69516537990373,101.69930718455076,103.70219911168886,100.97598802074977,99.92255928220463,102.05925049733855,100.22638896287222,101.58352280326332,104.79771234907858,97.93938443032347,101.41372580049585,103.1259917486512,101.30669518270258,101.54396438588817,101.2327530625403,99.92809819731907,100.90064589176811,102.275945521485,101.59600234556254,102.93056921641322,97.00610744110682,99.57988478277278,100.31144823428946,97.32265732515954,98.97227412756932,101.45231359870681,100.22804159879715,102.30492438539542,104.22535211267608,102.53317833962994,97.90423449658662,99.85077141550533,99.48519329307898,100.95343841270605,99.4538424359594,99.57565470417072,98.8809321519602,99.17345236927304,100.8927680798005,100.21776249041103,99.68050333013838,100.19300720065326,99.11050880867315,99.51567866762213,99.93583890630012,99.20364333175723,97.76274064271266,101.7574869956063,102.31304738378621,98.41316848054097,97.9157306175428,99.4355909694555,99.19828830686738,100.75588920528087,102.05641025641026,99.57210856795626,99.70850653959242,99.17498914459401,101.92430390730675,99.13245387971726,95.24296413690855,108.19543769901341,100.07522379077756,101.92731829573935,101.52030803626879,98.44564682734872,98.67011359964204,104.13865493714545,101.56138931784197,99.51230217757077,102.52129638695781,102.2930058524417,103.33451662525147,98.86017353276421,104.08526587022723,100.34809470020056,101.32562726480438,99.89264504339882,102.39070256914732,104.75699426111909,96.90681113198481,100.01544197127794,100.98045739890418,99.97125865004091,97.28641651282281,101.52222680034792,99.75458715596329,99.69552374460349,98.50763376278022,100.39230165689759,100.9134215151235,98.96750753098627,98.18413139023826,99.55078670514851,100.2763970827333,102.34328151667513,102.04369594902141,99.25964617446007,97.15017683866873,102.04680389031348,99.04655459501377,101.79920999155195,102.89380351051571,100.0467706013363,98.1272314912537,98.53110664165781,99.72139715871151,97.67729238655348,100.17921146953404,99.80582967836257,101.45013996604104,100.5231333650384,98.42368753382644,101.68373981884966,100.9834438579871,101.50693188667871,98.93345085940942,100.76215447515776,101.7854001759015,100.85319018940389,100.28669475696101,98.5773986098781,99.66868651641309,98.39005635894974,102.45669647911242,102.12988515979704,98.6840074947647,99.23662433066335,98.81644844700969,99.83025529603476,99.6029945553539,101.43284664913395,99.02434637951579,102.26095148374942,100.89549585583187,100.11529933481154,98.40234322992943,99.21722552427946,99.56957428206337,100.16455524998872,99.88908757554495,98.9406012314379,98.25158842620101,99.0919857876036,99.18420623266438,102.05500292568752,99.52606635071089,99.89624164168782,100.43246227456754,98.46094035858034,99.36776039503438,97.99626342830456,99.79931057279123,101.699964534815,98.12799099183638,101.61191785328259,102.82334274447582,101.58806765949622,99.55183474759424,101.18125440130848,99.89624450208639,101.92494521135988,99.23269652364549,98.98559181291799,98.31328539748674,99.90498812351542,104.03379235368729,98.52204741856856,101.25134072220237,98.04435483870971,100.27853891618923,98.09564784203614,100.17142465315078,100.55762081784387,101.77168991961562,101.7355409596789,101.39179477849538,97.51548582538321,99.59162135499118,99.80329082872417,97.5060319227914,100.10315562432596,101.21772675513003,101.5762633286973,102.38354450904544,101.63212910324593,102.94824147933288,99.2581435604613,null,null,null,null,null,null,null,null,null,null,null,null,null,null,null,null,null,null,null,null,null,null,null,null,null,null,null,null,null,null,null,null,null,null,null,null,null,null,null,null,null,null,null,null,null,null,null,null,null,null,null,null,null,null,null,null,null,null,null,null,null,null,null,null,null,null,null,null,null,null,null,null,null,null,null,null,null,null,null,null,null,null,null,null,null,null,null,null,null,null,null,null,null,null,null,null,null,null,null,null,null,null,null,null,null,null,null,null,null,-1.6789068568604095,-0.21441589536503092,-1.749389747762406,1.512976058006401,-5.498454082058991,-0.019356314557710613,-5.48440008375795,-0.47843340874532525,2.267561124355488,0.8081133867297372,-4.255923329487979,-0.3652864862829378,-1.0656134729311875,-0.07098160082189137,2.4948754408967497,-2.3167857338619706,-1.3953575369882043,1.1684591892865888,-1.283038716585584,-0.9269418485868822,-1.210946495739629,-0.005816658911116162,2.0912547528517056,-0.17865288125283962,0.8046873513801469,-1.0933684012774634,0.5693759792120483,-1.9206170411806156,-1.1314592324740451,0.4989449188475022,1.5627760871699072,1.2239503524364055,0.41364460562102234,-1.1908793317530058,-1.0872467859459134,-0.1461650896222769,1.7615960484680087,0.005678699199319769,1.1327713382507867,0.7263967386269012,0.9949428320140837,1.7890636271822173,-0.5115271215942587,-0.5802673501717647,-0.16092693916961293,-1.2071678946991917,-1.0974011792967846,0.5833117291952108,1.3727289410901118,-0.3090579124216174,0.8926964472121299,0.0071558910873311425,0.15095153377539097,-1.0669881425769563,-0.09078529278256922,-0.9073316781072052,-0.2192699600154879,1.5606308776708353,0.11940946591401942,-0.08823582374444187,1.7647165074146962,-0.10112837981689311,2.370012949921061,-0.8612208971194851,0.010423905489914077,-0.5857073542663054,0.7507715781808165,-0.17361409540180334,0.23721529866781182,-0.25766112408959735,-1.1369948618247583,0.7859373355320899,0.9178538521511003,1.2711715818634497,0.3907056798623032,-0.16434416407026337,-0.9089513804805746,-1.0001038170052403,0.3500287463221702,-0.3846610068967824,0.6806993719232712,0.4631429489021499,-0.519484886184061,-0.23268453412140436,0.42969682501790096,-0.5330926184555635,0.1487332034054588,-1.5509231274071291,-0.7594402643977304,0.7224924226404494,-0.8742458090731635,0.8175067828073754,-0.8156203657933769,0.9234546813280764,-0.3694386292067465,-0.3161802582730825,1.316812782805438,-0.26453184824225234,-0.758311931699869,1.0512941012653956,0.31710661638670257,-0.23789963716026333,-0.07729037133730299,-0.17697898589322372,-0.7734257099739318,-0.584815498473267,-1.085653737254425,-0.06338028169014324,0.045632448180843305,0.9591779476748312,-0.354419875175041,0.342317733095904,0.36058930595144456,0.5333424502982965,-1.3400534659197338,0.2741804762808077,0.17105240423657225,-0.9268048532127516,0.028002870294199584,1.2552740769271098,0.8212025863559352,0.3877756709202381,0.7747338441717044,-1.0858001654874387,-0.9739594012712811,1.1226654250090522,-2.124790934225355,0.18103328227265764,0.8067627766670215,0.07473711653775092,-1.3439409501592734,0.48783936651583554,0.3884650381465716,-0.25120404698382687,-1.8556988984515466,1.225133860501395,-1.80471191320529,-2.3714917564141844,-2.1619135234590616,-0.17677049607382156,-0.18505929450863068,1.0607055914061612,-3.050531560829951,2.233988111640351,0.25775656324582774,0.5317538414957129,0.8645693886657699,-0.8418221673697294,0.6964672492344497,1.0876992114642363,-0.12033036153803499,0.24659786281850563,-0.04840271055180802,-0.050543340914829545,0.1994596456871426,-1.953969168707683,-0.6341795187588547,-0.9509647335279439,1.113004185340196,0.32724547066673315,-0.5593207987173973,-0.8024950300023669,-0.4163762427088268,-1.3005220535335587,-0.45892953752587035,0.3711061963489182,0.673839184597971,-0.759076518615893,0.3002722966168104,0.38696234558714854,-0.09454949944382479,0.22443150202174508,-0.945256968479016,0.04510854243022444,-0.020755500207557575,1.1572369787242065,-1.082050797847211,-0.028533926839028886,2.150909335330593,-1.3167299951092886,0.10259333143344991,-0.927060986821949,-1.7110740250522642,-3.161753175474371,1.5878460172706006,-0.36164597791027714,0.9468545999882458,1.7020615151456258,0.6811781718547913,-0.32888519260573384,0.9956003944473943,-0.3485764889868714,0.4424274646817638,-0.9135522838806944,-0.7942224581090191,-1.7956039323151225,-2.531201931501793,-1.1629516821265393,0.9403378772929577,-1.702491159760021,-0.4821913367640495,-0.5326954389209467,1.2568416784917875,-0.7477339891707455,1.6143911439114416,-0.8025902668759873,2.1270707310323,2.4766849341409474,0.814423725005621,-0.6181804640077341,-2.1399379399076564,-2.445573990601323,-0.0667189952904301,3.617455535037399,-0.6110094857336845,0.23549520463393964,-1.223971655393229,0.7236388697449982,0.6366400608133616,-0.032285632893354684,1.4435919295254342,0.1255081205627183,1.056403747806951,1.042704757686483,-0.7298333119395628,-0.3148614609571662,0.8964347615408884,-0.7698840558304334,-0.7725691196827407,1.1484249361460694,1.4875661920176724,2.259469836816069,0.75083224779273,1.928443649373877,0.5589832832357862,0.26301946344029464,0.05231493591419557,-1.25237655020843,0.35025030514231453,-1.638499404666707,-0.7134857844731125,0.3623254044457327,-1.1159824631327164,0.6461124053581745,-0.15812431842966276,1.2668106499210545,-0.25095902197683595,-0.22852653942975,-0.28985507246376896,1.3564578802894751,-2.052940556121922,-0.43340646692802365,-0.8431703204047175,0.0745305484357616,-0.36281427191015503,-1.1021751050996111,-0.9844818955448132,0.8553771949657026,-0.19753638582957067,0.5997280736063824,-0.04633490872022982,-0.42158983746601825,0.1396804112191306,-1.0920378473390775,0.7245139876718919,0.7361150534582243,-0.8706208152349219,1.8601190476190477,-0.6585329453025843,0.9288099973730497,1.1083926453143569,-0.18421751837746234,-1.4235254441860845,-0.1730852444829144,-0.25251149018111546,-1.921988792961829,-0.09843433686829724,0.4178040220600524,-1.3767860128946101,-1.3214366388073153,1.2805587892898789,0.292555669430737,-0.49594145290412894,-0.4815650865312376,-0.17717129071168972,0.8674148041291185,-0.9885381505248578,0.05451025356665544,0.6329825087081904,0.14484948652713564,0.847662422158183,-0.00740535036563244,-1.07782650709878,1.311936936936939,0.3289901674690028,-0.9788413941976647,-0.5216192552022121,1.1727619011877732,0.07408642181103837,-0.19711395418029334,-0.5630651626736238,-1.2150531585756699,-0.16491015239970636,1.3846909475593245,-0.707626016864148,0.13732129420617348,-0.15151515151514292,-0.047312641937925816,-0.020779417042902627,1.0790960451977436,-0.09679641108690862,-0.2594562538223424,0.15565932844118893,-0.39999999999999414,-0.6754875944105232,-1.0367419871198185,-0.6647492428715661,-1.0474886886430157,-0.5507594381872556,0.4452291394795302,0.646775745909531,0.3612868694206003,-0.809903080318571,-0.4664321761737373,0.7296357521518615,2.565305509683223,2.622722949740294,0.01606769856998051,2.606526047565122,3.687211093990747,0.5733875371640029,1.0820958166084031,0.1830864440375912,-2.569298471123748,-3.6228748068006267,1.008051529790659,-0.7632381524264085,0.4977735368956736,0.41111111111111615,-0.9138712027622006,0.938689352991973,0.1320772731612681,1.4897608500307302,-0.3596899224806279,-0.7700357683957427,-0.8991680740601738,-1.2582187686790305,-0.5308560053085745,-0.43529697263847666,0.3221324865269254,0.6196711327649285,-0.8717328901646747,0.6548888212001148,-1.3166325939035173,-4.267091812810646,2.898778359511346,-5.3422452066156065,2.9933644630130223,-0.2799499530810078,-0.38557567712778584,-1.48038372055964,-0.7586825154392806,1.444871943063789,-1.7423014586709886,0.11666666666667425,0.3542914986367057,-1.3682753291909469,1.3456206165389006,0.9713594191206102,-0.39315966117948475,1.3467368756980915,0.08025555887767966,0.8012041581084706,-1.1840638200976719,0.16393442622952037,-0.6874003189792577,0.04983522224902486,1.4854696419304567,-2.826428696190666,-2.531375954386087,-0.3867532815429858,0.8520090173716991,0.4799710702368557,3.2460474308300262,1.4984177215189916,1.033122534593955,-1.0597005729776348,-0.34302108020457234,0.5640625000000021,0.7132956439128357,1.4226852211770158,-0.3138347545199963,1.081477408120252,-0.28760295734139946,0.7441241416860874,-2.072164327450152,-1.7641213788886285,0.7870728312973431,-3.5051546391752577,1.6007412158791274,0.15691707427408375,0.7945372032855956,0.903589021815617,-0.6874100568650291,1.4133828368914112,0.4590601786161359,0.8462603878116361,0.24401277639929986,0.30895420369104454,-0.7271980279375594,0.5411374930977461,0.4013871064631435,0.03146374829001617,-1.6690209416185473,1.8669647847959774,-0.5471074606809375,1.7070287803403004,-0.044670655440349906,1.3489076125540904,-0.1940722159878576,-0.4946808510638334,0.0013366482209200023,0.24049381396466807,-0.8293158478118512,2.6676125336295793,-0.8479646247886568,-1.7584626832547916,1.8204753684769517,-0.5887179754353494,0.5911148055786484,-0.995824387159654,-0.45028890217174555,-0.30897512008202865,0.8061580770838134,-1.2749003984063776,1.0786666666666709,-1.7037853151806104,-0.9644880845534615,0.2198008389958836,-0.21951706246257932,-0.41939294198841115,-0.1534253885664702,1.2737076980290114,1.2925693565847953,-0.7210919392222537,-1.380116959064328,-0.15612382234185307,-0.5184540156741918,1.8657534246575351,-0.5367583628869876,-2.321416364754941,-0.08093663219883074,0.6083028489081173,-4.144489293288647,1.3241089908985273,0.31200797353711335,-0.21470211858381785,1.428965597362808,0.6280440912586633,0.22802653399668008,-1.6459824760220128,-0.11346921622190362,-1.9168523267056135,1.2101575697156002,1.5611116427214295,0.20520747275004175,-2.530274059910774,-5.617875412219883,-2.047564366846053,-2.884055294301498,2.229542561952532,0.8611970490242686,-0.39891680983024325,1.2014814814814836,-1.1387013589082395,-0.28572253167479844,1.4768869343494313,-1.7816901408450672,0.8460066471950846,-0.13993921831931713,-0.7983462827001244,1.5444463798409085,0.8199882858816315,-0.4953569110051075,-0.36411925976697335,2.1588357351979677,-0.020862308762166517,-0.8710413535926964,-0.5734345934908213,-1.660772386476165,0.7813067282417686,0.9692613855999516,0.6637293114161505,0.9472222222222292,0.5063221474663342,0.19396907500138694,1.3381609923317357,0.18059610292619013,-0.5742323349419015,0.7589952477936227,0.4461258915737753,-0.5792337949243047,0.44944741192059723,-0.4424598596615034,1.3858070488299528,0.05732568990800559,-0.5739072405739012,1.531275385865143,-0.635949124070072,-0.02710027100271619,1.3482474142734922,-0.682882326898055,-0.647875586381178,-0.9313342844068746,0.6897018970189744,0.34171605531529436,-0.10742563095979436,0.6658001538502324,0.8087210372669142,-2.024665046588094,-0.7031662269129342,0.4977627154544721,-1.0367616687319252,0.9844993715961394,-2.382068319042758,-0.20500784685205956,-2.4341343574393597,0.33444331837265745,0.08313862649255922,-0.6471795313329589,0.7545366334052682,0.5346137308298559,1.8242217703828876,0.12640449438201928,0.8971049877921102,-1.1224616745690557,-0.5229687892226592,-0.15450957257032422,1.03789150085316,-1.3631475299934344,0.42065172595109024,-0.290449342217661,1.1573216270915887,-0.3241192872206366,1.8716577540106978,0.6257283978023185,0.17292182550112745,1.194734879352492,0.5439090387296058,-0.051733761725184194,-0.28668941979522494,-0.9502653338269709,-1.1532466099239924,-0.44315403422983646,0.5967180507210255,0.7899068988891552,-0.008339472111423564,0.2581959777253664,0.2498325145154036,-0.011126564673162856,-0.6364437481640982,-2.3890496013546816,-0.7241295419093473,-0.35223367697593394,-0.2288787800760892,0.6337371854613175,0.007405542307873308,-0.40834575260804906,0.1575916461699245,0.16251830161054373,0.9672195719725145,1.0127130887026856,-0.15946901129211563,1.1290182324125284,-0.38964015585606626,0.8763402430307355,0.9942800649671744,0.21136945155189424,-0.9176086896437338,-0.0873084065522874,-0.8102186763672433,1.531734720704008,0.968639110002884,0.5235105041162049,-0.2336701064347099,0.11862076402555677,-0.12151160435821315,-0.08389261744966504,0.47272037709270326,-0.15126365388734145,-0.5073054574161163,1.5490940624630416,0.3096176612158341,0.7820850387132094,-0.07899303307347823,1.0907493085890116,-0.03069053708440014,0.40455767507361007,0.11866028708133333,-0.019108280254774176,0.22008957133717558,-0.16714513556618124,-0.4049724464949338,0.3331961097102761,-0.32179074627248255,0.05419354838709149,-0.14483944805824675,-0.4384381286429021,-0.12198603649200013,0.31421121251629314,0.07022106631989124,0.4435830059577969,-0.03119597571913341,0.005215055866281224,-0.06109847253819009,-0.20051487044151495,0.8571982675027469,0.044871794871797786,-0.4199899818903379,-1.3556680950525974,1.8394183782924776,-0.6265696944328123,0.37914192809467956,1.1626840042470088,-0.113023708996428,-0.8699930089847381,0.3133940182054575,0.46074599435716346,0.9243589743589791,0.0394106205265698,-1.0897616066637674,0.9684074790457757,0.47695571125537345,-0.8228398853398935,0.12365875336518267,-0.21827575072651656,0.051544399056734566,-0.36442494001102493,-0.27471116816431146,-0.5874355488289674,1.0582350747708036,-0.45635979965930873,0.30366438705726184,-0.3878548936279118,-0.39915563231625467,0.0205180815593847,0.9405343656787419,0.4083984766486259,-0.7879995020540181,0.5496855345911955,1.0200024847807225,-1.1032472939217308,-0.9016047821018405,-0.7053682896379497,-1.6057400878332426,-1.3740304474084581,0.09196694299327202,-1.2207658699563093,-0.6673183447377001,1.5133349319265732,1.0355067785668148,0.9075823334184342,0.6885145011154564,-3.616163403566871,-0.3330954080418725,-2.5833774483853866,1.542230611671149,1.2288135593220302,0.56198821259063,-1.403995488546358,0.8641376326038253,-0.56430633032629,-0.877912807888191,-0.33758145133855505,1.0842105263157906,-0.08943268570242775,-1.562195644551805,-1.256865230249273,0.7937254059280905,0.6348075121088471,-0.7348998993108684,1.3390275952693895,0.5100455675227761,1.1910256410256364,0.5388260470804058,0.27711298652223776,-0.04138449962376815,0.06396267589735757,-1.199400299850078,0.5036572093847306,-0.04267282494101509,-0.16083634901488822,-0.13882578625877415,-0.12517385257301922,0.1100318713006532,-1.0898324303893272,-0.06893646355942926,-1.3963589907377771],\"yaxis\":\"y\",\"type\":\"scatter\"}],                        {\"template\":{\"data\":{\"histogram2dcontour\":[{\"type\":\"histogram2dcontour\",\"colorbar\":{\"outlinewidth\":0,\"ticks\":\"\"},\"colorscale\":[[0.0,\"#0d0887\"],[0.1111111111111111,\"#46039f\"],[0.2222222222222222,\"#7201a8\"],[0.3333333333333333,\"#9c179e\"],[0.4444444444444444,\"#bd3786\"],[0.5555555555555556,\"#d8576b\"],[0.6666666666666666,\"#ed7953\"],[0.7777777777777778,\"#fb9f3a\"],[0.8888888888888888,\"#fdca26\"],[1.0,\"#f0f921\"]]}],\"choropleth\":[{\"type\":\"choropleth\",\"colorbar\":{\"outlinewidth\":0,\"ticks\":\"\"}}],\"histogram2d\":[{\"type\":\"histogram2d\",\"colorbar\":{\"outlinewidth\":0,\"ticks\":\"\"},\"colorscale\":[[0.0,\"#0d0887\"],[0.1111111111111111,\"#46039f\"],[0.2222222222222222,\"#7201a8\"],[0.3333333333333333,\"#9c179e\"],[0.4444444444444444,\"#bd3786\"],[0.5555555555555556,\"#d8576b\"],[0.6666666666666666,\"#ed7953\"],[0.7777777777777778,\"#fb9f3a\"],[0.8888888888888888,\"#fdca26\"],[1.0,\"#f0f921\"]]}],\"heatmap\":[{\"type\":\"heatmap\",\"colorbar\":{\"outlinewidth\":0,\"ticks\":\"\"},\"colorscale\":[[0.0,\"#0d0887\"],[0.1111111111111111,\"#46039f\"],[0.2222222222222222,\"#7201a8\"],[0.3333333333333333,\"#9c179e\"],[0.4444444444444444,\"#bd3786\"],[0.5555555555555556,\"#d8576b\"],[0.6666666666666666,\"#ed7953\"],[0.7777777777777778,\"#fb9f3a\"],[0.8888888888888888,\"#fdca26\"],[1.0,\"#f0f921\"]]}],\"heatmapgl\":[{\"type\":\"heatmapgl\",\"colorbar\":{\"outlinewidth\":0,\"ticks\":\"\"},\"colorscale\":[[0.0,\"#0d0887\"],[0.1111111111111111,\"#46039f\"],[0.2222222222222222,\"#7201a8\"],[0.3333333333333333,\"#9c179e\"],[0.4444444444444444,\"#bd3786\"],[0.5555555555555556,\"#d8576b\"],[0.6666666666666666,\"#ed7953\"],[0.7777777777777778,\"#fb9f3a\"],[0.8888888888888888,\"#fdca26\"],[1.0,\"#f0f921\"]]}],\"contourcarpet\":[{\"type\":\"contourcarpet\",\"colorbar\":{\"outlinewidth\":0,\"ticks\":\"\"}}],\"contour\":[{\"type\":\"contour\",\"colorbar\":{\"outlinewidth\":0,\"ticks\":\"\"},\"colorscale\":[[0.0,\"#0d0887\"],[0.1111111111111111,\"#46039f\"],[0.2222222222222222,\"#7201a8\"],[0.3333333333333333,\"#9c179e\"],[0.4444444444444444,\"#bd3786\"],[0.5555555555555556,\"#d8576b\"],[0.6666666666666666,\"#ed7953\"],[0.7777777777777778,\"#fb9f3a\"],[0.8888888888888888,\"#fdca26\"],[1.0,\"#f0f921\"]]}],\"surface\":[{\"type\":\"surface\",\"colorbar\":{\"outlinewidth\":0,\"ticks\":\"\"},\"colorscale\":[[0.0,\"#0d0887\"],[0.1111111111111111,\"#46039f\"],[0.2222222222222222,\"#7201a8\"],[0.3333333333333333,\"#9c179e\"],[0.4444444444444444,\"#bd3786\"],[0.5555555555555556,\"#d8576b\"],[0.6666666666666666,\"#ed7953\"],[0.7777777777777778,\"#fb9f3a\"],[0.8888888888888888,\"#fdca26\"],[1.0,\"#f0f921\"]]}],\"mesh3d\":[{\"type\":\"mesh3d\",\"colorbar\":{\"outlinewidth\":0,\"ticks\":\"\"}}],\"scatter\":[{\"fillpattern\":{\"fillmode\":\"overlay\",\"size\":10,\"solidity\":0.2},\"type\":\"scatter\"}],\"parcoords\":[{\"type\":\"parcoords\",\"line\":{\"colorbar\":{\"outlinewidth\":0,\"ticks\":\"\"}}}],\"scatterpolargl\":[{\"type\":\"scatterpolargl\",\"marker\":{\"colorbar\":{\"outlinewidth\":0,\"ticks\":\"\"}}}],\"bar\":[{\"error_x\":{\"color\":\"#2a3f5f\"},\"error_y\":{\"color\":\"#2a3f5f\"},\"marker\":{\"line\":{\"color\":\"#E5ECF6\",\"width\":0.5},\"pattern\":{\"fillmode\":\"overlay\",\"size\":10,\"solidity\":0.2}},\"type\":\"bar\"}],\"scattergeo\":[{\"type\":\"scattergeo\",\"marker\":{\"colorbar\":{\"outlinewidth\":0,\"ticks\":\"\"}}}],\"scatterpolar\":[{\"type\":\"scatterpolar\",\"marker\":{\"colorbar\":{\"outlinewidth\":0,\"ticks\":\"\"}}}],\"histogram\":[{\"marker\":{\"pattern\":{\"fillmode\":\"overlay\",\"size\":10,\"solidity\":0.2}},\"type\":\"histogram\"}],\"scattergl\":[{\"type\":\"scattergl\",\"marker\":{\"colorbar\":{\"outlinewidth\":0,\"ticks\":\"\"}}}],\"scatter3d\":[{\"type\":\"scatter3d\",\"line\":{\"colorbar\":{\"outlinewidth\":0,\"ticks\":\"\"}},\"marker\":{\"colorbar\":{\"outlinewidth\":0,\"ticks\":\"\"}}}],\"scattermapbox\":[{\"type\":\"scattermapbox\",\"marker\":{\"colorbar\":{\"outlinewidth\":0,\"ticks\":\"\"}}}],\"scatterternary\":[{\"type\":\"scatterternary\",\"marker\":{\"colorbar\":{\"outlinewidth\":0,\"ticks\":\"\"}}}],\"scattercarpet\":[{\"type\":\"scattercarpet\",\"marker\":{\"colorbar\":{\"outlinewidth\":0,\"ticks\":\"\"}}}],\"carpet\":[{\"aaxis\":{\"endlinecolor\":\"#2a3f5f\",\"gridcolor\":\"white\",\"linecolor\":\"white\",\"minorgridcolor\":\"white\",\"startlinecolor\":\"#2a3f5f\"},\"baxis\":{\"endlinecolor\":\"#2a3f5f\",\"gridcolor\":\"white\",\"linecolor\":\"white\",\"minorgridcolor\":\"white\",\"startlinecolor\":\"#2a3f5f\"},\"type\":\"carpet\"}],\"table\":[{\"cells\":{\"fill\":{\"color\":\"#EBF0F8\"},\"line\":{\"color\":\"white\"}},\"header\":{\"fill\":{\"color\":\"#C8D4E3\"},\"line\":{\"color\":\"white\"}},\"type\":\"table\"}],\"barpolar\":[{\"marker\":{\"line\":{\"color\":\"#E5ECF6\",\"width\":0.5},\"pattern\":{\"fillmode\":\"overlay\",\"size\":10,\"solidity\":0.2}},\"type\":\"barpolar\"}],\"pie\":[{\"automargin\":true,\"type\":\"pie\"}]},\"layout\":{\"autotypenumbers\":\"strict\",\"colorway\":[\"#636efa\",\"#EF553B\",\"#00cc96\",\"#ab63fa\",\"#FFA15A\",\"#19d3f3\",\"#FF6692\",\"#B6E880\",\"#FF97FF\",\"#FECB52\"],\"font\":{\"color\":\"#2a3f5f\"},\"hovermode\":\"closest\",\"hoverlabel\":{\"align\":\"left\"},\"paper_bgcolor\":\"white\",\"plot_bgcolor\":\"#E5ECF6\",\"polar\":{\"bgcolor\":\"#E5ECF6\",\"angularaxis\":{\"gridcolor\":\"white\",\"linecolor\":\"white\",\"ticks\":\"\"},\"radialaxis\":{\"gridcolor\":\"white\",\"linecolor\":\"white\",\"ticks\":\"\"}},\"ternary\":{\"bgcolor\":\"#E5ECF6\",\"aaxis\":{\"gridcolor\":\"white\",\"linecolor\":\"white\",\"ticks\":\"\"},\"baxis\":{\"gridcolor\":\"white\",\"linecolor\":\"white\",\"ticks\":\"\"},\"caxis\":{\"gridcolor\":\"white\",\"linecolor\":\"white\",\"ticks\":\"\"}},\"coloraxis\":{\"colorbar\":{\"outlinewidth\":0,\"ticks\":\"\"}},\"colorscale\":{\"sequential\":[[0.0,\"#0d0887\"],[0.1111111111111111,\"#46039f\"],[0.2222222222222222,\"#7201a8\"],[0.3333333333333333,\"#9c179e\"],[0.4444444444444444,\"#bd3786\"],[0.5555555555555556,\"#d8576b\"],[0.6666666666666666,\"#ed7953\"],[0.7777777777777778,\"#fb9f3a\"],[0.8888888888888888,\"#fdca26\"],[1.0,\"#f0f921\"]],\"sequentialminus\":[[0.0,\"#0d0887\"],[0.1111111111111111,\"#46039f\"],[0.2222222222222222,\"#7201a8\"],[0.3333333333333333,\"#9c179e\"],[0.4444444444444444,\"#bd3786\"],[0.5555555555555556,\"#d8576b\"],[0.6666666666666666,\"#ed7953\"],[0.7777777777777778,\"#fb9f3a\"],[0.8888888888888888,\"#fdca26\"],[1.0,\"#f0f921\"]],\"diverging\":[[0,\"#8e0152\"],[0.1,\"#c51b7d\"],[0.2,\"#de77ae\"],[0.3,\"#f1b6da\"],[0.4,\"#fde0ef\"],[0.5,\"#f7f7f7\"],[0.6,\"#e6f5d0\"],[0.7,\"#b8e186\"],[0.8,\"#7fbc41\"],[0.9,\"#4d9221\"],[1,\"#276419\"]]},\"xaxis\":{\"gridcolor\":\"white\",\"linecolor\":\"white\",\"ticks\":\"\",\"title\":{\"standoff\":15},\"zerolinecolor\":\"white\",\"automargin\":true,\"zerolinewidth\":2},\"yaxis\":{\"gridcolor\":\"white\",\"linecolor\":\"white\",\"ticks\":\"\",\"title\":{\"standoff\":15},\"zerolinecolor\":\"white\",\"automargin\":true,\"zerolinewidth\":2},\"scene\":{\"xaxis\":{\"backgroundcolor\":\"#E5ECF6\",\"gridcolor\":\"white\",\"linecolor\":\"white\",\"showbackground\":true,\"ticks\":\"\",\"zerolinecolor\":\"white\",\"gridwidth\":2},\"yaxis\":{\"backgroundcolor\":\"#E5ECF6\",\"gridcolor\":\"white\",\"linecolor\":\"white\",\"showbackground\":true,\"ticks\":\"\",\"zerolinecolor\":\"white\",\"gridwidth\":2},\"zaxis\":{\"backgroundcolor\":\"#E5ECF6\",\"gridcolor\":\"white\",\"linecolor\":\"white\",\"showbackground\":true,\"ticks\":\"\",\"zerolinecolor\":\"white\",\"gridwidth\":2}},\"shapedefaults\":{\"line\":{\"color\":\"#2a3f5f\"}},\"annotationdefaults\":{\"arrowcolor\":\"#2a3f5f\",\"arrowhead\":0,\"arrowwidth\":1},\"geo\":{\"bgcolor\":\"white\",\"landcolor\":\"#E5ECF6\",\"subunitcolor\":\"white\",\"showland\":true,\"showlakes\":true,\"lakecolor\":\"white\"},\"title\":{\"x\":0.05},\"mapbox\":{\"style\":\"light\"}}},\"xaxis\":{\"anchor\":\"y\",\"domain\":[0.0,1.0],\"title\":{\"text\":\"Date\"}},\"yaxis\":{\"anchor\":\"x\",\"domain\":[0.0,1.0],\"title\":{\"text\":\"Daily Return\"}},\"legend\":{\"tracegroupgap\":0},\"title\":{\"text\":\"Area Chart of Daily Return Over Time\"}},                        {\"responsive\": true}                    ).then(function(){\n",
              "                            \n",
              "var gd = document.getElementById('27a6d8d3-ca9c-406e-92d3-56e41f92825f');\n",
              "var x = new MutationObserver(function (mutations, observer) {{\n",
              "        var display = window.getComputedStyle(gd).display;\n",
              "        if (!display || display === 'none') {{\n",
              "            console.log([gd, 'removed!']);\n",
              "            Plotly.purge(gd);\n",
              "            observer.disconnect();\n",
              "        }}\n",
              "}});\n",
              "\n",
              "// Listen for the removal of the full notebook cells\n",
              "var notebookContainer = gd.closest('#notebook-container');\n",
              "if (notebookContainer) {{\n",
              "    x.observe(notebookContainer, {childList: true});\n",
              "}}\n",
              "\n",
              "// Listen for the clearing of the current output cell\n",
              "var outputEl = gd.closest('.output');\n",
              "if (outputEl) {{\n",
              "    x.observe(outputEl, {childList: true});\n",
              "}}\n",
              "\n",
              "                        })                };                            </script>        </div>\n",
              "</body>\n",
              "</html>"
            ]
          },
          "metadata": {}
        }
      ]
    },
    {
      "cell_type": "code",
      "source": [
        "fig = px.violin(train, y='Daily Change', x='Price Direction', box=True, title='Violin Plot of Daily Change by Price Direction')\n",
        "fig.show()"
      ],
      "metadata": {
        "colab": {
          "base_uri": "https://localhost:8080/",
          "height": 542
        },
        "id": "Qo7pFY_mZNTG",
        "outputId": "86aaf580-f235-4dbf-8d18-39a3176dd2c6"
      },
      "execution_count": null,
      "outputs": [
        {
          "output_type": "display_data",
          "data": {
            "text/html": [
              "<html>\n",
              "<head><meta charset=\"utf-8\" /></head>\n",
              "<body>\n",
              "    <div>            <script src=\"https://cdnjs.cloudflare.com/ajax/libs/mathjax/2.7.5/MathJax.js?config=TeX-AMS-MML_SVG\"></script><script type=\"text/javascript\">if (window.MathJax && window.MathJax.Hub && window.MathJax.Hub.Config) {window.MathJax.Hub.Config({SVG: {font: \"STIX-Web\"}});}</script>                <script type=\"text/javascript\">window.PlotlyConfig = {MathJaxConfig: 'local'};</script>\n",
              "        <script charset=\"utf-8\" src=\"https://cdn.plot.ly/plotly-2.24.1.min.js\"></script>                <div id=\"fd56850e-9f1c-4a0f-9571-71a60e82da4a\" class=\"plotly-graph-div\" style=\"height:525px; width:100%;\"></div>            <script type=\"text/javascript\">                                    window.PLOTLYENV=window.PLOTLYENV || {};                                    if (document.getElementById(\"fd56850e-9f1c-4a0f-9571-71a60e82da4a\")) {                    Plotly.newPlot(                        \"fd56850e-9f1c-4a0f-9571-71a60e82da4a\",                        [{\"alignmentgroup\":\"True\",\"box\":{\"visible\":true},\"hovertemplate\":\"Price Direction=%{x}\\u003cbr\\u003eDaily Change=%{y}\\u003cextra\\u003e\\u003c\\u002fextra\\u003e\",\"legendgroup\":\"\",\"marker\":{\"color\":\"#636efa\"},\"name\":\"\",\"offsetgroup\":\"\",\"orientation\":\"v\",\"scalegroup\":\"True\",\"showlegend\":false,\"x\":[null,2.8600000000000136,-9.240000000000009,-8.970000000000027,-27.480000000000018,0.6699999999999591,2.82000000000005,3.669999999999959,-4.639999999999986,3.580000000000041,4.319999999999936,6.6400000000001,-53.430000000000064,-0.4700000000000273,-4.579999999999927,-11.410000000000082,-1.3899999999999864,11.850000000000023,-2.2799999999999727,2.409999999999968,0.7200000000000273,4.269999999999982,11.190000000000055,12.719999999999914,-2.3099999999999454,3.0699999999999363,1.6100000000000136,-5.539999999999964,6.269999999999982,-2.42999999999995,-4.190000000000055,0.9600000000000364,-1.8799999999999955,9.340000000000032,-6.040000000000077,-1.8299999999999272,3.7799999999999727,-0.5900000000000318,9.06000000000006,-0.14000000000010004,4.1400000000001,-1.150000000000091,-6.9799999999999045,-9.270000000000095,1.8400000000000318,0.34000000000003183,-6.8700000000000045,4.8799999999999955,12.600000000000023,-1.7900000000000773,5.1299999999999955,3.900000000000091,8.909999999999968,-0.4800000000000182,6.470000000000027,6.0499999999999545,-3.449999999999932,6.719999999999914,-2.2999999999999545,8.710000000000036,-7.330000000000041,-7.149999999999977,5.669999999999959,-4.289999999999964,-7.4500000000000455,-2.8199999999999363,-1.4800000000000182,-3.9700000000000273,9.080000000000041,15.009999999999991,-26.340000000000032,-18.480000000000018,3.490000000000009,-2.1100000000000136,-8.129999999999995,-3.230000000000018,1.5300000000000864,3.659999999999968,8.42999999999995,5.730000000000018,-0.4800000000000182,-10.1099999999999,-0.41000000000008185,2.82000000000005,3.75,-14.009999999999991,10.549999999999955,5.220000000000027,-3.6299999999999955,4.5,-8.409999999999968,-1.2200000000000273,7.090000000000032,17.769999999999982,-5.8700000000000045,-22.58000000000004,13.669999999999959,-13.269999999999982,8.629999999999995,-5.779999999999973,-12.100000000000023,2.800000000000068,-6.090000000000032,-7.350000000000023,-9.850000000000023,7.590000000000032,-8.159999999999968,10.129999999999995,-2.330000000000041,2.2100000000000364,-11.919999999999959,-3.3900000000001,-4.0,-2.0299999999999727,5.440000000000055,6.329999999999927,10.650000000000091,-4.010000000000105,-12.269999999999982,6.259999999999991,-10.759999999999991,3.9700000000000273,4.610000000000014,-4.980000000000018,15.720000000000027,0.39999999999997726,7.340000000000032,8.069999999999936,-9.909999999999968,0.029999999999972715,-4.2999999999999545,-10.480000000000018,-0.7100000000000364,6.0200000000000955,-1.5900000000000318,1.7999999999999545,4.019999999999982,12.270000000000095,17.709999999999923,4.670000000000073,-7.910000000000082,0.42000000000007276,5.349999999999909,21.540000000000077,-2.6499999999999773,0.6699999999999591,-0.2899999999999636,-3.9200000000000728,12.540000000000077,1.4899999999998954,-2.269999999999982,1.6800000000000637,0.12000000000000455,-0.35000000000002274,17.960000000000036,8.629999999999995,-1.1200000000000045,5.319999999999936,4.259999999999991,-1.599999999999909,-6.010000000000105,7.650000000000091,-0.37999999999999545,1.8199999999999363,-9.379999999999995,8.009999999999991,10.730000000000018,-6.32000000000005,3.400000000000091,-4.030000000000086,-0.31999999999993634,18.629999999999995,6.730000000000018,-5.3700000000000045,-8.56000000000006,-1.2999999999999545,15.120000000000005,3.6299999999999955,0.2999999999999545,8.269999999999982,9.200000000000045,0.6200000000000045,5.850000000000023,15.350000000000023,-0.22000000000002728,4.289999999999964,3.0299999999999727,-2.0,7.260000000000105,-4.7700000000000955,5.490000000000009,5.540000000000077,-0.40000000000009095,-9.779999999999973,-13.720000000000027,0.4700000000000273,6.899999999999977,-6.709999999999923,-3.759999999999991,3.7099999999999227,10.759999999999991,-60.319999999999936,-13.180000000000064,-3.1100000000000136,1.6800000000000637,-3.0399999999999636,0.4499999999999318,-2.6000000000000227,5.1400000000001,7.269999999999982,0.32999999999992724,-4.949999999999932,-1.240000000000009,-14.56000000000006,-14.789999999999964,10.710000000000036,2.8700000000000045,-6.830000000000041,-6.490000000000009,-5.269999999999982,-0.08000000000004093,20.970000000000027,1.759999999999991,-4.090000000000032,2.090000000000032,-6.7999999999999545,9.529999999999973,12.92999999999995,8.200000000000045,6.460000000000036,-3.1100000000000136,-4.210000000000036,-3.199999999999932,3.2999999999999545,-6.899999999999977,1.1999999999999318,11.430000000000064,0.67999999999995,5.1299999999999955,-0.7400000000000091,18.769999999999982,0.2900000000000773,-0.9600000000000364,2.240000000000009,-6.710000000000036,-6.110000000000014,-0.6299999999999955,-2.5699999999999363,-6.269999999999982,7.350000000000023,15.829999999999927,0.42000000000007276,14.259999999999991,-3.2100000000000364,-1.4500000000000455,4.810000000000059,3.3500000000000227,-1.490000000000009,-16.690000000000055,1.6800000000000637,-9.720000000000027,-3.8600000000000136,-6.789999999999964,-1.6299999999999955,38.51999999999998,12.67999999999995,-0.5399999999999636,-2.9400000000000546,2.9500000000000455,0.14999999999997726,1.8500000000000227,19.860000000000014,-16.539999999999964,6.699999999999932,4.419999999999959,3.7700000000000955,11.389999999999986,-2.9400000000000546,-1.7200000000000273,2.160000000000082,4.939999999999941,5.060000000000059,13.919999999999959,-14.350000000000023,3.060000000000059,4.169999999999959,-8.919999999999959,-0.6299999999999955,9.620000000000005,1.419999999999959,4.970000000000027,15.269999999999982,17.049999999999955,-7.199999999999932,1.2200000000000273,-1.080000000000041,3.2899999999999636,-7.189999999999941,-2.2900000000000773,-3.759999999999991,-7.219999999999914,-6.490000000000009,3.519999999999982,3.3799999999999955,-3.4400000000000546,-0.9499999999999318,-0.6700000000000728,2.7800000000000864,-9.740000000000009,-8.440000000000055,6.980000000000018,11.809999999999945,-6.819999999999936,-11.100000000000023,-11.980000000000018,-8.17999999999995,2.7899999999999636,12.5,0.21000000000003638,-0.34000000000003183,-8.100000000000023,11.410000000000082,-10.780000000000086,-16.610000000000014,33.870000000000005,0.2400000000000091,7.7700000000000955,5.529999999999973,-4.340000000000032,-7.649999999999977,17.590000000000032,5.489999999999895,-4.1299999999999955,9.160000000000082,16.059999999999945,15.790000000000077,-4.310000000000059,16.360000000000014,-2.1499999999999773,8.730000000000018,-2.6900000000000546,9.539999999999964,28.710000000000036,-11.980000000000018,5.290000000000077,-0.650000000000091,-1.5499999999999545,-17.50999999999999,-6.610000000000014,-9.440000000000055,7.930000000000064,-12.930000000000064,2.4500000000000455,0.4500000000000455,-3.580000000000041,-8.5,0.6000000000000227,4.919999999999959,15.050000000000068,10.459999999999923,-10.379999999999995,-7.809999999999945,5.009999999999991,-1.9600000000000364,11.180000000000064,14.329999999999927,0.06000000000005912,-15.889999999999986,-3.800000000000068,-11.110000000000014,-3.5799999999999272,7.42999999999995,3.409999999999968,3.2900000000000773,7.490000000000009,-5.560000000000059,4.110000000000014,7.039999999999964,11.57000000000005,0.14999999999997726,0.75,14.210000000000036,2.75,1.6899999999999409,-5.069999999999936,-1.0500000000000682,-7.849999999999909,-14.040000000000077,14.06000000000006,-6.8799999999999955,-0.900000000000091,-15.159999999999968,-2.340000000000032,-3.0799999999999272,8.629999999999995,-3.159999999999968,16.41999999999996,2.3500000000000227,-1.57000000000005,-8.399999999999977,-5.909999999999968,2.009999999999991,-2.25,-4.8799999999999955,-4.25,-11.410000000000082,-10.120000000000005,-2.75,8.720000000000027,-0.2300000000000182,3.900000000000091,4.3700000000000045,-3.490000000000009,-3.810000000000059,-16.199999999999932,-1.5900000000000318,6.860000000000014,-8.509999999999991,13.43999999999994,11.220000000000027,7.909999999999968,0.01999999999998181,8.450000000000045,0.6200000000000045,7.5,-3.1299999999999955,-3.9700000000000273,-1.3099999999999454,-1.650000000000091,17.170000000000073,-4.920000000000073,4.710000000000036,-16.569999999999936,0.33999999999991815,-9.579999999999927,0.9399999999999409,-1.7799999999999727,-0.4800000000000182,11.06000000000006,0.9899999999998954,-11.86999999999989,-3.730000000000018,-6.590000000000032,-12.039999999999964,2.189999999999941,12.340000000000032,3.740000000000009,4.110000000000014,5.889999999999986,15.970000000000027,-9.210000000000036,null,null,null,null,null,null,null,null,null,null,null,null,null,null,null,null,null,null,null,null,null,null,null,null,null,null,null,null,null,null,null,null,null,null,null,null,null,null,null,null,null,null,null,null,null,null,null,null,null,null,null,null,null,null,null,null,null,null,null,null,null,null,null,null,null,null,null,null,null,null,null,null,null,null,null,null,null,null,null,null,null,null,null,null,null,null,null,null,null,null,null,null,null,null,null,null,null,null,null,null,null,null,null,null,null,null,null,null,null,null,1.5300000000000864,-3.009999999999991,10.159999999999968,-0.15999999999996817,2.7299999999999045,-26.529999999999973,-4.970000000000027,16.700000000000045,9.220000000000027,-23.129999999999995,-10.32000000000005,1.9099999999999682,3.910000000000082,20.049999999999955,-20.389999999999986,-7.460000000000036,6.180000000000064,-7.850000000000023,-1.7799999999999727,-8.950000000000045,0.9600000000000364,10.529999999999973,-1.0399999999999636,4.67999999999995,-3.419999999999959,-0.12000000000000455,-12.629999999999995,-5.170000000000016,1.0400000000000205,7.709999999999923,11.160000000000082,3.159999999999968,-6.419999999999959,-6.650000000000091,0.6400000000001,8.209999999999923,0.9100000000000819,9.139999999999986,6.110000000000014,7.6200000000000045,13.209999999999923,-4.259999999999991,-1.5900000000000318,-0.18999999999994088,-5.9500000000000455,-8.959999999999923,-0.2800000000000864,9.210000000000036,2.42999999999995,5.7700000000000955,-1.5600000000000591,-1.7100000000000364,-7.469999999999914,0.40999999999996817,-7.460000000000036,-1.2699999999999818,10.330000000000041,1.5299999999999727,1.4600000000000364,8.559999999999945,-0.32999999999992724,14.0,-2.650000000000091,1.240000000000009,-1.9599999999999227,7.3700000000000045,-0.3300000000000409,2.3899999999999864,-2.4700000000000273,-11.129999999999995,4.970000000000027,-4.960000000000036,8.050000000000068,5.67999999999995,-0.09000000000003183,-2.1200000000000045,-8.899999999999977,21.290000000000077,-5.590000000000032,5.25,1.240000000000009,-2.6200000000000045,-4.32000000000005,1.57000000000005,-4.970000000000027,1.7999999999999545,-15.779999999999973,-5.509999999999991,7.060000000000059,-8.06000000000006,1.3000000000000682,-3.0,5.389999999999986,-0.8799999999999955,-5.139999999999986,12.019999999999982,-0.12999999999999545,-1.1700000000000728,8.660000000000082,4.67999999999995,-2.3600000000000136,-1.1200000000000045,-0.8099999999999454,-2.3500000000000227,-2.330000000000041,-6.839999999999918,-1.8000000000000682,2.3899999999999864,5.720000000000027,0.6100000000000136,4.029999999999973,4.090000000000032,3.6299999999999955,-8.690000000000055,2.080000000000041,-1.740000000000009,-5.720000000000027,-2.509999999999991,6.830000000000041,4.809999999999945,4.490000000000009,6.790000000000077,-8.690000000000055,-6.220000000000027,6.840000000000032,-12.889999999999986,2.0299999999999727,-0.7400000000000091,1.0,-9.069999999999936,1.8099999999999454,5.180000000000064,2.0699999999999363,-13.569999999999936,8.729999999999905,-11.589999999999918,-16.340000000000032,-11.25,4.720000000000027,-7.889999999999986,-5.509999999999991,-13.300000000000068,9.639999999999986,5.690000000000055,6.149999999999977,11.240000000000009,-4.190000000000055,0.9900000000000091,8.110000000000014,0.43000000000006366,0.9699999999999136,8.75,-3.849999999999909,-1.1100000000000136,-8.160000000000082,-3.8700000000000045,-1.0299999999999727,6.460000000000036,2.7899999999999636,-2.9700000000000273,-1.919999999999959,-0.9800000000000182,-7.8700000000000045,-1.4699999999999136,1.9499999999999318,-2.1499999999999773,2.659999999999968,1.759999999999991,1.8100000000000591,-0.7100000000000364,1.4600000000000364,-8.009999999999991,-0.05000000000006821,-2.419999999999959,5.970000000000027,-12.019999999999982,1.7199999999999136,6.3700000000000045,-7.289999999999964,2.269999999999982,-9.649999999999977,-4.850000000000023,-18.360000000000014,9.480000000000018,6.189999999999998,5.240000000000066,8.489999999999895,5.710000000000036,-1.8199999999999363,5.25,-3.6900000000000546,0.09000000000003183,-4.009999999999991,-1.5900000000000318,-10.909999999999968,-11.870000000000061,-0.8599999999999568,1.5699999999999932,-6.490000000000009,-3.6100000000000136,3.6200000000000045,4.680000000000007,0.9200000000000159,6.269999999999982,-1.1800000000000068,11.110000000000014,16.309999999999945,5.540000000000077,-4.730000000000018,-16.529999999999973,-8.610000000000014,0.6599999999999682,23.799999999999955,-6.029999999999973,0.7599999999999909,-6.459999999999923,4.809999999999945,3.409999999999968,-3.169999999999959,9.090000000000032,-0.9700000000000273,6.940000000000055,6.069999999999936,-6.159999999999968,-3.1299999999999955,3.159999999999968,-3.909999999999968,-7.019999999999982,4.169999999999959,7.759999999999991,11.580000000000041,2.909999999999968,12.909999999999968,2.2900000000000773,-0.2700000000000955,1.9500000000000455,-7.6200000000000045,1.1599999999999682,-13.799999999999955,-3.82000000000005,4.32000000000005,-8.169999999999959,7.169999999999959,-3.659999999999968,8.639999999999986,-1.509999999999991,2.3700000000000045,-1.5500000000000682,11.350000000000023,-11.370000000000005,-3.6100000000000136,-6.809999999999945,3.67999999999995,-4.019999999999982,-5.42999999999995,-7.010000000000105,1.240000000000009,0.25,4.580000000000041,-0.8300000000000409,-0.7699999999999818,-0.8399999999999181,-8.75,2.1299999999999955,1.2699999999999818,-9.720000000000027,11.289999999999964,-1.3999999999999773,5.3799999999999955,7.610000000000014,18.00999999999999,-8.139999999999986,-1.6900000000000546,-4.599999999999909,-11.740000000000009,0.5599999999999454,2.8799999999999955,-9.980000000000018,-6.579999999999927,6.480000000000018,7.519999999999982,-2.519999999999982,-6.660000000000082,0.5800000000000409,8.779999999999973,-4.5499999999999545,-1.5500000000000682,5.060000000000059,1.9099999999999682,3.240000000000009,-2.3999999999999773,-7.789999999999964,7.469999999999914,-0.009999999999990905,-7.669999999999959,1.8799999999999955,5.189999999999941,1.1299999999999955,-3.6099999999999,-3.3700000000000045,-6.5,-0.13999999999998636,10.0,-2.080000000000041,-2.2799999999999727,-5.1299999999999955,0.9499999999999318,1.1100000000000136,7.470000000000027,-0.03999999999996362,1.5,2.2899999999999636,-2.6399999999999864,-2.6100000000000136,-3.5399999999999636,-10.170000000000073,-1.009999999999991,1.330000000000041,1.5599999999999454,-0.5399999999999636,2.159999999999968,-8.18999999999994,3.849999999999909,9.450000000000045,16.41999999999996,14.550000000000068,-0.8799999999999955,19.629999999999995,93.07999999999993,-9.909999999999968,-0.7200000000000273,-0.1999999999999318,-17.82000000000005,-20.720000000000027,3.7000000000000455,0.7400000000000091,3.92999999999995,0.6600000000000819,-6.980000000000018,5.600000000000023,-1.9600000000000364,14.529999999999973,-1.1000000000000227,-7.3799999999999955,-1.5699999999999363,27.049999999999955,-1.2200000000000273,-3.1099999999999,0.6699999999999591,3.75,-4.740000000000009,4.769999999999982,-14.069999999999936,-34.35000000000002,-22.870000000000005,-7.550000000000068,46.56000000000006,8.990000000000009,-7.230000000000018,-12.129999999999995,-20.460000000000036,16.550000000000068,-8.090000000000032,-5.5499999999999545,13.959999999999923,-1.9399999999999409,8.629999999999995,4.419999999999959,-2.5299999999999727,11.899999999999977,0.8400000000000318,6.919999999999959,-13.649999999999977,6.190000000000055,-12.75,-0.3300000000000409,3.439999999999941,-13.829999999999927,-17.08000000000004,0.08000000000004093,13.449999999999932,2.8700000000000045,15.620000000000005,14.56000000000006,3.9700000000000273,-3.080000000000041,-3.2000000000000455,4.4500000000000455,3.0599999999999454,5.6299999999999955,-1.1399999999999864,10.580000000000041,0.4600000000000364,3.8999999999999773,-15.82000000000005,-7.669999999999959,9.17999999999995,50.210000000000036,10.779999999999973,-4.289999999999964,4.460000000000036,3.9699999999999136,-6.110000000000014,10.300000000000068,1.0499999999999545,5.9500000000000455,3.1399999999999864,2.509999999999991,-8.870000000000005,3.4300000000000637,7.079999999999927,-4.169999999999959,-14.230000000000018,11.960000000000036,-3.660000000000082,14.700000000000045,-1.5900000000000318,18.190000000000055,-0.6200000000000045,-7.7000000000000455,-0.12999999999999545,2.1100000000000136,-7.659999999999968,24.43999999999994,-4.659999999999968,-9.840000000000032,14.269999999999982,-3.5599999999999454,-0.8799999999999955,-10.759999999999991,-2.1499999999999773,-10.590000000000032,8.899999999999977,-4.3700000000000045,14.690000000000055,-8.660000000000082,-10.120000000000005,8.460000000000036,2.230000000000018,0.30999999999994543,-1.9099999999999682,14.110000000000014,14.090000000000032,-5.600000000000023,-12.120000000000005,-17.039999999999964,0.7400000000000091,1.0399999999999636,-17.230000000000018,-11.919999999999959,1.5599999999999454,10.040000000000077,-25.510000000000105,14.160000000000082,-20.269999999999982,7.339999999999918,-3.339999999999918,8.139999999999986,18.659999999999968,-13.580000000000041,1.3700000000000045,-13.049999999999955,30.970000000000027,11.990000000000009,9.049999999999955,12.649999999999977,-37.69999999999993,-18.940000000000055,-24.43999999999994,-0.8300000000000409,-4.6299999999999955,6.009999999999991,-1.009999999999991,-0.7100000000000364,8.600000000000023,17.399999999999977,-11.049999999999955,3.5599999999999454,5.550000000000068,-10.610000000000014,3.7099999999999227,6.190000000000055,-0.67999999999995,-7.300000000000068,21.039999999999964,0.04000000000007731,-6.430000000000064,-1.5299999999999727,-15.730000000000018,-1.1899999999999409,11.269999999999982,7.580000000000041,14.0,3.669999999999959,-2.159999999999968,7.759999999999991,1.6899999999999409,-0.17999999999994998,4.490000000000009,-1.3400000000000318,-2.6900000000000546,-2.759999999999991,-1.7699999999999818,11.240000000000009,5.759999999999991,-5.579999999999927,4.959999999999923,-4.6200000000000045,-7.490000000000009,7.8900000000001,-5.410000000000082,-1.1299999999999955,-3.0499999999999545,6.990000000000009,8.629999999999995,1.4800000000000182,5.7999999999999545,7.610000000000014,-12.680000000000064,-1.259999999999991,6.470000000000027,-40.370000000000005,4.3799999999999955,-15.009999999999991,-2.2999999999999545,-14.82000000000005,1.990000000000009,5.2000000000000455,-5.850000000000023,3.340000000000032,5.7299999999999045,9.690000000000055,1.7799999999999727,10.279999999999973,-7.889999999999986,-1.9800000000000182,-2.4799999999999045,5.659999999999968,-10.259999999999991,0.39999999999997726,-6.309999999999945,9.419999999999959,-5.5,15.850000000000023,5.17999999999995,-1.1499999999999773,8.539999999999964,3.060000000000059,-1.57000000000005,-3.75,-8.059999999999945,-5.790000000000077,0.10000000000002274,11.629999999999995,0.3000000000000682,-9.170000000000073,-1.0499999999999545,-0.09000000000003183,0.6499999999999773,-8.559999999999945,-18.639999999999986,1.990000000000009,2.230000000000018,1.5199999999999818,4.409999999999968,-26.649999999999977,-6.960000000000036,11.779999999999973,4.07000000000005,7.990000000000009,7.110000000000014,-4.259999999999991,2.8199999999999363,-2.409999999999968,10.269999999999982,9.460000000000036,5.5499999999999545,-3.659999999999968,3.9700000000000273,-1.1000000000000227,13.92999999999995,3.1800000000000637,4.230000000000018,-2.560000000000059,4.110000000000014,-2.9700000000000273,-1.3500000000000227,3.3500000000000227,4.139999999999986,22.879999999999995,4.090000000000032,-1.8099999999999454,2.1099999999999,-1.5699999999999363,10.610000000000014,-0.4600000000000364,2.5,0.4199999999999591,0.17000000000007276,-1.6299999999999955,-0.7799999999999727,-5.300000000000068,2.769999999999982,-2.409999999999968,-2.080000000000041,-3.269999999999982,-0.06999999999993634,-2.4400000000000546,-0.2300000000000182,0.12999999999999545,2.6100000000000136,-3.0599999999999454,-2.0400000000000773,1.7300000000000182,2.6800000000000637,8.620000000000005,0.2699999999999818,-5.029999999999973,-15.660000000000082,9.360000000000014,-9.329999999999927,2.7999999999999545,9.269999999999982,-2.8799999999999955,-3.17999999999995,5.709999999999923,4.810000000000059,10.990000000000009,-0.3100000000000591,-12.68999999999994,8.799999999999955,-1.4500000000000455,-6.5499999999999545,2.2799999999999727,-4.730000000000018,3.8700000000000045,0.04000000000007731,0.38999999999998636,-1.7799999999999727,10.860000000000014,-2.8700000000000045,3.0699999999999363,-7.949999999999932,0.33999999999991815,1.4300000000000637,15.299999999999955,6.240000000000009,-4.529999999999973,2.3999999999999773,13.740000000000009,-5.440000000000055,-8.599999999999909,-3.7200000000000273,0.01999999999998181,-10.830000000000041,-0.92999999999995,-14.909999999999968,-6.57000000000005,-0.11000000000001364,20.5,7.990000000000009,-5.2000000000000455,-22.75,-8.539999999999964,-17.93999999999994,22.409999999999968,5.990000000000009,6.75,-10.690000000000055,8.660000000000082,-0.9300000000000637,-7.279999999999973,0.6899999999999409,6.560000000000059,2.6000000000000227,-12.800000000000068,-10.120000000000005,2.580000000000041,12.019999999999982,-3.409999999999968,12.080000000000041,5.2299999999999045,12.870000000000005,-0.01999999999998181,6.830000000000041,0.9700000000000273,0.7799999999999727,-7.050000000000068,3.400000000000091,2.2199999999999136,-1.8600000000000136,-3.2999999999999545,-1.3500000000000227,1.6399999999999864,-6.5,-2.259999999999991,-10.969999999999914],\"x0\":\" \",\"xaxis\":\"x\",\"y\":[338.34000000000003,335.18000000000006,327.38000000000005,319.90000000000003,298.71999999999997,307.72999999999996,313.66,313.48999999999995,311.32,312.05,319.03999999999996,318.52000000000004,290.22999999999996,292.00999999999993,287.27000000000004,280.24999999999994,281.61999999999995,294.07,288.16,288.10999999999996,287.86,292.17,300.47,311.03,302.67,304.99999999999994,304.91999999999996,301.44,306.40999999999997,303.46000000000004,298.58,304.58000000000004,301.62,311.51000000000005,301.44,302.08000000000004,305.69,305.47999999999996,312.84000000000003,308.41999999999996,310.73,309.71,303.51000000000005,300.40999999999997,301.75,301.6,295.77000000000004,304.61,312.85,307.94999999999993,312.28,314.04,321.84000000000003,317.48,322.11,326.21999999999997,318.74000000000007,326.24999999999994,322.94,329.16,321.13,314.82,325.96,319.36,315.38,315.65000000000003,316.04,309.56,318.42,329.25,300.32,294.07,304.76,302.9,295.95,293.42999999999995,300.62000000000006,301.62,307.17999999999995,309.46999999999997,306.93999999999994,297.84000000000003,302.01,306.12,305.68,293.51000000000005,309.5,309.48,305.20000000000005,306.64000000000004,299.53000000000003,303.08000000000004,307.90000000000003,319.38000000000005,305.61,287.38,313.29999999999995,293.59,308.09,298.57,290.53,295.92,293.64,286.01,284.59,292.96,282.20000000000005,291.82,283.95,292.01,275.93000000000006,279.72999999999996,279.73999999999995,277.91999999999996,283.84000000000003,289.03,294.22,287.10999999999996,274.82,286.97999999999996,276.54999999999995,282.8,284.95,280.87,292.07,289.06,297.3,301.01,289.26,293.03,286.12,282.56,286.41999999999996,289.93000000000006,286.24,287.01,291.75999999999993,299.46000000000004,305.90999999999997,314.70000000000005,299.55999999999995,303.31000000000006,305.3299999999999,324.93,313.7300000000001,318.28000000000003,313.49000000000007,315.44,320.76000000000005,322.44999999999993,319.09,322.14000000000004,319.54,322.14,335.70000000000005,338.44000000000005,331.82000000000005,338.52,339.48999999999995,337.20000000000005,332.37999999999994,342.89000000000004,339.07000000000005,340.22999999999996,337.13,344.14,348.71,338.96999999999997,342.49,338.17999999999995,340.13,355.79,355.53000000000003,345.3,342.60999999999996,345.57,358.86,354.26,355.30999999999995,363.73999999999995,368.09999999999997,365.25,367.24,383.19000000000005,371.99,377.88,375.86999999999995,376.75999999999993,381.58000000000004,373.74999999999994,383.96,386.00000000000006,381.62999999999994,376.69,363.62999999999994,372.97999999999996,374.37999999999994,368.19000000000005,369.37000000000006,373.97999999999996,382.83,316.74,328.44999999999993,337.5799999999999,343.74,333.33000000000004,337.16999999999996,336.30999999999995,339.78000000000003,347.23,339.93999999999994,340.12,338.39000000000004,329.04999999999995,316.65,335.11,333.44000000000005,326.99,321.65999999999997,321.7,323.61999999999995,339.75,334.64,330.79999999999995,332.40999999999997,327.36,340.02,349.03999999999996,347.39,352.1,343.54,342.94,341.1600000000001,346.73,336.14000000000004,342.11999999999995,351.26000000000005,347.34,344.15999999999997,351.76,367.37999999999994,362.14000000000004,359.13,360.1,358.02,351.63999999999993,354.21999999999997,352.11,348.56000000000006,356.75000000000006,362.9,360.58000000000004,372.64000000000004,366.39,364.89,371.33000000000004,369.4200000000001,368.35,354.15,364.63000000000005,353.38,351.86,348.73,349.94000000000005,372.85,382.90999999999997,377.63,374.18999999999994,379.64,376.31,379.77,395.8,374.53000000000003,384.5,389.93999999999994,388.42,394.61,392.53,389.13999999999993,392.11,397.24999999999994,398.49,408.13,389.14,395.84000000000003,399.38,388.95000000000005,391.95000000000005,401.67,399.96,406.57,418.1,423.37999999999994,410.16,414.85,413.55,418.23999999999995,411.54,410.65,407.34,404.35,404.58000000000004,404.99,405.59000000000003,404.90999999999997,402.24,402.72999999999996,404.97,398.63000000000005,391.53,402.98,410.03999999999996,398.78000000000003,392.27,389.34999999999997,384.81,389.21999999999997,398.02,393.27000000000004,393.37,388.28,399.37000000000006,388.50999999999993,372.59999999999997,414.53999999999996,399.10999999999996,406.69000000000005,408.67,400.28,396.94,416.69000000000005,414.3399999999999,408.09,418.82000000000005,426.47999999999996,436.64000000000004,424.99,444.34000000000003,435.3,441.80000000000007,437.33,447.55999999999995,467.3,443.62,453.38000000000005,455.22999999999996,452.18,437.39000000000004,443.51,434.92999999999995,438.76,429.7099999999999,435.04,436.39000000000004,430.38,424.45,427.71000000000004,431.72999999999996,443.74000000000007,448.38,437.07,428.51000000000005,441.73,434.22999999999996,445.85,455.47999999999996,449.21000000000004,436.99000000000007,436.01,433.09999999999997,426.84000000000003,436.02,436.90999999999997,442.14000000000004,443.88000000000005,436.45,445.69,447.7,454.68,448.96,453.46999999999997,462.92,462.19000000000005,461.73999999999995,455.26000000000005,457.26,450.4100000000001,452.5,458.89000000000004,447.68000000000006,448.48999999999995,440.0,441.09,439.05,447.40000000000003,440.49000000000007,455.91,454.06000000000006,451.52,443.46,442.36,444.15000000000003,444.35,441.3,437.08000000000004,429.88999999999993,426.69999999999993,425.53,436.03,430.49999999999994,433.25000000000006,436.6,430.55000000000007,430.64,419.62000000000006,422.69,430.14000000000004,418.30000000000007,432.44,440.67,442.03,437.59999999999997,445.41,442.89,451.13,443.59000000000003,441.06,438.90000000000003,441.62999999999994,459.33000000000004,444.62999999999994,453.12,437.6700000000001,442.82,433.21000000000004,438.26,438.21000000000004,440.59,446.09000000000003,445.8399999999999,431.3500000000001,434.09000000000003,431.26,420.29,426.97999999999996,435.55,438.20000000000005,442.00000000000006,443.36,454.2900000000001,441.53000000000003,null,null,null,null,null,null,null,null,null,null,null,null,null,null,null,null,null,null,null,null,null,null,null,null,null,null,null,null,null,null,null,null,null,null,null,null,null,null,null,null,null,null,null,null,null,null,null,null,null,null,null,null,null,null,null,null,null,null,null,null,null,null,null,null,null,null,null,null,null,null,null,null,null,null,null,null,null,null,null,null,null,null,null,null,null,null,null,null,null,null,null,null,null,null,null,null,null,null,null,null,null,null,null,null,null,null,null,null,null,-9.510000000000105,-1.1999999999999318,-9.889999999999986,8.430000000000064,-32.89999999999998,-0.11000000000001364,-31.430000000000064,-2.580000000000041,12.269999999999982,4.509999999999991,-23.980000000000018,-1.9400000000000546,-5.720000000000027,-0.37999999999999545,13.509999999999991,-12.67999999999995,-7.460000000000036,6.159999999999968,-6.830000000000041,-4.899999999999977,-6.310000000000059,-0.029999999999972715,10.779999999999973,-0.9399999999999409,4.230000000000018,-5.819999999999936,2.980000000000018,-10.059999999999945,-5.819999999999993,2.5300000000000296,7.959999999999923,6.389999999999986,2.189999999999941,-6.329999999999927,-5.7000000000000455,-0.7599999999999909,9.129999999999995,0.030000000000086402,6.019999999999982,3.9200000000000728,5.430000000000064,9.919999999999959,-2.8799999999999955,-3.259999999999991,-0.8999999999999773,-6.75,-6.029999999999973,3.1499999999999773,7.480000000000018,-1.7200000000000273,4.960000000000036,0.03999999999996362,0.8399999999999181,-5.92999999999995,-0.5,-4.970000000000027,-1.1900000000000546,8.480000000000018,0.6599999999999682,-0.4900000000000091,9.769999999999982,-0.5699999999999363,13.360000000000014,-4.990000000000009,0.05999999999994543,-3.3799999999999955,4.330000000000041,-1.009999999999991,1.3799999999999955,-1.5,-6.550000000000068,4.480000000000018,5.17999999999995,7.25,2.269999999999982,-0.9600000000000364,-5.330000000000041,-5.780000000000086,2.07000000000005,-2.269999999999982,4.009999999999991,2.740000000000009,-3.090000000000032,-1.3700000000000045,2.519999999999982,-3.1299999999999955,0.8699999999998909,-8.980000000000018,-4.32000000000005,4.100000000000023,-4.970000000000027,4.580000000000041,-4.6200000000000045,5.190000000000055,-2.099999999999909,-1.7799999999999727,7.4500000000000455,-1.5199999999999818,-4.3700000000000045,6.040000000000077,1.8500000000000227,-1.3899999999999864,-0.4500000000000455,-1.0299999999999727,-4.509999999999991,-3.3899999999999864,-6.25,-0.36000000000001364,0.2599999999999909,5.470000000000027,-2.0499999999999545,1.9800000000000182,2.1000000000000227,3.1200000000000045,-7.8700000000000045,1.5900000000000318,0.9900000000000091,-5.3700000000000045,0.15999999999996817,7.169999999999959,4.75,2.269999999999982,4.57000000000005,-6.430000000000064,-5.7000000000000455,6.509999999999991,-12.450000000000045,1.0399999999999636,4.600000000000023,0.42999999999995,-7.719999999999914,2.759999999999991,2.2200000000000273,-1.4500000000000455,-10.629999999999995,6.909999999999968,-10.279999999999973,-13.190000000000055,-11.75,-0.9499999999999318,-0.9799999999999045,5.490000000000009,-16.039999999999964,11.349999999999966,1.3500000000000227,2.8099999999999454,4.649999999999977,-4.57000000000005,3.730000000000018,5.889999999999986,-0.6599999999999682,1.349999999999909,-0.2700000000000955,-0.2799999999999727,1.1000000000000227,-10.850000000000023,-3.4500000000000455,-5.180000000000064,6.009999999999991,1.7899999999999636,-3.07000000000005,-4.399999999999977,-2.269999999999982,-7.050000000000068,-2.4599999999999227,1.9800000000000182,3.57000000000005,-4.100000000000023,1.6100000000000136,2.080000000000041,-0.5099999999999909,1.2100000000000364,-5.079999999999927,0.2400000000000091,-0.11000000000001364,6.1299999999999955,-5.7299999999999045,-0.15000000000009095,11.199999999999932,-7.0,0.5399999999999636,-4.840000000000032,-8.919999999999959,-16.130000000000052,7.8700000000000045,-1.8500000000000227,4.830000000000041,8.759999999999991,3.580000000000041,-1.7399999999998954,5.25,-1.8500000000000227,2.330000000000041,-4.839999999999918,-4.189999999999941,-9.370000000000005,-13.000000000000057,-5.8799999999999955,4.670000000000016,-8.569999999999993,-2.3799999999999955,-2.650000000000034,6.199999999999989,-3.769999999999982,8.050000000000011,-4.090000000000032,10.759999999999991,12.879999999999995,4.350000000000023,-3.3199999999999363,-11.309999999999945,-12.75,-0.34000000000003183,18.6099999999999,-3.240000000000009,1.240000000000009,-6.459999999999923,3.7799999999999727,3.349999999999909,-0.16999999999995907,7.6200000000000045,0.6699999999999591,5.660000000000082,5.649999999999977,-3.980000000000018,-1.6999999999999318,4.809999999999945,-4.169999999999959,-4.1299999999999955,6.07000000000005,7.9500000000000455,12.240000000000009,4.149999999999977,10.779999999999973,3.1800000000000637,1.5,0.2999999999999545,-7.17999999999995,1.9800000000000182,-9.220000000000027,-3.9500000000000455,2.0,-6.159999999999968,3.5499999999999545,-0.8700000000000045,6.980000000000018,-1.3999999999999773,-1.2799999999999727,-1.6200000000000045,7.610000000000014,-11.680000000000064,-2.409999999999968,-4.649999999999977,0.40999999999996817,-1.990000000000009,-6.029999999999973,-5.310000000000059,4.539999999999964,-1.0600000000000591,3.2200000000000273,-0.25,-2.2799999999999727,0.75,-5.839999999999918,3.82000000000005,3.8899999999999864,-4.590000000000032,9.75,-3.5299999999999727,4.949999999999932,5.980000000000018,-1.0399999999999636,-8.019999999999982,-0.9600000000000364,-1.3899999999999864,-10.529999999999973,-0.5299999999999727,2.25,-7.410000000000082,-7.019999999999982,6.710000000000036,1.57000000000005,-2.669999999999959,-2.560000000000059,-0.9399999999999409,4.6299999999999955,-5.329999999999927,0.2899999999999636,3.3799999999999955,0.7799999999999727,4.559999999999945,-0.03999999999996362,-5.7999999999999545,6.990000000000009,1.7699999999999818,-5.259999999999991,-2.7999999999999545,6.25,0.39999999999997726,-1.0599999999999454,-3.019999999999982,-6.4799999999999045,-0.8699999999998909,7.330000000000041,-3.8099999999999454,0.7300000000000182,-0.7999999999999545,-0.25,-0.11000000000001364,5.730000000000018,-0.5199999999999818,-1.3999999999999773,0.8400000000000318,-2.159999999999968,-3.6399999999999864,-5.569999999999936,-3.490000000000009,-5.509999999999991,-2.8899999999999864,2.3199999999999363,3.3600000000000136,1.8899999999999864,-4.219999999999914,-2.4400000000000546,3.840000000000032,13.669999999999959,14.340000000000032,0.09000000000003183,14.730000000000018,23.92999999999995,3.7799999999999727,7.089999999999918,1.2100000000000364,-16.99000000000001,-23.440000000000055,6.259999999999991,-4.830000000000041,3.1299999999999955,2.590000000000032,-5.769999999999982,5.8700000000000045,0.8300000000000409,9.449999999999932,-2.32000000000005,-4.930000000000064,-5.75,-8.420000000000073,-3.5200000000000955,-2.8700000000000045,2.1100000000000136,4.07000000000005,-5.769999999999982,4.2999999999999545,-8.629999999999995,-27.299999999999955,16.610000000000014,-32.85000000000002,18.269999999999982,-1.7899999999999636,-2.4400000000000546,-9.289999999999964,-4.57000000000005,8.75,-10.75,0.7000000000000455,2.169999999999959,-8.5,8.25,6.019999999999982,-2.4600000000000364,8.43999999999994,0.5099999999999909,5.110000000000014,-7.539999999999964,1.0400000000000773,-4.309999999999945,0.3100000000000591,9.159999999999968,-17.799999999999955,-15.450000000000045,-2.3099999999999454,5.139999999999986,2.919999999999959,19.709999999999923,9.470000000000027,6.600000000000023,-6.8799999999999955,-2.2000000000000455,3.6100000000000136,4.579999999999927,9.149999999999977,-2.050000000000068,7.080000000000041,-1.9099999999999682,4.920000000000073,-13.759999999999991,-11.539999999999964,5.089999999999918,-25.5,11.230000000000018,1.1100000000000136,5.6200000000000045,6.419999999999959,-4.920000000000073,10.050000000000068,3.2999999999999545,6.110000000000014,1.7799999999999727,2.259999999999991,-5.310000000000059,3.9200000000000728,2.939999999999941,0.2300000000000182,-12.169999999999959,13.360000000000014,-3.990000000000009,12.419999999999959,-0.3300000000000409,10.07000000000005,-1.4700000000000273,-3.7200000000000273,0.009999999999990905,1.7999999999999545,-6.209999999999923,19.92999999999995,-6.519999999999982,-13.470000000000027,13.709999999999923,-4.519999999999982,4.480000000000018,-7.559999999999945,-3.3899999999999864,-2.2899999999999636,5.980000000000018,-9.600000000000023,8.090000000000032,-12.990000000000009,-7.2000000000000455,1.6399999999999864,-1.6499999999999773,-3.160000000000082,-1.1499999999999773,9.590000000000032,9.909999999999968,-5.600000000000023,-10.620000000000005,-1.1599999999999682,-3.8700000000000045,13.620000000000005,-3.919999999999959,-16.980000000000018,-0.5800000000000409,4.3900000000001,-30.290000000000077,9.340000000000032,2.160000000000082,-1.509999999999991,9.840000000000032,4.410000000000082,1.6499999999999773,-11.910000000000082,-0.8100000000000591,-13.67999999999995,8.740000000000009,11.420000000000073,1.5399999999999636,-19.850000000000023,-43.26999999999998,-14.799999999999955,-20.299999999999955,14.889999999999986,5.789999999999964,-2.740000000000009,8.110000000000014,-7.860000000000014,-1.9800000000000182,10.309999999999945,-12.649999999999977,5.8799999999999955,-0.9900000000000091,-5.600000000000023,10.639999999999986,5.740000000000009,-3.509999999999991,-2.550000000000068,15.18999999999994,-0.14999999999997726,-6.259999999999991,-4.100000000000023,-11.740000000000009,5.3799999999999955,6.769999999999982,4.7000000000000455,6.82000000000005,3.6800000000000637,1.4100000000000819,9.720000000000027,1.3299999999999272,-4.259999999999991,5.590000000000032,3.2899999999999636,-4.300000000000068,3.2899999999999636,-3.259999999999991,10.17999999999995,0.42999999999995,-4.2999999999999545,11.309999999999945,-4.769999999999982,-0.20000000000004547,9.920000000000073,-5.090000000000032,-4.82000000000005,-6.919999999999959,5.090000000000032,2.560000000000059,-0.8099999999999454,5.019999999999982,6.149999999999977,-15.580000000000041,-5.330000000000041,3.759999999999991,-7.529999999999973,7.0499999999999545,-17.279999999999973,-1.4499999999999318,-17.24000000000001,2.3099999999999454,0.5800000000000409,-4.509999999999991,5.210000000000036,3.7299999999999045,12.740000000000009,0.8999999999999773,6.42999999999995,-8.120000000000005,-3.75,-1.099999999999909,7.360000000000014,-9.759999999999991,2.9600000000000364,-2.0399999999999636,8.120000000000005,-2.2899999999999636,13.230000000000018,4.509999999999991,1.25,8.649999999999977,3.980000000000018,-0.37999999999999545,-2.1000000000000227,-6.92999999999995,-8.360000000000014,-3.1900000000000546,4.319999999999936,5.710000000000036,-0.06000000000005912,1.8500000000000227,1.7899999999999636,-0.08000000000004093,-4.5499999999999545,-16.92999999999995,-5.059999999999945,-2.4599999999999227,-1.599999999999909,4.419999999999959,0.05000000000006821,-2.740000000000009,1.0699999999999363,1.1100000000000136,6.6299999999999955,7.009999999999991,-1.1099999999999,7.789999999999964,-2.7200000000000273,6.1299999999999955,7.040000000000077,1.5199999999999818,-6.639999999999986,-0.6299999999999955,-5.8799999999999955,11.069999999999936,7.07000000000005,3.8600000000000136,-1.7300000000000182,0.8799999999999955,-0.8999999999999773,-0.6200000000000045,3.490000000000009,-1.1299999999999955,-3.9200000000000728,11.789999999999964,2.3799999999999955,6.0,-0.6100000000000136,8.440000000000055,-0.2400000000000091,3.159999999999968,0.92999999999995,-0.14999999999997726,1.7200000000000273,-1.3099999999999454,-3.159999999999968,2.589999999999918,-2.509999999999991,0.4199999999999591,-1.1200000000000045,-3.3999999999999773,-0.9400000000000546,2.409999999999968,0.5399999999999636,3.409999999999968,-0.2400000000000091,0.03999999999996362,-0.4700000000000273,-1.5499999999999545,6.6299999999999955,0.35000000000002274,-3.269999999999982,-10.440000000000055,13.889999999999986,-4.789999999999964,2.8799999999999955,8.870000000000005,-0.8700000000000045,-6.719999999999914,2.409999999999968,3.560000000000059,7.210000000000036,0.30999999999994543,-8.529999999999973,7.509999999999991,3.7099999999999227,-6.430000000000064,0.9599999999999227,-1.6900000000000546,0.39999999999997726,-2.839999999999918,-2.1399999999999864,-4.579999999999927,8.230000000000018,-3.589999999999918,2.3799999999999955,-3.0299999999999727,-3.1200000000000045,0.16000000000008185,7.409999999999968,3.259999999999991,-6.329999999999927,4.3700000000000045,8.210000000000036,-9.009999999999991,-7.269999999999982,-5.649999999999977,-12.980000000000018,-10.930000000000064,0.7200000000000273,-9.5,-5.1200000000000045,11.360000000000014,8.019999999999982,7.110000000000014,5.369999999999891,-28.610000000000014,-2.519999999999982,-19.519999999999982,11.519999999999982,9.279999999999973,4.310000000000059,-10.830000000000041,6.590000000000032,-4.360000000000014,-6.740000000000009,-2.580000000000041,8.240000000000009,-0.6899999999999409,-12.030000000000086,-9.520000000000095,5.909999999999968,4.809999999999945,-5.6200000000000045,10.190000000000055,3.939999999999941,9.289999999999964,4.230000000000018,2.2000000000000455,-0.32999999999992724,0.5099999999999909,-9.600000000000023,3.980000000000018,-0.34000000000003183,-1.2800000000000864,-1.1000000000000227,-0.9900000000000091,0.8700000000000045,-8.650000000000091,-0.5400000000000773,-10.92999999999995],\"y0\":\" \",\"yaxis\":\"y\",\"type\":\"violin\"}],                        {\"template\":{\"data\":{\"histogram2dcontour\":[{\"type\":\"histogram2dcontour\",\"colorbar\":{\"outlinewidth\":0,\"ticks\":\"\"},\"colorscale\":[[0.0,\"#0d0887\"],[0.1111111111111111,\"#46039f\"],[0.2222222222222222,\"#7201a8\"],[0.3333333333333333,\"#9c179e\"],[0.4444444444444444,\"#bd3786\"],[0.5555555555555556,\"#d8576b\"],[0.6666666666666666,\"#ed7953\"],[0.7777777777777778,\"#fb9f3a\"],[0.8888888888888888,\"#fdca26\"],[1.0,\"#f0f921\"]]}],\"choropleth\":[{\"type\":\"choropleth\",\"colorbar\":{\"outlinewidth\":0,\"ticks\":\"\"}}],\"histogram2d\":[{\"type\":\"histogram2d\",\"colorbar\":{\"outlinewidth\":0,\"ticks\":\"\"},\"colorscale\":[[0.0,\"#0d0887\"],[0.1111111111111111,\"#46039f\"],[0.2222222222222222,\"#7201a8\"],[0.3333333333333333,\"#9c179e\"],[0.4444444444444444,\"#bd3786\"],[0.5555555555555556,\"#d8576b\"],[0.6666666666666666,\"#ed7953\"],[0.7777777777777778,\"#fb9f3a\"],[0.8888888888888888,\"#fdca26\"],[1.0,\"#f0f921\"]]}],\"heatmap\":[{\"type\":\"heatmap\",\"colorbar\":{\"outlinewidth\":0,\"ticks\":\"\"},\"colorscale\":[[0.0,\"#0d0887\"],[0.1111111111111111,\"#46039f\"],[0.2222222222222222,\"#7201a8\"],[0.3333333333333333,\"#9c179e\"],[0.4444444444444444,\"#bd3786\"],[0.5555555555555556,\"#d8576b\"],[0.6666666666666666,\"#ed7953\"],[0.7777777777777778,\"#fb9f3a\"],[0.8888888888888888,\"#fdca26\"],[1.0,\"#f0f921\"]]}],\"heatmapgl\":[{\"type\":\"heatmapgl\",\"colorbar\":{\"outlinewidth\":0,\"ticks\":\"\"},\"colorscale\":[[0.0,\"#0d0887\"],[0.1111111111111111,\"#46039f\"],[0.2222222222222222,\"#7201a8\"],[0.3333333333333333,\"#9c179e\"],[0.4444444444444444,\"#bd3786\"],[0.5555555555555556,\"#d8576b\"],[0.6666666666666666,\"#ed7953\"],[0.7777777777777778,\"#fb9f3a\"],[0.8888888888888888,\"#fdca26\"],[1.0,\"#f0f921\"]]}],\"contourcarpet\":[{\"type\":\"contourcarpet\",\"colorbar\":{\"outlinewidth\":0,\"ticks\":\"\"}}],\"contour\":[{\"type\":\"contour\",\"colorbar\":{\"outlinewidth\":0,\"ticks\":\"\"},\"colorscale\":[[0.0,\"#0d0887\"],[0.1111111111111111,\"#46039f\"],[0.2222222222222222,\"#7201a8\"],[0.3333333333333333,\"#9c179e\"],[0.4444444444444444,\"#bd3786\"],[0.5555555555555556,\"#d8576b\"],[0.6666666666666666,\"#ed7953\"],[0.7777777777777778,\"#fb9f3a\"],[0.8888888888888888,\"#fdca26\"],[1.0,\"#f0f921\"]]}],\"surface\":[{\"type\":\"surface\",\"colorbar\":{\"outlinewidth\":0,\"ticks\":\"\"},\"colorscale\":[[0.0,\"#0d0887\"],[0.1111111111111111,\"#46039f\"],[0.2222222222222222,\"#7201a8\"],[0.3333333333333333,\"#9c179e\"],[0.4444444444444444,\"#bd3786\"],[0.5555555555555556,\"#d8576b\"],[0.6666666666666666,\"#ed7953\"],[0.7777777777777778,\"#fb9f3a\"],[0.8888888888888888,\"#fdca26\"],[1.0,\"#f0f921\"]]}],\"mesh3d\":[{\"type\":\"mesh3d\",\"colorbar\":{\"outlinewidth\":0,\"ticks\":\"\"}}],\"scatter\":[{\"fillpattern\":{\"fillmode\":\"overlay\",\"size\":10,\"solidity\":0.2},\"type\":\"scatter\"}],\"parcoords\":[{\"type\":\"parcoords\",\"line\":{\"colorbar\":{\"outlinewidth\":0,\"ticks\":\"\"}}}],\"scatterpolargl\":[{\"type\":\"scatterpolargl\",\"marker\":{\"colorbar\":{\"outlinewidth\":0,\"ticks\":\"\"}}}],\"bar\":[{\"error_x\":{\"color\":\"#2a3f5f\"},\"error_y\":{\"color\":\"#2a3f5f\"},\"marker\":{\"line\":{\"color\":\"#E5ECF6\",\"width\":0.5},\"pattern\":{\"fillmode\":\"overlay\",\"size\":10,\"solidity\":0.2}},\"type\":\"bar\"}],\"scattergeo\":[{\"type\":\"scattergeo\",\"marker\":{\"colorbar\":{\"outlinewidth\":0,\"ticks\":\"\"}}}],\"scatterpolar\":[{\"type\":\"scatterpolar\",\"marker\":{\"colorbar\":{\"outlinewidth\":0,\"ticks\":\"\"}}}],\"histogram\":[{\"marker\":{\"pattern\":{\"fillmode\":\"overlay\",\"size\":10,\"solidity\":0.2}},\"type\":\"histogram\"}],\"scattergl\":[{\"type\":\"scattergl\",\"marker\":{\"colorbar\":{\"outlinewidth\":0,\"ticks\":\"\"}}}],\"scatter3d\":[{\"type\":\"scatter3d\",\"line\":{\"colorbar\":{\"outlinewidth\":0,\"ticks\":\"\"}},\"marker\":{\"colorbar\":{\"outlinewidth\":0,\"ticks\":\"\"}}}],\"scattermapbox\":[{\"type\":\"scattermapbox\",\"marker\":{\"colorbar\":{\"outlinewidth\":0,\"ticks\":\"\"}}}],\"scatterternary\":[{\"type\":\"scatterternary\",\"marker\":{\"colorbar\":{\"outlinewidth\":0,\"ticks\":\"\"}}}],\"scattercarpet\":[{\"type\":\"scattercarpet\",\"marker\":{\"colorbar\":{\"outlinewidth\":0,\"ticks\":\"\"}}}],\"carpet\":[{\"aaxis\":{\"endlinecolor\":\"#2a3f5f\",\"gridcolor\":\"white\",\"linecolor\":\"white\",\"minorgridcolor\":\"white\",\"startlinecolor\":\"#2a3f5f\"},\"baxis\":{\"endlinecolor\":\"#2a3f5f\",\"gridcolor\":\"white\",\"linecolor\":\"white\",\"minorgridcolor\":\"white\",\"startlinecolor\":\"#2a3f5f\"},\"type\":\"carpet\"}],\"table\":[{\"cells\":{\"fill\":{\"color\":\"#EBF0F8\"},\"line\":{\"color\":\"white\"}},\"header\":{\"fill\":{\"color\":\"#C8D4E3\"},\"line\":{\"color\":\"white\"}},\"type\":\"table\"}],\"barpolar\":[{\"marker\":{\"line\":{\"color\":\"#E5ECF6\",\"width\":0.5},\"pattern\":{\"fillmode\":\"overlay\",\"size\":10,\"solidity\":0.2}},\"type\":\"barpolar\"}],\"pie\":[{\"automargin\":true,\"type\":\"pie\"}]},\"layout\":{\"autotypenumbers\":\"strict\",\"colorway\":[\"#636efa\",\"#EF553B\",\"#00cc96\",\"#ab63fa\",\"#FFA15A\",\"#19d3f3\",\"#FF6692\",\"#B6E880\",\"#FF97FF\",\"#FECB52\"],\"font\":{\"color\":\"#2a3f5f\"},\"hovermode\":\"closest\",\"hoverlabel\":{\"align\":\"left\"},\"paper_bgcolor\":\"white\",\"plot_bgcolor\":\"#E5ECF6\",\"polar\":{\"bgcolor\":\"#E5ECF6\",\"angularaxis\":{\"gridcolor\":\"white\",\"linecolor\":\"white\",\"ticks\":\"\"},\"radialaxis\":{\"gridcolor\":\"white\",\"linecolor\":\"white\",\"ticks\":\"\"}},\"ternary\":{\"bgcolor\":\"#E5ECF6\",\"aaxis\":{\"gridcolor\":\"white\",\"linecolor\":\"white\",\"ticks\":\"\"},\"baxis\":{\"gridcolor\":\"white\",\"linecolor\":\"white\",\"ticks\":\"\"},\"caxis\":{\"gridcolor\":\"white\",\"linecolor\":\"white\",\"ticks\":\"\"}},\"coloraxis\":{\"colorbar\":{\"outlinewidth\":0,\"ticks\":\"\"}},\"colorscale\":{\"sequential\":[[0.0,\"#0d0887\"],[0.1111111111111111,\"#46039f\"],[0.2222222222222222,\"#7201a8\"],[0.3333333333333333,\"#9c179e\"],[0.4444444444444444,\"#bd3786\"],[0.5555555555555556,\"#d8576b\"],[0.6666666666666666,\"#ed7953\"],[0.7777777777777778,\"#fb9f3a\"],[0.8888888888888888,\"#fdca26\"],[1.0,\"#f0f921\"]],\"sequentialminus\":[[0.0,\"#0d0887\"],[0.1111111111111111,\"#46039f\"],[0.2222222222222222,\"#7201a8\"],[0.3333333333333333,\"#9c179e\"],[0.4444444444444444,\"#bd3786\"],[0.5555555555555556,\"#d8576b\"],[0.6666666666666666,\"#ed7953\"],[0.7777777777777778,\"#fb9f3a\"],[0.8888888888888888,\"#fdca26\"],[1.0,\"#f0f921\"]],\"diverging\":[[0,\"#8e0152\"],[0.1,\"#c51b7d\"],[0.2,\"#de77ae\"],[0.3,\"#f1b6da\"],[0.4,\"#fde0ef\"],[0.5,\"#f7f7f7\"],[0.6,\"#e6f5d0\"],[0.7,\"#b8e186\"],[0.8,\"#7fbc41\"],[0.9,\"#4d9221\"],[1,\"#276419\"]]},\"xaxis\":{\"gridcolor\":\"white\",\"linecolor\":\"white\",\"ticks\":\"\",\"title\":{\"standoff\":15},\"zerolinecolor\":\"white\",\"automargin\":true,\"zerolinewidth\":2},\"yaxis\":{\"gridcolor\":\"white\",\"linecolor\":\"white\",\"ticks\":\"\",\"title\":{\"standoff\":15},\"zerolinecolor\":\"white\",\"automargin\":true,\"zerolinewidth\":2},\"scene\":{\"xaxis\":{\"backgroundcolor\":\"#E5ECF6\",\"gridcolor\":\"white\",\"linecolor\":\"white\",\"showbackground\":true,\"ticks\":\"\",\"zerolinecolor\":\"white\",\"gridwidth\":2},\"yaxis\":{\"backgroundcolor\":\"#E5ECF6\",\"gridcolor\":\"white\",\"linecolor\":\"white\",\"showbackground\":true,\"ticks\":\"\",\"zerolinecolor\":\"white\",\"gridwidth\":2},\"zaxis\":{\"backgroundcolor\":\"#E5ECF6\",\"gridcolor\":\"white\",\"linecolor\":\"white\",\"showbackground\":true,\"ticks\":\"\",\"zerolinecolor\":\"white\",\"gridwidth\":2}},\"shapedefaults\":{\"line\":{\"color\":\"#2a3f5f\"}},\"annotationdefaults\":{\"arrowcolor\":\"#2a3f5f\",\"arrowhead\":0,\"arrowwidth\":1},\"geo\":{\"bgcolor\":\"white\",\"landcolor\":\"#E5ECF6\",\"subunitcolor\":\"white\",\"showland\":true,\"showlakes\":true,\"lakecolor\":\"white\"},\"title\":{\"x\":0.05},\"mapbox\":{\"style\":\"light\"}}},\"xaxis\":{\"anchor\":\"y\",\"domain\":[0.0,1.0],\"title\":{\"text\":\"Price Direction\"}},\"yaxis\":{\"anchor\":\"x\",\"domain\":[0.0,1.0],\"title\":{\"text\":\"Daily Change\"}},\"legend\":{\"tracegroupgap\":0},\"title\":{\"text\":\"Violin Plot of Daily Change by Price Direction\"},\"violinmode\":\"group\"},                        {\"responsive\": true}                    ).then(function(){\n",
              "                            \n",
              "var gd = document.getElementById('fd56850e-9f1c-4a0f-9571-71a60e82da4a');\n",
              "var x = new MutationObserver(function (mutations, observer) {{\n",
              "        var display = window.getComputedStyle(gd).display;\n",
              "        if (!display || display === 'none') {{\n",
              "            console.log([gd, 'removed!']);\n",
              "            Plotly.purge(gd);\n",
              "            observer.disconnect();\n",
              "        }}\n",
              "}});\n",
              "\n",
              "// Listen for the removal of the full notebook cells\n",
              "var notebookContainer = gd.closest('#notebook-container');\n",
              "if (notebookContainer) {{\n",
              "    x.observe(notebookContainer, {childList: true});\n",
              "}}\n",
              "\n",
              "// Listen for the clearing of the current output cell\n",
              "var outputEl = gd.closest('.output');\n",
              "if (outputEl) {{\n",
              "    x.observe(outputEl, {childList: true});\n",
              "}}\n",
              "\n",
              "                        })                };                            </script>        </div>\n",
              "</body>\n",
              "</html>"
            ]
          },
          "metadata": {}
        }
      ]
    },
    {
      "cell_type": "code",
      "execution_count": null,
      "metadata": {
        "collapsed": true,
        "id": "VER39vtJILo1"
      },
      "outputs": [],
      "source": [
        "training_set=train.iloc[:,1:2].values"
      ]
    },
    {
      "cell_type": "code",
      "execution_count": null,
      "metadata": {
        "id": "Mzy5ERtsILo1",
        "outputId": "7a38ff5e-58ff-4d61-f8e9-d6e4f630f2e8",
        "colab": {
          "base_uri": "https://localhost:8080/"
        }
      },
      "outputs": [
        {
          "output_type": "execute_result",
          "data": {
            "text/plain": [
              "array([[325.25],\n",
              "       [331.27],\n",
              "       [329.83],\n",
              "       ...,\n",
              "       [793.7 ],\n",
              "       [783.33],\n",
              "       [782.75]])"
            ]
          },
          "metadata": {},
          "execution_count": 12
        }
      ],
      "source": [
        "training_set"
      ]
    },
    {
      "cell_type": "code",
      "execution_count": null,
      "metadata": {
        "collapsed": true,
        "id": "zICSIrMnILo2"
      },
      "outputs": [],
      "source": [
        "sc = MinMaxScaler(feature_range = (0, 1))\n",
        "training_set_scaled = sc.fit_transform(training_set)"
      ]
    },
    {
      "cell_type": "code",
      "execution_count": null,
      "metadata": {
        "id": "XwUNG5RXILo3",
        "outputId": "e61497ee-00a9-45ea-9e83-53b68f72db3b",
        "colab": {
          "base_uri": "https://localhost:8080/"
        }
      },
      "outputs": [
        {
          "output_type": "execute_result",
          "data": {
            "text/plain": [
              "(1258, 1)"
            ]
          },
          "metadata": {},
          "execution_count": 14
        }
      ],
      "source": [
        "training_set_scaled.shape"
      ]
    },
    {
      "cell_type": "markdown",
      "source": [
        "### Training & evaluating model:"
      ],
      "metadata": {
        "id": "zFhgddsBWaGC"
      }
    },
    {
      "cell_type": "code",
      "execution_count": null,
      "metadata": {
        "collapsed": true,
        "id": "0n3Z7VwyILo3"
      },
      "outputs": [],
      "source": [
        "X_train=[]\n",
        "y_train=[]\n",
        "for i in range(60,1258):\n",
        "    X_train.append(training_set_scaled[i-60:i,0])\n",
        "    y_train.append(training_set_scaled[i,0])\n",
        "X_train, y_train = np.array(X_train), np.array(y_train)"
      ]
    },
    {
      "cell_type": "code",
      "execution_count": null,
      "metadata": {
        "collapsed": true,
        "id": "wJgBQBjtILo4"
      },
      "outputs": [],
      "source": [
        "# reshaping it to (batche_size(#size of inputs),timesteps,input_dimension)\n",
        "X_train = np.reshape(X_train, (X_train.shape[0], X_train.shape[1], 1))"
      ]
    },
    {
      "cell_type": "markdown",
      "source": [
        "#### Choosing best hyper-parameters for the model to train on:"
      ],
      "metadata": {
        "id": "AMgzHB1TvuYv"
      }
    },
    {
      "cell_type": "code",
      "source": [
        "# defining search space for hyperparameters\n",
        "space = {\n",
        "    'epochs': hp.choice('epochs', range(10, 101)),\n",
        "    'batch_size': hp.choice('batch_size', [16, 32, 64, 128]),\n",
        "    'dropout': hp.uniform('dropout', 0, 0.5),\n",
        "    'units': hp.choice('units', range(50, 251)),\n",
        "}\n",
        "\n",
        "# function to optimize (objective function)\n",
        "def objective(params):\n",
        "    # converting integer values\n",
        "    params['epochs'] = int(params['epochs'])\n",
        "    params['batch_size'] = int(params['batch_size'])\n",
        "    params['units'] = int(params['units'])\n",
        "\n",
        "    # spliting data into training and validation sets\n",
        "    X_train_split, X_val_split, y_train_split, y_val_split = train_test_split(\n",
        "        X_train, y_train, test_size=0.2, random_state=42\n",
        "    )\n",
        "\n",
        "    # building the LSTM model\n",
        "    model = Sequential()\n",
        "    model.add(LSTM(params['units'], input_shape=(X_train.shape[1], X_train.shape[2])))\n",
        "    model.add(Dropout(params['dropout']))\n",
        "    model.add(Dense(1))\n",
        "    model.compile(optimizer=Adam(), loss='mean_squared_error')\n",
        "\n",
        "    # training the model\n",
        "    model.fit(X_train_split, y_train_split, epochs=params['epochs'], batch_size=params['batch_size'], verbose=0)\n",
        "\n",
        "    # predictioning on the validation set\n",
        "    y_val_pred = model.predict(X_val_split)\n",
        "\n",
        "    # calculating mean squared error as the objective to minimize\n",
        "    mse = mean_squared_error(y_val_split, y_val_pred)\n",
        "\n",
        "    return mse\n",
        "\n",
        "# performing Bayesian optimization\n",
        "best = fmin(fn=objective, space=space, algo=tpe.suggest, max_evals=50, verbose=1)\n",
        "\n",
        "# best hyperparameters:\n",
        "best_epochs = best['epochs']\n",
        "best_batch_size = [16, 32, 64, 128][best['batch_size']]\n",
        "best_dropout = best['dropout']\n",
        "best_units = best['units']\n",
        "\n",
        "print(\"Best Hyperparameters:\")\n",
        "print(\"Epochs:\", best_epochs)\n",
        "print(\"Batch Size:\", best_batch_size)\n",
        "print(\"Dropout:\", best_dropout)\n",
        "print(\"Units:\", best_units)"
      ],
      "metadata": {
        "colab": {
          "base_uri": "https://localhost:8080/"
        },
        "id": "yW8PG8xl8k-t",
        "outputId": "2c7f590f-06bf-4bfe-8d90-98032e42eacb"
      },
      "execution_count": null,
      "outputs": [
        {
          "metadata": {
            "tags": null
          },
          "name": "stdout",
          "output_type": "stream",
          "text": [
            "\u001b[1m1/8\u001b[0m \u001b[32m━━\u001b[0m\u001b[37m━━━━━━━━━━━━━━━━━━\u001b[0m \u001b[1m1s\u001b[0m 205ms/step\n",
            "\u001b[1m2/8\u001b[0m \u001b[32m━━━━━\u001b[0m\u001b[37m━━━━━━━━━━━━━━━\u001b[0m \u001b[1m0s\u001b[0m 51ms/step \n",
            "\u001b[1m3/8\u001b[0m \u001b[32m━━━━━━━\u001b[0m\u001b[37m━━━━━━━━━━━━━\u001b[0m \u001b[1m0s\u001b[0m 52ms/step\n",
            "\u001b[1m4/8\u001b[0m \u001b[32m━━━━━━━━━━\u001b[0m\u001b[37m━━━━━━━━━━\u001b[0m \u001b[1m0s\u001b[0m 52ms/step\n",
            "\u001b[1m5/8\u001b[0m \u001b[32m━━━━━━━━━━━━\u001b[0m\u001b[37m━━━━━━━━\u001b[0m \u001b[1m0s\u001b[0m 53ms/step\n",
            "\u001b[1m6/8\u001b[0m \u001b[32m━━━━━━━━━━━━━━━\u001b[0m\u001b[37m━━━━━\u001b[0m \u001b[1m0s\u001b[0m 53ms/step\n",
            "\u001b[1m7/8\u001b[0m \u001b[32m━━━━━━━━━━━━━━━━━\u001b[0m\u001b[37m━━━\u001b[0m \u001b[1m0s\u001b[0m 52ms/step\n",
            "\u001b[1m8/8\u001b[0m \u001b[32m━━━━━━━━━━━━━━━━━━━━\u001b[0m\u001b[37m\u001b[0m \u001b[1m0s\u001b[0m 73ms/step\n",
            "\u001b[1m8/8\u001b[0m \u001b[32m━━━━━━━━━━━━━━━━━━━━\u001b[0m\u001b[37m\u001b[0m \u001b[1m1s\u001b[0m 74ms/step\n",
            "\n",
            "  2%|▏         | 1/50 [05:01<4:06:19, 301.62s/trial, best loss: 0.000572081440457637]"
          ]
        },
        {
          "metadata": {
            "tags": null
          },
          "name": "stderr",
          "output_type": "stream",
          "text": [
            "/usr/local/lib/python3.10/dist-packages/keras/src/layers/rnn/rnn.py:205: UserWarning:\n",
            "\n",
            "Do not pass an `input_shape`/`input_dim` argument to a layer. When using Sequential models, prefer using an `Input(shape)` object as the first layer in the model instead.\n",
            "\n",
            "\n",
            "WARNING:tensorflow:5 out of the last 17 calls to <function TensorFlowTrainer.make_predict_function.<locals>.one_step_on_data_distributed at 0x7ba1e18884c0> triggered tf.function retracing. Tracing is expensive and the excessive number of tracings could be due to (1) creating @tf.function repeatedly in a loop, (2) passing tensors with different shapes, (3) passing Python objects instead of tensors. For (1), please define your @tf.function outside of the loop. For (2), @tf.function has reduce_retracing=True option that can avoid unnecessary retracing. For (3), please refer to https://www.tensorflow.org/guide/function#controlling_retracing and https://www.tensorflow.org/api_docs/python/tf/function for  more details.\n"
          ]
        },
        {
          "metadata": {
            "tags": null
          },
          "name": "stdout",
          "output_type": "stream",
          "text": [
            "\u001b[1m1/8\u001b[0m \u001b[32m━━\u001b[0m\u001b[37m━━━━━━━━━━━━━━━━━━\u001b[0m \u001b[1m1s\u001b[0m 218ms/step\n",
            "\u001b[1m2/8\u001b[0m \u001b[32m━━━━━\u001b[0m\u001b[37m━━━━━━━━━━━━━━━\u001b[0m \u001b[1m0s\u001b[0m 59ms/step \n",
            "\u001b[1m3/8\u001b[0m \u001b[32m━━━━━━━\u001b[0m\u001b[37m━━━━━━━━━━━━━\u001b[0m \u001b[1m0s\u001b[0m 55ms/step\n",
            "\u001b[1m4/8\u001b[0m \u001b[32m━━━━━━━━━━\u001b[0m\u001b[37m━━━━━━━━━━\u001b[0m \u001b[1m0s\u001b[0m 53ms/step\n",
            "\u001b[1m5/8\u001b[0m \u001b[32m━━━━━━━━━━━━\u001b[0m\u001b[37m━━━━━━━━\u001b[0m \u001b[1m0s\u001b[0m 52ms/step\n",
            "\u001b[1m7/8\u001b[0m \u001b[32m━━━━━━━━━━━━━━━━━\u001b[0m\u001b[37m━━━\u001b[0m \u001b[1m0s\u001b[0m 49ms/step\n",
            "\u001b[1m8/8\u001b[0m \u001b[32m━━━━━━━━━━━━━━━━━━━━\u001b[0m\u001b[37m\u001b[0m \u001b[1m0s\u001b[0m 70ms/step\n",
            "\u001b[1m8/8\u001b[0m \u001b[32m━━━━━━━━━━━━━━━━━━━━\u001b[0m\u001b[37m\u001b[0m \u001b[1m1s\u001b[0m 71ms/step\n",
            "\n",
            "  4%|▍         | 2/50 [10:35<4:16:17, 320.37s/trial, best loss: 0.00046534976350774785]"
          ]
        },
        {
          "metadata": {
            "tags": null
          },
          "name": "stderr",
          "output_type": "stream",
          "text": [
            "/usr/local/lib/python3.10/dist-packages/keras/src/layers/rnn/rnn.py:205: UserWarning:\n",
            "\n",
            "Do not pass an `input_shape`/`input_dim` argument to a layer. When using Sequential models, prefer using an `Input(shape)` object as the first layer in the model instead.\n",
            "\n",
            "\n",
            "WARNING:tensorflow:5 out of the last 17 calls to <function TensorFlowTrainer.make_predict_function.<locals>.one_step_on_data_distributed at 0x7ba1cf4444c0> triggered tf.function retracing. Tracing is expensive and the excessive number of tracings could be due to (1) creating @tf.function repeatedly in a loop, (2) passing tensors with different shapes, (3) passing Python objects instead of tensors. For (1), please define your @tf.function outside of the loop. For (2), @tf.function has reduce_retracing=True option that can avoid unnecessary retracing. For (3), please refer to https://www.tensorflow.org/guide/function#controlling_retracing and https://www.tensorflow.org/api_docs/python/tf/function for  more details.\n"
          ]
        },
        {
          "metadata": {
            "tags": null
          },
          "name": "stdout",
          "output_type": "stream",
          "text": [
            "\u001b[1m1/8\u001b[0m \u001b[32m━━\u001b[0m\u001b[37m━━━━━━━━━━━━━━━━━━\u001b[0m \u001b[1m1s\u001b[0m 190ms/step\n",
            "\u001b[1m4/8\u001b[0m \u001b[32m━━━━━━━━━━\u001b[0m\u001b[37m━━━━━━━━━━\u001b[0m \u001b[1m0s\u001b[0m 18ms/step \n",
            "\u001b[1m8/8\u001b[0m \u001b[32m━━━━━━━━━━━━━━━━━━━━\u001b[0m\u001b[37m\u001b[0m \u001b[1m0s\u001b[0m 46ms/step\n",
            "\u001b[1m8/8\u001b[0m \u001b[32m━━━━━━━━━━━━━━━━━━━━\u001b[0m\u001b[37m\u001b[0m \u001b[1m1s\u001b[0m 48ms/step\n",
            "\n",
            "  6%|▌         | 3/50 [11:24<2:33:54, 196.47s/trial, best loss: 0.00046534976350774785]"
          ]
        },
        {
          "metadata": {
            "tags": null
          },
          "name": "stderr",
          "output_type": "stream",
          "text": [
            "/usr/local/lib/python3.10/dist-packages/keras/src/layers/rnn/rnn.py:205: UserWarning:\n",
            "\n",
            "Do not pass an `input_shape`/`input_dim` argument to a layer. When using Sequential models, prefer using an `Input(shape)` object as the first layer in the model instead.\n",
            "\n",
            "\n"
          ]
        },
        {
          "metadata": {
            "tags": null
          },
          "name": "stdout",
          "output_type": "stream",
          "text": [
            "\u001b[1m1/8\u001b[0m \u001b[32m━━\u001b[0m\u001b[37m━━━━━━━━━━━━━━━━━━\u001b[0m \u001b[1m1s\u001b[0m 211ms/step\n",
            "\u001b[1m2/8\u001b[0m \u001b[32m━━━━━\u001b[0m\u001b[37m━━━━━━━━━━━━━━━\u001b[0m \u001b[1m0s\u001b[0m 62ms/step \n",
            "\u001b[1m3/8\u001b[0m \u001b[32m━━━━━━━\u001b[0m\u001b[37m━━━━━━━━━━━━━\u001b[0m \u001b[1m0s\u001b[0m 57ms/step\n",
            "\u001b[1m5/8\u001b[0m \u001b[32m━━━━━━━━━━━━\u001b[0m\u001b[37m━━━━━━━━\u001b[0m \u001b[1m0s\u001b[0m 49ms/step\n",
            "\u001b[1m7/8\u001b[0m \u001b[32m━━━━━━━━━━━━━━━━━\u001b[0m\u001b[37m━━━\u001b[0m \u001b[1m0s\u001b[0m 46ms/step\n",
            "\u001b[1m8/8\u001b[0m \u001b[32m━━━━━━━━━━━━━━━━━━━━\u001b[0m\u001b[37m\u001b[0m \u001b[1m0s\u001b[0m 69ms/step\n",
            "\u001b[1m8/8\u001b[0m \u001b[32m━━━━━━━━━━━━━━━━━━━━\u001b[0m\u001b[37m\u001b[0m \u001b[1m1s\u001b[0m 71ms/step\n",
            "\n",
            "  8%|▊         | 4/50 [16:00<2:54:47, 227.99s/trial, best loss: 0.0004277236720441356] "
          ]
        },
        {
          "metadata": {
            "tags": null
          },
          "name": "stderr",
          "output_type": "stream",
          "text": [
            "/usr/local/lib/python3.10/dist-packages/keras/src/layers/rnn/rnn.py:205: UserWarning:\n",
            "\n",
            "Do not pass an `input_shape`/`input_dim` argument to a layer. When using Sequential models, prefer using an `Input(shape)` object as the first layer in the model instead.\n",
            "\n",
            "\n"
          ]
        },
        {
          "metadata": {
            "tags": null
          },
          "name": "stdout",
          "output_type": "stream",
          "text": [
            "\u001b[1m1/8\u001b[0m \u001b[32m━━\u001b[0m\u001b[37m━━━━━━━━━━━━━━━━━━\u001b[0m \u001b[1m1s\u001b[0m 280ms/step\n",
            "\u001b[1m3/8\u001b[0m \u001b[32m━━━━━━━\u001b[0m\u001b[37m━━━━━━━━━━━━━\u001b[0m \u001b[1m0s\u001b[0m 30ms/step \n",
            "\u001b[1m5/8\u001b[0m \u001b[32m━━━━━━━━━━━━\u001b[0m\u001b[37m━━━━━━━━\u001b[0m \u001b[1m0s\u001b[0m 28ms/step\n",
            "\u001b[1m8/8\u001b[0m \u001b[32m━━━━━━━━━━━━━━━━━━━━\u001b[0m\u001b[37m\u001b[0m \u001b[1m0s\u001b[0m 53ms/step\n",
            "\u001b[1m8/8\u001b[0m \u001b[32m━━━━━━━━━━━━━━━━━━━━\u001b[0m\u001b[37m\u001b[0m \u001b[1m1s\u001b[0m 54ms/step\n",
            "\n",
            " 10%|█         | 5/50 [17:10<2:08:19, 171.11s/trial, best loss: 0.0004277236720441356]"
          ]
        },
        {
          "metadata": {
            "tags": null
          },
          "name": "stderr",
          "output_type": "stream",
          "text": [
            "/usr/local/lib/python3.10/dist-packages/keras/src/layers/rnn/rnn.py:205: UserWarning:\n",
            "\n",
            "Do not pass an `input_shape`/`input_dim` argument to a layer. When using Sequential models, prefer using an `Input(shape)` object as the first layer in the model instead.\n",
            "\n",
            "\n"
          ]
        },
        {
          "metadata": {
            "tags": null
          },
          "name": "stdout",
          "output_type": "stream",
          "text": [
            "\u001b[1m1/8\u001b[0m \u001b[32m━━\u001b[0m\u001b[37m━━━━━━━━━━━━━━━━━━\u001b[0m \u001b[1m1s\u001b[0m 214ms/step\n",
            "\u001b[1m2/8\u001b[0m \u001b[32m━━━━━\u001b[0m\u001b[37m━━━━━━━━━━━━━━━\u001b[0m \u001b[1m0s\u001b[0m 51ms/step \n",
            "\u001b[1m4/8\u001b[0m \u001b[32m━━━━━━━━━━\u001b[0m\u001b[37m━━━━━━━━━━\u001b[0m \u001b[1m0s\u001b[0m 44ms/step\n",
            "\u001b[1m5/8\u001b[0m \u001b[32m━━━━━━━━━━━━\u001b[0m\u001b[37m━━━━━━━━\u001b[0m \u001b[1m0s\u001b[0m 48ms/step\n",
            "\u001b[1m6/8\u001b[0m \u001b[32m━━━━━━━━━━━━━━━\u001b[0m\u001b[37m━━━━━\u001b[0m \u001b[1m0s\u001b[0m 53ms/step\n",
            "\u001b[1m7/8\u001b[0m \u001b[32m━━━━━━━━━━━━━━━━━\u001b[0m\u001b[37m━━━\u001b[0m \u001b[1m0s\u001b[0m 56ms/step\n",
            "\u001b[1m8/8\u001b[0m \u001b[32m━━━━━━━━━━━━━━━━━━━━\u001b[0m\u001b[37m\u001b[0m \u001b[1m0s\u001b[0m 242ms/step\n",
            "\u001b[1m8/8\u001b[0m \u001b[32m━━━━━━━━━━━━━━━━━━━━\u001b[0m\u001b[37m\u001b[0m \u001b[1m2s\u001b[0m 245ms/step\n",
            "\n",
            " 12%|█▏        | 6/50 [18:47<1:47:02, 145.96s/trial, best loss: 0.0004277236720441356]"
          ]
        },
        {
          "metadata": {
            "tags": null
          },
          "name": "stderr",
          "output_type": "stream",
          "text": [
            "/usr/local/lib/python3.10/dist-packages/keras/src/layers/rnn/rnn.py:205: UserWarning:\n",
            "\n",
            "Do not pass an `input_shape`/`input_dim` argument to a layer. When using Sequential models, prefer using an `Input(shape)` object as the first layer in the model instead.\n",
            "\n",
            "\n"
          ]
        },
        {
          "metadata": {
            "tags": null
          },
          "name": "stdout",
          "output_type": "stream",
          "text": [
            "\u001b[1m1/8\u001b[0m \u001b[32m━━\u001b[0m\u001b[37m━━━━━━━━━━━━━━━━━━\u001b[0m \u001b[1m1s\u001b[0m 187ms/step\n",
            "\u001b[1m3/8\u001b[0m \u001b[32m━━━━━━━\u001b[0m\u001b[37m━━━━━━━━━━━━━\u001b[0m \u001b[1m0s\u001b[0m 30ms/step \n",
            "\u001b[1m5/8\u001b[0m \u001b[32m━━━━━━━━━━━━\u001b[0m\u001b[37m━━━━━━━━\u001b[0m \u001b[1m0s\u001b[0m 28ms/step\n",
            "\u001b[1m7/8\u001b[0m \u001b[32m━━━━━━━━━━━━━━━━━\u001b[0m\u001b[37m━━━\u001b[0m \u001b[1m0s\u001b[0m 28ms/step\n",
            "\u001b[1m8/8\u001b[0m \u001b[32m━━━━━━━━━━━━━━━━━━━━\u001b[0m\u001b[37m\u001b[0m \u001b[1m0s\u001b[0m 53ms/step\n",
            "\u001b[1m8/8\u001b[0m \u001b[32m━━━━━━━━━━━━━━━━━━━━\u001b[0m\u001b[37m\u001b[0m \u001b[1m1s\u001b[0m 55ms/step\n",
            "\n",
            " 14%|█▍        | 7/50 [19:51<1:25:24, 119.17s/trial, best loss: 0.0004277236720441356]"
          ]
        },
        {
          "metadata": {
            "tags": null
          },
          "name": "stderr",
          "output_type": "stream",
          "text": [
            "/usr/local/lib/python3.10/dist-packages/keras/src/layers/rnn/rnn.py:205: UserWarning:\n",
            "\n",
            "Do not pass an `input_shape`/`input_dim` argument to a layer. When using Sequential models, prefer using an `Input(shape)` object as the first layer in the model instead.\n",
            "\n",
            "\n"
          ]
        },
        {
          "metadata": {
            "tags": null
          },
          "name": "stdout",
          "output_type": "stream",
          "text": [
            "\u001b[1m1/8\u001b[0m \u001b[32m━━\u001b[0m\u001b[37m━━━━━━━━━━━━━━━━━━\u001b[0m \u001b[1m1s\u001b[0m 190ms/step\n",
            "\u001b[1m3/8\u001b[0m \u001b[32m━━━━━━━\u001b[0m\u001b[37m━━━━━━━━━━━━━\u001b[0m \u001b[1m0s\u001b[0m 32ms/step \n",
            "\u001b[1m5/8\u001b[0m \u001b[32m━━━━━━━━━━━━\u001b[0m\u001b[37m━━━━━━━━\u001b[0m \u001b[1m0s\u001b[0m 32ms/step\n",
            "\u001b[1m7/8\u001b[0m \u001b[32m━━━━━━━━━━━━━━━━━\u001b[0m\u001b[37m━━━\u001b[0m \u001b[1m0s\u001b[0m 31ms/step\n",
            "\u001b[1m8/8\u001b[0m \u001b[32m━━━━━━━━━━━━━━━━━━━━\u001b[0m\u001b[37m\u001b[0m \u001b[1m0s\u001b[0m 56ms/step\n",
            "\u001b[1m8/8\u001b[0m \u001b[32m━━━━━━━━━━━━━━━━━━━━\u001b[0m\u001b[37m\u001b[0m \u001b[1m1s\u001b[0m 57ms/step\n",
            "\n",
            " 16%|█▌        | 8/50 [23:21<1:43:38, 148.05s/trial, best loss: 0.0004147849443499845]"
          ]
        },
        {
          "metadata": {
            "tags": null
          },
          "name": "stderr",
          "output_type": "stream",
          "text": [
            "/usr/local/lib/python3.10/dist-packages/keras/src/layers/rnn/rnn.py:205: UserWarning:\n",
            "\n",
            "Do not pass an `input_shape`/`input_dim` argument to a layer. When using Sequential models, prefer using an `Input(shape)` object as the first layer in the model instead.\n",
            "\n",
            "\n"
          ]
        },
        {
          "metadata": {
            "tags": null
          },
          "name": "stdout",
          "output_type": "stream",
          "text": [
            "\u001b[1m1/8\u001b[0m \u001b[32m━━\u001b[0m\u001b[37m━━━━━━━━━━━━━━━━━━\u001b[0m \u001b[1m1s\u001b[0m 202ms/step\n",
            "\u001b[1m2/8\u001b[0m \u001b[32m━━━━━\u001b[0m\u001b[37m━━━━━━━━━━━━━━━\u001b[0m \u001b[1m0s\u001b[0m 54ms/step \n",
            "\u001b[1m3/8\u001b[0m \u001b[32m━━━━━━━\u001b[0m\u001b[37m━━━━━━━━━━━━━\u001b[0m \u001b[1m0s\u001b[0m 54ms/step\n",
            "\u001b[1m4/8\u001b[0m \u001b[32m━━━━━━━━━━\u001b[0m\u001b[37m━━━━━━━━━━\u001b[0m \u001b[1m0s\u001b[0m 55ms/step\n",
            "\u001b[1m5/8\u001b[0m \u001b[32m━━━━━━━━━━━━\u001b[0m\u001b[37m━━━━━━━━\u001b[0m \u001b[1m0s\u001b[0m 58ms/step\n",
            "\u001b[1m6/8\u001b[0m \u001b[32m━━━━━━━━━━━━━━━\u001b[0m\u001b[37m━━━━━\u001b[0m \u001b[1m0s\u001b[0m 58ms/step\n",
            "\u001b[1m7/8\u001b[0m \u001b[32m━━━━━━━━━━━━━━━━━\u001b[0m\u001b[37m━━━\u001b[0m \u001b[1m0s\u001b[0m 57ms/step\n",
            "\u001b[1m8/8\u001b[0m \u001b[32m━━━━━━━━━━━━━━━━━━━━\u001b[0m\u001b[37m\u001b[0m \u001b[1m0s\u001b[0m 77ms/step\n",
            "\u001b[1m8/8\u001b[0m \u001b[32m━━━━━━━━━━━━━━━━━━━━\u001b[0m\u001b[37m\u001b[0m \u001b[1m1s\u001b[0m 78ms/step\n",
            "\n",
            " 18%|█▊        | 9/50 [35:22<3:43:30, 327.08s/trial, best loss: 0.00028032487826815035]"
          ]
        },
        {
          "metadata": {
            "tags": null
          },
          "name": "stderr",
          "output_type": "stream",
          "text": [
            "/usr/local/lib/python3.10/dist-packages/keras/src/layers/rnn/rnn.py:205: UserWarning:\n",
            "\n",
            "Do not pass an `input_shape`/`input_dim` argument to a layer. When using Sequential models, prefer using an `Input(shape)` object as the first layer in the model instead.\n",
            "\n",
            "\n"
          ]
        },
        {
          "metadata": {
            "tags": null
          },
          "name": "stdout",
          "output_type": "stream",
          "text": [
            "\u001b[1m1/8\u001b[0m \u001b[32m━━\u001b[0m\u001b[37m━━━━━━━━━━━━━━━━━━\u001b[0m \u001b[1m1s\u001b[0m 172ms/step\n",
            "\u001b[1m5/8\u001b[0m \u001b[32m━━━━━━━━━━━━\u001b[0m\u001b[37m━━━━━━━━\u001b[0m \u001b[1m0s\u001b[0m 14ms/step \n",
            "\u001b[1m8/8\u001b[0m \u001b[32m━━━━━━━━━━━━━━━━━━━━\u001b[0m\u001b[37m\u001b[0m \u001b[1m0s\u001b[0m 35ms/step\n",
            "\u001b[1m8/8\u001b[0m \u001b[32m━━━━━━━━━━━━━━━━━━━━\u001b[0m\u001b[37m\u001b[0m \u001b[1m0s\u001b[0m 37ms/step\n",
            "\n",
            " 20%|██        | 10/50 [37:20<2:54:56, 262.42s/trial, best loss: 0.00028032487826815035]"
          ]
        },
        {
          "metadata": {
            "tags": null
          },
          "name": "stderr",
          "output_type": "stream",
          "text": [
            "/usr/local/lib/python3.10/dist-packages/keras/src/layers/rnn/rnn.py:205: UserWarning:\n",
            "\n",
            "Do not pass an `input_shape`/`input_dim` argument to a layer. When using Sequential models, prefer using an `Input(shape)` object as the first layer in the model instead.\n",
            "\n",
            "\n"
          ]
        },
        {
          "metadata": {
            "tags": null
          },
          "name": "stdout",
          "output_type": "stream",
          "text": [
            "\u001b[1m1/8\u001b[0m \u001b[32m━━\u001b[0m\u001b[37m━━━━━━━━━━━━━━━━━━\u001b[0m \u001b[1m1s\u001b[0m 204ms/step\n",
            "\u001b[1m3/8\u001b[0m \u001b[32m━━━━━━━\u001b[0m\u001b[37m━━━━━━━━━━━━━\u001b[0m \u001b[1m0s\u001b[0m 38ms/step \n",
            "\u001b[1m5/8\u001b[0m \u001b[32m━━━━━━━━━━━━\u001b[0m\u001b[37m━━━━━━━━\u001b[0m \u001b[1m0s\u001b[0m 38ms/step\n",
            "\u001b[1m7/8\u001b[0m \u001b[32m━━━━━━━━━━━━━━━━━\u001b[0m\u001b[37m━━━\u001b[0m \u001b[1m0s\u001b[0m 38ms/step\n",
            "\u001b[1m8/8\u001b[0m \u001b[32m━━━━━━━━━━━━━━━━━━━━\u001b[0m\u001b[37m\u001b[0m \u001b[1m0s\u001b[0m 60ms/step\n",
            "\u001b[1m8/8\u001b[0m \u001b[32m━━━━━━━━━━━━━━━━━━━━\u001b[0m\u001b[37m\u001b[0m \u001b[1m1s\u001b[0m 62ms/step\n",
            "\n",
            " 22%|██▏       | 11/50 [39:05<2:19:16, 214.26s/trial, best loss: 0.00028032487826815035]"
          ]
        },
        {
          "metadata": {
            "tags": null
          },
          "name": "stderr",
          "output_type": "stream",
          "text": [
            "/usr/local/lib/python3.10/dist-packages/keras/src/layers/rnn/rnn.py:205: UserWarning:\n",
            "\n",
            "Do not pass an `input_shape`/`input_dim` argument to a layer. When using Sequential models, prefer using an `Input(shape)` object as the first layer in the model instead.\n",
            "\n",
            "\n"
          ]
        },
        {
          "metadata": {
            "tags": null
          },
          "name": "stdout",
          "output_type": "stream",
          "text": [
            "\u001b[1m1/8\u001b[0m \u001b[32m━━\u001b[0m\u001b[37m━━━━━━━━━━━━━━━━━━\u001b[0m \u001b[1m1s\u001b[0m 210ms/step\n",
            "\u001b[1m2/8\u001b[0m \u001b[32m━━━━━\u001b[0m\u001b[37m━━━━━━━━━━━━━━━\u001b[0m \u001b[1m0s\u001b[0m 57ms/step \n",
            "\u001b[1m4/8\u001b[0m \u001b[32m━━━━━━━━━━\u001b[0m\u001b[37m━━━━━━━━━━\u001b[0m \u001b[1m0s\u001b[0m 44ms/step\n",
            "\u001b[1m5/8\u001b[0m \u001b[32m━━━━━━━━━━━━\u001b[0m\u001b[37m━━━━━━━━\u001b[0m \u001b[1m0s\u001b[0m 48ms/step\n",
            "\u001b[1m7/8\u001b[0m \u001b[32m━━━━━━━━━━━━━━━━━\u001b[0m\u001b[37m━━━\u001b[0m \u001b[1m0s\u001b[0m 44ms/step\n",
            "\u001b[1m8/8\u001b[0m \u001b[32m━━━━━━━━━━━━━━━━━━━━\u001b[0m\u001b[37m\u001b[0m \u001b[1m0s\u001b[0m 64ms/step\n",
            "\u001b[1m8/8\u001b[0m \u001b[32m━━━━━━━━━━━━━━━━━━━━\u001b[0m\u001b[37m\u001b[0m \u001b[1m1s\u001b[0m 65ms/step\n",
            "\n",
            " 24%|██▍       | 12/50 [42:35<2:14:56, 213.06s/trial, best loss: 0.00028032487826815035]"
          ]
        },
        {
          "metadata": {
            "tags": null
          },
          "name": "stderr",
          "output_type": "stream",
          "text": [
            "/usr/local/lib/python3.10/dist-packages/keras/src/layers/rnn/rnn.py:205: UserWarning:\n",
            "\n",
            "Do not pass an `input_shape`/`input_dim` argument to a layer. When using Sequential models, prefer using an `Input(shape)` object as the first layer in the model instead.\n",
            "\n",
            "\n"
          ]
        },
        {
          "metadata": {
            "tags": null
          },
          "name": "stdout",
          "output_type": "stream",
          "text": [
            "\u001b[1m1/8\u001b[0m \u001b[32m━━\u001b[0m\u001b[37m━━━━━━━━━━━━━━━━━━\u001b[0m \u001b[1m1s\u001b[0m 188ms/step\n",
            "\u001b[1m3/8\u001b[0m \u001b[32m━━━━━━━\u001b[0m\u001b[37m━━━━━━━━━━━━━\u001b[0m \u001b[1m0s\u001b[0m 35ms/step \n",
            "\u001b[1m5/8\u001b[0m \u001b[32m━━━━━━━━━━━━\u001b[0m\u001b[37m━━━━━━━━\u001b[0m \u001b[1m0s\u001b[0m 36ms/step\n",
            "\u001b[1m7/8\u001b[0m \u001b[32m━━━━━━━━━━━━━━━━━\u001b[0m\u001b[37m━━━\u001b[0m \u001b[1m0s\u001b[0m 35ms/step\n",
            "\u001b[1m8/8\u001b[0m \u001b[32m━━━━━━━━━━━━━━━━━━━━\u001b[0m\u001b[37m\u001b[0m \u001b[1m0s\u001b[0m 58ms/step\n",
            "\u001b[1m8/8\u001b[0m \u001b[32m━━━━━━━━━━━━━━━━━━━━\u001b[0m\u001b[37m\u001b[0m \u001b[1m1s\u001b[0m 59ms/step\n",
            "\n",
            " 26%|██▌       | 13/50 [44:00<1:47:25, 174.20s/trial, best loss: 0.00028032487826815035]"
          ]
        },
        {
          "metadata": {
            "tags": null
          },
          "name": "stderr",
          "output_type": "stream",
          "text": [
            "/usr/local/lib/python3.10/dist-packages/keras/src/layers/rnn/rnn.py:205: UserWarning:\n",
            "\n",
            "Do not pass an `input_shape`/`input_dim` argument to a layer. When using Sequential models, prefer using an `Input(shape)` object as the first layer in the model instead.\n",
            "\n",
            "\n"
          ]
        },
        {
          "metadata": {
            "tags": null
          },
          "name": "stdout",
          "output_type": "stream",
          "text": [
            "\u001b[1m1/8\u001b[0m \u001b[32m━━\u001b[0m\u001b[37m━━━━━━━━━━━━━━━━━━\u001b[0m \u001b[1m1s\u001b[0m 189ms/step\n",
            "\u001b[1m4/8\u001b[0m \u001b[32m━━━━━━━━━━\u001b[0m\u001b[37m━━━━━━━━━━\u001b[0m \u001b[1m0s\u001b[0m 21ms/step \n",
            "\u001b[1m8/8\u001b[0m \u001b[32m━━━━━━━━━━━━━━━━━━━━\u001b[0m\u001b[37m\u001b[0m \u001b[1m0s\u001b[0m 40ms/step\n",
            "\u001b[1m8/8\u001b[0m \u001b[32m━━━━━━━━━━━━━━━━━━━━\u001b[0m\u001b[37m\u001b[0m \u001b[1m0s\u001b[0m 41ms/step\n",
            "\n",
            " 28%|██▊       | 14/50 [44:43<1:20:51, 134.77s/trial, best loss: 0.00028032487826815035]"
          ]
        },
        {
          "metadata": {
            "tags": null
          },
          "name": "stderr",
          "output_type": "stream",
          "text": [
            "/usr/local/lib/python3.10/dist-packages/keras/src/layers/rnn/rnn.py:205: UserWarning:\n",
            "\n",
            "Do not pass an `input_shape`/`input_dim` argument to a layer. When using Sequential models, prefer using an `Input(shape)` object as the first layer in the model instead.\n",
            "\n",
            "\n"
          ]
        },
        {
          "metadata": {
            "tags": null
          },
          "name": "stdout",
          "output_type": "stream",
          "text": [
            "\u001b[1m1/8\u001b[0m \u001b[32m━━\u001b[0m\u001b[37m━━━━━━━━━━━━━━━━━━\u001b[0m \u001b[1m1s\u001b[0m 190ms/step\n",
            "\u001b[1m3/8\u001b[0m \u001b[32m━━━━━━━\u001b[0m\u001b[37m━━━━━━━━━━━━━\u001b[0m \u001b[1m0s\u001b[0m 31ms/step \n",
            "\u001b[1m5/8\u001b[0m \u001b[32m━━━━━━━━━━━━\u001b[0m\u001b[37m━━━━━━━━\u001b[0m \u001b[1m0s\u001b[0m 30ms/step\n",
            "\u001b[1m7/8\u001b[0m \u001b[32m━━━━━━━━━━━━━━━━━\u001b[0m\u001b[37m━━━\u001b[0m \u001b[1m0s\u001b[0m 30ms/step\n",
            "\u001b[1m8/8\u001b[0m \u001b[32m━━━━━━━━━━━━━━━━━━━━\u001b[0m\u001b[37m\u001b[0m \u001b[1m0s\u001b[0m 53ms/step\n",
            "\u001b[1m8/8\u001b[0m \u001b[32m━━━━━━━━━━━━━━━━━━━━\u001b[0m\u001b[37m\u001b[0m \u001b[1m1s\u001b[0m 55ms/step\n",
            "\n",
            " 30%|███       | 15/50 [45:47<1:06:06, 113.34s/trial, best loss: 0.00028032487826815035]"
          ]
        },
        {
          "metadata": {
            "tags": null
          },
          "name": "stderr",
          "output_type": "stream",
          "text": [
            "/usr/local/lib/python3.10/dist-packages/keras/src/layers/rnn/rnn.py:205: UserWarning:\n",
            "\n",
            "Do not pass an `input_shape`/`input_dim` argument to a layer. When using Sequential models, prefer using an `Input(shape)` object as the first layer in the model instead.\n",
            "\n",
            "\n"
          ]
        },
        {
          "metadata": {
            "tags": null
          },
          "name": "stdout",
          "output_type": "stream",
          "text": [
            "\u001b[1m1/8\u001b[0m \u001b[32m━━\u001b[0m\u001b[37m━━━━━━━━━━━━━━━━━━\u001b[0m \u001b[1m1s\u001b[0m 179ms/step\n",
            "\u001b[1m3/8\u001b[0m \u001b[32m━━━━━━━\u001b[0m\u001b[37m━━━━━━━━━━━━━\u001b[0m \u001b[1m0s\u001b[0m 32ms/step \n",
            "\u001b[1m5/8\u001b[0m \u001b[32m━━━━━━━━━━━━\u001b[0m\u001b[37m━━━━━━━━\u001b[0m \u001b[1m0s\u001b[0m 33ms/step\n",
            "\u001b[1m7/8\u001b[0m \u001b[32m━━━━━━━━━━━━━━━━━\u001b[0m\u001b[37m━━━\u001b[0m \u001b[1m0s\u001b[0m 34ms/step\n",
            "\u001b[1m8/8\u001b[0m \u001b[32m━━━━━━━━━━━━━━━━━━━━\u001b[0m\u001b[37m\u001b[0m \u001b[1m0s\u001b[0m 57ms/step\n",
            "\u001b[1m8/8\u001b[0m \u001b[32m━━━━━━━━━━━━━━━━━━━━\u001b[0m\u001b[37m\u001b[0m \u001b[1m1s\u001b[0m 59ms/step\n",
            "\n",
            " 32%|███▏      | 16/50 [46:27<51:41, 91.21s/trial, best loss: 0.00028032487826815035]   "
          ]
        },
        {
          "metadata": {
            "tags": null
          },
          "name": "stderr",
          "output_type": "stream",
          "text": [
            "/usr/local/lib/python3.10/dist-packages/keras/src/layers/rnn/rnn.py:205: UserWarning:\n",
            "\n",
            "Do not pass an `input_shape`/`input_dim` argument to a layer. When using Sequential models, prefer using an `Input(shape)` object as the first layer in the model instead.\n",
            "\n",
            "\n"
          ]
        },
        {
          "metadata": {
            "tags": null
          },
          "name": "stdout",
          "output_type": "stream",
          "text": [
            "\u001b[1m1/8\u001b[0m \u001b[32m━━\u001b[0m\u001b[37m━━━━━━━━━━━━━━━━━━\u001b[0m \u001b[1m1s\u001b[0m 188ms/step\n",
            "\u001b[1m3/8\u001b[0m \u001b[32m━━━━━━━\u001b[0m\u001b[37m━━━━━━━━━━━━━\u001b[0m \u001b[1m0s\u001b[0m 34ms/step \n",
            "\u001b[1m5/8\u001b[0m \u001b[32m━━━━━━━━━━━━\u001b[0m\u001b[37m━━━━━━━━\u001b[0m \u001b[1m0s\u001b[0m 33ms/step\n",
            "\u001b[1m7/8\u001b[0m \u001b[32m━━━━━━━━━━━━━━━━━\u001b[0m\u001b[37m━━━\u001b[0m \u001b[1m0s\u001b[0m 34ms/step\n",
            "\u001b[1m8/8\u001b[0m \u001b[32m━━━━━━━━━━━━━━━━━━━━\u001b[0m\u001b[37m\u001b[0m \u001b[1m0s\u001b[0m 55ms/step\n",
            "\u001b[1m8/8\u001b[0m \u001b[32m━━━━━━━━━━━━━━━━━━━━\u001b[0m\u001b[37m\u001b[0m \u001b[1m1s\u001b[0m 56ms/step\n",
            "\n",
            " 34%|███▍      | 17/50 [49:50<1:08:41, 124.90s/trial, best loss: 0.00028032487826815035]"
          ]
        },
        {
          "metadata": {
            "tags": null
          },
          "name": "stderr",
          "output_type": "stream",
          "text": [
            "/usr/local/lib/python3.10/dist-packages/keras/src/layers/rnn/rnn.py:205: UserWarning:\n",
            "\n",
            "Do not pass an `input_shape`/`input_dim` argument to a layer. When using Sequential models, prefer using an `Input(shape)` object as the first layer in the model instead.\n",
            "\n",
            "\n"
          ]
        },
        {
          "metadata": {
            "tags": null
          },
          "name": "stdout",
          "output_type": "stream",
          "text": [
            "\u001b[1m1/8\u001b[0m \u001b[32m━━\u001b[0m\u001b[37m━━━━━━━━━━━━━━━━━━\u001b[0m \u001b[1m1s\u001b[0m 189ms/step\n",
            "\u001b[1m3/8\u001b[0m \u001b[32m━━━━━━━\u001b[0m\u001b[37m━━━━━━━━━━━━━\u001b[0m \u001b[1m0s\u001b[0m 33ms/step \n",
            "\u001b[1m5/8\u001b[0m \u001b[32m━━━━━━━━━━━━\u001b[0m\u001b[37m━━━━━━━━\u001b[0m \u001b[1m0s\u001b[0m 32ms/step\n",
            "\u001b[1m7/8\u001b[0m \u001b[32m━━━━━━━━━━━━━━━━━\u001b[0m\u001b[37m━━━\u001b[0m \u001b[1m0s\u001b[0m 32ms/step\n",
            "\u001b[1m8/8\u001b[0m \u001b[32m━━━━━━━━━━━━━━━━━━━━\u001b[0m\u001b[37m\u001b[0m \u001b[1m0s\u001b[0m 52ms/step\n",
            "\u001b[1m8/8\u001b[0m \u001b[32m━━━━━━━━━━━━━━━━━━━━\u001b[0m\u001b[37m\u001b[0m \u001b[1m1s\u001b[0m 54ms/step\n",
            "\n",
            " 36%|███▌      | 18/50 [53:55<1:25:47, 160.87s/trial, best loss: 0.00028032487826815035]"
          ]
        },
        {
          "metadata": {
            "tags": null
          },
          "name": "stderr",
          "output_type": "stream",
          "text": [
            "/usr/local/lib/python3.10/dist-packages/keras/src/layers/rnn/rnn.py:205: UserWarning:\n",
            "\n",
            "Do not pass an `input_shape`/`input_dim` argument to a layer. When using Sequential models, prefer using an `Input(shape)` object as the first layer in the model instead.\n",
            "\n",
            "\n"
          ]
        },
        {
          "metadata": {
            "tags": null
          },
          "name": "stdout",
          "output_type": "stream",
          "text": [
            "\u001b[1m1/8\u001b[0m \u001b[32m━━\u001b[0m\u001b[37m━━━━━━━━━━━━━━━━━━\u001b[0m \u001b[1m1s\u001b[0m 219ms/step\n",
            "\u001b[1m2/8\u001b[0m \u001b[32m━━━━━\u001b[0m\u001b[37m━━━━━━━━━━━━━━━\u001b[0m \u001b[1m0s\u001b[0m 83ms/step \n",
            "\u001b[1m3/8\u001b[0m \u001b[32m━━━━━━━\u001b[0m\u001b[37m━━━━━━━━━━━━━\u001b[0m \u001b[1m0s\u001b[0m 73ms/step\n",
            "\u001b[1m4/8\u001b[0m \u001b[32m━━━━━━━━━━\u001b[0m\u001b[37m━━━━━━━━━━\u001b[0m \u001b[1m0s\u001b[0m 74ms/step\n",
            "\u001b[1m5/8\u001b[0m \u001b[32m━━━━━━━━━━━━\u001b[0m\u001b[37m━━━━━━━━\u001b[0m \u001b[1m0s\u001b[0m 72ms/step\n",
            "\u001b[1m6/8\u001b[0m \u001b[32m━━━━━━━━━━━━━━━\u001b[0m\u001b[37m━━━━━\u001b[0m \u001b[1m0s\u001b[0m 72ms/step\n",
            "\u001b[1m7/8\u001b[0m \u001b[32m━━━━━━━━━━━━━━━━━\u001b[0m\u001b[37m━━━\u001b[0m \u001b[1m0s\u001b[0m 71ms/step\n",
            "\u001b[1m8/8\u001b[0m \u001b[32m━━━━━━━━━━━━━━━━━━━━\u001b[0m\u001b[37m\u001b[0m \u001b[1m0s\u001b[0m 100ms/step\n",
            "\u001b[1m8/8\u001b[0m \u001b[32m━━━━━━━━━━━━━━━━━━━━\u001b[0m\u001b[37m\u001b[0m \u001b[1m1s\u001b[0m 101ms/step\n",
            "\n",
            " 38%|███▊      | 19/50 [55:06<1:09:16, 134.08s/trial, best loss: 0.00028032487826815035]"
          ]
        },
        {
          "metadata": {
            "tags": null
          },
          "name": "stderr",
          "output_type": "stream",
          "text": [
            "/usr/local/lib/python3.10/dist-packages/keras/src/layers/rnn/rnn.py:205: UserWarning:\n",
            "\n",
            "Do not pass an `input_shape`/`input_dim` argument to a layer. When using Sequential models, prefer using an `Input(shape)` object as the first layer in the model instead.\n",
            "\n",
            "\n"
          ]
        },
        {
          "metadata": {
            "tags": null
          },
          "name": "stdout",
          "output_type": "stream",
          "text": [
            "\u001b[1m1/8\u001b[0m \u001b[32m━━\u001b[0m\u001b[37m━━━━━━━━━━━━━━━━━━\u001b[0m \u001b[1m2s\u001b[0m 357ms/step\n",
            "\u001b[1m2/8\u001b[0m \u001b[32m━━━━━\u001b[0m\u001b[37m━━━━━━━━━━━━━━━\u001b[0m \u001b[1m0s\u001b[0m 66ms/step \n",
            "\u001b[1m3/8\u001b[0m \u001b[32m━━━━━━━\u001b[0m\u001b[37m━━━━━━━━━━━━━\u001b[0m \u001b[1m0s\u001b[0m 59ms/step\n",
            "\u001b[1m4/8\u001b[0m \u001b[32m━━━━━━━━━━\u001b[0m\u001b[37m━━━━━━━━━━\u001b[0m \u001b[1m0s\u001b[0m 60ms/step\n",
            "\u001b[1m6/8\u001b[0m \u001b[32m━━━━━━━━━━━━━━━\u001b[0m\u001b[37m━━━━━\u001b[0m \u001b[1m0s\u001b[0m 52ms/step\n",
            "\u001b[1m7/8\u001b[0m \u001b[32m━━━━━━━━━━━━━━━━━\u001b[0m\u001b[37m━━━\u001b[0m \u001b[1m0s\u001b[0m 52ms/step\n",
            "\u001b[1m8/8\u001b[0m \u001b[32m━━━━━━━━━━━━━━━━━━━━\u001b[0m\u001b[37m\u001b[0m \u001b[1m0s\u001b[0m 76ms/step\n",
            "\u001b[1m8/8\u001b[0m \u001b[32m━━━━━━━━━━━━━━━━━━━━\u001b[0m\u001b[37m\u001b[0m \u001b[1m1s\u001b[0m 78ms/step\n",
            "\n",
            " 40%|████      | 20/50 [58:19<1:15:50, 151.69s/trial, best loss: 0.00028032487826815035]"
          ]
        },
        {
          "metadata": {
            "tags": null
          },
          "name": "stderr",
          "output_type": "stream",
          "text": [
            "/usr/local/lib/python3.10/dist-packages/keras/src/layers/rnn/rnn.py:205: UserWarning:\n",
            "\n",
            "Do not pass an `input_shape`/`input_dim` argument to a layer. When using Sequential models, prefer using an `Input(shape)` object as the first layer in the model instead.\n",
            "\n",
            "\n"
          ]
        },
        {
          "metadata": {
            "tags": null
          },
          "name": "stdout",
          "output_type": "stream",
          "text": [
            "\u001b[1m1/8\u001b[0m \u001b[32m━━\u001b[0m\u001b[37m━━━━━━━━━━━━━━━━━━\u001b[0m \u001b[1m1s\u001b[0m 168ms/step\n",
            "\u001b[1m5/8\u001b[0m \u001b[32m━━━━━━━━━━━━\u001b[0m\u001b[37m━━━━━━━━\u001b[0m \u001b[1m0s\u001b[0m 15ms/step \n",
            "\u001b[1m8/8\u001b[0m \u001b[32m━━━━━━━━━━━━━━━━━━━━\u001b[0m\u001b[37m\u001b[0m \u001b[1m0s\u001b[0m 38ms/step\n",
            "\u001b[1m8/8\u001b[0m \u001b[32m━━━━━━━━━━━━━━━━━━━━\u001b[0m\u001b[37m\u001b[0m \u001b[1m0s\u001b[0m 40ms/step\n",
            "\n",
            " 42%|████▏     | 21/50 [1:00:08<1:07:07, 138.88s/trial, best loss: 0.00028032487826815035]"
          ]
        },
        {
          "metadata": {
            "tags": null
          },
          "name": "stderr",
          "output_type": "stream",
          "text": [
            "/usr/local/lib/python3.10/dist-packages/keras/src/layers/rnn/rnn.py:205: UserWarning:\n",
            "\n",
            "Do not pass an `input_shape`/`input_dim` argument to a layer. When using Sequential models, prefer using an `Input(shape)` object as the first layer in the model instead.\n",
            "\n",
            "\n"
          ]
        },
        {
          "metadata": {
            "tags": null
          },
          "name": "stdout",
          "output_type": "stream",
          "text": [
            "\u001b[1m1/8\u001b[0m \u001b[32m━━\u001b[0m\u001b[37m━━━━━━━━━━━━━━━━━━\u001b[0m \u001b[1m1s\u001b[0m 227ms/step\n",
            "\u001b[1m2/8\u001b[0m \u001b[32m━━━━━\u001b[0m\u001b[37m━━━━━━━━━━━━━━━\u001b[0m \u001b[1m0s\u001b[0m 75ms/step \n",
            "\u001b[1m3/8\u001b[0m \u001b[32m━━━━━━━\u001b[0m\u001b[37m━━━━━━━━━━━━━\u001b[0m \u001b[1m0s\u001b[0m 65ms/step\n",
            "\u001b[1m4/8\u001b[0m \u001b[32m━━━━━━━━━━\u001b[0m\u001b[37m━━━━━━━━━━\u001b[0m \u001b[1m0s\u001b[0m 61ms/step\n",
            "\u001b[1m5/8\u001b[0m \u001b[32m━━━━━━━━━━━━\u001b[0m\u001b[37m━━━━━━━━\u001b[0m \u001b[1m0s\u001b[0m 58ms/step\n",
            "\u001b[1m6/8\u001b[0m \u001b[32m━━━━━━━━━━━━━━━\u001b[0m\u001b[37m━━━━━\u001b[0m \u001b[1m0s\u001b[0m 57ms/step\n",
            "\u001b[1m7/8\u001b[0m \u001b[32m━━━━━━━━━━━━━━━━━\u001b[0m\u001b[37m━━━\u001b[0m \u001b[1m0s\u001b[0m 56ms/step\n",
            "\u001b[1m8/8\u001b[0m \u001b[32m━━━━━━━━━━━━━━━━━━━━\u001b[0m\u001b[37m\u001b[0m \u001b[1m0s\u001b[0m 82ms/step\n",
            "\u001b[1m8/8\u001b[0m \u001b[32m━━━━━━━━━━━━━━━━━━━━\u001b[0m\u001b[37m\u001b[0m \u001b[1m1s\u001b[0m 84ms/step\n",
            "\n",
            " 44%|████▍     | 22/50 [1:07:42<1:48:58, 233.53s/trial, best loss: 0.00028032487826815035]"
          ]
        },
        {
          "metadata": {
            "tags": null
          },
          "name": "stderr",
          "output_type": "stream",
          "text": [
            "/usr/local/lib/python3.10/dist-packages/keras/src/layers/rnn/rnn.py:205: UserWarning:\n",
            "\n",
            "Do not pass an `input_shape`/`input_dim` argument to a layer. When using Sequential models, prefer using an `Input(shape)` object as the first layer in the model instead.\n",
            "\n",
            "\n"
          ]
        },
        {
          "metadata": {
            "tags": null
          },
          "name": "stdout",
          "output_type": "stream",
          "text": [
            "\u001b[1m1/8\u001b[0m \u001b[32m━━\u001b[0m\u001b[37m━━━━━━━━━━━━━━━━━━\u001b[0m \u001b[1m1s\u001b[0m 212ms/step\n",
            "\u001b[1m6/8\u001b[0m \u001b[32m━━━━━━━━━━━━━━━\u001b[0m\u001b[37m━━━━━\u001b[0m \u001b[1m0s\u001b[0m 12ms/step \n",
            "\u001b[1m8/8\u001b[0m \u001b[32m━━━━━━━━━━━━━━━━━━━━\u001b[0m\u001b[37m\u001b[0m \u001b[1m0s\u001b[0m 37ms/step\n",
            "\u001b[1m8/8\u001b[0m \u001b[32m━━━━━━━━━━━━━━━━━━━━\u001b[0m\u001b[37m\u001b[0m \u001b[1m0s\u001b[0m 38ms/step\n",
            "\n",
            " 46%|████▌     | 23/50 [1:11:03<1:40:34, 223.51s/trial, best loss: 0.00028032487826815035]"
          ]
        },
        {
          "metadata": {
            "tags": null
          },
          "name": "stderr",
          "output_type": "stream",
          "text": [
            "/usr/local/lib/python3.10/dist-packages/keras/src/layers/rnn/rnn.py:205: UserWarning:\n",
            "\n",
            "Do not pass an `input_shape`/`input_dim` argument to a layer. When using Sequential models, prefer using an `Input(shape)` object as the first layer in the model instead.\n",
            "\n",
            "\n"
          ]
        },
        {
          "metadata": {
            "tags": null
          },
          "name": "stdout",
          "output_type": "stream",
          "text": [
            "\u001b[1m1/8\u001b[0m \u001b[32m━━\u001b[0m\u001b[37m━━━━━━━━━━━━━━━━━━\u001b[0m \u001b[1m1s\u001b[0m 199ms/step\n",
            "\u001b[1m4/8\u001b[0m \u001b[32m━━━━━━━━━━\u001b[0m\u001b[37m━━━━━━━━━━\u001b[0m \u001b[1m0s\u001b[0m 18ms/step \n",
            "\u001b[1m7/8\u001b[0m \u001b[32m━━━━━━━━━━━━━━━━━\u001b[0m\u001b[37m━━━\u001b[0m \u001b[1m0s\u001b[0m 18ms/step\n",
            "\u001b[1m8/8\u001b[0m \u001b[32m━━━━━━━━━━━━━━━━━━━━\u001b[0m\u001b[37m\u001b[0m \u001b[1m0s\u001b[0m 49ms/step\n",
            "\u001b[1m8/8\u001b[0m \u001b[32m━━━━━━━━━━━━━━━━━━━━\u001b[0m\u001b[37m\u001b[0m \u001b[1m1s\u001b[0m 51ms/step\n",
            "\n",
            " 48%|████▊     | 24/50 [1:14:04<1:31:26, 211.01s/trial, best loss: 0.00028032487826815035]"
          ]
        },
        {
          "metadata": {
            "tags": null
          },
          "name": "stderr",
          "output_type": "stream",
          "text": [
            "/usr/local/lib/python3.10/dist-packages/keras/src/layers/rnn/rnn.py:205: UserWarning:\n",
            "\n",
            "Do not pass an `input_shape`/`input_dim` argument to a layer. When using Sequential models, prefer using an `Input(shape)` object as the first layer in the model instead.\n",
            "\n",
            "\n"
          ]
        },
        {
          "metadata": {
            "tags": null
          },
          "name": "stdout",
          "output_type": "stream",
          "text": [
            "\u001b[1m1/8\u001b[0m \u001b[32m━━\u001b[0m\u001b[37m━━━━━━━━━━━━━━━━━━\u001b[0m \u001b[1m1s\u001b[0m 222ms/step\n",
            "\u001b[1m2/8\u001b[0m \u001b[32m━━━━━\u001b[0m\u001b[37m━━━━━━━━━━━━━━━\u001b[0m \u001b[1m0s\u001b[0m 55ms/step \n",
            "\u001b[1m3/8\u001b[0m \u001b[32m━━━━━━━\u001b[0m\u001b[37m━━━━━━━━━━━━━\u001b[0m \u001b[1m0s\u001b[0m 54ms/step\n",
            "\u001b[1m4/8\u001b[0m \u001b[32m━━━━━━━━━━\u001b[0m\u001b[37m━━━━━━━━━━\u001b[0m \u001b[1m0s\u001b[0m 53ms/step\n",
            "\u001b[1m5/8\u001b[0m \u001b[32m━━━━━━━━━━━━\u001b[0m\u001b[37m━━━━━━━━\u001b[0m \u001b[1m0s\u001b[0m 53ms/step\n",
            "\u001b[1m6/8\u001b[0m \u001b[32m━━━━━━━━━━━━━━━\u001b[0m\u001b[37m━━━━━\u001b[0m \u001b[1m0s\u001b[0m 53ms/step\n",
            "\u001b[1m7/8\u001b[0m \u001b[32m━━━━━━━━━━━━━━━━━\u001b[0m\u001b[37m━━━\u001b[0m \u001b[1m0s\u001b[0m 53ms/step\n",
            "\u001b[1m8/8\u001b[0m \u001b[32m━━━━━━━━━━━━━━━━━━━━\u001b[0m\u001b[37m\u001b[0m \u001b[1m0s\u001b[0m 76ms/step\n",
            "\u001b[1m8/8\u001b[0m \u001b[32m━━━━━━━━━━━━━━━━━━━━\u001b[0m\u001b[37m\u001b[0m \u001b[1m1s\u001b[0m 77ms/step\n",
            "\n",
            " 50%|█████     | 25/50 [1:24:46<2:21:44, 340.18s/trial, best loss: 0.00028032487826815035]"
          ]
        },
        {
          "metadata": {
            "tags": null
          },
          "name": "stderr",
          "output_type": "stream",
          "text": [
            "/usr/local/lib/python3.10/dist-packages/keras/src/layers/rnn/rnn.py:205: UserWarning:\n",
            "\n",
            "Do not pass an `input_shape`/`input_dim` argument to a layer. When using Sequential models, prefer using an `Input(shape)` object as the first layer in the model instead.\n",
            "\n",
            "\n"
          ]
        },
        {
          "metadata": {
            "tags": null
          },
          "name": "stdout",
          "output_type": "stream",
          "text": [
            "\u001b[1m1/8\u001b[0m \u001b[32m━━\u001b[0m\u001b[37m━━━━━━━━━━━━━━━━━━\u001b[0m \u001b[1m1s\u001b[0m 219ms/step\n",
            "\u001b[1m3/8\u001b[0m \u001b[32m━━━━━━━\u001b[0m\u001b[37m━━━━━━━━━━━━━\u001b[0m \u001b[1m0s\u001b[0m 43ms/step \n",
            "\u001b[1m5/8\u001b[0m \u001b[32m━━━━━━━━━━━━\u001b[0m\u001b[37m━━━━━━━━\u001b[0m \u001b[1m0s\u001b[0m 43ms/step\n",
            "\u001b[1m6/8\u001b[0m \u001b[32m━━━━━━━━━━━━━━━\u001b[0m\u001b[37m━━━━━\u001b[0m \u001b[1m0s\u001b[0m 44ms/step\n",
            "\u001b[1m8/8\u001b[0m \u001b[32m━━━━━━━━━━━━━━━━━━━━\u001b[0m\u001b[37m\u001b[0m \u001b[1m0s\u001b[0m 64ms/step\n",
            "\u001b[1m8/8\u001b[0m \u001b[32m━━━━━━━━━━━━━━━━━━━━\u001b[0m\u001b[37m\u001b[0m \u001b[1m1s\u001b[0m 65ms/step\n",
            "\n",
            " 52%|█████▏    | 26/50 [1:34:02<2:41:55, 404.80s/trial, best loss: 0.00028032487826815035]"
          ]
        },
        {
          "metadata": {
            "tags": null
          },
          "name": "stderr",
          "output_type": "stream",
          "text": [
            "/usr/local/lib/python3.10/dist-packages/keras/src/layers/rnn/rnn.py:205: UserWarning:\n",
            "\n",
            "Do not pass an `input_shape`/`input_dim` argument to a layer. When using Sequential models, prefer using an `Input(shape)` object as the first layer in the model instead.\n",
            "\n",
            "\n"
          ]
        },
        {
          "metadata": {
            "tags": null
          },
          "name": "stdout",
          "output_type": "stream",
          "text": [
            "\u001b[1m1/8\u001b[0m \u001b[32m━━\u001b[0m\u001b[37m━━━━━━━━━━━━━━━━━━\u001b[0m \u001b[1m1s\u001b[0m 206ms/step\n",
            "\u001b[1m3/8\u001b[0m \u001b[32m━━━━━━━\u001b[0m\u001b[37m━━━━━━━━━━━━━\u001b[0m \u001b[1m0s\u001b[0m 36ms/step \n",
            "\u001b[1m5/8\u001b[0m \u001b[32m━━━━━━━━━━━━\u001b[0m\u001b[37m━━━━━━━━\u001b[0m \u001b[1m0s\u001b[0m 37ms/step\n",
            "\u001b[1m7/8\u001b[0m \u001b[32m━━━━━━━━━━━━━━━━━\u001b[0m\u001b[37m━━━\u001b[0m \u001b[1m0s\u001b[0m 37ms/step\n",
            "\u001b[1m8/8\u001b[0m \u001b[32m━━━━━━━━━━━━━━━━━━━━\u001b[0m\u001b[37m\u001b[0m \u001b[1m0s\u001b[0m 62ms/step\n",
            "\u001b[1m8/8\u001b[0m \u001b[32m━━━━━━━━━━━━━━━━━━━━\u001b[0m\u001b[37m\u001b[0m \u001b[1m1s\u001b[0m 63ms/step\n",
            "\n",
            " 54%|█████▍    | 27/50 [1:39:45<2:28:04, 386.27s/trial, best loss: 0.00028032487826815035]"
          ]
        },
        {
          "metadata": {
            "tags": null
          },
          "name": "stderr",
          "output_type": "stream",
          "text": [
            "/usr/local/lib/python3.10/dist-packages/keras/src/layers/rnn/rnn.py:205: UserWarning:\n",
            "\n",
            "Do not pass an `input_shape`/`input_dim` argument to a layer. When using Sequential models, prefer using an `Input(shape)` object as the first layer in the model instead.\n",
            "\n",
            "\n"
          ]
        },
        {
          "metadata": {
            "tags": null
          },
          "name": "stdout",
          "output_type": "stream",
          "text": [
            "\u001b[1m1/8\u001b[0m \u001b[32m━━\u001b[0m\u001b[37m━━━━━━━━━━━━━━━━━━\u001b[0m \u001b[1m1s\u001b[0m 209ms/step\n",
            "\u001b[1m5/8\u001b[0m \u001b[32m━━━━━━━━━━━━\u001b[0m\u001b[37m━━━━━━━━\u001b[0m \u001b[1m0s\u001b[0m 15ms/step \n",
            "\u001b[1m8/8\u001b[0m \u001b[32m━━━━━━━━━━━━━━━━━━━━\u001b[0m\u001b[37m\u001b[0m \u001b[1m0s\u001b[0m 42ms/step\n",
            "\u001b[1m8/8\u001b[0m \u001b[32m━━━━━━━━━━━━━━━━━━━━\u001b[0m\u001b[37m\u001b[0m \u001b[1m1s\u001b[0m 43ms/step\n",
            "\n",
            " 56%|█████▌    | 28/50 [1:42:24<1:56:38, 318.13s/trial, best loss: 0.00028032487826815035]"
          ]
        },
        {
          "metadata": {
            "tags": null
          },
          "name": "stderr",
          "output_type": "stream",
          "text": [
            "/usr/local/lib/python3.10/dist-packages/keras/src/layers/rnn/rnn.py:205: UserWarning:\n",
            "\n",
            "Do not pass an `input_shape`/`input_dim` argument to a layer. When using Sequential models, prefer using an `Input(shape)` object as the first layer in the model instead.\n",
            "\n",
            "\n"
          ]
        },
        {
          "output_type": "stream",
          "name": "stdout",
          "text": [
            "\u001b[1m1/8\u001b[0m \u001b[32m━━\u001b[0m\u001b[37m━━━━━━━━━━━━━━━━━━\u001b[0m \u001b[1m1s\u001b[0m 205ms/step\n",
            "\u001b[1m2/8\u001b[0m \u001b[32m━━━━━\u001b[0m\u001b[37m━━━━━━━━━━━━━━━\u001b[0m \u001b[1m0s\u001b[0m 57ms/step \n",
            "\u001b[1m3/8\u001b[0m \u001b[32m━━━━━━━\u001b[0m\u001b[37m━━━━━━━━━━━━━\u001b[0m \u001b[1m0s\u001b[0m 55ms/step\n",
            "\u001b[1m4/8\u001b[0m \u001b[32m━━━━━━━━━━\u001b[0m\u001b[37m━━━━━━━━━━\u001b[0m \u001b[1m0s\u001b[0m 54ms/step\n",
            "\u001b[1m5/8\u001b[0m \u001b[32m━━━━━━━━━━━━\u001b[0m\u001b[37m━━━━━━━━\u001b[0m \u001b[1m0s\u001b[0m 54ms/step\n",
            "\u001b[1m6/8\u001b[0m \u001b[32m━━━━━━━━━━━━━━━\u001b[0m\u001b[37m━━━━━\u001b[0m \u001b[1m0s\u001b[0m 54ms/step\n",
            "\u001b[1m7/8\u001b[0m \u001b[32m━━━━━━━━━━━━━━━━━\u001b[0m\u001b[37m━━━\u001b[0m \u001b[1m0s\u001b[0m 54ms/step\n",
            "\u001b[1m8/8\u001b[0m \u001b[32m━━━━━━━━━━━━━━━━━━━━\u001b[0m\u001b[37m\u001b[0m \u001b[1m0s\u001b[0m 76ms/step\n",
            "\u001b[1m8/8\u001b[0m \u001b[32m━━━━━━━━━━━━━━━━━━━━\u001b[0m\u001b[37m\u001b[0m \u001b[1m1s\u001b[0m 77ms/step\n",
            "\n",
            " 58%|█████▊    | 29/50 [1:51:26<2:14:56, 385.52s/trial, best loss: 0.00028032487826815035]"
          ]
        },
        {
          "output_type": "stream",
          "name": "stderr",
          "text": [
            "/usr/local/lib/python3.10/dist-packages/keras/src/layers/rnn/rnn.py:205: UserWarning:\n",
            "\n",
            "Do not pass an `input_shape`/`input_dim` argument to a layer. When using Sequential models, prefer using an `Input(shape)` object as the first layer in the model instead.\n",
            "\n",
            "\n"
          ]
        },
        {
          "output_type": "stream",
          "name": "stdout",
          "text": [
            "\u001b[1m1/8\u001b[0m \u001b[32m━━\u001b[0m\u001b[37m━━━━━━━━━━━━━━━━━━\u001b[0m \u001b[1m1s\u001b[0m 196ms/step\n",
            "\u001b[1m3/8\u001b[0m \u001b[32m━━━━━━━\u001b[0m\u001b[37m━━━━━━━━━━━━━\u001b[0m \u001b[1m0s\u001b[0m 25ms/step \n",
            "\u001b[1m5/8\u001b[0m \u001b[32m━━━━━━━━━━━━\u001b[0m\u001b[37m━━━━━━━━\u001b[0m \u001b[1m0s\u001b[0m 26ms/step\n",
            "\u001b[1m8/8\u001b[0m \u001b[32m━━━━━━━━━━━━━━━━━━━━\u001b[0m\u001b[37m\u001b[0m \u001b[1m0s\u001b[0m 48ms/step\n",
            "\u001b[1m8/8\u001b[0m \u001b[32m━━━━━━━━━━━━━━━━━━━━\u001b[0m\u001b[37m\u001b[0m \u001b[1m1s\u001b[0m 50ms/step\n",
            "\n",
            " 60%|██████    | 30/50 [1:54:12<1:46:30, 319.55s/trial, best loss: 0.00028032487826815035]"
          ]
        },
        {
          "output_type": "stream",
          "name": "stderr",
          "text": [
            "/usr/local/lib/python3.10/dist-packages/keras/src/layers/rnn/rnn.py:205: UserWarning:\n",
            "\n",
            "Do not pass an `input_shape`/`input_dim` argument to a layer. When using Sequential models, prefer using an `Input(shape)` object as the first layer in the model instead.\n",
            "\n",
            "\n"
          ]
        },
        {
          "output_type": "stream",
          "name": "stdout",
          "text": [
            "\u001b[1m1/8\u001b[0m \u001b[32m━━\u001b[0m\u001b[37m━━━━━━━━━━━━━━━━━━\u001b[0m \u001b[1m1s\u001b[0m 215ms/step\n",
            "\u001b[1m4/8\u001b[0m \u001b[32m━━━━━━━━━━\u001b[0m\u001b[37m━━━━━━━━━━\u001b[0m \u001b[1m0s\u001b[0m 22ms/step \n",
            "\u001b[1m7/8\u001b[0m \u001b[32m━━━━━━━━━━━━━━━━━\u001b[0m\u001b[37m━━━\u001b[0m \u001b[1m0s\u001b[0m 21ms/step\n",
            "\u001b[1m8/8\u001b[0m \u001b[32m━━━━━━━━━━━━━━━━━━━━\u001b[0m\u001b[37m\u001b[0m \u001b[1m0s\u001b[0m 45ms/step\n",
            "\u001b[1m8/8\u001b[0m \u001b[32m━━━━━━━━━━━━━━━━━━━━\u001b[0m\u001b[37m\u001b[0m \u001b[1m1s\u001b[0m 46ms/step\n",
            "\n",
            " 62%|██████▏   | 31/50 [1:55:31<1:18:22, 247.48s/trial, best loss: 0.00028032487826815035]"
          ]
        },
        {
          "output_type": "stream",
          "name": "stderr",
          "text": [
            "/usr/local/lib/python3.10/dist-packages/keras/src/layers/rnn/rnn.py:205: UserWarning:\n",
            "\n",
            "Do not pass an `input_shape`/`input_dim` argument to a layer. When using Sequential models, prefer using an `Input(shape)` object as the first layer in the model instead.\n",
            "\n",
            "\n"
          ]
        },
        {
          "output_type": "stream",
          "name": "stdout",
          "text": [
            "\u001b[1m1/8\u001b[0m \u001b[32m━━\u001b[0m\u001b[37m━━━━━━━━━━━━━━━━━━\u001b[0m \u001b[1m1s\u001b[0m 193ms/step\n",
            "\u001b[1m2/8\u001b[0m \u001b[32m━━━━━\u001b[0m\u001b[37m━━━━━━━━━━━━━━━\u001b[0m \u001b[1m0s\u001b[0m 54ms/step \n",
            "\u001b[1m3/8\u001b[0m \u001b[32m━━━━━━━\u001b[0m\u001b[37m━━━━━━━━━━━━━\u001b[0m \u001b[1m0s\u001b[0m 53ms/step\n",
            "\u001b[1m4/8\u001b[0m \u001b[32m━━━━━━━━━━\u001b[0m\u001b[37m━━━━━━━━━━\u001b[0m \u001b[1m0s\u001b[0m 53ms/step\n",
            "\u001b[1m5/8\u001b[0m \u001b[32m━━━━━━━━━━━━\u001b[0m\u001b[37m━━━━━━━━\u001b[0m \u001b[1m0s\u001b[0m 53ms/step\n",
            "\u001b[1m6/8\u001b[0m \u001b[32m━━━━━━━━━━━━━━━\u001b[0m\u001b[37m━━━━━\u001b[0m \u001b[1m0s\u001b[0m 53ms/step\n",
            "\u001b[1m7/8\u001b[0m \u001b[32m━━━━━━━━━━━━━━━━━\u001b[0m\u001b[37m━━━\u001b[0m \u001b[1m0s\u001b[0m 53ms/step\n",
            "\u001b[1m8/8\u001b[0m \u001b[32m━━━━━━━━━━━━━━━━━━━━\u001b[0m\u001b[37m\u001b[0m \u001b[1m0s\u001b[0m 72ms/step\n",
            "\u001b[1m8/8\u001b[0m \u001b[32m━━━━━━━━━━━━━━━━━━━━\u001b[0m\u001b[37m\u001b[0m \u001b[1m1s\u001b[0m 74ms/step\n",
            "\n",
            " 64%|██████▍   | 32/50 [2:00:31<1:18:54, 263.04s/trial, best loss: 0.00028032487826815035]"
          ]
        },
        {
          "output_type": "stream",
          "name": "stderr",
          "text": [
            "/usr/local/lib/python3.10/dist-packages/keras/src/layers/rnn/rnn.py:205: UserWarning:\n",
            "\n",
            "Do not pass an `input_shape`/`input_dim` argument to a layer. When using Sequential models, prefer using an `Input(shape)` object as the first layer in the model instead.\n",
            "\n",
            "\n"
          ]
        },
        {
          "output_type": "stream",
          "name": "stdout",
          "text": [
            "\u001b[1m1/8\u001b[0m \u001b[32m━━\u001b[0m\u001b[37m━━━━━━━━━━━━━━━━━━\u001b[0m \u001b[1m1s\u001b[0m 179ms/step\n",
            "\u001b[1m4/8\u001b[0m \u001b[32m━━━━━━━━━━\u001b[0m\u001b[37m━━━━━━━━━━\u001b[0m \u001b[1m0s\u001b[0m 19ms/step \n",
            "\u001b[1m7/8\u001b[0m \u001b[32m━━━━━━━━━━━━━━━━━\u001b[0m\u001b[37m━━━\u001b[0m \u001b[1m0s\u001b[0m 19ms/step\n",
            "\u001b[1m8/8\u001b[0m \u001b[32m━━━━━━━━━━━━━━━━━━━━\u001b[0m\u001b[37m\u001b[0m \u001b[1m0s\u001b[0m 43ms/step\n",
            "\u001b[1m8/8\u001b[0m \u001b[32m━━━━━━━━━━━━━━━━━━━━\u001b[0m\u001b[37m\u001b[0m \u001b[1m0s\u001b[0m 44ms/step\n",
            "\n",
            " 66%|██████▌   | 33/50 [2:02:54<1:04:18, 226.98s/trial, best loss: 0.00028032487826815035]"
          ]
        },
        {
          "output_type": "stream",
          "name": "stderr",
          "text": [
            "/usr/local/lib/python3.10/dist-packages/keras/src/layers/rnn/rnn.py:205: UserWarning:\n",
            "\n",
            "Do not pass an `input_shape`/`input_dim` argument to a layer. When using Sequential models, prefer using an `Input(shape)` object as the first layer in the model instead.\n",
            "\n",
            "\n"
          ]
        },
        {
          "output_type": "stream",
          "name": "stdout",
          "text": [
            "\u001b[1m1/8\u001b[0m \u001b[32m━━\u001b[0m\u001b[37m━━━━━━━━━━━━━━━━━━\u001b[0m \u001b[1m1s\u001b[0m 177ms/step\n",
            "\u001b[1m4/8\u001b[0m \u001b[32m━━━━━━━━━━\u001b[0m\u001b[37m━━━━━━━━━━\u001b[0m \u001b[1m0s\u001b[0m 18ms/step \n",
            "\u001b[1m7/8\u001b[0m \u001b[32m━━━━━━━━━━━━━━━━━\u001b[0m\u001b[37m━━━\u001b[0m \u001b[1m0s\u001b[0m 17ms/step\n",
            "\u001b[1m8/8\u001b[0m \u001b[32m━━━━━━━━━━━━━━━━━━━━\u001b[0m\u001b[37m\u001b[0m \u001b[1m0s\u001b[0m 40ms/step\n",
            "\u001b[1m8/8\u001b[0m \u001b[32m━━━━━━━━━━━━━━━━━━━━\u001b[0m\u001b[37m\u001b[0m \u001b[1m0s\u001b[0m 42ms/step\n",
            "\n",
            " 68%|██████▊   | 34/50 [2:04:28<49:57, 187.35s/trial, best loss: 0.00028032487826815035]  "
          ]
        },
        {
          "output_type": "stream",
          "name": "stderr",
          "text": [
            "/usr/local/lib/python3.10/dist-packages/keras/src/layers/rnn/rnn.py:205: UserWarning:\n",
            "\n",
            "Do not pass an `input_shape`/`input_dim` argument to a layer. When using Sequential models, prefer using an `Input(shape)` object as the first layer in the model instead.\n",
            "\n",
            "\n"
          ]
        },
        {
          "output_type": "stream",
          "name": "stdout",
          "text": [
            "\u001b[1m1/8\u001b[0m \u001b[32m━━\u001b[0m\u001b[37m━━━━━━━━━━━━━━━━━━\u001b[0m \u001b[1m1s\u001b[0m 203ms/step\n",
            "\u001b[1m2/8\u001b[0m \u001b[32m━━━━━\u001b[0m\u001b[37m━━━━━━━━━━━━━━━\u001b[0m \u001b[1m0s\u001b[0m 57ms/step \n",
            "\u001b[1m3/8\u001b[0m \u001b[32m━━━━━━━\u001b[0m\u001b[37m━━━━━━━━━━━━━\u001b[0m \u001b[1m0s\u001b[0m 56ms/step\n",
            "\u001b[1m4/8\u001b[0m \u001b[32m━━━━━━━━━━\u001b[0m\u001b[37m━━━━━━━━━━\u001b[0m \u001b[1m0s\u001b[0m 54ms/step\n",
            "\u001b[1m5/8\u001b[0m \u001b[32m━━━━━━━━━━━━\u001b[0m\u001b[37m━━━━━━━━\u001b[0m \u001b[1m0s\u001b[0m 57ms/step\n",
            "\u001b[1m6/8\u001b[0m \u001b[32m━━━━━━━━━━━━━━━\u001b[0m\u001b[37m━━━━━\u001b[0m \u001b[1m0s\u001b[0m 56ms/step\n",
            "\u001b[1m7/8\u001b[0m \u001b[32m━━━━━━━━━━━━━━━━━\u001b[0m\u001b[37m━━━\u001b[0m \u001b[1m0s\u001b[0m 56ms/step\n",
            "\u001b[1m8/8\u001b[0m \u001b[32m━━━━━━━━━━━━━━━━━━━━\u001b[0m\u001b[37m\u001b[0m \u001b[1m0s\u001b[0m 75ms/step\n",
            "\u001b[1m8/8\u001b[0m \u001b[32m━━━━━━━━━━━━━━━━━━━━\u001b[0m\u001b[37m\u001b[0m \u001b[1m1s\u001b[0m 77ms/step\n",
            "\n",
            " 70%|███████   | 35/50 [2:13:10<1:11:56, 287.74s/trial, best loss: 0.00028032487826815035]"
          ]
        },
        {
          "output_type": "stream",
          "name": "stderr",
          "text": [
            "/usr/local/lib/python3.10/dist-packages/keras/src/layers/rnn/rnn.py:205: UserWarning:\n",
            "\n",
            "Do not pass an `input_shape`/`input_dim` argument to a layer. When using Sequential models, prefer using an `Input(shape)` object as the first layer in the model instead.\n",
            "\n",
            "\n"
          ]
        },
        {
          "output_type": "stream",
          "name": "stdout",
          "text": [
            "\u001b[1m1/8\u001b[0m \u001b[32m━━\u001b[0m\u001b[37m━━━━━━━━━━━━━━━━━━\u001b[0m \u001b[1m1s\u001b[0m 201ms/step\n",
            "\u001b[1m5/8\u001b[0m \u001b[32m━━━━━━━━━━━━\u001b[0m\u001b[37m━━━━━━━━\u001b[0m \u001b[1m0s\u001b[0m 13ms/step \n",
            "\u001b[1m8/8\u001b[0m \u001b[32m━━━━━━━━━━━━━━━━━━━━\u001b[0m\u001b[37m\u001b[0m \u001b[1m0s\u001b[0m 37ms/step\n",
            "\u001b[1m8/8\u001b[0m \u001b[32m━━━━━━━━━━━━━━━━━━━━\u001b[0m\u001b[37m\u001b[0m \u001b[1m0s\u001b[0m 40ms/step\n",
            "\n",
            " 72%|███████▏  | 36/50 [2:13:42<49:12, 210.89s/trial, best loss: 0.00028032487826815035]  "
          ]
        },
        {
          "output_type": "stream",
          "name": "stderr",
          "text": [
            "/usr/local/lib/python3.10/dist-packages/keras/src/layers/rnn/rnn.py:205: UserWarning:\n",
            "\n",
            "Do not pass an `input_shape`/`input_dim` argument to a layer. When using Sequential models, prefer using an `Input(shape)` object as the first layer in the model instead.\n",
            "\n",
            "\n"
          ]
        },
        {
          "output_type": "stream",
          "name": "stdout",
          "text": [
            "\u001b[1m1/8\u001b[0m \u001b[32m━━\u001b[0m\u001b[37m━━━━━━━━━━━━━━━━━━\u001b[0m \u001b[1m1s\u001b[0m 162ms/step\n",
            "\u001b[1m6/8\u001b[0m \u001b[32m━━━━━━━━━━━━━━━\u001b[0m\u001b[37m━━━━━\u001b[0m \u001b[1m0s\u001b[0m 11ms/step \n",
            "\u001b[1m8/8\u001b[0m \u001b[32m━━━━━━━━━━━━━━━━━━━━\u001b[0m\u001b[37m\u001b[0m \u001b[1m0s\u001b[0m 33ms/step\n",
            "\u001b[1m8/8\u001b[0m \u001b[32m━━━━━━━━━━━━━━━━━━━━\u001b[0m\u001b[37m\u001b[0m \u001b[1m0s\u001b[0m 35ms/step\n",
            "\n",
            " 74%|███████▍  | 37/50 [2:15:42<39:46, 183.54s/trial, best loss: 0.00028032487826815035]"
          ]
        },
        {
          "output_type": "stream",
          "name": "stderr",
          "text": [
            "/usr/local/lib/python3.10/dist-packages/keras/src/layers/rnn/rnn.py:205: UserWarning:\n",
            "\n",
            "Do not pass an `input_shape`/`input_dim` argument to a layer. When using Sequential models, prefer using an `Input(shape)` object as the first layer in the model instead.\n",
            "\n",
            "\n"
          ]
        },
        {
          "output_type": "stream",
          "name": "stdout",
          "text": [
            "\u001b[1m1/8\u001b[0m \u001b[32m━━\u001b[0m\u001b[37m━━━━━━━━━━━━━━━━━━\u001b[0m \u001b[1m1s\u001b[0m 191ms/step\n",
            "\u001b[1m3/8\u001b[0m \u001b[32m━━━━━━━\u001b[0m\u001b[37m━━━━━━━━━━━━━\u001b[0m \u001b[1m0s\u001b[0m 35ms/step \n",
            "\u001b[1m5/8\u001b[0m \u001b[32m━━━━━━━━━━━━\u001b[0m\u001b[37m━━━━━━━━\u001b[0m \u001b[1m0s\u001b[0m 33ms/step\n",
            "\u001b[1m7/8\u001b[0m \u001b[32m━━━━━━━━━━━━━━━━━\u001b[0m\u001b[37m━━━\u001b[0m \u001b[1m0s\u001b[0m 32ms/step\n",
            "\u001b[1m8/8\u001b[0m \u001b[32m━━━━━━━━━━━━━━━━━━━━\u001b[0m\u001b[37m\u001b[0m \u001b[1m0s\u001b[0m 53ms/step\n",
            "\u001b[1m8/8\u001b[0m \u001b[32m━━━━━━━━━━━━━━━━━━━━\u001b[0m\u001b[37m\u001b[0m \u001b[1m1s\u001b[0m 54ms/step\n",
            "\n",
            " 76%|███████▌  | 38/50 [2:21:40<47:11, 235.94s/trial, best loss: 0.00028032487826815035]"
          ]
        },
        {
          "output_type": "stream",
          "name": "stderr",
          "text": [
            "/usr/local/lib/python3.10/dist-packages/keras/src/layers/rnn/rnn.py:205: UserWarning:\n",
            "\n",
            "Do not pass an `input_shape`/`input_dim` argument to a layer. When using Sequential models, prefer using an `Input(shape)` object as the first layer in the model instead.\n",
            "\n",
            "\n"
          ]
        },
        {
          "output_type": "stream",
          "name": "stdout",
          "text": [
            "\u001b[1m1/8\u001b[0m \u001b[32m━━\u001b[0m\u001b[37m━━━━━━━━━━━━━━━━━━\u001b[0m \u001b[1m1s\u001b[0m 177ms/step\n",
            "\u001b[1m4/8\u001b[0m \u001b[32m━━━━━━━━━━\u001b[0m\u001b[37m━━━━━━━━━━\u001b[0m \u001b[1m0s\u001b[0m 17ms/step \n",
            "\u001b[1m7/8\u001b[0m \u001b[32m━━━━━━━━━━━━━━━━━\u001b[0m\u001b[37m━━━\u001b[0m \u001b[1m0s\u001b[0m 18ms/step\n",
            "\u001b[1m8/8\u001b[0m \u001b[32m━━━━━━━━━━━━━━━━━━━━\u001b[0m\u001b[37m\u001b[0m \u001b[1m0s\u001b[0m 41ms/step\n",
            "\u001b[1m8/8\u001b[0m \u001b[32m━━━━━━━━━━━━━━━━━━━━\u001b[0m\u001b[37m\u001b[0m \u001b[1m0s\u001b[0m 42ms/step\n",
            "\n",
            " 78%|███████▊  | 39/50 [2:23:41<36:54, 201.34s/trial, best loss: 0.00028032487826815035]"
          ]
        },
        {
          "output_type": "stream",
          "name": "stderr",
          "text": [
            "/usr/local/lib/python3.10/dist-packages/keras/src/layers/rnn/rnn.py:205: UserWarning:\n",
            "\n",
            "Do not pass an `input_shape`/`input_dim` argument to a layer. When using Sequential models, prefer using an `Input(shape)` object as the first layer in the model instead.\n",
            "\n",
            "\n"
          ]
        },
        {
          "output_type": "stream",
          "name": "stdout",
          "text": [
            "\u001b[1m1/8\u001b[0m \u001b[32m━━\u001b[0m\u001b[37m━━━━━━━━━━━━━━━━━━\u001b[0m \u001b[1m1s\u001b[0m 192ms/step\n",
            "\u001b[1m2/8\u001b[0m \u001b[32m━━━━━\u001b[0m\u001b[37m━━━━━━━━━━━━━━━\u001b[0m \u001b[1m0s\u001b[0m 53ms/step \n",
            "\u001b[1m3/8\u001b[0m \u001b[32m━━━━━━━\u001b[0m\u001b[37m━━━━━━━━━━━━━\u001b[0m \u001b[1m0s\u001b[0m 52ms/step\n",
            "\u001b[1m5/8\u001b[0m \u001b[32m━━━━━━━━━━━━\u001b[0m\u001b[37m━━━━━━━━\u001b[0m \u001b[1m0s\u001b[0m 46ms/step\n",
            "\u001b[1m6/8\u001b[0m \u001b[32m━━━━━━━━━━━━━━━\u001b[0m\u001b[37m━━━━━\u001b[0m \u001b[1m0s\u001b[0m 47ms/step\n",
            "\u001b[1m7/8\u001b[0m \u001b[32m━━━━━━━━━━━━━━━━━\u001b[0m\u001b[37m━━━\u001b[0m \u001b[1m0s\u001b[0m 48ms/step\n",
            "\u001b[1m8/8\u001b[0m \u001b[32m━━━━━━━━━━━━━━━━━━━━\u001b[0m\u001b[37m\u001b[0m \u001b[1m0s\u001b[0m 70ms/step\n",
            "\u001b[1m8/8\u001b[0m \u001b[32m━━━━━━━━━━━━━━━━━━━━\u001b[0m\u001b[37m\u001b[0m \u001b[1m1s\u001b[0m 72ms/step\n",
            "\n",
            " 80%|████████  | 40/50 [2:27:38<35:22, 212.29s/trial, best loss: 0.00028032487826815035]"
          ]
        },
        {
          "output_type": "stream",
          "name": "stderr",
          "text": [
            "/usr/local/lib/python3.10/dist-packages/keras/src/layers/rnn/rnn.py:205: UserWarning:\n",
            "\n",
            "Do not pass an `input_shape`/`input_dim` argument to a layer. When using Sequential models, prefer using an `Input(shape)` object as the first layer in the model instead.\n",
            "\n",
            "\n"
          ]
        },
        {
          "output_type": "stream",
          "name": "stdout",
          "text": [
            "\u001b[1m1/8\u001b[0m \u001b[32m━━\u001b[0m\u001b[37m━━━━━━━━━━━━━━━━━━\u001b[0m \u001b[1m1s\u001b[0m 204ms/step\n",
            "\u001b[1m2/8\u001b[0m \u001b[32m━━━━━\u001b[0m\u001b[37m━━━━━━━━━━━━━━━\u001b[0m \u001b[1m0s\u001b[0m 55ms/step \n",
            "\u001b[1m3/8\u001b[0m \u001b[32m━━━━━━━\u001b[0m\u001b[37m━━━━━━━━━━━━━\u001b[0m \u001b[1m0s\u001b[0m 54ms/step\n",
            "\u001b[1m4/8\u001b[0m \u001b[32m━━━━━━━━━━\u001b[0m\u001b[37m━━━━━━━━━━\u001b[0m \u001b[1m0s\u001b[0m 54ms/step\n",
            "\u001b[1m5/8\u001b[0m \u001b[32m━━━━━━━━━━━━\u001b[0m\u001b[37m━━━━━━━━\u001b[0m \u001b[1m0s\u001b[0m 54ms/step\n",
            "\u001b[1m6/8\u001b[0m \u001b[32m━━━━━━━━━━━━━━━\u001b[0m\u001b[37m━━━━━\u001b[0m \u001b[1m0s\u001b[0m 54ms/step\n",
            "\u001b[1m7/8\u001b[0m \u001b[32m━━━━━━━━━━━━━━━━━\u001b[0m\u001b[37m━━━\u001b[0m \u001b[1m0s\u001b[0m 54ms/step\n",
            "\u001b[1m8/8\u001b[0m \u001b[32m━━━━━━━━━━━━━━━━━━━━\u001b[0m\u001b[37m\u001b[0m \u001b[1m0s\u001b[0m 74ms/step\n",
            "\u001b[1m8/8\u001b[0m \u001b[32m━━━━━━━━━━━━━━━━━━━━\u001b[0m\u001b[37m\u001b[0m \u001b[1m1s\u001b[0m 76ms/step\n",
            "\n",
            " 82%|████████▏ | 41/50 [2:29:21<26:54, 179.38s/trial, best loss: 0.00028032487826815035]"
          ]
        },
        {
          "output_type": "stream",
          "name": "stderr",
          "text": [
            "/usr/local/lib/python3.10/dist-packages/keras/src/layers/rnn/rnn.py:205: UserWarning:\n",
            "\n",
            "Do not pass an `input_shape`/`input_dim` argument to a layer. When using Sequential models, prefer using an `Input(shape)` object as the first layer in the model instead.\n",
            "\n",
            "\n"
          ]
        },
        {
          "output_type": "stream",
          "name": "stdout",
          "text": [
            "\u001b[1m1/8\u001b[0m \u001b[32m━━\u001b[0m\u001b[37m━━━━━━━━━━━━━━━━━━\u001b[0m \u001b[1m1s\u001b[0m 185ms/step\n",
            "\u001b[1m3/8\u001b[0m \u001b[32m━━━━━━━\u001b[0m\u001b[37m━━━━━━━━━━━━━\u001b[0m \u001b[1m0s\u001b[0m 34ms/step \n",
            "\u001b[1m5/8\u001b[0m \u001b[32m━━━━━━━━━━━━\u001b[0m\u001b[37m━━━━━━━━\u001b[0m \u001b[1m0s\u001b[0m 33ms/step\n",
            "\u001b[1m7/8\u001b[0m \u001b[32m━━━━━━━━━━━━━━━━━\u001b[0m\u001b[37m━━━\u001b[0m \u001b[1m0s\u001b[0m 33ms/step\n",
            "\u001b[1m8/8\u001b[0m \u001b[32m━━━━━━━━━━━━━━━━━━━━\u001b[0m\u001b[37m\u001b[0m \u001b[1m0s\u001b[0m 55ms/step\n",
            "\u001b[1m8/8\u001b[0m \u001b[32m━━━━━━━━━━━━━━━━━━━━\u001b[0m\u001b[37m\u001b[0m \u001b[1m1s\u001b[0m 56ms/step\n",
            "\n",
            " 84%|████████▍ | 42/50 [2:31:13<21:13, 159.19s/trial, best loss: 0.00028032487826815035]"
          ]
        },
        {
          "output_type": "stream",
          "name": "stderr",
          "text": [
            "/usr/local/lib/python3.10/dist-packages/keras/src/layers/rnn/rnn.py:205: UserWarning:\n",
            "\n",
            "Do not pass an `input_shape`/`input_dim` argument to a layer. When using Sequential models, prefer using an `Input(shape)` object as the first layer in the model instead.\n",
            "\n",
            "\n"
          ]
        },
        {
          "output_type": "stream",
          "name": "stdout",
          "text": [
            "\u001b[1m1/8\u001b[0m \u001b[32m━━\u001b[0m\u001b[37m━━━━━━━━━━━━━━━━━━\u001b[0m \u001b[1m1s\u001b[0m 169ms/step\n",
            "\u001b[1m4/8\u001b[0m \u001b[32m━━━━━━━━━━\u001b[0m\u001b[37m━━━━━━━━━━\u001b[0m \u001b[1m0s\u001b[0m 19ms/step \n",
            "\u001b[1m7/8\u001b[0m \u001b[32m━━━━━━━━━━━━━━━━━\u001b[0m\u001b[37m━━━\u001b[0m \u001b[1m0s\u001b[0m 19ms/step\n",
            "\u001b[1m8/8\u001b[0m \u001b[32m━━━━━━━━━━━━━━━━━━━━\u001b[0m\u001b[37m\u001b[0m \u001b[1m0s\u001b[0m 40ms/step\n",
            "\u001b[1m8/8\u001b[0m \u001b[32m━━━━━━━━━━━━━━━━━━━━\u001b[0m\u001b[37m\u001b[0m \u001b[1m0s\u001b[0m 41ms/step\n",
            "\n",
            " 86%|████████▌ | 43/50 [2:32:23<15:26, 132.36s/trial, best loss: 0.00028032487826815035]"
          ]
        },
        {
          "output_type": "stream",
          "name": "stderr",
          "text": [
            "/usr/local/lib/python3.10/dist-packages/keras/src/layers/rnn/rnn.py:205: UserWarning:\n",
            "\n",
            "Do not pass an `input_shape`/`input_dim` argument to a layer. When using Sequential models, prefer using an `Input(shape)` object as the first layer in the model instead.\n",
            "\n",
            "\n"
          ]
        },
        {
          "output_type": "stream",
          "name": "stdout",
          "text": [
            "\u001b[1m1/8\u001b[0m \u001b[32m━━\u001b[0m\u001b[37m━━━━━━━━━━━━━━━━━━\u001b[0m \u001b[1m1s\u001b[0m 206ms/step\n",
            "\u001b[1m3/8\u001b[0m \u001b[32m━━━━━━━\u001b[0m\u001b[37m━━━━━━━━━━━━━\u001b[0m \u001b[1m0s\u001b[0m 39ms/step \n",
            "\u001b[1m5/8\u001b[0m \u001b[32m━━━━━━━━━━━━\u001b[0m\u001b[37m━━━━━━━━\u001b[0m \u001b[1m0s\u001b[0m 38ms/step\n",
            "\u001b[1m7/8\u001b[0m \u001b[32m━━━━━━━━━━━━━━━━━\u001b[0m\u001b[37m━━━\u001b[0m \u001b[1m0s\u001b[0m 37ms/step\n",
            "\u001b[1m8/8\u001b[0m \u001b[32m━━━━━━━━━━━━━━━━━━━━\u001b[0m\u001b[37m\u001b[0m \u001b[1m0s\u001b[0m 60ms/step\n",
            "\u001b[1m8/8\u001b[0m \u001b[32m━━━━━━━━━━━━━━━━━━━━\u001b[0m\u001b[37m\u001b[0m \u001b[1m1s\u001b[0m 62ms/step\n",
            "\n",
            " 88%|████████▊ | 44/50 [2:37:11<17:53, 178.96s/trial, best loss: 0.00028032487826815035]"
          ]
        },
        {
          "output_type": "stream",
          "name": "stderr",
          "text": [
            "/usr/local/lib/python3.10/dist-packages/keras/src/layers/rnn/rnn.py:205: UserWarning:\n",
            "\n",
            "Do not pass an `input_shape`/`input_dim` argument to a layer. When using Sequential models, prefer using an `Input(shape)` object as the first layer in the model instead.\n",
            "\n",
            "\n"
          ]
        },
        {
          "output_type": "stream",
          "name": "stdout",
          "text": [
            "\u001b[1m1/8\u001b[0m \u001b[32m━━\u001b[0m\u001b[37m━━━━━━━━━━━━━━━━━━\u001b[0m \u001b[1m1s\u001b[0m 215ms/step\n",
            "\u001b[1m2/8\u001b[0m \u001b[32m━━━━━\u001b[0m\u001b[37m━━━━━━━━━━━━━━━\u001b[0m \u001b[1m0s\u001b[0m 57ms/step \n",
            "\u001b[1m3/8\u001b[0m \u001b[32m━━━━━━━\u001b[0m\u001b[37m━━━━━━━━━━━━━\u001b[0m \u001b[1m0s\u001b[0m 57ms/step\n",
            "\u001b[1m4/8\u001b[0m \u001b[32m━━━━━━━━━━\u001b[0m\u001b[37m━━━━━━━━━━\u001b[0m \u001b[1m0s\u001b[0m 56ms/step\n",
            "\u001b[1m5/8\u001b[0m \u001b[32m━━━━━━━━━━━━\u001b[0m\u001b[37m━━━━━━━━\u001b[0m \u001b[1m0s\u001b[0m 57ms/step\n",
            "\u001b[1m6/8\u001b[0m \u001b[32m━━━━━━━━━━━━━━━\u001b[0m\u001b[37m━━━━━\u001b[0m \u001b[1m0s\u001b[0m 57ms/step\n",
            "\u001b[1m7/8\u001b[0m \u001b[32m━━━━━━━━━━━━━━━━━\u001b[0m\u001b[37m━━━\u001b[0m \u001b[1m0s\u001b[0m 57ms/step\n",
            "\u001b[1m8/8\u001b[0m \u001b[32m━━━━━━━━━━━━━━━━━━━━\u001b[0m\u001b[37m\u001b[0m \u001b[1m0s\u001b[0m 78ms/step\n",
            "\u001b[1m8/8\u001b[0m \u001b[32m━━━━━━━━━━━━━━━━━━━━\u001b[0m\u001b[37m\u001b[0m \u001b[1m1s\u001b[0m 80ms/step\n",
            "\n",
            " 90%|█████████ | 45/50 [2:42:28<18:22, 220.42s/trial, best loss: 0.00028032487826815035]"
          ]
        },
        {
          "output_type": "stream",
          "name": "stderr",
          "text": [
            "/usr/local/lib/python3.10/dist-packages/keras/src/layers/rnn/rnn.py:205: UserWarning:\n",
            "\n",
            "Do not pass an `input_shape`/`input_dim` argument to a layer. When using Sequential models, prefer using an `Input(shape)` object as the first layer in the model instead.\n",
            "\n",
            "\n"
          ]
        },
        {
          "output_type": "stream",
          "name": "stdout",
          "text": [
            "\u001b[1m1/8\u001b[0m \u001b[32m━━\u001b[0m\u001b[37m━━━━━━━━━━━━━━━━━━\u001b[0m \u001b[1m1s\u001b[0m 191ms/step\n",
            "\u001b[1m3/8\u001b[0m \u001b[32m━━━━━━━\u001b[0m\u001b[37m━━━━━━━━━━━━━\u001b[0m \u001b[1m0s\u001b[0m 37ms/step \n",
            "\u001b[1m5/8\u001b[0m \u001b[32m━━━━━━━━━━━━\u001b[0m\u001b[37m━━━━━━━━\u001b[0m \u001b[1m0s\u001b[0m 37ms/step\n",
            "\u001b[1m7/8\u001b[0m \u001b[32m━━━━━━━━━━━━━━━━━\u001b[0m\u001b[37m━━━\u001b[0m \u001b[1m0s\u001b[0m 37ms/step\n",
            "\u001b[1m8/8\u001b[0m \u001b[32m━━━━━━━━━━━━━━━━━━━━\u001b[0m\u001b[37m\u001b[0m \u001b[1m0s\u001b[0m 59ms/step\n",
            "\u001b[1m8/8\u001b[0m \u001b[32m━━━━━━━━━━━━━━━━━━━━\u001b[0m\u001b[37m\u001b[0m \u001b[1m1s\u001b[0m 60ms/step\n",
            "\n",
            " 92%|█████████▏| 46/50 [2:44:42<12:57, 194.49s/trial, best loss: 0.00028032487826815035]"
          ]
        },
        {
          "output_type": "stream",
          "name": "stderr",
          "text": [
            "/usr/local/lib/python3.10/dist-packages/keras/src/layers/rnn/rnn.py:205: UserWarning:\n",
            "\n",
            "Do not pass an `input_shape`/`input_dim` argument to a layer. When using Sequential models, prefer using an `Input(shape)` object as the first layer in the model instead.\n",
            "\n",
            "\n"
          ]
        },
        {
          "output_type": "stream",
          "name": "stdout",
          "text": [
            "\u001b[1m1/8\u001b[0m \u001b[32m━━\u001b[0m\u001b[37m━━━━━━━━━━━━━━━━━━\u001b[0m \u001b[1m1s\u001b[0m 164ms/step\n",
            "\u001b[1m5/8\u001b[0m \u001b[32m━━━━━━━━━━━━\u001b[0m\u001b[37m━━━━━━━━\u001b[0m \u001b[1m0s\u001b[0m 13ms/step \n",
            "\u001b[1m8/8\u001b[0m \u001b[32m━━━━━━━━━━━━━━━━━━━━\u001b[0m\u001b[37m\u001b[0m \u001b[1m0s\u001b[0m 34ms/step\n",
            "\u001b[1m8/8\u001b[0m \u001b[32m━━━━━━━━━━━━━━━━━━━━\u001b[0m\u001b[37m\u001b[0m \u001b[1m0s\u001b[0m 37ms/step\n",
            "\n",
            " 94%|█████████▍| 47/50 [2:46:31<08:26, 168.94s/trial, best loss: 0.00028032487826815035]"
          ]
        },
        {
          "output_type": "stream",
          "name": "stderr",
          "text": [
            "/usr/local/lib/python3.10/dist-packages/keras/src/layers/rnn/rnn.py:205: UserWarning:\n",
            "\n",
            "Do not pass an `input_shape`/`input_dim` argument to a layer. When using Sequential models, prefer using an `Input(shape)` object as the first layer in the model instead.\n",
            "\n",
            "\n"
          ]
        },
        {
          "output_type": "stream",
          "name": "stdout",
          "text": [
            "\u001b[1m1/8\u001b[0m \u001b[32m━━\u001b[0m\u001b[37m━━━━━━━━━━━━━━━━━━\u001b[0m \u001b[1m1s\u001b[0m 268ms/step\n",
            "\u001b[1m3/8\u001b[0m \u001b[32m━━━━━━━\u001b[0m\u001b[37m━━━━━━━━━━━━━\u001b[0m \u001b[1m0s\u001b[0m 28ms/step \n",
            "\u001b[1m5/8\u001b[0m \u001b[32m━━━━━━━━━━━━\u001b[0m\u001b[37m━━━━━━━━\u001b[0m \u001b[1m0s\u001b[0m 27ms/step\n",
            "\u001b[1m8/8\u001b[0m \u001b[32m━━━━━━━━━━━━━━━━━━━━\u001b[0m\u001b[37m\u001b[0m \u001b[1m0s\u001b[0m 56ms/step\n",
            "\u001b[1m8/8\u001b[0m \u001b[32m━━━━━━━━━━━━━━━━━━━━\u001b[0m\u001b[37m\u001b[0m \u001b[1m1s\u001b[0m 57ms/step\n",
            "\n",
            " 96%|█████████▌| 48/50 [2:48:04<04:52, 146.10s/trial, best loss: 0.00028032487826815035]"
          ]
        },
        {
          "output_type": "stream",
          "name": "stderr",
          "text": [
            "/usr/local/lib/python3.10/dist-packages/keras/src/layers/rnn/rnn.py:205: UserWarning:\n",
            "\n",
            "Do not pass an `input_shape`/`input_dim` argument to a layer. When using Sequential models, prefer using an `Input(shape)` object as the first layer in the model instead.\n",
            "\n",
            "\n"
          ]
        },
        {
          "output_type": "stream",
          "name": "stdout",
          "text": [
            "\u001b[1m1/8\u001b[0m \u001b[32m━━\u001b[0m\u001b[37m━━━━━━━━━━━━━━━━━━\u001b[0m \u001b[1m1s\u001b[0m 180ms/step\n",
            "\u001b[1m3/8\u001b[0m \u001b[32m━━━━━━━\u001b[0m\u001b[37m━━━━━━━━━━━━━\u001b[0m \u001b[1m0s\u001b[0m 28ms/step \n",
            "\u001b[1m5/8\u001b[0m \u001b[32m━━━━━━━━━━━━\u001b[0m\u001b[37m━━━━━━━━\u001b[0m \u001b[1m0s\u001b[0m 30ms/step\n",
            "\u001b[1m7/8\u001b[0m \u001b[32m━━━━━━━━━━━━━━━━━\u001b[0m\u001b[37m━━━\u001b[0m \u001b[1m0s\u001b[0m 30ms/step\n",
            "\u001b[1m8/8\u001b[0m \u001b[32m━━━━━━━━━━━━━━━━━━━━\u001b[0m\u001b[37m\u001b[0m \u001b[1m0s\u001b[0m 52ms/step\n",
            "\u001b[1m8/8\u001b[0m \u001b[32m━━━━━━━━━━━━━━━━━━━━\u001b[0m\u001b[37m\u001b[0m \u001b[1m1s\u001b[0m 53ms/step\n",
            "\n",
            " 98%|█████████▊| 49/50 [2:48:52<01:56, 116.79s/trial, best loss: 0.00028032487826815035]"
          ]
        },
        {
          "output_type": "stream",
          "name": "stderr",
          "text": [
            "/usr/local/lib/python3.10/dist-packages/keras/src/layers/rnn/rnn.py:205: UserWarning:\n",
            "\n",
            "Do not pass an `input_shape`/`input_dim` argument to a layer. When using Sequential models, prefer using an `Input(shape)` object as the first layer in the model instead.\n",
            "\n",
            "\n"
          ]
        },
        {
          "output_type": "stream",
          "name": "stdout",
          "text": [
            "\u001b[1m1/8\u001b[0m \u001b[32m━━\u001b[0m\u001b[37m━━━━━━━━━━━━━━━━━━\u001b[0m \u001b[1m1s\u001b[0m 215ms/step\n",
            "\u001b[1m2/8\u001b[0m \u001b[32m━━━━━\u001b[0m\u001b[37m━━━━━━━━━━━━━━━\u001b[0m \u001b[1m0s\u001b[0m 56ms/step \n",
            "\u001b[1m3/8\u001b[0m \u001b[32m━━━━━━━\u001b[0m\u001b[37m━━━━━━━━━━━━━\u001b[0m \u001b[1m0s\u001b[0m 57ms/step\n",
            "\u001b[1m4/8\u001b[0m \u001b[32m━━━━━━━━━━\u001b[0m\u001b[37m━━━━━━━━━━\u001b[0m \u001b[1m0s\u001b[0m 57ms/step\n",
            "\u001b[1m5/8\u001b[0m \u001b[32m━━━━━━━━━━━━\u001b[0m\u001b[37m━━━━━━━━\u001b[0m \u001b[1m0s\u001b[0m 57ms/step\n",
            "\u001b[1m6/8\u001b[0m \u001b[32m━━━━━━━━━━━━━━━\u001b[0m\u001b[37m━━━━━\u001b[0m \u001b[1m0s\u001b[0m 57ms/step\n",
            "\u001b[1m7/8\u001b[0m \u001b[32m━━━━━━━━━━━━━━━━━\u001b[0m\u001b[37m━━━\u001b[0m \u001b[1m0s\u001b[0m 57ms/step\n",
            "\u001b[1m8/8\u001b[0m \u001b[32m━━━━━━━━━━━━━━━━━━━━\u001b[0m\u001b[37m\u001b[0m \u001b[1m0s\u001b[0m 79ms/step\n",
            "\u001b[1m8/8\u001b[0m \u001b[32m━━━━━━━━━━━━━━━━━━━━\u001b[0m\u001b[37m\u001b[0m \u001b[1m1s\u001b[0m 81ms/step\n",
            "\n",
            "100%|██████████| 50/50 [2:53:20<00:00, 208.00s/trial, best loss: 0.00028032487826815035]\n",
            "Best Hyperparameters:\n",
            "Epochs: 77\n",
            "Batch Size: 16\n",
            "Dropout: 0.13172825682206818\n",
            "Units: 186\n"
          ]
        }
      ]
    },
    {
      "cell_type": "code",
      "execution_count": null,
      "metadata": {
        "id": "2ybK4bg9ILo4",
        "outputId": "be4fce44-ceab-4a0b-d862-b63ad10ce129",
        "colab": {
          "base_uri": "https://localhost:8080/"
        }
      },
      "outputs": [
        {
          "output_type": "execute_result",
          "data": {
            "text/plain": [
              "(1198, 60, 1)"
            ]
          },
          "metadata": {},
          "execution_count": 21
        }
      ],
      "source": [
        "X_train.shape"
      ]
    },
    {
      "cell_type": "code",
      "execution_count": null,
      "metadata": {
        "collapsed": true,
        "id": "KANhUFFNILo5"
      },
      "outputs": [],
      "source": [
        "regressor=Sequential()"
      ]
    },
    {
      "cell_type": "code",
      "execution_count": null,
      "metadata": {
        "collapsed": true,
        "id": "xl04D12GILo6",
        "colab": {
          "base_uri": "https://localhost:8080/"
        },
        "outputId": "b2ad3800-6aaa-4c7c-ba58-fac56e4d6dda"
      },
      "outputs": [
        {
          "output_type": "stream",
          "name": "stderr",
          "text": [
            "/usr/local/lib/python3.10/dist-packages/keras/src/layers/rnn/rnn.py:205: UserWarning:\n",
            "\n",
            "Do not pass an `input_shape`/`input_dim` argument to a layer. When using Sequential models, prefer using an `Input(shape)` object as the first layer in the model instead.\n",
            "\n"
          ]
        }
      ],
      "source": [
        "regressor.add(LSTM(units=186,return_sequences=True,input_shape=(X_train.shape[1], 1)))\n",
        "regressor.add(Dropout(0.13172825682206818))"
      ]
    },
    {
      "cell_type": "code",
      "execution_count": null,
      "metadata": {
        "collapsed": true,
        "id": "DtxehuLUILo6"
      },
      "outputs": [],
      "source": [
        "regressor.add(LSTM(units=186,return_sequences=True))\n",
        "regressor.add(Dropout(0.13172825682206818))"
      ]
    },
    {
      "cell_type": "code",
      "source": [
        "regressor.add(LSTM(units=186,return_sequences=True))\n",
        "regressor.add(Dropout(0.13172825682206818))"
      ],
      "metadata": {
        "id": "lT2QJm9IE6dt"
      },
      "execution_count": null,
      "outputs": []
    },
    {
      "cell_type": "code",
      "execution_count": null,
      "metadata": {
        "collapsed": true,
        "id": "Um3w6rqyILo7"
      },
      "outputs": [],
      "source": [
        "regressor.add(LSTM(units=186))\n",
        "regressor.add(Dropout(0.13172825682206818))"
      ]
    },
    {
      "cell_type": "code",
      "execution_count": null,
      "metadata": {
        "collapsed": true,
        "id": "JOAODiuwILo7"
      },
      "outputs": [],
      "source": [
        "regressor.add(Dense(units=1))"
      ]
    },
    {
      "cell_type": "code",
      "execution_count": null,
      "metadata": {
        "collapsed": true,
        "id": "3bKKU2iNILo8"
      },
      "outputs": [],
      "source": [
        "regressor.compile(optimizer='adam',loss='mean_squared_error')"
      ]
    },
    {
      "cell_type": "code",
      "execution_count": null,
      "metadata": {
        "id": "9sgOGe-CILo8",
        "outputId": "90e39850-6e24-487c-be19-b1516e08e205",
        "colab": {
          "base_uri": "https://localhost:8080/"
        }
      },
      "outputs": [
        {
          "output_type": "stream",
          "name": "stdout",
          "text": [
            "Epoch 1/77\n",
            "\u001b[1m75/75\u001b[0m \u001b[32m━━━━━━━━━━━━━━━━━━━━\u001b[0m\u001b[37m\u001b[0m \u001b[1m38s\u001b[0m 417ms/step - loss: 0.0310\n",
            "Epoch 2/77\n",
            "\u001b[1m75/75\u001b[0m \u001b[32m━━━━━━━━━━━━━━━━━━━━\u001b[0m\u001b[37m\u001b[0m \u001b[1m30s\u001b[0m 402ms/step - loss: 0.0034\n",
            "Epoch 3/77\n",
            "\u001b[1m75/75\u001b[0m \u001b[32m━━━━━━━━━━━━━━━━━━━━\u001b[0m\u001b[37m\u001b[0m \u001b[1m42s\u001b[0m 415ms/step - loss: 0.0028\n",
            "Epoch 4/77\n",
            "\u001b[1m75/75\u001b[0m \u001b[32m━━━━━━━━━━━━━━━━━━━━\u001b[0m\u001b[37m\u001b[0m \u001b[1m42s\u001b[0m 435ms/step - loss: 0.0028\n",
            "Epoch 5/77\n",
            "\u001b[1m75/75\u001b[0m \u001b[32m━━━━━━━━━━━━━━━━━━━━\u001b[0m\u001b[37m\u001b[0m \u001b[1m39s\u001b[0m 407ms/step - loss: 0.0025\n",
            "Epoch 6/77\n",
            "\u001b[1m75/75\u001b[0m \u001b[32m━━━━━━━━━━━━━━━━━━━━\u001b[0m\u001b[37m\u001b[0m \u001b[1m42s\u001b[0m 419ms/step - loss: 0.0024\n",
            "Epoch 7/77\n",
            "\u001b[1m75/75\u001b[0m \u001b[32m━━━━━━━━━━━━━━━━━━━━\u001b[0m\u001b[37m\u001b[0m \u001b[1m40s\u001b[0m 402ms/step - loss: 0.0024\n",
            "Epoch 8/77\n",
            "\u001b[1m75/75\u001b[0m \u001b[32m━━━━━━━━━━━━━━━━━━━━\u001b[0m\u001b[37m\u001b[0m \u001b[1m41s\u001b[0m 404ms/step - loss: 0.0021\n",
            "Epoch 9/77\n",
            "\u001b[1m75/75\u001b[0m \u001b[32m━━━━━━━━━━━━━━━━━━━━\u001b[0m\u001b[37m\u001b[0m \u001b[1m43s\u001b[0m 436ms/step - loss: 0.0029\n",
            "Epoch 10/77\n",
            "\u001b[1m75/75\u001b[0m \u001b[32m━━━━━━━━━━━━━━━━━━━━\u001b[0m\u001b[37m\u001b[0m \u001b[1m39s\u001b[0m 406ms/step - loss: 0.0020\n",
            "Epoch 11/77\n",
            "\u001b[1m75/75\u001b[0m \u001b[32m━━━━━━━━━━━━━━━━━━━━\u001b[0m\u001b[37m\u001b[0m \u001b[1m32s\u001b[0m 420ms/step - loss: 0.0019\n",
            "Epoch 12/77\n",
            "\u001b[1m75/75\u001b[0m \u001b[32m━━━━━━━━━━━━━━━━━━━━\u001b[0m\u001b[37m\u001b[0m \u001b[1m31s\u001b[0m 407ms/step - loss: 0.0018\n",
            "Epoch 13/77\n",
            "\u001b[1m75/75\u001b[0m \u001b[32m━━━━━━━━━━━━━━━━━━━━\u001b[0m\u001b[37m\u001b[0m \u001b[1m42s\u001b[0m 422ms/step - loss: 0.0014\n",
            "Epoch 14/77\n",
            "\u001b[1m75/75\u001b[0m \u001b[32m━━━━━━━━━━━━━━━━━━━━\u001b[0m\u001b[37m\u001b[0m \u001b[1m40s\u001b[0m 411ms/step - loss: 0.0020\n",
            "Epoch 15/77\n",
            "\u001b[1m75/75\u001b[0m \u001b[32m━━━━━━━━━━━━━━━━━━━━\u001b[0m\u001b[37m\u001b[0m \u001b[1m43s\u001b[0m 433ms/step - loss: 0.0018\n",
            "Epoch 16/77\n",
            "\u001b[1m75/75\u001b[0m \u001b[32m━━━━━━━━━━━━━━━━━━━━\u001b[0m\u001b[37m\u001b[0m \u001b[1m40s\u001b[0m 422ms/step - loss: 0.0016\n",
            "Epoch 17/77\n",
            "\u001b[1m75/75\u001b[0m \u001b[32m━━━━━━━━━━━━━━━━━━━━\u001b[0m\u001b[37m\u001b[0m \u001b[1m31s\u001b[0m 407ms/step - loss: 0.0016\n",
            "Epoch 18/77\n",
            "\u001b[1m75/75\u001b[0m \u001b[32m━━━━━━━━━━━━━━━━━━━━\u001b[0m\u001b[37m\u001b[0m \u001b[1m31s\u001b[0m 420ms/step - loss: 0.0014\n",
            "Epoch 19/77\n",
            "\u001b[1m75/75\u001b[0m \u001b[32m━━━━━━━━━━━━━━━━━━━━\u001b[0m\u001b[37m\u001b[0m \u001b[1m31s\u001b[0m 407ms/step - loss: 0.0012\n",
            "Epoch 20/77\n",
            "\u001b[1m75/75\u001b[0m \u001b[32m━━━━━━━━━━━━━━━━━━━━\u001b[0m\u001b[37m\u001b[0m \u001b[1m42s\u001b[0m 420ms/step - loss: 0.0011\n",
            "Epoch 21/77\n",
            "\u001b[1m75/75\u001b[0m \u001b[32m━━━━━━━━━━━━━━━━━━━━\u001b[0m\u001b[37m\u001b[0m \u001b[1m40s\u001b[0m 404ms/step - loss: 0.0012\n",
            "Epoch 22/77\n",
            "\u001b[1m75/75\u001b[0m \u001b[32m━━━━━━━━━━━━━━━━━━━━\u001b[0m\u001b[37m\u001b[0m \u001b[1m42s\u001b[0m 418ms/step - loss: 0.0012\n",
            "Epoch 23/77\n",
            "\u001b[1m75/75\u001b[0m \u001b[32m━━━━━━━━━━━━━━━━━━━━\u001b[0m\u001b[37m\u001b[0m \u001b[1m30s\u001b[0m 403ms/step - loss: 0.0012\n",
            "Epoch 24/77\n",
            "\u001b[1m75/75\u001b[0m \u001b[32m━━━━━━━━━━━━━━━━━━━━\u001b[0m\u001b[37m\u001b[0m \u001b[1m42s\u001b[0m 416ms/step - loss: 0.0012\n",
            "Epoch 25/77\n",
            "\u001b[1m75/75\u001b[0m \u001b[32m━━━━━━━━━━━━━━━━━━━━\u001b[0m\u001b[37m\u001b[0m \u001b[1m41s\u001b[0m 417ms/step - loss: 0.0013\n",
            "Epoch 26/77\n",
            "\u001b[1m75/75\u001b[0m \u001b[32m━━━━━━━━━━━━━━━━━━━━\u001b[0m\u001b[37m\u001b[0m \u001b[1m40s\u001b[0m 407ms/step - loss: 0.0010\n",
            "Epoch 27/77\n",
            "\u001b[1m75/75\u001b[0m \u001b[32m━━━━━━━━━━━━━━━━━━━━\u001b[0m\u001b[37m\u001b[0m \u001b[1m43s\u001b[0m 436ms/step - loss: 0.0012\n",
            "Epoch 28/77\n",
            "\u001b[1m75/75\u001b[0m \u001b[32m━━━━━━━━━━━━━━━━━━━━\u001b[0m\u001b[37m\u001b[0m \u001b[1m39s\u001b[0m 408ms/step - loss: 0.0011\n",
            "Epoch 29/77\n",
            "\u001b[1m75/75\u001b[0m \u001b[32m━━━━━━━━━━━━━━━━━━━━\u001b[0m\u001b[37m\u001b[0m \u001b[1m31s\u001b[0m 415ms/step - loss: 9.6440e-04\n",
            "Epoch 30/77\n",
            "\u001b[1m75/75\u001b[0m \u001b[32m━━━━━━━━━━━━━━━━━━━━\u001b[0m\u001b[37m\u001b[0m \u001b[1m41s\u001b[0m 409ms/step - loss: 0.0012\n",
            "Epoch 31/77\n",
            "\u001b[1m75/75\u001b[0m \u001b[32m━━━━━━━━━━━━━━━━━━━━\u001b[0m\u001b[37m\u001b[0m \u001b[1m40s\u001b[0m 403ms/step - loss: 0.0011\n",
            "Epoch 32/77\n",
            "\u001b[1m75/75\u001b[0m \u001b[32m━━━━━━━━━━━━━━━━━━━━\u001b[0m\u001b[37m\u001b[0m \u001b[1m31s\u001b[0m 415ms/step - loss: 9.4790e-04\n",
            "Epoch 33/77\n",
            "\u001b[1m75/75\u001b[0m \u001b[32m━━━━━━━━━━━━━━━━━━━━\u001b[0m\u001b[37m\u001b[0m \u001b[1m40s\u001b[0m 405ms/step - loss: 0.0011\n",
            "Epoch 34/77\n",
            "\u001b[1m75/75\u001b[0m \u001b[32m━━━━━━━━━━━━━━━━━━━━\u001b[0m\u001b[37m\u001b[0m \u001b[1m33s\u001b[0m 440ms/step - loss: 0.0010\n",
            "Epoch 35/77\n",
            "\u001b[1m75/75\u001b[0m \u001b[32m━━━━━━━━━━━━━━━━━━━━\u001b[0m\u001b[37m\u001b[0m \u001b[1m40s\u001b[0m 421ms/step - loss: 0.0013\n",
            "Epoch 36/77\n",
            "\u001b[1m75/75\u001b[0m \u001b[32m━━━━━━━━━━━━━━━━━━━━\u001b[0m\u001b[37m\u001b[0m \u001b[1m40s\u001b[0m 405ms/step - loss: 0.0010\n",
            "Epoch 37/77\n",
            "\u001b[1m75/75\u001b[0m \u001b[32m━━━━━━━━━━━━━━━━━━━━\u001b[0m\u001b[37m\u001b[0m \u001b[1m31s\u001b[0m 418ms/step - loss: 0.0011\n",
            "Epoch 38/77\n",
            "\u001b[1m75/75\u001b[0m \u001b[32m━━━━━━━━━━━━━━━━━━━━\u001b[0m\u001b[37m\u001b[0m \u001b[1m40s\u001b[0m 405ms/step - loss: 8.7924e-04\n",
            "Epoch 39/77\n",
            "\u001b[1m75/75\u001b[0m \u001b[32m━━━━━━━━━━━━━━━━━━━━\u001b[0m\u001b[37m\u001b[0m \u001b[1m31s\u001b[0m 420ms/step - loss: 9.4146e-04\n",
            "Epoch 40/77\n",
            "\u001b[1m75/75\u001b[0m \u001b[32m━━━━━━━━━━━━━━━━━━━━\u001b[0m\u001b[37m\u001b[0m \u001b[1m42s\u001b[0m 435ms/step - loss: 0.0011\n",
            "Epoch 41/77\n",
            "\u001b[1m75/75\u001b[0m \u001b[32m━━━━━━━━━━━━━━━━━━━━\u001b[0m\u001b[37m\u001b[0m \u001b[1m39s\u001b[0m 411ms/step - loss: 8.3981e-04\n",
            "Epoch 42/77\n",
            "\u001b[1m75/75\u001b[0m \u001b[32m━━━━━━━━━━━━━━━━━━━━\u001b[0m\u001b[37m\u001b[0m \u001b[1m42s\u001b[0m 418ms/step - loss: 9.1760e-04\n",
            "Epoch 43/77\n",
            "\u001b[1m75/75\u001b[0m \u001b[32m━━━━━━━━━━━━━━━━━━━━\u001b[0m\u001b[37m\u001b[0m \u001b[1m40s\u001b[0m 404ms/step - loss: 9.7820e-04\n",
            "Epoch 44/77\n",
            "\u001b[1m75/75\u001b[0m \u001b[32m━━━━━━━━━━━━━━━━━━━━\u001b[0m\u001b[37m\u001b[0m \u001b[1m31s\u001b[0m 417ms/step - loss: 9.5691e-04\n",
            "Epoch 45/77\n",
            "\u001b[1m75/75\u001b[0m \u001b[32m━━━━━━━━━━━━━━━━━━━━\u001b[0m\u001b[37m\u001b[0m \u001b[1m41s\u001b[0m 409ms/step - loss: 9.3402e-04\n",
            "Epoch 46/77\n",
            "\u001b[1m75/75\u001b[0m \u001b[32m━━━━━━━━━━━━━━━━━━━━\u001b[0m\u001b[37m\u001b[0m \u001b[1m42s\u001b[0m 421ms/step - loss: 9.7346e-04\n",
            "Epoch 47/77\n",
            "\u001b[1m75/75\u001b[0m \u001b[32m━━━━━━━━━━━━━━━━━━━━\u001b[0m\u001b[37m\u001b[0m \u001b[1m31s\u001b[0m 418ms/step - loss: 8.0481e-04\n",
            "Epoch 48/77\n",
            "\u001b[1m75/75\u001b[0m \u001b[32m━━━━━━━━━━━━━━━━━━━━\u001b[0m\u001b[37m\u001b[0m \u001b[1m40s\u001b[0m 407ms/step - loss: 8.6327e-04\n",
            "Epoch 49/77\n",
            "\u001b[1m75/75\u001b[0m \u001b[32m━━━━━━━━━━━━━━━━━━━━\u001b[0m\u001b[37m\u001b[0m \u001b[1m42s\u001b[0m 418ms/step - loss: 9.9260e-04\n",
            "Epoch 50/77\n",
            "\u001b[1m75/75\u001b[0m \u001b[32m━━━━━━━━━━━━━━━━━━━━\u001b[0m\u001b[37m\u001b[0m \u001b[1m31s\u001b[0m 410ms/step - loss: 8.7292e-04\n",
            "Epoch 51/77\n",
            "\u001b[1m75/75\u001b[0m \u001b[32m━━━━━━━━━━━━━━━━━━━━\u001b[0m\u001b[37m\u001b[0m \u001b[1m31s\u001b[0m 416ms/step - loss: 0.0011\n",
            "Epoch 52/77\n",
            "\u001b[1m75/75\u001b[0m \u001b[32m━━━━━━━━━━━━━━━━━━━━\u001b[0m\u001b[37m\u001b[0m \u001b[1m42s\u001b[0m 430ms/step - loss: 9.6696e-04\n",
            "Epoch 53/77\n",
            "\u001b[1m75/75\u001b[0m \u001b[32m━━━━━━━━━━━━━━━━━━━━\u001b[0m\u001b[37m\u001b[0m \u001b[1m39s\u001b[0m 405ms/step - loss: 8.0354e-04\n",
            "Epoch 54/77\n",
            "\u001b[1m75/75\u001b[0m \u001b[32m━━━━━━━━━━━━━━━━━━━━\u001b[0m\u001b[37m\u001b[0m \u001b[1m42s\u001b[0m 417ms/step - loss: 9.7689e-04\n",
            "Epoch 55/77\n",
            "\u001b[1m75/75\u001b[0m \u001b[32m━━━━━━━━━━━━━━━━━━━━\u001b[0m\u001b[37m\u001b[0m \u001b[1m30s\u001b[0m 402ms/step - loss: 6.7233e-04\n",
            "Epoch 56/77\n",
            "\u001b[1m75/75\u001b[0m \u001b[32m━━━━━━━━━━━━━━━━━━━━\u001b[0m\u001b[37m\u001b[0m \u001b[1m32s\u001b[0m 421ms/step - loss: 8.2160e-04\n",
            "Epoch 57/77\n",
            "\u001b[1m75/75\u001b[0m \u001b[32m━━━━━━━━━━━━━━━━━━━━\u001b[0m\u001b[37m\u001b[0m \u001b[1m40s\u001b[0m 408ms/step - loss: 8.3742e-04\n",
            "Epoch 58/77\n",
            "\u001b[1m75/75\u001b[0m \u001b[32m━━━━━━━━━━━━━━━━━━━━\u001b[0m\u001b[37m\u001b[0m \u001b[1m43s\u001b[0m 436ms/step - loss: 8.8013e-04\n",
            "Epoch 59/77\n",
            "\u001b[1m75/75\u001b[0m \u001b[32m━━━━━━━━━━━━━━━━━━━━\u001b[0m\u001b[37m\u001b[0m \u001b[1m40s\u001b[0m 419ms/step - loss: 0.0011\n",
            "Epoch 60/77\n",
            "\u001b[1m75/75\u001b[0m \u001b[32m━━━━━━━━━━━━━━━━━━━━\u001b[0m\u001b[37m\u001b[0m \u001b[1m40s\u001b[0m 412ms/step - loss: 6.9499e-04\n",
            "Epoch 61/77\n",
            "\u001b[1m75/75\u001b[0m \u001b[32m━━━━━━━━━━━━━━━━━━━━\u001b[0m\u001b[37m\u001b[0m \u001b[1m41s\u001b[0m 419ms/step - loss: 7.2131e-04\n",
            "Epoch 62/77\n",
            "\u001b[1m75/75\u001b[0m \u001b[32m━━━━━━━━━━━━━━━━━━━━\u001b[0m\u001b[37m\u001b[0m \u001b[1m31s\u001b[0m 408ms/step - loss: 8.9067e-04\n",
            "Epoch 63/77\n",
            "\u001b[1m75/75\u001b[0m \u001b[32m━━━━━━━━━━━━━━━━━━━━\u001b[0m\u001b[37m\u001b[0m \u001b[1m42s\u001b[0m 422ms/step - loss: 7.2483e-04\n",
            "Epoch 64/77\n",
            "\u001b[1m75/75\u001b[0m \u001b[32m━━━━━━━━━━━━━━━━━━━━\u001b[0m\u001b[37m\u001b[0m \u001b[1m42s\u001b[0m 435ms/step - loss: 7.3274e-04\n",
            "Epoch 65/77\n",
            "\u001b[1m75/75\u001b[0m \u001b[32m━━━━━━━━━━━━━━━━━━━━\u001b[0m\u001b[37m\u001b[0m \u001b[1m31s\u001b[0m 414ms/step - loss: 8.9761e-04\n",
            "Epoch 66/77\n",
            "\u001b[1m75/75\u001b[0m \u001b[32m━━━━━━━━━━━━━━━━━━━━\u001b[0m\u001b[37m\u001b[0m \u001b[1m41s\u001b[0m 421ms/step - loss: 8.8938e-04\n",
            "Epoch 67/77\n",
            "\u001b[1m75/75\u001b[0m \u001b[32m━━━━━━━━━━━━━━━━━━━━\u001b[0m\u001b[37m\u001b[0m \u001b[1m40s\u001b[0m 402ms/step - loss: 0.0010\n",
            "Epoch 68/77\n",
            "\u001b[1m75/75\u001b[0m \u001b[32m━━━━━━━━━━━━━━━━━━━━\u001b[0m\u001b[37m\u001b[0m \u001b[1m42s\u001b[0m 417ms/step - loss: 8.4875e-04\n",
            "Epoch 69/77\n",
            "\u001b[1m75/75\u001b[0m \u001b[32m━━━━━━━━━━━━━━━━━━━━\u001b[0m\u001b[37m\u001b[0m \u001b[1m40s\u001b[0m 400ms/step - loss: 8.8980e-04\n",
            "Epoch 70/77\n",
            "\u001b[1m75/75\u001b[0m \u001b[32m━━━━━━━━━━━━━━━━━━━━\u001b[0m\u001b[37m\u001b[0m \u001b[1m32s\u001b[0m 429ms/step - loss: 9.4840e-04\n",
            "Epoch 71/77\n",
            "\u001b[1m75/75\u001b[0m \u001b[32m━━━━━━━━━━━━━━━━━━━━\u001b[0m\u001b[37m\u001b[0m \u001b[1m40s\u001b[0m 415ms/step - loss: 7.9357e-04\n",
            "Epoch 72/77\n",
            "\u001b[1m75/75\u001b[0m \u001b[32m━━━━━━━━━━━━━━━━━━━━\u001b[0m\u001b[37m\u001b[0m \u001b[1m31s\u001b[0m 407ms/step - loss: 6.9120e-04\n",
            "Epoch 73/77\n",
            "\u001b[1m75/75\u001b[0m \u001b[32m━━━━━━━━━━━━━━━━━━━━\u001b[0m\u001b[37m\u001b[0m \u001b[1m42s\u001b[0m 416ms/step - loss: 8.0858e-04\n",
            "Epoch 74/77\n",
            "\u001b[1m75/75\u001b[0m \u001b[32m━━━━━━━━━━━━━━━━━━━━\u001b[0m\u001b[37m\u001b[0m \u001b[1m42s\u001b[0m 430ms/step - loss: 7.9440e-04\n",
            "Epoch 75/77\n",
            "\u001b[1m75/75\u001b[0m \u001b[32m━━━━━━━━━━━━━━━━━━━━\u001b[0m\u001b[37m\u001b[0m \u001b[1m40s\u001b[0m 413ms/step - loss: 6.8170e-04\n",
            "Epoch 76/77\n",
            "\u001b[1m75/75\u001b[0m \u001b[32m━━━━━━━━━━━━━━━━━━━━\u001b[0m\u001b[37m\u001b[0m \u001b[1m32s\u001b[0m 421ms/step - loss: 9.8988e-04\n",
            "Epoch 77/77\n",
            "\u001b[1m75/75\u001b[0m \u001b[32m━━━━━━━━━━━━━━━━━━━━\u001b[0m\u001b[37m\u001b[0m \u001b[1m40s\u001b[0m 412ms/step - loss: 7.3495e-04\n"
          ]
        },
        {
          "output_type": "execute_result",
          "data": {
            "text/plain": [
              "<keras.src.callbacks.history.History at 0x7ba1cea97580>"
            ]
          },
          "metadata": {},
          "execution_count": 55
        }
      ],
      "source": [
        "# training the LSTM model\n",
        "regressor.fit(X_train,y_train,epochs=77,batch_size=16)"
      ]
    },
    {
      "cell_type": "code",
      "execution_count": null,
      "metadata": {
        "collapsed": true,
        "id": "gQ4qV07fILo8"
      },
      "outputs": [],
      "source": [
        "'''Reading the test dataset and performing data pre-processing on it'''\n",
        "\n",
        "test = pd.read_csv('Google_Stock_Price_Test.csv')\n",
        "\n",
        "test['Close'] = pd.to_numeric(test['Close'], errors='coerce')\n",
        "test['Open'] = pd.to_numeric(test['Open'], errors='coerce')\n",
        "\n",
        "test['Daily Change'] = test['Close'] - test['Open']\n",
        "test['Daily Return'] = (test['Close'] - test['Open']) / test['Open'] * 100\n",
        "test['High-Low Range'] = test['High'] - test['Low']\n",
        "test['Average Price'] = (test['High'] + test['Low']) / 2\n",
        "test['Price Direction'] = test['Close'].diff()\n",
        "\n",
        "\n",
        "real_stock_price = test.iloc[:, 1:2].values\n",
        "total_data=pd.concat([train['Open'],test['Open']], axis=0)"
      ]
    },
    {
      "cell_type": "code",
      "execution_count": null,
      "metadata": {
        "collapsed": true,
        "id": "IEZ_DEkXILo_"
      },
      "outputs": [],
      "source": [
        "inputs=total_data[len(train)-len(test)-60:].values\n",
        "inputs=inputs.reshape(-1,1)\n",
        "inputs = sc.transform(inputs)"
      ]
    },
    {
      "cell_type": "code",
      "execution_count": null,
      "metadata": {
        "collapsed": true,
        "id": "ALpah2NPILo_"
      },
      "outputs": [],
      "source": [
        "X_test=[]\n",
        "for i in range(60,80):\n",
        "    X_test.append(inputs[i-60:i,0])\n",
        "X_test=np.array(X_test)\n",
        "X_test.shape\n",
        "X_test=np.reshape(X_test,(X_test.shape[0],X_test.shape[1],1))"
      ]
    },
    {
      "cell_type": "code",
      "execution_count": null,
      "metadata": {
        "collapsed": true,
        "id": "yym9xpeJILo_",
        "colab": {
          "base_uri": "https://localhost:8080/"
        },
        "outputId": "a5f7529b-2257-44f0-a16a-04ba55c476bb"
      },
      "outputs": [
        {
          "output_type": "stream",
          "name": "stdout",
          "text": [
            "\u001b[1m1/1\u001b[0m \u001b[32m━━━━━━━━━━━━━━━━━━━━\u001b[0m\u001b[37m\u001b[0m \u001b[1m1s\u001b[0m 752ms/step\n"
          ]
        }
      ],
      "source": [
        "predicted_stock_price=regressor.predict(X_test)\n",
        "predicted_stock_price=sc.inverse_transform(predicted_stock_price)"
      ]
    },
    {
      "cell_type": "code",
      "execution_count": null,
      "metadata": {
        "id": "7c3cL47eILpA",
        "outputId": "90dbbf55-9753-4c4b-d913-6eb90ec145a4",
        "colab": {
          "base_uri": "https://localhost:8080/",
          "height": 718
        }
      },
      "outputs": [
        {
          "output_type": "display_data",
          "data": {
            "text/plain": [
              "<Figure size 1200x800 with 1 Axes>"
            ],
            "image/png": "[encoded data removed]"
          },
          "metadata": {}
        }
      ],
      "source": [
        "# visualization of the predictions of model\n",
        "plt.rcParams[\"figure.figsize\"] = (12,8)\n",
        "plt.plot(predicted_stock_price,color='red',label='Predicted Stock Price')\n",
        "plt.plot(real_stock_price,color='blue',label='Real Stock Price')\n",
        "plt.title('Google Stock Price Prediction')\n",
        "plt.xlabel('Time')\n",
        "plt.ylabel('Stock Price')\n",
        "plt.legend()\n",
        "plt.show()"
      ]
    },
    {
      "cell_type": "code",
      "execution_count": null,
      "metadata": {
        "collapsed": true,
        "id": "kqV8LRFvILpA",
        "colab": {
          "base_uri": "https://localhost:8080/"
        },
        "outputId": "e7640a26-b1b9-465a-f09a-c791d6f76b24"
      },
      "outputs": [
        {
          "output_type": "stream",
          "name": "stderr",
          "text": [
            "WARNING:absl:You are saving your model as an HDF5 file via `model.save()` or `keras.saving.save_model(model)`. This file format is considered legacy. We recommend using instead the native Keras format, e.g. `model.save('my_model.keras')` or `keras.saving.save_model(model, 'my_model.keras')`. \n"
          ]
        }
      ],
      "source": [
        "# saving the LSTM trained model\n",
        "regressor.save('stock_price_lstm_model.h5')"
      ]
    },
    {
      "cell_type": "code",
      "source": [
        "# loading the model back\n",
        "loaded_model = load_model('stock_price_lstm_model.h5')"
      ],
      "metadata": {
        "colab": {
          "base_uri": "https://localhost:8080/"
        },
        "id": "B1d1HJLFiBMg",
        "outputId": "b9af262f-c04d-4a7b-c7c5-9a9cf96c7009"
      },
      "execution_count": null,
      "outputs": [
        {
          "output_type": "stream",
          "name": "stderr",
          "text": [
            "WARNING:absl:Compiled the loaded model, but the compiled metrics have yet to be built. `model.compile_metrics` will be empty until you train or evaluate the model.\n"
          ]
        }
      ]
    },
    {
      "cell_type": "code",
      "source": [
        "# alpha Vantage API URL\n",
        "url = \"https://www.alphavantage.co/query\"\n",
        "\n",
        "# getting real-time stock data through API\n",
        "def get_stock_data(symbol, api_key):\n",
        "    params = {\n",
        "        \"function\": \"TIME_SERIES_INTRADAY\",\n",
        "        \"symbol\": symbol,\n",
        "        \"interval\": \"1min\",\n",
        "        \"apikey\": api_key\n",
        "    }\n",
        "    response = requests.get(url, params=params)\n",
        "    data = response.json()\n",
        "    df = pd.DataFrame.from_dict(data['Time Series (1min)'], orient='index')\n",
        "    df = df.astype(float)\n",
        "    return df\n",
        "\n",
        "df_real_time = get_stock_data('GOOGL', 'YOUR_API_KEY')\n",
        "\n",
        "\n",
        "# preprocessing data as done during training\n",
        "df_real_time['1. open'] = pd.to_numeric(df_real_time['1. open'], errors='coerce')\n",
        "df_real_time['4. close'] = pd.to_numeric(df_real_time['4. close'], errors='coerce')\n",
        "\n",
        "df_real_time['Daily Change'] = df_real_time['4. close'] - df_real_time['1. open']\n",
        "df_real_time['Daily Return'] = (df_real_time['4. close'] - df_real_time['1. open']) / df_real_time['1. open'] * 100\n",
        "df_real_time['High-Low Range'] = df_real_time['2. high'] - df_real_time['3. low']\n",
        "df_real_time['Average Price'] = (df_real_time['2. high'] + df_real_time['3. low']) / 2\n",
        "df_real_time['Price Direction'] = df_real_time['4. close'].diff()\n",
        "\n",
        "\n",
        "processed_data = df_real_time\n",
        "\n",
        "predictions = loaded_model.predict(processed_data)"
      ],
      "metadata": {
        "colab": {
          "base_uri": "https://localhost:8080/"
        },
        "id": "V1k2-LFciJXc",
        "outputId": "398d6ed9-854c-4abe-daa6-729087ab407c"
      },
      "execution_count": null,
      "outputs": [
        {
          "output_type": "stream",
          "name": "stdout",
          "text": [
            "\u001b[1m4/4\u001b[0m \u001b[32m━━━━━━━━━━━━━━━━━━━━\u001b[0m\u001b[37m\u001b[0m \u001b[1m0s\u001b[0m 64ms/step\n"
          ]
        }
      ]
    },
    {
      "cell_type": "code",
      "source": [
        "print(\"Data brought in by the API is:\")\n",
        "processed_data = processed_data.reset_index()\n",
        "processed_data"
      ],
      "metadata": {
        "colab": {
          "base_uri": "https://localhost:8080/",
          "height": 441
        },
        "id": "wwi6_lKei4AN",
        "outputId": "a9879118-3c2c-43c3-b78b-de110f30a512"
      },
      "execution_count": null,
      "outputs": [
        {
          "output_type": "stream",
          "name": "stdout",
          "text": [
            "Data brought in by the API is:\n"
          ]
        },
        {
          "output_type": "execute_result",
          "data": {
            "text/plain": [
              "                  index  1. open  2. high  3. low  4. close  5. volume  \\\n",
              "0   2024-01-26 19:59:00   152.04   152.05  152.02    152.02      617.0   \n",
              "1   2024-01-26 19:58:00   152.04   152.04  152.04    152.04        6.0   \n",
              "2   2024-01-26 19:57:00   152.03   152.05  152.01    152.05     1328.0   \n",
              "3   2024-01-26 19:56:00   152.01   152.03  152.01    152.03      296.0   \n",
              "4   2024-01-26 19:55:00   152.05   152.05  152.04    152.04      196.0   \n",
              "..                  ...      ...      ...     ...       ...        ...   \n",
              "95  2024-01-26 18:06:00   152.00   152.00  151.98    151.98      665.0   \n",
              "96  2024-01-26 18:05:00   152.02   152.02  152.00    152.00      176.0   \n",
              "97  2024-01-26 18:04:00   152.02   152.05  152.02    152.02      300.0   \n",
              "98  2024-01-26 18:02:00   152.02   152.02  152.02    152.02       52.0   \n",
              "99  2024-01-26 18:00:00   151.95   152.00  151.94    151.98      309.0   \n",
              "\n",
              "    Daily Change  Daily Return  High-Low Range  Average Price  Price Direction  \n",
              "0          -0.02     -0.013154            0.03        152.035              NaN  \n",
              "1           0.00      0.000000            0.00        152.040             0.02  \n",
              "2           0.02      0.013155            0.04        152.030             0.01  \n",
              "3           0.02      0.013157            0.02        152.020            -0.02  \n",
              "4          -0.01     -0.006577            0.01        152.045             0.01  \n",
              "..           ...           ...             ...            ...              ...  \n",
              "95         -0.02     -0.013158            0.02        151.990            -0.06  \n",
              "96         -0.02     -0.013156            0.02        152.010             0.02  \n",
              "97          0.00      0.000000            0.03        152.035             0.02  \n",
              "98          0.00      0.000000            0.00        152.020             0.00  \n",
              "99          0.03      0.019743            0.06        151.970            -0.04  \n",
              "\n",
              "[100 rows x 11 columns]"
            ],
            "text/html": [
              "\n",
              "  <div id=\"df-a2b83dd9-490e-4697-bb1c-da041c0de27f\" class=\"colab-df-container\">\n",
              "    <div>\n",
              "<style scoped>\n",
              "    .dataframe tbody tr th:only-of-type {\n",
              "        vertical-align: middle;\n",
              "    }\n",
              "\n",
              "    .dataframe tbody tr th {\n",
              "        vertical-align: top;\n",
              "    }\n",
              "\n",
              "    .dataframe thead th {\n",
              "        text-align: right;\n",
              "    }\n",
              "</style>\n",
              "<table border=\"1\" class=\"dataframe\">\n",
              "  <thead>\n",
              "    <tr style=\"text-align: right;\">\n",
              "      <th></th>\n",
              "      <th>index</th>\n",
              "      <th>1. open</th>\n",
              "      <th>2. high</th>\n",
              "      <th>3. low</th>\n",
              "      <th>4. close</th>\n",
              "      <th>5. volume</th>\n",
              "      <th>Daily Change</th>\n",
              "      <th>Daily Return</th>\n",
              "      <th>High-Low Range</th>\n",
              "      <th>Average Price</th>\n",
              "      <th>Price Direction</th>\n",
              "    </tr>\n",
              "  </thead>\n",
              "  <tbody>\n",
              "    <tr>\n",
              "      <th>0</th>\n",
              "      <td>2024-01-26 19:59:00</td>\n",
              "      <td>152.04</td>\n",
              "      <td>152.05</td>\n",
              "      <td>152.02</td>\n",
              "      <td>152.02</td>\n",
              "      <td>617.0</td>\n",
              "      <td>-0.02</td>\n",
              "      <td>-0.013154</td>\n",
              "      <td>0.03</td>\n",
              "      <td>152.035</td>\n",
              "      <td>NaN</td>\n",
              "    </tr>\n",
              "    <tr>\n",
              "      <th>1</th>\n",
              "      <td>2024-01-26 19:58:00</td>\n",
              "      <td>152.04</td>\n",
              "      <td>152.04</td>\n",
              "      <td>152.04</td>\n",
              "      <td>152.04</td>\n",
              "      <td>6.0</td>\n",
              "      <td>0.00</td>\n",
              "      <td>0.000000</td>\n",
              "      <td>0.00</td>\n",
              "      <td>152.040</td>\n",
              "      <td>0.02</td>\n",
              "    </tr>\n",
              "    <tr>\n",
              "      <th>2</th>\n",
              "      <td>2024-01-26 19:57:00</td>\n",
              "      <td>152.03</td>\n",
              "      <td>152.05</td>\n",
              "      <td>152.01</td>\n",
              "      <td>152.05</td>\n",
              "      <td>1328.0</td>\n",
              "      <td>0.02</td>\n",
              "      <td>0.013155</td>\n",
              "      <td>0.04</td>\n",
              "      <td>152.030</td>\n",
              "      <td>0.01</td>\n",
              "    </tr>\n",
              "    <tr>\n",
              "      <th>3</th>\n",
              "      <td>2024-01-26 19:56:00</td>\n",
              "      <td>152.01</td>\n",
              "      <td>152.03</td>\n",
              "      <td>152.01</td>\n",
              "      <td>152.03</td>\n",
              "      <td>296.0</td>\n",
              "      <td>0.02</td>\n",
              "      <td>0.013157</td>\n",
              "      <td>0.02</td>\n",
              "      <td>152.020</td>\n",
              "      <td>-0.02</td>\n",
              "    </tr>\n",
              "    <tr>\n",
              "      <th>4</th>\n",
              "      <td>2024-01-26 19:55:00</td>\n",
              "      <td>152.05</td>\n",
              "      <td>152.05</td>\n",
              "      <td>152.04</td>\n",
              "      <td>152.04</td>\n",
              "      <td>196.0</td>\n",
              "      <td>-0.01</td>\n",
              "      <td>-0.006577</td>\n",
              "      <td>0.01</td>\n",
              "      <td>152.045</td>\n",
              "      <td>0.01</td>\n",
              "    </tr>\n",
              "    <tr>\n",
              "      <th>...</th>\n",
              "      <td>...</td>\n",
              "      <td>...</td>\n",
              "      <td>...</td>\n",
              "      <td>...</td>\n",
              "      <td>...</td>\n",
              "      <td>...</td>\n",
              "      <td>...</td>\n",
              "      <td>...</td>\n",
              "      <td>...</td>\n",
              "      <td>...</td>\n",
              "      <td>...</td>\n",
              "    </tr>\n",
              "    <tr>\n",
              "      <th>95</th>\n",
              "      <td>2024-01-26 18:06:00</td>\n",
              "      <td>152.00</td>\n",
              "      <td>152.00</td>\n",
              "      <td>151.98</td>\n",
              "      <td>151.98</td>\n",
              "      <td>665.0</td>\n",
              "      <td>-0.02</td>\n",
              "      <td>-0.013158</td>\n",
              "      <td>0.02</td>\n",
              "      <td>151.990</td>\n",
              "      <td>-0.06</td>\n",
              "    </tr>\n",
              "    <tr>\n",
              "      <th>96</th>\n",
              "      <td>2024-01-26 18:05:00</td>\n",
              "      <td>152.02</td>\n",
              "      <td>152.02</td>\n",
              "      <td>152.00</td>\n",
              "      <td>152.00</td>\n",
              "      <td>176.0</td>\n",
              "      <td>-0.02</td>\n",
              "      <td>-0.013156</td>\n",
              "      <td>0.02</td>\n",
              "      <td>152.010</td>\n",
              "      <td>0.02</td>\n",
              "    </tr>\n",
              "    <tr>\n",
              "      <th>97</th>\n",
              "      <td>2024-01-26 18:04:00</td>\n",
              "      <td>152.02</td>\n",
              "      <td>152.05</td>\n",
              "      <td>152.02</td>\n",
              "      <td>152.02</td>\n",
              "      <td>300.0</td>\n",
              "      <td>0.00</td>\n",
              "      <td>0.000000</td>\n",
              "      <td>0.03</td>\n",
              "      <td>152.035</td>\n",
              "      <td>0.02</td>\n",
              "    </tr>\n",
              "    <tr>\n",
              "      <th>98</th>\n",
              "      <td>2024-01-26 18:02:00</td>\n",
              "      <td>152.02</td>\n",
              "      <td>152.02</td>\n",
              "      <td>152.02</td>\n",
              "      <td>152.02</td>\n",
              "      <td>52.0</td>\n",
              "      <td>0.00</td>\n",
              "      <td>0.000000</td>\n",
              "      <td>0.00</td>\n",
              "      <td>152.020</td>\n",
              "      <td>0.00</td>\n",
              "    </tr>\n",
              "    <tr>\n",
              "      <th>99</th>\n",
              "      <td>2024-01-26 18:00:00</td>\n",
              "      <td>151.95</td>\n",
              "      <td>152.00</td>\n",
              "      <td>151.94</td>\n",
              "      <td>151.98</td>\n",
              "      <td>309.0</td>\n",
              "      <td>0.03</td>\n",
              "      <td>0.019743</td>\n",
              "      <td>0.06</td>\n",
              "      <td>151.970</td>\n",
              "      <td>-0.04</td>\n",
              "    </tr>\n",
              "  </tbody>\n",
              "</table>\n",
              "<p>100 rows × 11 columns</p>\n",
              "</div>\n",
              "    <div class=\"colab-df-buttons\">\n",
              "\n",
              "  <div class=\"colab-df-container\">\n",
              "    <button class=\"colab-df-convert\" onclick=\"convertToInteractive('df-a2b83dd9-490e-4697-bb1c-da041c0de27f')\"\n",
              "            title=\"Convert this dataframe to an interactive table.\"\n",
              "            style=\"display:none;\">\n",
              "\n",
              "  <svg xmlns=\"http://www.w3.org/2000/svg\" height=\"24px\" viewBox=\"0 -960 960 960\">\n",
              "    <path d=\"M120-120v-720h720v720H120Zm60-500h600v-160H180v160Zm220 220h160v-160H400v160Zm0 220h160v-160H400v160ZM180-400h160v-160H180v160Zm440 0h160v-160H620v160ZM180-180h160v-160H180v160Zm440 0h160v-160H620v160Z\"/>\n",
              "  </svg>\n",
              "    </button>\n",
              "\n",
              "  <style>\n",
              "    .colab-df-container {\n",
              "      display:flex;\n",
              "      gap: 12px;\n",
              "    }\n",
              "\n",
              "    .colab-df-convert {\n",
              "      background-color: #E8F0FE;\n",
              "      border: none;\n",
              "      border-radius: 50%;\n",
              "      cursor: pointer;\n",
              "      display: none;\n",
              "      fill: #1967D2;\n",
              "      height: 32px;\n",
              "      padding: 0 0 0 0;\n",
              "      width: 32px;\n",
              "    }\n",
              "\n",
              "    .colab-df-convert:hover {\n",
              "      background-color: #E2EBFA;\n",
              "      box-shadow: 0px 1px 2px rgba(60, 64, 67, 0.3), 0px 1px 3px 1px rgba(60, 64, 67, 0.15);\n",
              "      fill: #174EA6;\n",
              "    }\n",
              "\n",
              "    .colab-df-buttons div {\n",
              "      margin-bottom: 4px;\n",
              "    }\n",
              "\n",
              "    [theme=dark] .colab-df-convert {\n",
              "      background-color: #3B4455;\n",
              "      fill: #D2E3FC;\n",
              "    }\n",
              "\n",
              "    [theme=dark] .colab-df-convert:hover {\n",
              "      background-color: #434B5C;\n",
              "      box-shadow: 0px 1px 3px 1px rgba(0, 0, 0, 0.15);\n",
              "      filter: drop-shadow(0px 1px 2px rgba(0, 0, 0, 0.3));\n",
              "      fill: #FFFFFF;\n",
              "    }\n",
              "  </style>\n",
              "\n",
              "    <script>\n",
              "      const buttonEl =\n",
              "        document.querySelector('#df-a2b83dd9-490e-4697-bb1c-da041c0de27f button.colab-df-convert');\n",
              "      buttonEl.style.display =\n",
              "        google.colab.kernel.accessAllowed ? 'block' : 'none';\n",
              "\n",
              "      async function convertToInteractive(key) {\n",
              "        const element = document.querySelector('#df-a2b83dd9-490e-4697-bb1c-da041c0de27f');\n",
              "        const dataTable =\n",
              "          await google.colab.kernel.invokeFunction('convertToInteractive',\n",
              "                                                    [key], {});\n",
              "        if (!dataTable) return;\n",
              "\n",
              "        const docLinkHtml = 'Like what you see? Visit the ' +\n",
              "          '<a target=\"_blank\" href=https://colab.research.google.com/notebooks/data_table.ipynb>data table notebook</a>'\n",
              "          + ' to learn more about interactive tables.';\n",
              "        element.innerHTML = '';\n",
              "        dataTable['output_type'] = 'display_data';\n",
              "        await google.colab.output.renderOutput(dataTable, element);\n",
              "        const docLink = document.createElement('div');\n",
              "        docLink.innerHTML = docLinkHtml;\n",
              "        element.appendChild(docLink);\n",
              "      }\n",
              "    </script>\n",
              "  </div>\n",
              "\n",
              "\n",
              "<div id=\"df-92aac7c9-4ff8-4909-b423-c2cae5b23d52\">\n",
              "  <button class=\"colab-df-quickchart\" onclick=\"quickchart('df-92aac7c9-4ff8-4909-b423-c2cae5b23d52')\"\n",
              "            title=\"Suggest charts\"\n",
              "            style=\"display:none;\">\n",
              "\n",
              "<svg xmlns=\"http://www.w3.org/2000/svg\" height=\"24px\"viewBox=\"0 0 24 24\"\n",
              "     width=\"24px\">\n",
              "    <g>\n",
              "        <path d=\"M19 3H5c-1.1 0-2 .9-2 2v14c0 1.1.9 2 2 2h14c1.1 0 2-.9 2-2V5c0-1.1-.9-2-2-2zM9 17H7v-7h2v7zm4 0h-2V7h2v10zm4 0h-2v-4h2v4z\"/>\n",
              "    </g>\n",
              "</svg>\n",
              "  </button>\n",
              "\n",
              "<style>\n",
              "  .colab-df-quickchart {\n",
              "      --bg-color: #E8F0FE;\n",
              "      --fill-color: #1967D2;\n",
              "      --hover-bg-color: #E2EBFA;\n",
              "      --hover-fill-color: #174EA6;\n",
              "      --disabled-fill-color: #AAA;\n",
              "      --disabled-bg-color: #DDD;\n",
              "  }\n",
              "\n",
              "  [theme=dark] .colab-df-quickchart {\n",
              "      --bg-color: #3B4455;\n",
              "      --fill-color: #D2E3FC;\n",
              "      --hover-bg-color: #434B5C;\n",
              "      --hover-fill-color: #FFFFFF;\n",
              "      --disabled-bg-color: #3B4455;\n",
              "      --disabled-fill-color: #666;\n",
              "  }\n",
              "\n",
              "  .colab-df-quickchart {\n",
              "    background-color: var(--bg-color);\n",
              "    border: none;\n",
              "    border-radius: 50%;\n",
              "    cursor: pointer;\n",
              "    display: none;\n",
              "    fill: var(--fill-color);\n",
              "    height: 32px;\n",
              "    padding: 0;\n",
              "    width: 32px;\n",
              "  }\n",
              "\n",
              "  .colab-df-quickchart:hover {\n",
              "    background-color: var(--hover-bg-color);\n",
              "    box-shadow: 0 1px 2px rgba(60, 64, 67, 0.3), 0 1px 3px 1px rgba(60, 64, 67, 0.15);\n",
              "    fill: var(--button-hover-fill-color);\n",
              "  }\n",
              "\n",
              "  .colab-df-quickchart-complete:disabled,\n",
              "  .colab-df-quickchart-complete:disabled:hover {\n",
              "    background-color: var(--disabled-bg-color);\n",
              "    fill: var(--disabled-fill-color);\n",
              "    box-shadow: none;\n",
              "  }\n",
              "\n",
              "  .colab-df-spinner {\n",
              "    border: 2px solid var(--fill-color);\n",
              "    border-color: transparent;\n",
              "    border-bottom-color: var(--fill-color);\n",
              "    animation:\n",
              "      spin 1s steps(1) infinite;\n",
              "  }\n",
              "\n",
              "  @keyframes spin {\n",
              "    0% {\n",
              "      border-color: transparent;\n",
              "      border-bottom-color: var(--fill-color);\n",
              "      border-left-color: var(--fill-color);\n",
              "    }\n",
              "    20% {\n",
              "      border-color: transparent;\n",
              "      border-left-color: var(--fill-color);\n",
              "      border-top-color: var(--fill-color);\n",
              "    }\n",
              "    30% {\n",
              "      border-color: transparent;\n",
              "      border-left-color: var(--fill-color);\n",
              "      border-top-color: var(--fill-color);\n",
              "      border-right-color: var(--fill-color);\n",
              "    }\n",
              "    40% {\n",
              "      border-color: transparent;\n",
              "      border-right-color: var(--fill-color);\n",
              "      border-top-color: var(--fill-color);\n",
              "    }\n",
              "    60% {\n",
              "      border-color: transparent;\n",
              "      border-right-color: var(--fill-color);\n",
              "    }\n",
              "    80% {\n",
              "      border-color: transparent;\n",
              "      border-right-color: var(--fill-color);\n",
              "      border-bottom-color: var(--fill-color);\n",
              "    }\n",
              "    90% {\n",
              "      border-color: transparent;\n",
              "      border-bottom-color: var(--fill-color);\n",
              "    }\n",
              "  }\n",
              "</style>\n",
              "\n",
              "  <script>\n",
              "    async function quickchart(key) {\n",
              "      const quickchartButtonEl =\n",
              "        document.querySelector('#' + key + ' button');\n",
              "      quickchartButtonEl.disabled = true;  // To prevent multiple clicks.\n",
              "      quickchartButtonEl.classList.add('colab-df-spinner');\n",
              "      try {\n",
              "        const charts = await google.colab.kernel.invokeFunction(\n",
              "            'suggestCharts', [key], {});\n",
              "      } catch (error) {\n",
              "        console.error('Error during call to suggestCharts:', error);\n",
              "      }\n",
              "      quickchartButtonEl.classList.remove('colab-df-spinner');\n",
              "      quickchartButtonEl.classList.add('colab-df-quickchart-complete');\n",
              "    }\n",
              "    (() => {\n",
              "      let quickchartButtonEl =\n",
              "        document.querySelector('#df-92aac7c9-4ff8-4909-b423-c2cae5b23d52 button');\n",
              "      quickchartButtonEl.style.display =\n",
              "        google.colab.kernel.accessAllowed ? 'block' : 'none';\n",
              "    })();\n",
              "  </script>\n",
              "</div>\n",
              "    </div>\n",
              "  </div>\n"
            ]
          },
          "metadata": {},
          "execution_count": 83
        }
      ]
    },
    {
      "cell_type": "code",
      "source": [
        "# printing values predicted on live dataset by model\n",
        "for i in range(100):\n",
        "    print(\"Predicted value for\", processed_data['index'][i], \"is:\", predictions[i])"
      ],
      "metadata": {
        "colab": {
          "base_uri": "https://localhost:8080/"
        },
        "id": "WEYL1cITupt0",
        "outputId": "76d28e0b-100f-4fe0-cf2e-07c76deab2aa"
      },
      "execution_count": null,
      "outputs": [
        {
          "output_type": "stream",
          "name": "stdout",
          "text": [
            "Predicted value for 2024-01-26 19:59:00 is: [nan]\n",
            "Predicted value for 2024-01-26 19:58:00 is: [1.2499083]\n",
            "Predicted value for 2024-01-26 19:57:00 is: [1.0850533]\n",
            "Predicted value for 2024-01-26 19:56:00 is: [1.082293]\n",
            "Predicted value for 2024-01-26 19:55:00 is: [1.0802623]\n",
            "Predicted value for 2024-01-26 19:54:00 is: [1.0743879]\n",
            "Predicted value for 2024-01-26 19:53:00 is: [1.083564]\n",
            "Predicted value for 2024-01-26 19:52:00 is: [1.0821009]\n",
            "Predicted value for 2024-01-26 19:51:00 is: [1.0833654]\n",
            "Predicted value for 2024-01-26 19:50:00 is: [1.251666]\n",
            "Predicted value for 2024-01-26 19:49:00 is: [1.2106211]\n",
            "Predicted value for 2024-01-26 19:48:00 is: [1.0750449]\n",
            "Predicted value for 2024-01-26 19:47:00 is: [1.2526977]\n",
            "Predicted value for 2024-01-26 19:46:00 is: [1.2532067]\n",
            "Predicted value for 2024-01-26 19:45:00 is: [1.2564411]\n",
            "Predicted value for 2024-01-26 19:44:00 is: [1.0817105]\n",
            "Predicted value for 2024-01-26 19:42:00 is: [1.116599]\n",
            "Predicted value for 2024-01-26 19:41:00 is: [1.0787679]\n",
            "Predicted value for 2024-01-26 19:40:00 is: [1.0769122]\n",
            "Predicted value for 2024-01-26 19:39:00 is: [1.0792115]\n",
            "Predicted value for 2024-01-26 19:38:00 is: [1.2552004]\n",
            "Predicted value for 2024-01-26 19:36:00 is: [1.0754181]\n",
            "Predicted value for 2024-01-26 19:35:00 is: [1.1371188]\n",
            "Predicted value for 2024-01-26 19:34:00 is: [1.0835207]\n",
            "Predicted value for 2024-01-26 19:33:00 is: [1.0782653]\n",
            "Predicted value for 2024-01-26 19:32:00 is: [1.256436]\n",
            "Predicted value for 2024-01-26 19:31:00 is: [1.0847001]\n",
            "Predicted value for 2024-01-26 19:30:00 is: [1.2368345]\n",
            "Predicted value for 2024-01-26 19:29:00 is: [1.0757613]\n",
            "Predicted value for 2024-01-26 19:28:00 is: [1.2564204]\n",
            "Predicted value for 2024-01-26 19:27:00 is: [1.2543843]\n",
            "Predicted value for 2024-01-26 19:26:00 is: [1.0782516]\n",
            "Predicted value for 2024-01-26 19:24:00 is: [1.2517128]\n",
            "Predicted value for 2024-01-26 19:23:00 is: [1.2381195]\n",
            "Predicted value for 2024-01-26 19:20:00 is: [1.2426821]\n",
            "Predicted value for 2024-01-26 19:19:00 is: [1.0799882]\n",
            "Predicted value for 2024-01-26 19:18:00 is: [1.1766073]\n",
            "Predicted value for 2024-01-26 19:17:00 is: [1.2382419]\n",
            "Predicted value for 2024-01-26 19:16:00 is: [1.0761771]\n",
            "Predicted value for 2024-01-26 19:15:00 is: [1.082824]\n",
            "Predicted value for 2024-01-26 19:14:00 is: [1.2564112]\n",
            "Predicted value for 2024-01-26 19:13:00 is: [1.0822117]\n",
            "Predicted value for 2024-01-26 19:12:00 is: [1.201507]\n",
            "Predicted value for 2024-01-26 19:11:00 is: [1.0743834]\n",
            "Predicted value for 2024-01-26 19:10:00 is: [1.2564508]\n",
            "Predicted value for 2024-01-26 19:08:00 is: [1.0806993]\n",
            "Predicted value for 2024-01-26 19:06:00 is: [1.2463495]\n",
            "Predicted value for 2024-01-26 19:05:00 is: [1.2516425]\n",
            "Predicted value for 2024-01-26 19:04:00 is: [1.1370169]\n",
            "Predicted value for 2024-01-26 19:02:00 is: [1.2499084]\n",
            "Predicted value for 2024-01-26 19:01:00 is: [1.0840014]\n",
            "Predicted value for 2024-01-26 19:00:00 is: [1.0809461]\n",
            "Predicted value for 2024-01-26 18:59:00 is: [1.256434]\n",
            "Predicted value for 2024-01-26 18:58:00 is: [1.2531648]\n",
            "Predicted value for 2024-01-26 18:57:00 is: [1.1165996]\n",
            "Predicted value for 2024-01-26 18:56:00 is: [1.2544326]\n",
            "Predicted value for 2024-01-26 18:55:00 is: [1.0789752]\n",
            "Predicted value for 2024-01-26 18:54:00 is: [1.1036859]\n",
            "Predicted value for 2024-01-26 18:53:00 is: [1.0786731]\n",
            "Predicted value for 2024-01-26 18:51:00 is: [1.0741355]\n",
            "Predicted value for 2024-01-26 18:50:00 is: [1.0773845]\n",
            "Predicted value for 2024-01-26 18:49:00 is: [1.0847577]\n",
            "Predicted value for 2024-01-26 18:48:00 is: [1.2501221]\n",
            "Predicted value for 2024-01-26 18:47:00 is: [1.0767828]\n",
            "Predicted value for 2024-01-26 18:46:00 is: [1.2324463]\n",
            "Predicted value for 2024-01-26 18:45:00 is: [1.1371216]\n",
            "Predicted value for 2024-01-26 18:44:00 is: [1.0763971]\n",
            "Predicted value for 2024-01-26 18:43:00 is: [1.0837301]\n",
            "Predicted value for 2024-01-26 18:42:00 is: [1.0824177]\n",
            "Predicted value for 2024-01-26 18:41:00 is: [1.083462]\n",
            "Predicted value for 2024-01-26 18:40:00 is: [1.083855]\n",
            "Predicted value for 2024-01-26 18:39:00 is: [1.2564611]\n",
            "Predicted value for 2024-01-26 18:38:00 is: [1.0770966]\n",
            "Predicted value for 2024-01-26 18:36:00 is: [1.2564461]\n",
            "Predicted value for 2024-01-26 18:35:00 is: [1.2516674]\n",
            "Predicted value for 2024-01-26 18:34:00 is: [1.0839163]\n",
            "Predicted value for 2024-01-26 18:33:00 is: [1.0821542]\n",
            "Predicted value for 2024-01-26 18:32:00 is: [1.0816362]\n",
            "Predicted value for 2024-01-26 18:31:00 is: [1.0769377]\n",
            "Predicted value for 2024-01-26 18:29:00 is: [1.0782142]\n",
            "Predicted value for 2024-01-26 18:28:00 is: [1.083239]\n",
            "Predicted value for 2024-01-26 18:27:00 is: [1.2563899]\n",
            "Predicted value for 2024-01-26 18:25:00 is: [1.0742681]\n",
            "Predicted value for 2024-01-26 18:24:00 is: [1.0800403]\n",
            "Predicted value for 2024-01-26 18:23:00 is: [1.0765581]\n",
            "Predicted value for 2024-01-26 18:22:00 is: [1.2516642]\n",
            "Predicted value for 2024-01-26 18:19:00 is: [1.0792555]\n",
            "Predicted value for 2024-01-26 18:18:00 is: [1.253131]\n",
            "Predicted value for 2024-01-26 18:16:00 is: [1.2452401]\n",
            "Predicted value for 2024-01-26 18:15:00 is: [1.2531713]\n",
            "Predicted value for 2024-01-26 18:14:00 is: [1.2115095]\n",
            "Predicted value for 2024-01-26 18:13:00 is: [1.2547663]\n",
            "Predicted value for 2024-01-26 18:11:00 is: [1.2564439]\n",
            "Predicted value for 2024-01-26 18:08:00 is: [1.1256148]\n",
            "Predicted value for 2024-01-26 18:07:00 is: [1.0751606]\n",
            "Predicted value for 2024-01-26 18:06:00 is: [1.0845603]\n",
            "Predicted value for 2024-01-26 18:05:00 is: [1.0796782]\n",
            "Predicted value for 2024-01-26 18:04:00 is: [1.0823249]\n",
            "Predicted value for 2024-01-26 18:02:00 is: [1.0744147]\n",
            "Predicted value for 2024-01-26 18:00:00 is: [1.0821571]\n"
          ]
        }
      ]
    },
    {
      "cell_type": "code",
      "source": [],
      "metadata": {
        "id": "9Am7HMT_vBXF"
      },
      "execution_count": null,
      "outputs": []
    }
  ],
  "metadata": {
    "kernelspec": {
      "display_name": "Python 3",
      "language": "python",
      "name": "python3"
    },
    "language_info": {
      "codemirror_mode": {
        "name": "ipython",
        "version": 3
      },
      "file_extension": ".py",
      "mimetype": "text/x-python",
      "name": "python",
      "nbconvert_exporter": "python",
      "pygments_lexer": "ipython3",
      "version": "3.6.2"
    },
    "colab": {
      "provenance": []
    }
  },
  "nbformat": 4,
  "nbformat_minor": 0
}